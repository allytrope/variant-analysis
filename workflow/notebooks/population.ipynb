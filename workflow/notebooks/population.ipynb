{
 "cells": [
  {
   "cell_type": "code",
   "execution_count": 1,
   "metadata": {},
   "outputs": [],
   "source": [
    "from datetime import date\n",
    "\n",
    "import altair as alt\n",
    "import polars as pl\n",
    "\n",
    "# # Rhesus\n",
    "pedigree_file = \"/master/abagwell/variant-analysis/resources/rhesus/pedigree/Demographics_2024-04-17_10-28-20.tsv\"\n",
    "date_of_pedigree = date(2024, 4, 17)\n",
    "\n",
    "# Marmoset\n",
    "# pedigree_file = \"/master/abagwell/variant-analysis/resources/marmoset/pedigree/Demographics_2024-05-02_12-34-33.tsv\"\n",
    "# date_of_pedigree = date(2024, 4, 17)\n",
    "\n",
    "data = pl.read_csv(pedigree_file, separator=\"\\t\", infer_schema_length=None).with_columns(\n",
    "    pl.col(\"Account Description\").str.contains(\"eserved for breeding\").alias(\"is_reserved_for_breeding\"),\n",
    "    pl.col(\"Account Description\").str.contains(\"reeder\").alias(\"is_breeder\"),\n",
    ").drop_nulls(\"Date of Birth\").with_columns( # Change str to date type\n",
    "    pl.col(\"Date of Birth\").str.to_date(\"%m-%d-%Y\"),\n",
    "    pl.col(\"Date of Death\").str.to_date(\"%m-%d-%Y\"),\n",
    ").with_columns(  # Set death date of living animals to date of pedigree\n",
    "    pl.col(\"Date of Death\").fill_null(date_of_pedigree),\n",
    ")\n",
    "\n",
    "\n",
    "#.group_by(\"Account Description\").agg().sort(\"Account Description\")#.filter(pl.col(\"Account Description\") == True)\n",
    "\n",
    "# Find individuals who lived at least one year\n",
    "older_offspring = data.filter(pl.col(\"Earliest Acq Category\") == \"Birth\"\n",
    "    ).filter((pl.col(\"Date of Death\") - pl.col(\"Date of Birth\")) >= pl.duration(days=0)\n",
    ")\n",
    "# .with_columns(\n",
    "#     (pl.col(\"Date of Death\") - pl.col(\"Date of Birth\")).alias(\"age\") #>= pl.duration(days=0)\n",
    "# )\n",
    "\n",
    "\n",
    "reserved_for_breeding = data.filter((pl.col(\"is_reserved_for_breeding\") == True)).filter(pl.col(\"Date of Death\").is_null()).select(\"Id\").with_columns(pl.lit(0).cast(pl.UInt32).alias(\"Num of offspring\"))\n",
    "\n",
    "# Only count offspring if at least 1 year old\n",
    "#year_old_offspring = data.filter()\n",
    "\n",
    "sires = data.join(older_offspring, left_on=\"Id\", right_on=\"Sire\").group_by(\"Id\").agg(\n",
    "    pl.len().alias(\"Num of offspring\"), pl.col(\"Date of Birth\").first(), pl.col(\"Date of Death\").first(), pl.col(\"is_breeder\").first()\n",
    ")\n",
    "dam = data.join(older_offspring, left_on=\"Id\", right_on=\"Dam\").group_by(\"Id\").agg(\n",
    "    pl.len().alias(\"Num of offspring\"), pl.col(\"Date of Birth\").first(), pl.col(\"Date of Death\").first(), pl.col(\"is_breeder\").first()\n",
    ")\n",
    "\n",
    "breeders = pl.concat([sires, dam]).sort(\"Id\")\n",
    "\n",
    "#pl.concat([breeders, reserved_for_breeding]).sort(\"Id\")"
   ]
  },
  {
   "cell_type": "code",
   "execution_count": 2,
   "metadata": {},
   "outputs": [
    {
     "data": {
      "text/html": [
       "<div><style>\n",
       ".dataframe > thead > tr,\n",
       ".dataframe > tbody > tr {\n",
       "  text-align: right;\n",
       "  white-space: pre-wrap;\n",
       "}\n",
       "</style>\n",
       "<small>shape: (829, 5)</small><table border=\"1\" class=\"dataframe\"><thead><tr><th>Id</th><th>Num of offspring</th><th>Date of Birth</th><th>Date of Death</th><th>is_breeder</th></tr><tr><td>str</td><td>u32</td><td>date</td><td>date</td><td>bool</td></tr></thead><tbody><tr><td>&quot;10235&quot;</td><td>3</td><td>1991-03-22</td><td>2002-04-22</td><td>false</td></tr><tr><td>&quot;10244&quot;</td><td>4</td><td>1991-03-29</td><td>2007-01-26</td><td>false</td></tr><tr><td>&quot;10250&quot;</td><td>2</td><td>1991-04-08</td><td>2003-06-24</td><td>false</td></tr><tr><td>&quot;10338&quot;</td><td>4</td><td>1991-07-02</td><td>2013-08-19</td><td>false</td></tr><tr><td>&quot;10383&quot;</td><td>3</td><td>1991-07-31</td><td>2008-02-15</td><td>false</td></tr><tr><td>&hellip;</td><td>&hellip;</td><td>&hellip;</td><td>&hellip;</td><td>&hellip;</td></tr><tr><td>&quot;9140&quot;</td><td>2</td><td>1983-06-03</td><td>1996-09-10</td><td>false</td></tr><tr><td>&quot;9590&quot;</td><td>4</td><td>1990-04-05</td><td>2002-07-19</td><td>false</td></tr><tr><td>&quot;9710&quot;</td><td>6</td><td>1990-06-09</td><td>2002-10-16</td><td>false</td></tr><tr><td>&quot;9793&quot;</td><td>4</td><td>1990-07-27</td><td>2007-01-24</td><td>false</td></tr><tr><td>&quot;9908&quot;</td><td>12</td><td>1990-09-24</td><td>2004-12-06</td><td>false</td></tr></tbody></table></div>"
      ],
      "text/plain": [
       "shape: (829, 5)\n",
       "┌───────┬──────────────────┬───────────────┬───────────────┬────────────┐\n",
       "│ Id    ┆ Num of offspring ┆ Date of Birth ┆ Date of Death ┆ is_breeder │\n",
       "│ ---   ┆ ---              ┆ ---           ┆ ---           ┆ ---        │\n",
       "│ str   ┆ u32              ┆ date          ┆ date          ┆ bool       │\n",
       "╞═══════╪══════════════════╪═══════════════╪═══════════════╪════════════╡\n",
       "│ 10235 ┆ 3                ┆ 1991-03-22    ┆ 2002-04-22    ┆ false      │\n",
       "│ 10244 ┆ 4                ┆ 1991-03-29    ┆ 2007-01-26    ┆ false      │\n",
       "│ 10250 ┆ 2                ┆ 1991-04-08    ┆ 2003-06-24    ┆ false      │\n",
       "│ 10338 ┆ 4                ┆ 1991-07-02    ┆ 2013-08-19    ┆ false      │\n",
       "│ 10383 ┆ 3                ┆ 1991-07-31    ┆ 2008-02-15    ┆ false      │\n",
       "│ …     ┆ …                ┆ …             ┆ …             ┆ …          │\n",
       "│ 9140  ┆ 2                ┆ 1983-06-03    ┆ 1996-09-10    ┆ false      │\n",
       "│ 9590  ┆ 4                ┆ 1990-04-05    ┆ 2002-07-19    ┆ false      │\n",
       "│ 9710  ┆ 6                ┆ 1990-06-09    ┆ 2002-10-16    ┆ false      │\n",
       "│ 9793  ┆ 4                ┆ 1990-07-27    ┆ 2007-01-24    ┆ false      │\n",
       "│ 9908  ┆ 12               ┆ 1990-09-24    ┆ 2004-12-06    ┆ false      │\n",
       "└───────┴──────────────────┴───────────────┴───────────────┴────────────┘"
      ]
     },
     "execution_count": 2,
     "metadata": {},
     "output_type": "execute_result"
    }
   ],
   "source": [
    "breeders#.filter(pl.col(\"is_breeder\") == True)"
   ]
  },
  {
   "cell_type": "code",
   "execution_count": 3,
   "metadata": {},
   "outputs": [],
   "source": [
    "#data[\"Earliest Acq Category\"].unique()"
   ]
  },
  {
   "cell_type": "code",
   "execution_count": 4,
   "metadata": {},
   "outputs": [],
   "source": [
    "#data.join(older_offspring, on=\"Id\", how=\"anti\").filter(pl.col(\"Earliest Acq Category\") != \"Acquisition\")\n",
    "#older_offspring\n",
    "\n",
    "# Count non-\"breeders\" or \"breeders\" number of offspring and grand offspring\n",
    "def descendants(is_breeder):\n",
    "    \"\"\"Find offspring and grand offspring\"\"\"\n",
    "    sire_offspring = data.join(data.filter(pl.col(\"is_breeder\") == is_breeder), left_on=\"Sire\", right_on=\"Id\").select(\"Id\", \"Sire\", \"Dam\", \"Earliest Acq Category\")\n",
    "    dam_offspring = data.join(data.filter(pl.col(\"is_breeder\") == is_breeder), left_on=\"Dam\", right_on=\"Id\").select(\"Id\", \"Sire\", \"Dam\", \"Earliest Acq Category\")\n",
    "\n",
    "    offspring = pl.concat([sire_offspring, dam_offspring]).unique().filter(pl.col(\"Earliest Acq Category\") == \"Birth\")\n",
    "\n",
    "    sire_offspring = offspring.join(offspring, left_on=\"Sire\", right_on=\"Id\").select(\"Id\", \"Sire\", \"Dam\", \"Earliest Acq Category\")\n",
    "    dam_offspring = offspring.join(offspring, left_on=\"Dam\", right_on=\"Id\").select(\"Id\", \"Sire\", \"Dam\", \"Earliest Acq Category\")\n",
    "\n",
    "    grand_offspring = pl.concat([sire_offspring, dam_offspring]).unique().unique().filter(pl.col(\"Earliest Acq Category\") == \"Birth\")\n",
    "    return offspring, grand_offspring\n",
    "\n",
    "breeder_offspring, breeder_grand_offspring = descendants(is_breeder=True)\n",
    "nonbreeder_offspring, nonbreeder_grand_offspring = descendants(is_breeder=False)\n"
   ]
  },
  {
   "cell_type": "code",
   "execution_count": 5,
   "metadata": {},
   "outputs": [],
   "source": [
    "#nonbreeder_grand_offspring"
   ]
  },
  {
   "cell_type": "code",
   "execution_count": 6,
   "metadata": {},
   "outputs": [],
   "source": [
    "#breeder_grand_offspring.join(nonbreeder_grand_offspring, on=\"Id\", how=\"anti\")"
   ]
  },
  {
   "cell_type": "code",
   "execution_count": 7,
   "metadata": {},
   "outputs": [],
   "source": [
    "#breeders#.with_columns(pl.col(\"Id\").sort())\n",
    "#data"
   ]
  },
  {
   "cell_type": "code",
   "execution_count": 8,
   "metadata": {},
   "outputs": [],
   "source": [
    "demographics = breeders.with_columns(  # Crate column with list of years alive\n",
    "    pl.date_ranges(pl.col(\"Date of Birth\"), pl.col(\"Date of Death\"), interval=\"1y\").alias(\"Year\"),\n",
    ").explode(\"Year\"  # Create row for every year alive for every animal\n",
    ").with_columns(  # Convert date to year\n",
    "    pl.col(\"Year\").dt.round(\"1y\")#.dt.year()  # .cast(pl.Date),\n",
    ")\n",
    "# .filter(\n",
    "#     pl.col(\"is_breeder\") == True\n",
    "# )\n",
    "\n",
    "## Notes:\n",
    "# - Animals without a birth date are removed.\n",
    "# - Depending on date of birth, not all animals show up in last year due to the year interval"
   ]
  },
  {
   "cell_type": "code",
   "execution_count": 9,
   "metadata": {},
   "outputs": [
    {
     "data": {
      "text/html": [
       "<div><style>\n",
       ".dataframe > thead > tr,\n",
       ".dataframe > tbody > tr {\n",
       "  text-align: right;\n",
       "  white-space: pre-wrap;\n",
       "}\n",
       "</style>\n",
       "<small>shape: (829, 1)</small><table border=\"1\" class=\"dataframe\"><thead><tr><th>Id</th></tr><tr><td>str</td></tr></thead><tbody><tr><td>&quot;30125&quot;</td></tr><tr><td>&quot;28110&quot;</td></tr><tr><td>&quot;38244&quot;</td></tr><tr><td>&quot;33926&quot;</td></tr><tr><td>&quot;16649&quot;</td></tr><tr><td>&hellip;</td></tr><tr><td>&quot;14396&quot;</td></tr><tr><td>&quot;8961&quot;</td></tr><tr><td>&quot;33960&quot;</td></tr><tr><td>&quot;31961&quot;</td></tr><tr><td>&quot;42153&quot;</td></tr></tbody></table></div>"
      ],
      "text/plain": [
       "shape: (829, 1)\n",
       "┌───────┐\n",
       "│ Id    │\n",
       "│ ---   │\n",
       "│ str   │\n",
       "╞═══════╡\n",
       "│ 30125 │\n",
       "│ 28110 │\n",
       "│ 38244 │\n",
       "│ 33926 │\n",
       "│ 16649 │\n",
       "│ …     │\n",
       "│ 14396 │\n",
       "│ 8961  │\n",
       "│ 33960 │\n",
       "│ 31961 │\n",
       "│ 42153 │\n",
       "└───────┘"
      ]
     },
     "execution_count": 9,
     "metadata": {},
     "output_type": "execute_result"
    }
   ],
   "source": [
    "demographics.group_by(\"Id\").agg()"
   ]
  },
  {
   "cell_type": "code",
   "execution_count": 10,
   "metadata": {},
   "outputs": [],
   "source": [
    "# Using output from RFMix\n",
    "Q_file = \"/master/abagwell/variant-analysis/results/rhesus_prev/admixture/RFMix.chr10.rfmix.Q\"\n",
    "Q = pl.read_csv(Q_file, separator=\"\\t\", skip_rows=1).filter( # Remove reference samples\n",
    "    pl.col(\"#sample\").str.starts_with(\"W\")\n",
    ").with_columns( # Remove seq prefixes\n",
    "    pl.col(\"#sample\").str.strip_prefix(\"WES\").str.strip_prefix(\"WGS\")\n",
    ")"
   ]
  },
  {
   "cell_type": "code",
   "execution_count": 11,
   "metadata": {},
   "outputs": [],
   "source": [
    "# # Colony assignments\n",
    "colonies_file = \"/master/abagwell/variant-analysis/resources/rhesus/pop/colonies.tsv\"\n",
    "colonies = pl.read_csv(colonies_file, separator=\"\\t\", infer_schema_length=None)"
   ]
  },
  {
   "cell_type": "code",
   "execution_count": 12,
   "metadata": {},
   "outputs": [],
   "source": [
    "colony_demographics = demographics.join(colonies, how=\"left\", on=\"Id\")\n",
    "\n",
    "merged = colony_demographics.join(Q, how=\"left\", left_on=\"Id\", right_on=\"#sample\"\n",
    ").group_by(\"Year\", \"Colony\").agg(pl.count(\"Id\").alias(\"Count\"), pl.mean(\"Indian\"), pl.mean(\"Chinese\")).drop_nulls()"
   ]
  },
  {
   "cell_type": "code",
   "execution_count": 13,
   "metadata": {},
   "outputs": [
    {
     "ename": "MaxRowsError",
     "evalue": "The number of rows in your dataset is greater than the maximum allowed (5000).\n\nTry enabling the VegaFusion data transformer which raises this limit by pre-evaluating data\ntransformations in Python.\n    >> import altair as alt\n    >> alt.data_transformers.enable(\"vegafusion\")\n\nOr, see https://altair-viz.github.io/user_guide/large_datasets.html for additional information\non how to plot large datasets.",
     "output_type": "error",
     "traceback": [
      "\u001b[0;31m---------------------------------------------------------------------------\u001b[0m",
      "\u001b[0;31mMaxRowsError\u001b[0m                              Traceback (most recent call last)",
      "File \u001b[0;32m~/miniconda3/envs/graph/lib/python3.12/site-packages/altair/vegalite/v5/api.py:2975\u001b[0m, in \u001b[0;36mChart.to_dict\u001b[0;34m(self, validate, format, ignore, context)\u001b[0m\n\u001b[1;32m   2971\u001b[0m     copy\u001b[38;5;241m.\u001b[39mdata \u001b[38;5;241m=\u001b[39m core\u001b[38;5;241m.\u001b[39mInlineData(values\u001b[38;5;241m=\u001b[39m[{}])  \u001b[38;5;66;03m# type: ignore[assignment]\u001b[39;00m\n\u001b[1;32m   2972\u001b[0m     \u001b[38;5;28;01mreturn\u001b[39;00m \u001b[38;5;28msuper\u001b[39m(Chart, copy)\u001b[38;5;241m.\u001b[39mto_dict(\n\u001b[1;32m   2973\u001b[0m         validate\u001b[38;5;241m=\u001b[39mvalidate, \u001b[38;5;28mformat\u001b[39m\u001b[38;5;241m=\u001b[39m\u001b[38;5;28mformat\u001b[39m, ignore\u001b[38;5;241m=\u001b[39mignore, context\u001b[38;5;241m=\u001b[39mcontext\n\u001b[1;32m   2974\u001b[0m     )\n\u001b[0;32m-> 2975\u001b[0m \u001b[38;5;28;01mreturn\u001b[39;00m \u001b[38;5;28;43msuper\u001b[39;49m\u001b[43m(\u001b[49m\u001b[43m)\u001b[49m\u001b[38;5;241;43m.\u001b[39;49m\u001b[43mto_dict\u001b[49m\u001b[43m(\u001b[49m\n\u001b[1;32m   2976\u001b[0m \u001b[43m    \u001b[49m\u001b[43mvalidate\u001b[49m\u001b[38;5;241;43m=\u001b[39;49m\u001b[43mvalidate\u001b[49m\u001b[43m,\u001b[49m\u001b[43m \u001b[49m\u001b[38;5;28;43mformat\u001b[39;49m\u001b[38;5;241;43m=\u001b[39;49m\u001b[38;5;28;43mformat\u001b[39;49m\u001b[43m,\u001b[49m\u001b[43m \u001b[49m\u001b[43mignore\u001b[49m\u001b[38;5;241;43m=\u001b[39;49m\u001b[43mignore\u001b[49m\u001b[43m,\u001b[49m\u001b[43m \u001b[49m\u001b[43mcontext\u001b[49m\u001b[38;5;241;43m=\u001b[39;49m\u001b[43mcontext\u001b[49m\n\u001b[1;32m   2977\u001b[0m \u001b[43m\u001b[49m\u001b[43m)\u001b[49m\n",
      "File \u001b[0;32m~/miniconda3/envs/graph/lib/python3.12/site-packages/altair/vegalite/v5/api.py:950\u001b[0m, in \u001b[0;36mTopLevelMixin.to_dict\u001b[0;34m(self, validate, format, ignore, context)\u001b[0m\n\u001b[1;32m    948\u001b[0m copy \u001b[38;5;241m=\u001b[39m \u001b[38;5;28mself\u001b[39m\u001b[38;5;241m.\u001b[39mcopy(deep\u001b[38;5;241m=\u001b[39m\u001b[38;5;28;01mFalse\u001b[39;00m)  \u001b[38;5;66;03m# type: ignore[attr-defined]\u001b[39;00m\n\u001b[1;32m    949\u001b[0m original_data \u001b[38;5;241m=\u001b[39m \u001b[38;5;28mgetattr\u001b[39m(copy, \u001b[38;5;124m\"\u001b[39m\u001b[38;5;124mdata\u001b[39m\u001b[38;5;124m\"\u001b[39m, Undefined)\n\u001b[0;32m--> 950\u001b[0m copy\u001b[38;5;241m.\u001b[39mdata \u001b[38;5;241m=\u001b[39m \u001b[43m_prepare_data\u001b[49m\u001b[43m(\u001b[49m\u001b[43moriginal_data\u001b[49m\u001b[43m,\u001b[49m\u001b[43m \u001b[49m\u001b[43mcontext\u001b[49m\u001b[43m)\u001b[49m\n\u001b[1;32m    952\u001b[0m \u001b[38;5;28;01mif\u001b[39;00m original_data \u001b[38;5;129;01mis\u001b[39;00m \u001b[38;5;129;01mnot\u001b[39;00m Undefined:\n\u001b[1;32m    953\u001b[0m     context[\u001b[38;5;124m\"\u001b[39m\u001b[38;5;124mdata\u001b[39m\u001b[38;5;124m\"\u001b[39m] \u001b[38;5;241m=\u001b[39m original_data\n",
      "File \u001b[0;32m~/miniconda3/envs/graph/lib/python3.12/site-packages/altair/vegalite/v5/api.py:118\u001b[0m, in \u001b[0;36m_prepare_data\u001b[0;34m(data, context)\u001b[0m\n\u001b[1;32m    115\u001b[0m     data \u001b[38;5;241m=\u001b[39m core\u001b[38;5;241m.\u001b[39mUrlData(data)\n\u001b[1;32m    117\u001b[0m \u001b[38;5;28;01melif\u001b[39;00m \u001b[38;5;28misinstance\u001b[39m(data, DataFrameLike):\n\u001b[0;32m--> 118\u001b[0m     data \u001b[38;5;241m=\u001b[39m \u001b[43m_pipe\u001b[49m\u001b[43m(\u001b[49m\u001b[43mdata\u001b[49m\u001b[43m,\u001b[49m\u001b[43m \u001b[49m\u001b[43mdata_transformers\u001b[49m\u001b[38;5;241;43m.\u001b[39;49m\u001b[43mget\u001b[49m\u001b[43m(\u001b[49m\u001b[43m)\u001b[49m\u001b[43m)\u001b[49m\n\u001b[1;32m    120\u001b[0m \u001b[38;5;66;03m# consolidate inline data to top-level datasets\u001b[39;00m\n\u001b[1;32m    121\u001b[0m \u001b[38;5;28;01mif\u001b[39;00m context \u001b[38;5;129;01mis\u001b[39;00m \u001b[38;5;129;01mnot\u001b[39;00m \u001b[38;5;28;01mNone\u001b[39;00m \u001b[38;5;129;01mand\u001b[39;00m data_transformers\u001b[38;5;241m.\u001b[39mconsolidate_datasets:\n",
      "File \u001b[0;32m~/miniconda3/envs/graph/lib/python3.12/site-packages/toolz/functoolz.py:628\u001b[0m, in \u001b[0;36mpipe\u001b[0;34m(data, *funcs)\u001b[0m\n\u001b[1;32m    608\u001b[0m \u001b[38;5;250m\u001b[39m\u001b[38;5;124;03m\"\"\" Pipe a value through a sequence of functions\u001b[39;00m\n\u001b[1;32m    609\u001b[0m \n\u001b[1;32m    610\u001b[0m \u001b[38;5;124;03mI.e. ``pipe(data, f, g, h)`` is equivalent to ``h(g(f(data)))``\u001b[39;00m\n\u001b[0;32m   (...)\u001b[0m\n\u001b[1;32m    625\u001b[0m \u001b[38;5;124;03m    thread_last\u001b[39;00m\n\u001b[1;32m    626\u001b[0m \u001b[38;5;124;03m\"\"\"\u001b[39;00m\n\u001b[1;32m    627\u001b[0m \u001b[38;5;28;01mfor\u001b[39;00m func \u001b[38;5;129;01min\u001b[39;00m funcs:\n\u001b[0;32m--> 628\u001b[0m     data \u001b[38;5;241m=\u001b[39m \u001b[43mfunc\u001b[49m\u001b[43m(\u001b[49m\u001b[43mdata\u001b[49m\u001b[43m)\u001b[49m\n\u001b[1;32m    629\u001b[0m \u001b[38;5;28;01mreturn\u001b[39;00m data\n",
      "File \u001b[0;32m~/miniconda3/envs/graph/lib/python3.12/site-packages/toolz/functoolz.py:304\u001b[0m, in \u001b[0;36mcurry.__call__\u001b[0;34m(self, *args, **kwargs)\u001b[0m\n\u001b[1;32m    302\u001b[0m \u001b[38;5;28;01mdef\u001b[39;00m \u001b[38;5;21m__call__\u001b[39m(\u001b[38;5;28mself\u001b[39m, \u001b[38;5;241m*\u001b[39margs, \u001b[38;5;241m*\u001b[39m\u001b[38;5;241m*\u001b[39mkwargs):\n\u001b[1;32m    303\u001b[0m     \u001b[38;5;28;01mtry\u001b[39;00m:\n\u001b[0;32m--> 304\u001b[0m         \u001b[38;5;28;01mreturn\u001b[39;00m \u001b[38;5;28;43mself\u001b[39;49m\u001b[38;5;241;43m.\u001b[39;49m\u001b[43m_partial\u001b[49m\u001b[43m(\u001b[49m\u001b[38;5;241;43m*\u001b[39;49m\u001b[43margs\u001b[49m\u001b[43m,\u001b[49m\u001b[43m \u001b[49m\u001b[38;5;241;43m*\u001b[39;49m\u001b[38;5;241;43m*\u001b[39;49m\u001b[43mkwargs\u001b[49m\u001b[43m)\u001b[49m\n\u001b[1;32m    305\u001b[0m     \u001b[38;5;28;01mexcept\u001b[39;00m \u001b[38;5;167;01mTypeError\u001b[39;00m \u001b[38;5;28;01mas\u001b[39;00m exc:\n\u001b[1;32m    306\u001b[0m         \u001b[38;5;28;01mif\u001b[39;00m \u001b[38;5;28mself\u001b[39m\u001b[38;5;241m.\u001b[39m_should_curry(args, kwargs, exc):\n",
      "File \u001b[0;32m~/miniconda3/envs/graph/lib/python3.12/site-packages/altair/vegalite/data.py:23\u001b[0m, in \u001b[0;36mdefault_data_transformer\u001b[0;34m(data, max_rows)\u001b[0m\n\u001b[1;32m     19\u001b[0m \u001b[38;5;129m@curried\u001b[39m\u001b[38;5;241m.\u001b[39mcurry\n\u001b[1;32m     20\u001b[0m \u001b[38;5;28;01mdef\u001b[39;00m \u001b[38;5;21mdefault_data_transformer\u001b[39m(\n\u001b[1;32m     21\u001b[0m     data: DataType, max_rows: \u001b[38;5;28mint\u001b[39m \u001b[38;5;241m=\u001b[39m \u001b[38;5;241m5000\u001b[39m\n\u001b[1;32m     22\u001b[0m ) \u001b[38;5;241m-\u001b[39m\u001b[38;5;241m>\u001b[39m ToValuesReturnType:\n\u001b[0;32m---> 23\u001b[0m     \u001b[38;5;28;01mreturn\u001b[39;00m \u001b[43mcurried\u001b[49m\u001b[38;5;241;43m.\u001b[39;49m\u001b[43mpipe\u001b[49m\u001b[43m(\u001b[49m\u001b[43mdata\u001b[49m\u001b[43m,\u001b[49m\u001b[43m \u001b[49m\u001b[43mlimit_rows\u001b[49m\u001b[43m(\u001b[49m\u001b[43mmax_rows\u001b[49m\u001b[38;5;241;43m=\u001b[39;49m\u001b[43mmax_rows\u001b[49m\u001b[43m)\u001b[49m\u001b[43m,\u001b[49m\u001b[43m \u001b[49m\u001b[43mto_values\u001b[49m\u001b[43m)\u001b[49m\n",
      "File \u001b[0;32m~/miniconda3/envs/graph/lib/python3.12/site-packages/toolz/functoolz.py:628\u001b[0m, in \u001b[0;36mpipe\u001b[0;34m(data, *funcs)\u001b[0m\n\u001b[1;32m    608\u001b[0m \u001b[38;5;250m\u001b[39m\u001b[38;5;124;03m\"\"\" Pipe a value through a sequence of functions\u001b[39;00m\n\u001b[1;32m    609\u001b[0m \n\u001b[1;32m    610\u001b[0m \u001b[38;5;124;03mI.e. ``pipe(data, f, g, h)`` is equivalent to ``h(g(f(data)))``\u001b[39;00m\n\u001b[0;32m   (...)\u001b[0m\n\u001b[1;32m    625\u001b[0m \u001b[38;5;124;03m    thread_last\u001b[39;00m\n\u001b[1;32m    626\u001b[0m \u001b[38;5;124;03m\"\"\"\u001b[39;00m\n\u001b[1;32m    627\u001b[0m \u001b[38;5;28;01mfor\u001b[39;00m func \u001b[38;5;129;01min\u001b[39;00m funcs:\n\u001b[0;32m--> 628\u001b[0m     data \u001b[38;5;241m=\u001b[39m \u001b[43mfunc\u001b[49m\u001b[43m(\u001b[49m\u001b[43mdata\u001b[49m\u001b[43m)\u001b[49m\n\u001b[1;32m    629\u001b[0m \u001b[38;5;28;01mreturn\u001b[39;00m data\n",
      "File \u001b[0;32m~/miniconda3/envs/graph/lib/python3.12/site-packages/toolz/functoolz.py:304\u001b[0m, in \u001b[0;36mcurry.__call__\u001b[0;34m(self, *args, **kwargs)\u001b[0m\n\u001b[1;32m    302\u001b[0m \u001b[38;5;28;01mdef\u001b[39;00m \u001b[38;5;21m__call__\u001b[39m(\u001b[38;5;28mself\u001b[39m, \u001b[38;5;241m*\u001b[39margs, \u001b[38;5;241m*\u001b[39m\u001b[38;5;241m*\u001b[39mkwargs):\n\u001b[1;32m    303\u001b[0m     \u001b[38;5;28;01mtry\u001b[39;00m:\n\u001b[0;32m--> 304\u001b[0m         \u001b[38;5;28;01mreturn\u001b[39;00m \u001b[38;5;28;43mself\u001b[39;49m\u001b[38;5;241;43m.\u001b[39;49m\u001b[43m_partial\u001b[49m\u001b[43m(\u001b[49m\u001b[38;5;241;43m*\u001b[39;49m\u001b[43margs\u001b[49m\u001b[43m,\u001b[49m\u001b[43m \u001b[49m\u001b[38;5;241;43m*\u001b[39;49m\u001b[38;5;241;43m*\u001b[39;49m\u001b[43mkwargs\u001b[49m\u001b[43m)\u001b[49m\n\u001b[1;32m    305\u001b[0m     \u001b[38;5;28;01mexcept\u001b[39;00m \u001b[38;5;167;01mTypeError\u001b[39;00m \u001b[38;5;28;01mas\u001b[39;00m exc:\n\u001b[1;32m    306\u001b[0m         \u001b[38;5;28;01mif\u001b[39;00m \u001b[38;5;28mself\u001b[39m\u001b[38;5;241m.\u001b[39m_should_curry(args, kwargs, exc):\n",
      "File \u001b[0;32m~/miniconda3/envs/graph/lib/python3.12/site-packages/altair/utils/data.py:111\u001b[0m, in \u001b[0;36mlimit_rows\u001b[0;34m(data, max_rows)\u001b[0m\n\u001b[1;32m    109\u001b[0m pa_table \u001b[38;5;241m=\u001b[39m arrow_table_from_dfi_dataframe(data)\n\u001b[1;32m    110\u001b[0m \u001b[38;5;28;01mif\u001b[39;00m max_rows \u001b[38;5;129;01mis\u001b[39;00m \u001b[38;5;129;01mnot\u001b[39;00m \u001b[38;5;28;01mNone\u001b[39;00m \u001b[38;5;129;01mand\u001b[39;00m pa_table\u001b[38;5;241m.\u001b[39mnum_rows \u001b[38;5;241m>\u001b[39m max_rows:\n\u001b[0;32m--> 111\u001b[0m     \u001b[43mraise_max_rows_error\u001b[49m\u001b[43m(\u001b[49m\u001b[43m)\u001b[49m\n\u001b[1;32m    112\u001b[0m \u001b[38;5;66;03m# Return pyarrow Table instead of input since the\u001b[39;00m\n\u001b[1;32m    113\u001b[0m \u001b[38;5;66;03m# `arrow_table_from_dfi_dataframe` call above may be expensive\u001b[39;00m\n\u001b[1;32m    114\u001b[0m \u001b[38;5;28;01mreturn\u001b[39;00m pa_table\n",
      "File \u001b[0;32m~/miniconda3/envs/graph/lib/python3.12/site-packages/altair/utils/data.py:81\u001b[0m, in \u001b[0;36mlimit_rows.<locals>.raise_max_rows_error\u001b[0;34m()\u001b[0m\n\u001b[1;32m     80\u001b[0m \u001b[38;5;28;01mdef\u001b[39;00m \u001b[38;5;21mraise_max_rows_error\u001b[39m():\n\u001b[0;32m---> 81\u001b[0m     \u001b[38;5;28;01mraise\u001b[39;00m MaxRowsError(\n\u001b[1;32m     82\u001b[0m         \u001b[38;5;124m\"\u001b[39m\u001b[38;5;124mThe number of rows in your dataset is greater \u001b[39m\u001b[38;5;124m\"\u001b[39m\n\u001b[1;32m     83\u001b[0m         \u001b[38;5;124mf\u001b[39m\u001b[38;5;124m\"\u001b[39m\u001b[38;5;124mthan the maximum allowed (\u001b[39m\u001b[38;5;132;01m{\u001b[39;00mmax_rows\u001b[38;5;132;01m}\u001b[39;00m\u001b[38;5;124m).\u001b[39m\u001b[38;5;130;01m\\n\u001b[39;00m\u001b[38;5;130;01m\\n\u001b[39;00m\u001b[38;5;124m\"\u001b[39m\n\u001b[1;32m     84\u001b[0m         \u001b[38;5;124m\"\u001b[39m\u001b[38;5;124mTry enabling the VegaFusion data transformer which \u001b[39m\u001b[38;5;124m\"\u001b[39m\n\u001b[1;32m     85\u001b[0m         \u001b[38;5;124m\"\u001b[39m\u001b[38;5;124mraises this limit by pre-evaluating data\u001b[39m\u001b[38;5;130;01m\\n\u001b[39;00m\u001b[38;5;124m\"\u001b[39m\n\u001b[1;32m     86\u001b[0m         \u001b[38;5;124m\"\u001b[39m\u001b[38;5;124mtransformations in Python.\u001b[39m\u001b[38;5;130;01m\\n\u001b[39;00m\u001b[38;5;124m\"\u001b[39m\n\u001b[1;32m     87\u001b[0m         \u001b[38;5;124m\"\u001b[39m\u001b[38;5;124m    >> import altair as alt\u001b[39m\u001b[38;5;130;01m\\n\u001b[39;00m\u001b[38;5;124m\"\u001b[39m\n\u001b[1;32m     88\u001b[0m         \u001b[38;5;124m'\u001b[39m\u001b[38;5;124m    >> alt.data_transformers.enable(\u001b[39m\u001b[38;5;124m\"\u001b[39m\u001b[38;5;124mvegafusion\u001b[39m\u001b[38;5;124m\"\u001b[39m\u001b[38;5;124m)\u001b[39m\u001b[38;5;130;01m\\n\u001b[39;00m\u001b[38;5;130;01m\\n\u001b[39;00m\u001b[38;5;124m'\u001b[39m\n\u001b[1;32m     89\u001b[0m         \u001b[38;5;124m\"\u001b[39m\u001b[38;5;124mOr, see https://altair-viz.github.io/user_guide/large_datasets.html \u001b[39m\u001b[38;5;124m\"\u001b[39m\n\u001b[1;32m     90\u001b[0m         \u001b[38;5;124m\"\u001b[39m\u001b[38;5;124mfor additional information\u001b[39m\u001b[38;5;130;01m\\n\u001b[39;00m\u001b[38;5;124m\"\u001b[39m\n\u001b[1;32m     91\u001b[0m         \u001b[38;5;124m\"\u001b[39m\u001b[38;5;124mon how to plot large datasets.\u001b[39m\u001b[38;5;124m\"\u001b[39m\n\u001b[1;32m     92\u001b[0m     )\n",
      "\u001b[0;31mMaxRowsError\u001b[0m: The number of rows in your dataset is greater than the maximum allowed (5000).\n\nTry enabling the VegaFusion data transformer which raises this limit by pre-evaluating data\ntransformations in Python.\n    >> import altair as alt\n    >> alt.data_transformers.enable(\"vegafusion\")\n\nOr, see https://altair-viz.github.io/user_guide/large_datasets.html for additional information\non how to plot large datasets."
     ]
    },
    {
     "data": {
      "text/plain": [
       "alt.Chart(...)"
      ]
     },
     "execution_count": 13,
     "metadata": {},
     "output_type": "execute_result"
    }
   ],
   "source": [
    "# Plot of u42 colony sizes over time. Counts are small because this colony designations file only includes animals that are sequenced.\n",
    "\n",
    "alt.Chart(demographics).mark_line(line=True).encode(\n",
    "    alt.X(\"Year\", title=\"Year\"),\n",
    "    alt.Y(\"Count\", title=\"Population Size\"),\n",
    "    #color=alt.Color(\"Colony:O\").scale(scheme='dark2'),\n",
    ").properties(\n",
    "    title=f\"Rhesus Population over Time\\nas of {date_of_pedigree}\",\n",
    "    width=340\n",
    ")"
   ]
  },
  {
   "cell_type": "code",
   "execution_count": 14,
   "metadata": {},
   "outputs": [],
   "source": [
    "# Read runs file\n",
    "runs_file = \"/master/abagwell/variant-analysis/resources/rhesus/samples/runs.all.list\"\n",
    "runs = pl.read_csv(runs_file, separator=\"\\t\", has_header=False, new_columns=[\"batch/run\"]).with_columns(\n",
    "    pl.col(\"batch/run\").str.split(\"/\").list.get(0).alias(\"batch\"),\n",
    "    pl.col(\"batch/run\").str.split(\"/\").list.get(1).str.split(\"_\").list.get(0).alias(\"sample\"),\n",
    "    pl.col(\"batch/run\").str.split(\"/\").list.get(1).str.split(\"_\").list.get(1).alias(\"library\"),\n",
    "# Pull out seq type and indiv. Also made seq types an Enum, which can be sorted later\n",
    ").with_columns(\n",
    "    pl.col(\"sample\").str.slice(0, 3).cast(pl.Enum([\"unsequenced\", \"LRS\", \"WGS\", \"WES\", \"GBS\"])).alias(\"seq\"),\n",
    "    pl.col(\"sample\").str.slice(3).alias(\"indiv\"),\n",
    "# Group by batch + indiv (to not double count multiple runs from same batch) and then by indiv\n",
    ").group_by(\"batch\", \"indiv\").agg(pl.first(\"seq\")).group_by(\"indiv\").agg(\"seq\"\n",
    "# One of two ways to filter seq. Change this depending on which method is preferred. The first doesn't current work though.\n",
    ").with_columns(\n",
    "    # Keep only one of each sequencing type for each animal\n",
    "    #pl.col(\"seq\").list.unique()\n",
    "    # Keep only largest sequencing type for each animal\n",
    "    pl.col(\"seq\").list.sort().list.first()\n",
    "# Keep only certain seq types\n",
    ")\n",
    "# .filter(\n",
    "#     (pl.col(\"seq\") == \"WGS\") | (pl.col(\"seq\") == \"WES\")\n",
    "# )\n"
   ]
  },
  {
   "cell_type": "code",
   "execution_count": 15,
   "metadata": {},
   "outputs": [
    {
     "data": {
      "text/html": [
       "<div><style>\n",
       ".dataframe > thead > tr,\n",
       ".dataframe > tbody > tr {\n",
       "  text-align: right;\n",
       "  white-space: pre-wrap;\n",
       "}\n",
       "</style>\n",
       "<small>shape: (938, 2)</small><table border=\"1\" class=\"dataframe\"><thead><tr><th>indiv</th><th>seq</th></tr><tr><td>str</td><td>enum</td></tr></thead><tbody><tr><td>&quot;35038&quot;</td><td>&quot;GBS&quot;</td></tr><tr><td>&quot;31414&quot;</td><td>&quot;GBS&quot;</td></tr><tr><td>&quot;36932&quot;</td><td>&quot;GBS&quot;</td></tr><tr><td>&quot;27783&quot;</td><td>&quot;WES&quot;</td></tr><tr><td>&quot;36805&quot;</td><td>&quot;GBS&quot;</td></tr><tr><td>&hellip;</td><td>&hellip;</td></tr><tr><td>&quot;28403&quot;</td><td>&quot;WES&quot;</td></tr><tr><td>&quot;34722&quot;</td><td>&quot;GBS&quot;</td></tr><tr><td>&quot;17591&quot;</td><td>&quot;WGS&quot;</td></tr><tr><td>&quot;44527&quot;</td><td>&quot;WGS&quot;</td></tr><tr><td>&quot;42129&quot;</td><td>&quot;WGS&quot;</td></tr></tbody></table></div>"
      ],
      "text/plain": [
       "shape: (938, 2)\n",
       "┌───────┬──────┐\n",
       "│ indiv ┆ seq  │\n",
       "│ ---   ┆ ---  │\n",
       "│ str   ┆ enum │\n",
       "╞═══════╪══════╡\n",
       "│ 35038 ┆ GBS  │\n",
       "│ 31414 ┆ GBS  │\n",
       "│ 36932 ┆ GBS  │\n",
       "│ 27783 ┆ WES  │\n",
       "│ 36805 ┆ GBS  │\n",
       "│ …     ┆ …    │\n",
       "│ 28403 ┆ WES  │\n",
       "│ 34722 ┆ GBS  │\n",
       "│ 17591 ┆ WGS  │\n",
       "│ 44527 ┆ WGS  │\n",
       "│ 42129 ┆ WGS  │\n",
       "└───────┴──────┘"
      ]
     },
     "execution_count": 15,
     "metadata": {},
     "output_type": "execute_result"
    }
   ],
   "source": [
    "runs"
   ]
  },
  {
   "cell_type": "code",
   "execution_count": 16,
   "metadata": {},
   "outputs": [],
   "source": [
    "colony_demographics_runs = colony_demographics.join(runs, how=\"left\", left_on=\"Id\", right_on=\"indiv\").with_columns(\n",
    "    pl.col(\"seq\").fill_null(\"unsequenced\")\n",
    "\n",
    ").group_by(\"Year\", \"seq\").agg(pl.count(\"Id\").alias(\"Count\")).sort(\"Year\", \"seq\", descending=True)"
   ]
  },
  {
   "cell_type": "code",
   "execution_count": 17,
   "metadata": {},
   "outputs": [
    {
     "data": {
      "text/html": [
       "<div><style>\n",
       ".dataframe > thead > tr,\n",
       ".dataframe > tbody > tr {\n",
       "  text-align: right;\n",
       "  white-space: pre-wrap;\n",
       "}\n",
       "</style>\n",
       "<small>shape: (182, 3)</small><table border=\"1\" class=\"dataframe\"><thead><tr><th>Year</th><th>seq</th><th>Count</th></tr><tr><td>date</td><td>enum</td><td>u32</td></tr></thead><tbody><tr><td>2024-01-01</td><td>&quot;GBS&quot;</td><td>30</td></tr><tr><td>2024-01-01</td><td>&quot;WES&quot;</td><td>73</td></tr><tr><td>2024-01-01</td><td>&quot;WGS&quot;</td><td>58</td></tr><tr><td>2024-01-01</td><td>&quot;LRS&quot;</td><td>1</td></tr><tr><td>2024-01-01</td><td>&quot;unsequenced&quot;</td><td>14</td></tr><tr><td>&hellip;</td><td>&hellip;</td><td>&hellip;</td></tr><tr><td>1980-01-01</td><td>&quot;unsequenced&quot;</td><td>7</td></tr><tr><td>1979-01-01</td><td>&quot;unsequenced&quot;</td><td>7</td></tr><tr><td>1978-01-01</td><td>&quot;unsequenced&quot;</td><td>6</td></tr><tr><td>1977-01-01</td><td>&quot;unsequenced&quot;</td><td>3</td></tr><tr><td>1976-01-01</td><td>&quot;unsequenced&quot;</td><td>2</td></tr></tbody></table></div>"
      ],
      "text/plain": [
       "shape: (182, 3)\n",
       "┌────────────┬─────────────┬───────┐\n",
       "│ Year       ┆ seq         ┆ Count │\n",
       "│ ---        ┆ ---         ┆ ---   │\n",
       "│ date       ┆ enum        ┆ u32   │\n",
       "╞════════════╪═════════════╪═══════╡\n",
       "│ 2024-01-01 ┆ GBS         ┆ 30    │\n",
       "│ 2024-01-01 ┆ WES         ┆ 73    │\n",
       "│ 2024-01-01 ┆ WGS         ┆ 58    │\n",
       "│ 2024-01-01 ┆ LRS         ┆ 1     │\n",
       "│ 2024-01-01 ┆ unsequenced ┆ 14    │\n",
       "│ …          ┆ …           ┆ …     │\n",
       "│ 1980-01-01 ┆ unsequenced ┆ 7     │\n",
       "│ 1979-01-01 ┆ unsequenced ┆ 7     │\n",
       "│ 1978-01-01 ┆ unsequenced ┆ 6     │\n",
       "│ 1977-01-01 ┆ unsequenced ┆ 3     │\n",
       "│ 1976-01-01 ┆ unsequenced ┆ 2     │\n",
       "└────────────┴─────────────┴───────┘"
      ]
     },
     "execution_count": 17,
     "metadata": {},
     "output_type": "execute_result"
    }
   ],
   "source": [
    "# For testing\n",
    "\n",
    "colony_demographics_runs\n",
    "#colony_demographics_runs.sort(\"Year\", \"seq\").filter(pl.col(\"Year\") == 2021)"
   ]
  },
  {
   "cell_type": "code",
   "execution_count": 18,
   "metadata": {},
   "outputs": [
    {
     "data": {
      "text/html": [
       "\n",
       "<style>\n",
       "  #altair-viz-870808dd98834c1e9d9cd942b09aa87d.vega-embed {\n",
       "    width: 100%;\n",
       "    display: flex;\n",
       "  }\n",
       "\n",
       "  #altair-viz-870808dd98834c1e9d9cd942b09aa87d.vega-embed details,\n",
       "  #altair-viz-870808dd98834c1e9d9cd942b09aa87d.vega-embed details summary {\n",
       "    position: relative;\n",
       "  }\n",
       "</style>\n",
       "<div id=\"altair-viz-870808dd98834c1e9d9cd942b09aa87d\"></div>\n",
       "<script type=\"text/javascript\">\n",
       "  var VEGA_DEBUG = (typeof VEGA_DEBUG == \"undefined\") ? {} : VEGA_DEBUG;\n",
       "  (function(spec, embedOpt){\n",
       "    let outputDiv = document.currentScript.previousElementSibling;\n",
       "    if (outputDiv.id !== \"altair-viz-870808dd98834c1e9d9cd942b09aa87d\") {\n",
       "      outputDiv = document.getElementById(\"altair-viz-870808dd98834c1e9d9cd942b09aa87d\");\n",
       "    }\n",
       "    const paths = {\n",
       "      \"vega\": \"https://cdn.jsdelivr.net/npm/vega@5?noext\",\n",
       "      \"vega-lib\": \"https://cdn.jsdelivr.net/npm/vega-lib?noext\",\n",
       "      \"vega-lite\": \"https://cdn.jsdelivr.net/npm/vega-lite@5.17.0?noext\",\n",
       "      \"vega-embed\": \"https://cdn.jsdelivr.net/npm/vega-embed@6?noext\",\n",
       "    };\n",
       "\n",
       "    function maybeLoadScript(lib, version) {\n",
       "      var key = `${lib.replace(\"-\", \"\")}_version`;\n",
       "      return (VEGA_DEBUG[key] == version) ?\n",
       "        Promise.resolve(paths[lib]) :\n",
       "        new Promise(function(resolve, reject) {\n",
       "          var s = document.createElement('script');\n",
       "          document.getElementsByTagName(\"head\")[0].appendChild(s);\n",
       "          s.async = true;\n",
       "          s.onload = () => {\n",
       "            VEGA_DEBUG[key] = version;\n",
       "            return resolve(paths[lib]);\n",
       "          };\n",
       "          s.onerror = () => reject(`Error loading script: ${paths[lib]}`);\n",
       "          s.src = paths[lib];\n",
       "        });\n",
       "    }\n",
       "\n",
       "    function showError(err) {\n",
       "      outputDiv.innerHTML = `<div class=\"error\" style=\"color:red;\">${err}</div>`;\n",
       "      throw err;\n",
       "    }\n",
       "\n",
       "    function displayChart(vegaEmbed) {\n",
       "      vegaEmbed(outputDiv, spec, embedOpt)\n",
       "        .catch(err => showError(`Javascript Error: ${err.message}<br>This usually means there's a typo in your chart specification. See the javascript console for the full traceback.`));\n",
       "    }\n",
       "\n",
       "    if(typeof define === \"function\" && define.amd) {\n",
       "      requirejs.config({paths});\n",
       "      require([\"vega-embed\"], displayChart, err => showError(`Error loading script: ${err.message}`));\n",
       "    } else {\n",
       "      maybeLoadScript(\"vega\", \"5\")\n",
       "        .then(() => maybeLoadScript(\"vega-lite\", \"5.17.0\"))\n",
       "        .then(() => maybeLoadScript(\"vega-embed\", \"6\"))\n",
       "        .catch(showError)\n",
       "        .then(() => displayChart(vegaEmbed));\n",
       "    }\n",
       "  })({\"config\": {\"view\": {\"continuousWidth\": 300, \"continuousHeight\": 300}}, \"data\": {\"name\": \"data-610b07f5007ce5e73ed59d4a558ba5f3\"}, \"mark\": {\"type\": \"area\"}, \"encoding\": {\"color\": {\"field\": \"seq\", \"scale\": {\"scheme\": \"dark2\"}, \"sort\": [\"unsequenced\", \"LRS\", \"WGS\", \"WES\", \"GBS\"], \"title\": \"Sequencing method\", \"type\": \"ordinal\"}, \"order\": {\"field\": \"seq_order\", \"sort\": \"ascending\", \"type\": \"ordinal\"}, \"x\": {\"field\": \"Year\", \"scale\": {\"clamp\": true, \"domainMax\": {\"day\": 1, \"month\": 1, \"year\": 2023}}, \"title\": \"Year\", \"type\": \"temporal\"}, \"y\": {\"field\": \"Count\", \"title\": \"Population size\", \"type\": \"quantitative\"}}, \"title\": [\"Rhesus Breeder Population over Time\"], \"transform\": [{\"calculate\": \"{'unsequenced': 0, 'LRS': 1, 'WGS': 2, 'WES': 3, 'GBS': 4}[datum.seq_order]\", \"as\": \"order\"}], \"width\": 340, \"$schema\": \"https://vega.github.io/schema/vega-lite/v5.17.0.json\", \"datasets\": {\"data-610b07f5007ce5e73ed59d4a558ba5f3\": [{\"Year\": \"2024-01-01T00:00:00\", \"seq\": \"GBS\", \"Count\": 30}, {\"Year\": \"2024-01-01T00:00:00\", \"seq\": \"WES\", \"Count\": 73}, {\"Year\": \"2024-01-01T00:00:00\", \"seq\": \"WGS\", \"Count\": 58}, {\"Year\": \"2024-01-01T00:00:00\", \"seq\": \"LRS\", \"Count\": 1}, {\"Year\": \"2024-01-01T00:00:00\", \"seq\": \"unsequenced\", \"Count\": 14}, {\"Year\": \"2023-01-01T00:00:00\", \"seq\": \"GBS\", \"Count\": 62}, {\"Year\": \"2023-01-01T00:00:00\", \"seq\": \"WES\", \"Count\": 153}, {\"Year\": \"2023-01-01T00:00:00\", \"seq\": \"WGS\", \"Count\": 107}, {\"Year\": \"2023-01-01T00:00:00\", \"seq\": \"LRS\", \"Count\": 2}, {\"Year\": \"2023-01-01T00:00:00\", \"seq\": \"unsequenced\", \"Count\": 25}, {\"Year\": \"2022-01-01T00:00:00\", \"seq\": \"GBS\", \"Count\": 71}, {\"Year\": \"2022-01-01T00:00:00\", \"seq\": \"WES\", \"Count\": 167}, {\"Year\": \"2022-01-01T00:00:00\", \"seq\": \"WGS\", \"Count\": 116}, {\"Year\": \"2022-01-01T00:00:00\", \"seq\": \"LRS\", \"Count\": 3}, {\"Year\": \"2022-01-01T00:00:00\", \"seq\": \"unsequenced\", \"Count\": 25}, {\"Year\": \"2021-01-01T00:00:00\", \"seq\": \"GBS\", \"Count\": 74}, {\"Year\": \"2021-01-01T00:00:00\", \"seq\": \"WES\", \"Count\": 181}, {\"Year\": \"2021-01-01T00:00:00\", \"seq\": \"WGS\", \"Count\": 121}, {\"Year\": \"2021-01-01T00:00:00\", \"seq\": \"LRS\", \"Count\": 3}, {\"Year\": \"2021-01-01T00:00:00\", \"seq\": \"unsequenced\", \"Count\": 29}, {\"Year\": \"2020-01-01T00:00:00\", \"seq\": \"GBS\", \"Count\": 78}, {\"Year\": \"2020-01-01T00:00:00\", \"seq\": \"WES\", \"Count\": 195}, {\"Year\": \"2020-01-01T00:00:00\", \"seq\": \"WGS\", \"Count\": 132}, {\"Year\": \"2020-01-01T00:00:00\", \"seq\": \"LRS\", \"Count\": 3}, {\"Year\": \"2020-01-01T00:00:00\", \"seq\": \"unsequenced\", \"Count\": 32}, {\"Year\": \"2019-01-01T00:00:00\", \"seq\": \"GBS\", \"Count\": 80}, {\"Year\": \"2019-01-01T00:00:00\", \"seq\": \"WES\", \"Count\": 210}, {\"Year\": \"2019-01-01T00:00:00\", \"seq\": \"WGS\", \"Count\": 140}, {\"Year\": \"2019-01-01T00:00:00\", \"seq\": \"LRS\", \"Count\": 3}, {\"Year\": \"2019-01-01T00:00:00\", \"seq\": \"unsequenced\", \"Count\": 36}, {\"Year\": \"2018-01-01T00:00:00\", \"seq\": \"GBS\", \"Count\": 90}, {\"Year\": \"2018-01-01T00:00:00\", \"seq\": \"WES\", \"Count\": 223}, {\"Year\": \"2018-01-01T00:00:00\", \"seq\": \"WGS\", \"Count\": 156}, {\"Year\": \"2018-01-01T00:00:00\", \"seq\": \"LRS\", \"Count\": 3}, {\"Year\": \"2018-01-01T00:00:00\", \"seq\": \"unsequenced\", \"Count\": 37}, {\"Year\": \"2017-01-01T00:00:00\", \"seq\": \"GBS\", \"Count\": 95}, {\"Year\": \"2017-01-01T00:00:00\", \"seq\": \"WES\", \"Count\": 226}, {\"Year\": \"2017-01-01T00:00:00\", \"seq\": \"WGS\", \"Count\": 165}, {\"Year\": \"2017-01-01T00:00:00\", \"seq\": \"LRS\", \"Count\": 3}, {\"Year\": \"2017-01-01T00:00:00\", \"seq\": \"unsequenced\", \"Count\": 42}, {\"Year\": \"2016-01-01T00:00:00\", \"seq\": \"GBS\", \"Count\": 80}, {\"Year\": \"2016-01-01T00:00:00\", \"seq\": \"WES\", \"Count\": 240}, {\"Year\": \"2016-01-01T00:00:00\", \"seq\": \"WGS\", \"Count\": 174}, {\"Year\": \"2016-01-01T00:00:00\", \"seq\": \"LRS\", \"Count\": 3}, {\"Year\": \"2016-01-01T00:00:00\", \"seq\": \"unsequenced\", \"Count\": 57}, {\"Year\": \"2015-01-01T00:00:00\", \"seq\": \"GBS\", \"Count\": 62}, {\"Year\": \"2015-01-01T00:00:00\", \"seq\": \"WES\", \"Count\": 241}, {\"Year\": \"2015-01-01T00:00:00\", \"seq\": \"WGS\", \"Count\": 166}, {\"Year\": \"2015-01-01T00:00:00\", \"seq\": \"LRS\", \"Count\": 3}, {\"Year\": \"2015-01-01T00:00:00\", \"seq\": \"unsequenced\", \"Count\": 63}, {\"Year\": \"2014-01-01T00:00:00\", \"seq\": \"GBS\", \"Count\": 53}, {\"Year\": \"2014-01-01T00:00:00\", \"seq\": \"WES\", \"Count\": 240}, {\"Year\": \"2014-01-01T00:00:00\", \"seq\": \"WGS\", \"Count\": 156}, {\"Year\": \"2014-01-01T00:00:00\", \"seq\": \"LRS\", \"Count\": 3}, {\"Year\": \"2014-01-01T00:00:00\", \"seq\": \"unsequenced\", \"Count\": 68}, {\"Year\": \"2013-01-01T00:00:00\", \"seq\": \"GBS\", \"Count\": 46}, {\"Year\": \"2013-01-01T00:00:00\", \"seq\": \"WES\", \"Count\": 222}, {\"Year\": \"2013-01-01T00:00:00\", \"seq\": \"WGS\", \"Count\": 147}, {\"Year\": \"2013-01-01T00:00:00\", \"seq\": \"LRS\", \"Count\": 3}, {\"Year\": \"2013-01-01T00:00:00\", \"seq\": \"unsequenced\", \"Count\": 75}, {\"Year\": \"2012-01-01T00:00:00\", \"seq\": \"GBS\", \"Count\": 46}, {\"Year\": \"2012-01-01T00:00:00\", \"seq\": \"WES\", \"Count\": 205}, {\"Year\": \"2012-01-01T00:00:00\", \"seq\": \"WGS\", \"Count\": 132}, {\"Year\": \"2012-01-01T00:00:00\", \"seq\": \"LRS\", \"Count\": 1}, {\"Year\": \"2012-01-01T00:00:00\", \"seq\": \"unsequenced\", \"Count\": 79}, {\"Year\": \"2011-01-01T00:00:00\", \"seq\": \"GBS\", \"Count\": 43}, {\"Year\": \"2011-01-01T00:00:00\", \"seq\": \"WES\", \"Count\": 194}, {\"Year\": \"2011-01-01T00:00:00\", \"seq\": \"WGS\", \"Count\": 123}, {\"Year\": \"2011-01-01T00:00:00\", \"seq\": \"LRS\", \"Count\": 1}, {\"Year\": \"2011-01-01T00:00:00\", \"seq\": \"unsequenced\", \"Count\": 86}, {\"Year\": \"2010-01-01T00:00:00\", \"seq\": \"GBS\", \"Count\": 44}, {\"Year\": \"2010-01-01T00:00:00\", \"seq\": \"WES\", \"Count\": 179}, {\"Year\": \"2010-01-01T00:00:00\", \"seq\": \"WGS\", \"Count\": 118}, {\"Year\": \"2010-01-01T00:00:00\", \"seq\": \"unsequenced\", \"Count\": 88}, {\"Year\": \"2009-01-01T00:00:00\", \"seq\": \"GBS\", \"Count\": 37}, {\"Year\": \"2009-01-01T00:00:00\", \"seq\": \"WES\", \"Count\": 164}, {\"Year\": \"2009-01-01T00:00:00\", \"seq\": \"WGS\", \"Count\": 111}, {\"Year\": \"2009-01-01T00:00:00\", \"seq\": \"unsequenced\", \"Count\": 90}, {\"Year\": \"2008-01-01T00:00:00\", \"seq\": \"GBS\", \"Count\": 36}, {\"Year\": \"2008-01-01T00:00:00\", \"seq\": \"WES\", \"Count\": 153}, {\"Year\": \"2008-01-01T00:00:00\", \"seq\": \"WGS\", \"Count\": 107}, {\"Year\": \"2008-01-01T00:00:00\", \"seq\": \"unsequenced\", \"Count\": 91}, {\"Year\": \"2007-01-01T00:00:00\", \"seq\": \"GBS\", \"Count\": 35}, {\"Year\": \"2007-01-01T00:00:00\", \"seq\": \"WES\", \"Count\": 143}, {\"Year\": \"2007-01-01T00:00:00\", \"seq\": \"WGS\", \"Count\": 101}, {\"Year\": \"2007-01-01T00:00:00\", \"seq\": \"unsequenced\", \"Count\": 90}, {\"Year\": \"2006-01-01T00:00:00\", \"seq\": \"GBS\", \"Count\": 29}, {\"Year\": \"2006-01-01T00:00:00\", \"seq\": \"WES\", \"Count\": 135}, {\"Year\": \"2006-01-01T00:00:00\", \"seq\": \"WGS\", \"Count\": 95}, {\"Year\": \"2006-01-01T00:00:00\", \"seq\": \"unsequenced\", \"Count\": 87}, {\"Year\": \"2005-01-01T00:00:00\", \"seq\": \"GBS\", \"Count\": 21}, {\"Year\": \"2005-01-01T00:00:00\", \"seq\": \"WES\", \"Count\": 116}, {\"Year\": \"2005-01-01T00:00:00\", \"seq\": \"WGS\", \"Count\": 85}, {\"Year\": \"2005-01-01T00:00:00\", \"seq\": \"unsequenced\", \"Count\": 83}, {\"Year\": \"2004-01-01T00:00:00\", \"seq\": \"GBS\", \"Count\": 16}, {\"Year\": \"2004-01-01T00:00:00\", \"seq\": \"WES\", \"Count\": 102}, {\"Year\": \"2004-01-01T00:00:00\", \"seq\": \"WGS\", \"Count\": 79}, {\"Year\": \"2004-01-01T00:00:00\", \"seq\": \"unsequenced\", \"Count\": 84}, {\"Year\": \"2003-01-01T00:00:00\", \"seq\": \"GBS\", \"Count\": 10}, {\"Year\": \"2003-01-01T00:00:00\", \"seq\": \"WES\", \"Count\": 96}, {\"Year\": \"2003-01-01T00:00:00\", \"seq\": \"WGS\", \"Count\": 72}, {\"Year\": \"2003-01-01T00:00:00\", \"seq\": \"unsequenced\", \"Count\": 85}, {\"Year\": \"2002-01-01T00:00:00\", \"seq\": \"GBS\", \"Count\": 5}, {\"Year\": \"2002-01-01T00:00:00\", \"seq\": \"WES\", \"Count\": 90}, {\"Year\": \"2002-01-01T00:00:00\", \"seq\": \"WGS\", \"Count\": 68}, {\"Year\": \"2002-01-01T00:00:00\", \"seq\": \"unsequenced\", \"Count\": 79}, {\"Year\": \"2001-01-01T00:00:00\", \"seq\": \"GBS\", \"Count\": 5}, {\"Year\": \"2001-01-01T00:00:00\", \"seq\": \"WES\", \"Count\": 87}, {\"Year\": \"2001-01-01T00:00:00\", \"seq\": \"WGS\", \"Count\": 62}, {\"Year\": \"2001-01-01T00:00:00\", \"seq\": \"unsequenced\", \"Count\": 75}, {\"Year\": \"2000-01-01T00:00:00\", \"seq\": \"GBS\", \"Count\": 5}, {\"Year\": \"2000-01-01T00:00:00\", \"seq\": \"WES\", \"Count\": 83}, {\"Year\": \"2000-01-01T00:00:00\", \"seq\": \"WGS\", \"Count\": 56}, {\"Year\": \"2000-01-01T00:00:00\", \"seq\": \"unsequenced\", \"Count\": 76}, {\"Year\": \"1999-01-01T00:00:00\", \"seq\": \"GBS\", \"Count\": 5}, {\"Year\": \"1999-01-01T00:00:00\", \"seq\": \"WES\", \"Count\": 79}, {\"Year\": \"1999-01-01T00:00:00\", \"seq\": \"WGS\", \"Count\": 51}, {\"Year\": \"1999-01-01T00:00:00\", \"seq\": \"unsequenced\", \"Count\": 71}, {\"Year\": \"1998-01-01T00:00:00\", \"seq\": \"GBS\", \"Count\": 4}, {\"Year\": \"1998-01-01T00:00:00\", \"seq\": \"WES\", \"Count\": 74}, {\"Year\": \"1998-01-01T00:00:00\", \"seq\": \"WGS\", \"Count\": 49}, {\"Year\": \"1998-01-01T00:00:00\", \"seq\": \"unsequenced\", \"Count\": 62}, {\"Year\": \"1997-01-01T00:00:00\", \"seq\": \"GBS\", \"Count\": 3}, {\"Year\": \"1997-01-01T00:00:00\", \"seq\": \"WES\", \"Count\": 54}, {\"Year\": \"1997-01-01T00:00:00\", \"seq\": \"WGS\", \"Count\": 19}, {\"Year\": \"1997-01-01T00:00:00\", \"seq\": \"unsequenced\", \"Count\": 58}, {\"Year\": \"1996-01-01T00:00:00\", \"seq\": \"GBS\", \"Count\": 2}, {\"Year\": \"1996-01-01T00:00:00\", \"seq\": \"WES\", \"Count\": 50}, {\"Year\": \"1996-01-01T00:00:00\", \"seq\": \"WGS\", \"Count\": 17}, {\"Year\": \"1996-01-01T00:00:00\", \"seq\": \"unsequenced\", \"Count\": 69}, {\"Year\": \"1995-01-01T00:00:00\", \"seq\": \"GBS\", \"Count\": 2}, {\"Year\": \"1995-01-01T00:00:00\", \"seq\": \"WES\", \"Count\": 48}, {\"Year\": \"1995-01-01T00:00:00\", \"seq\": \"WGS\", \"Count\": 16}, {\"Year\": \"1995-01-01T00:00:00\", \"seq\": \"unsequenced\", \"Count\": 67}, {\"Year\": \"1994-01-01T00:00:00\", \"seq\": \"GBS\", \"Count\": 2}, {\"Year\": \"1994-01-01T00:00:00\", \"seq\": \"WES\", \"Count\": 47}, {\"Year\": \"1994-01-01T00:00:00\", \"seq\": \"WGS\", \"Count\": 16}, {\"Year\": \"1994-01-01T00:00:00\", \"seq\": \"unsequenced\", \"Count\": 64}, {\"Year\": \"1993-01-01T00:00:00\", \"seq\": \"GBS\", \"Count\": 2}, {\"Year\": \"1993-01-01T00:00:00\", \"seq\": \"WES\", \"Count\": 42}, {\"Year\": \"1993-01-01T00:00:00\", \"seq\": \"WGS\", \"Count\": 15}, {\"Year\": \"1993-01-01T00:00:00\", \"seq\": \"unsequenced\", \"Count\": 57}, {\"Year\": \"1992-01-01T00:00:00\", \"seq\": \"GBS\", \"Count\": 1}, {\"Year\": \"1992-01-01T00:00:00\", \"seq\": \"WES\", \"Count\": 40}, {\"Year\": \"1992-01-01T00:00:00\", \"seq\": \"WGS\", \"Count\": 13}, {\"Year\": \"1992-01-01T00:00:00\", \"seq\": \"unsequenced\", \"Count\": 48}, {\"Year\": \"1991-01-01T00:00:00\", \"seq\": \"GBS\", \"Count\": 1}, {\"Year\": \"1991-01-01T00:00:00\", \"seq\": \"WES\", \"Count\": 36}, {\"Year\": \"1991-01-01T00:00:00\", \"seq\": \"WGS\", \"Count\": 8}, {\"Year\": \"1991-01-01T00:00:00\", \"seq\": \"unsequenced\", \"Count\": 42}, {\"Year\": \"1990-01-01T00:00:00\", \"seq\": \"WES\", \"Count\": 26}, {\"Year\": \"1990-01-01T00:00:00\", \"seq\": \"WGS\", \"Count\": 7}, {\"Year\": \"1990-01-01T00:00:00\", \"seq\": \"unsequenced\", \"Count\": 37}, {\"Year\": \"1989-01-01T00:00:00\", \"seq\": \"WES\", \"Count\": 25}, {\"Year\": \"1989-01-01T00:00:00\", \"seq\": \"WGS\", \"Count\": 4}, {\"Year\": \"1989-01-01T00:00:00\", \"seq\": \"unsequenced\", \"Count\": 36}, {\"Year\": \"1988-01-01T00:00:00\", \"seq\": \"WES\", \"Count\": 19}, {\"Year\": \"1988-01-01T00:00:00\", \"seq\": \"WGS\", \"Count\": 3}, {\"Year\": \"1988-01-01T00:00:00\", \"seq\": \"unsequenced\", \"Count\": 34}, {\"Year\": \"1987-01-01T00:00:00\", \"seq\": \"WES\", \"Count\": 17}, {\"Year\": \"1987-01-01T00:00:00\", \"seq\": \"WGS\", \"Count\": 3}, {\"Year\": \"1987-01-01T00:00:00\", \"seq\": \"unsequenced\", \"Count\": 31}, {\"Year\": \"1986-01-01T00:00:00\", \"seq\": \"WES\", \"Count\": 12}, {\"Year\": \"1986-01-01T00:00:00\", \"seq\": \"WGS\", \"Count\": 1}, {\"Year\": \"1986-01-01T00:00:00\", \"seq\": \"unsequenced\", \"Count\": 23}, {\"Year\": \"1985-01-01T00:00:00\", \"seq\": \"WES\", \"Count\": 7}, {\"Year\": \"1985-01-01T00:00:00\", \"seq\": \"WGS\", \"Count\": 1}, {\"Year\": \"1985-01-01T00:00:00\", \"seq\": \"unsequenced\", \"Count\": 21}, {\"Year\": \"1984-01-01T00:00:00\", \"seq\": \"WES\", \"Count\": 5}, {\"Year\": \"1984-01-01T00:00:00\", \"seq\": \"unsequenced\", \"Count\": 17}, {\"Year\": \"1983-01-01T00:00:00\", \"seq\": \"WES\", \"Count\": 3}, {\"Year\": \"1983-01-01T00:00:00\", \"seq\": \"unsequenced\", \"Count\": 16}, {\"Year\": \"1982-01-01T00:00:00\", \"seq\": \"WES\", \"Count\": 3}, {\"Year\": \"1982-01-01T00:00:00\", \"seq\": \"unsequenced\", \"Count\": 10}, {\"Year\": \"1981-01-01T00:00:00\", \"seq\": \"WES\", \"Count\": 1}, {\"Year\": \"1981-01-01T00:00:00\", \"seq\": \"unsequenced\", \"Count\": 9}, {\"Year\": \"1980-01-01T00:00:00\", \"seq\": \"WES\", \"Count\": 1}, {\"Year\": \"1980-01-01T00:00:00\", \"seq\": \"unsequenced\", \"Count\": 7}, {\"Year\": \"1979-01-01T00:00:00\", \"seq\": \"unsequenced\", \"Count\": 7}, {\"Year\": \"1978-01-01T00:00:00\", \"seq\": \"unsequenced\", \"Count\": 6}, {\"Year\": \"1977-01-01T00:00:00\", \"seq\": \"unsequenced\", \"Count\": 3}, {\"Year\": \"1976-01-01T00:00:00\", \"seq\": \"unsequenced\", \"Count\": 2}]}}, {\"mode\": \"vega-lite\"});\n",
       "</script>"
      ],
      "text/plain": [
       "alt.Chart(...)"
      ]
     },
     "execution_count": 18,
     "metadata": {},
     "output_type": "execute_result"
    }
   ],
   "source": [
    "# The total area shows the number of animals overall, subdivided by type of sequencing (or if unsequenced).\n",
    "# In order to keep the sum of sequencing types equal to the true total, sequencing types are given priority as follows: unsequenced > LRS > WGS > WES > GBS\n",
    "\n",
    "alt.data_transformers.disable_max_rows()\n",
    "alt.Chart(colony_demographics_runs).mark_area().encode(\n",
    "    alt.X(\"Year\", title=\"Year\", scale=alt.Scale(domainMax=alt.DateTime(year=2023, month=1, day=1), clamp=True)),#.scale(domainMax=2023, clamp=True),\n",
    "    alt.Y(\"Count:Q\", title=\"Population size\"),\n",
    "    color=alt.Color(\"seq:O\", title=\"Sequencing method\", sort=[\"unsequenced\", \"LRS\", \"WGS\", \"WES\", \"GBS\"]).scale(scheme='dark2'), #, sort=[\"unsequenced\", \"LRS\", \"WGS\", \"WES\"]\n",
    "    order=alt.Order('seq_order:O', sort='ascending')\n",
    ").properties(\n",
    "    title=[\"Rhesus Breeder Population over Time\"], #\\nas of {date_of_pedigree} #, \"With at Least One Offspring ≥ 3 Years Old\"\n",
    "    #height=2000,\n",
    "    width=340,\n",
    ").transform_calculate(\n",
    "    order=\"{'unsequenced': 0, 'LRS': 1, 'WGS': 2, 'WES': 3, 'GBS': 4}[datum.seq_order]\"  \n",
    ")\n"
   ]
  },
  {
   "cell_type": "code",
   "execution_count": 19,
   "metadata": {},
   "outputs": [],
   "source": [
    "# Plot by portion sequenced per year (instead of counts)\n"
   ]
  },
  {
   "cell_type": "code",
   "execution_count": 20,
   "metadata": {},
   "outputs": [
    {
     "data": {
      "text/html": [
       "<div><style>\n",
       ".dataframe > thead > tr,\n",
       ".dataframe > tbody > tr {\n",
       "  text-align: right;\n",
       "  white-space: pre-wrap;\n",
       "}\n",
       "</style>\n",
       "<small>shape: (49, 7)</small><table border=\"1\" class=\"dataframe\"><thead><tr><th>Year</th><th>seq</th><th>Count</th><th>Sum</th><th>all_seq</th><th>missing_seq</th><th>len</th></tr><tr><td>date</td><td>list[enum]</td><td>list[u32]</td><td>u32</td><td>list[enum]</td><td>list[enum]</td><td>u32</td></tr></thead><tbody><tr><td>2024-01-01</td><td>[&quot;GBS&quot;, &quot;WES&quot;, … &quot;unsequenced&quot;]</td><td>[30, 73, … 14]</td><td>176</td><td>[&quot;GBS&quot;, &quot;WES&quot;, … &quot;unsequenced&quot;]</td><td>[]</td><td>0</td></tr><tr><td>2023-01-01</td><td>[&quot;GBS&quot;, &quot;WES&quot;, … &quot;unsequenced&quot;]</td><td>[62, 153, … 25]</td><td>349</td><td>[&quot;GBS&quot;, &quot;WES&quot;, … &quot;unsequenced&quot;]</td><td>[]</td><td>0</td></tr><tr><td>2022-01-01</td><td>[&quot;GBS&quot;, &quot;WES&quot;, … &quot;unsequenced&quot;]</td><td>[71, 167, … 25]</td><td>382</td><td>[&quot;GBS&quot;, &quot;WES&quot;, … &quot;unsequenced&quot;]</td><td>[]</td><td>0</td></tr><tr><td>2021-01-01</td><td>[&quot;GBS&quot;, &quot;WES&quot;, … &quot;unsequenced&quot;]</td><td>[74, 181, … 29]</td><td>408</td><td>[&quot;GBS&quot;, &quot;WES&quot;, … &quot;unsequenced&quot;]</td><td>[]</td><td>0</td></tr><tr><td>2020-01-01</td><td>[&quot;GBS&quot;, &quot;WES&quot;, … &quot;unsequenced&quot;]</td><td>[78, 195, … 32]</td><td>440</td><td>[&quot;GBS&quot;, &quot;WES&quot;, … &quot;unsequenced&quot;]</td><td>[]</td><td>0</td></tr><tr><td>&hellip;</td><td>&hellip;</td><td>&hellip;</td><td>&hellip;</td><td>&hellip;</td><td>&hellip;</td><td>&hellip;</td></tr><tr><td>1980-01-01</td><td>[&quot;WES&quot;, &quot;unsequenced&quot;, … &quot;LRS&quot;]</td><td>[1, 7]</td><td>8</td><td>[&quot;WES&quot;, &quot;unsequenced&quot;, … &quot;GBS&quot;]</td><td>[&quot;GBS&quot;, &quot;WGS&quot;, &quot;LRS&quot;]</td><td>3</td></tr><tr><td>1979-01-01</td><td>[&quot;unsequenced&quot;, &quot;GBS&quot;, … &quot;WES&quot;]</td><td>[7]</td><td>7</td><td>[&quot;unsequenced&quot;, &quot;LRS&quot;, … &quot;GBS&quot;]</td><td>[&quot;GBS&quot;, &quot;LRS&quot;, … &quot;WES&quot;]</td><td>4</td></tr><tr><td>1978-01-01</td><td>[&quot;unsequenced&quot;, &quot;GBS&quot;, … &quot;WES&quot;]</td><td>[6]</td><td>6</td><td>[&quot;unsequenced&quot;, &quot;LRS&quot;, … &quot;GBS&quot;]</td><td>[&quot;GBS&quot;, &quot;LRS&quot;, … &quot;WES&quot;]</td><td>4</td></tr><tr><td>1977-01-01</td><td>[&quot;unsequenced&quot;, &quot;GBS&quot;, … &quot;WES&quot;]</td><td>[3]</td><td>3</td><td>[&quot;unsequenced&quot;, &quot;LRS&quot;, … &quot;GBS&quot;]</td><td>[&quot;GBS&quot;, &quot;LRS&quot;, … &quot;WES&quot;]</td><td>4</td></tr><tr><td>1976-01-01</td><td>[&quot;unsequenced&quot;, &quot;GBS&quot;, … &quot;WES&quot;]</td><td>[2]</td><td>2</td><td>[&quot;unsequenced&quot;, &quot;LRS&quot;, … &quot;GBS&quot;]</td><td>[&quot;GBS&quot;, &quot;LRS&quot;, … &quot;WES&quot;]</td><td>4</td></tr></tbody></table></div>"
      ],
      "text/plain": [
       "shape: (49, 7)\n",
       "┌────────────┬──────────────────┬─────────────────┬─────┬──────────────────┬─────────────────┬─────┐\n",
       "│ Year       ┆ seq              ┆ Count           ┆ Sum ┆ all_seq          ┆ missing_seq     ┆ len │\n",
       "│ ---        ┆ ---              ┆ ---             ┆ --- ┆ ---              ┆ ---             ┆ --- │\n",
       "│ date       ┆ list[enum]       ┆ list[u32]       ┆ u32 ┆ list[enum]       ┆ list[enum]      ┆ u32 │\n",
       "╞════════════╪══════════════════╪═════════════════╪═════╪══════════════════╪═════════════════╪═════╡\n",
       "│ 2024-01-01 ┆ [\"GBS\", \"WES\", … ┆ [30, 73, … 14]  ┆ 176 ┆ [\"GBS\", \"WES\", … ┆ []              ┆ 0   │\n",
       "│            ┆ \"unsequenced\"]   ┆                 ┆     ┆ \"unsequenced\"]   ┆                 ┆     │\n",
       "│ 2023-01-01 ┆ [\"GBS\", \"WES\", … ┆ [62, 153, … 25] ┆ 349 ┆ [\"GBS\", \"WES\", … ┆ []              ┆ 0   │\n",
       "│            ┆ \"unsequenced\"]   ┆                 ┆     ┆ \"unsequenced\"]   ┆                 ┆     │\n",
       "│ 2022-01-01 ┆ [\"GBS\", \"WES\", … ┆ [71, 167, … 25] ┆ 382 ┆ [\"GBS\", \"WES\", … ┆ []              ┆ 0   │\n",
       "│            ┆ \"unsequenced\"]   ┆                 ┆     ┆ \"unsequenced\"]   ┆                 ┆     │\n",
       "│ 2021-01-01 ┆ [\"GBS\", \"WES\", … ┆ [74, 181, … 29] ┆ 408 ┆ [\"GBS\", \"WES\", … ┆ []              ┆ 0   │\n",
       "│            ┆ \"unsequenced\"]   ┆                 ┆     ┆ \"unsequenced\"]   ┆                 ┆     │\n",
       "│ 2020-01-01 ┆ [\"GBS\", \"WES\", … ┆ [78, 195, … 32] ┆ 440 ┆ [\"GBS\", \"WES\", … ┆ []              ┆ 0   │\n",
       "│            ┆ \"unsequenced\"]   ┆                 ┆     ┆ \"unsequenced\"]   ┆                 ┆     │\n",
       "│ …          ┆ …                ┆ …               ┆ …   ┆ …                ┆ …               ┆ …   │\n",
       "│ 1980-01-01 ┆ [\"WES\",          ┆ [1, 7]          ┆ 8   ┆ [\"WES\",          ┆ [\"GBS\", \"WGS\",  ┆ 3   │\n",
       "│            ┆ \"unsequenced\", … ┆                 ┆     ┆ \"unsequenced\", … ┆ \"LRS\"]          ┆     │\n",
       "│            ┆ \"LRS\"]           ┆                 ┆     ┆ \"GBS\"]           ┆                 ┆     │\n",
       "│ 1979-01-01 ┆ [\"unsequenced\",  ┆ [7]             ┆ 7   ┆ [\"unsequenced\",  ┆ [\"GBS\", \"LRS\",  ┆ 4   │\n",
       "│            ┆ \"GBS\", … \"WES\"]  ┆                 ┆     ┆ \"LRS\", … \"GBS\"]  ┆ … \"WES\"]        ┆     │\n",
       "│ 1978-01-01 ┆ [\"unsequenced\",  ┆ [6]             ┆ 6   ┆ [\"unsequenced\",  ┆ [\"GBS\", \"LRS\",  ┆ 4   │\n",
       "│            ┆ \"GBS\", … \"WES\"]  ┆                 ┆     ┆ \"LRS\", … \"GBS\"]  ┆ … \"WES\"]        ┆     │\n",
       "│ 1977-01-01 ┆ [\"unsequenced\",  ┆ [3]             ┆ 3   ┆ [\"unsequenced\",  ┆ [\"GBS\", \"LRS\",  ┆ 4   │\n",
       "│            ┆ \"GBS\", … \"WES\"]  ┆                 ┆     ┆ \"LRS\", … \"GBS\"]  ┆ … \"WES\"]        ┆     │\n",
       "│ 1976-01-01 ┆ [\"unsequenced\",  ┆ [2]             ┆ 2   ┆ [\"unsequenced\",  ┆ [\"GBS\", \"LRS\",  ┆ 4   │\n",
       "│            ┆ \"GBS\", … \"WES\"]  ┆                 ┆     ┆ \"LRS\", … \"GBS\"]  ┆ … \"WES\"]        ┆     │\n",
       "└────────────┴──────────────────┴─────────────────┴─────┴──────────────────┴─────────────────┴─────┘"
      ]
     },
     "execution_count": 20,
     "metadata": {},
     "output_type": "execute_result"
    }
   ],
   "source": [
    "colony_demographics_runs.group_by(\"Year\").agg(\"seq\", \"Count\", pl.sum(\"Count\").alias(\"Sum\")).with_columns(\n",
    "    pl.col(\"seq\").list.set_union([\"unsequenced\", \"LRS\", \"WGS\", \"WES\", \"GBS\"]).alias(\"all_seq\")\n",
    "    #pl.List(\"unsequenced\", \"LRS\", \"WGS\", \"WES\", \"GBS\").alias(\"list\")\n",
    ").with_columns(\n",
    "    pl.col(\"all_seq\").list.set_difference(pl.col(\"seq\")).alias(\"missing_seq\")\n",
    ").with_columns(\n",
    "    # Add empty rows\n",
    "    pl.col(\"seq\").list.concat(\"missing_seq\"),\n",
    "    #pl.col(\"Count\").list.concat(pl.col(\"missing_seq\").list.len())\n",
    "    pl.col(\"missing_seq\").list.len().alias(\"len\"),\n",
    "    #pl.arange(0, 3).alias(\"arange\")\n",
    ")\n",
    "# .with_columns(\n",
    "#     pl.col(\"len\")\n",
    "# )"
   ]
  },
  {
   "cell_type": "code",
   "execution_count": 21,
   "metadata": {},
   "outputs": [
    {
     "data": {
      "text/html": [
       "<div><style>\n",
       ".dataframe > thead > tr,\n",
       ".dataframe > tbody > tr {\n",
       "  text-align: right;\n",
       "  white-space: pre-wrap;\n",
       "}\n",
       "</style>\n",
       "<small>shape: (182, 5)</small><table border=\"1\" class=\"dataframe\"><thead><tr><th>Year</th><th>seq</th><th>Count</th><th>Sum</th><th>Portion</th></tr><tr><td>date</td><td>enum</td><td>u32</td><td>u32</td><td>f64</td></tr></thead><tbody><tr><td>2024-01-01</td><td>&quot;GBS&quot;</td><td>30</td><td>176</td><td>0.170455</td></tr><tr><td>2024-01-01</td><td>&quot;WES&quot;</td><td>73</td><td>176</td><td>0.414773</td></tr><tr><td>2024-01-01</td><td>&quot;WGS&quot;</td><td>58</td><td>176</td><td>0.329545</td></tr><tr><td>2024-01-01</td><td>&quot;LRS&quot;</td><td>1</td><td>176</td><td>0.005682</td></tr><tr><td>2024-01-01</td><td>&quot;unsequenced&quot;</td><td>14</td><td>176</td><td>0.079545</td></tr><tr><td>&hellip;</td><td>&hellip;</td><td>&hellip;</td><td>&hellip;</td><td>&hellip;</td></tr><tr><td>1980-01-01</td><td>&quot;unsequenced&quot;</td><td>7</td><td>8</td><td>0.875</td></tr><tr><td>1979-01-01</td><td>&quot;unsequenced&quot;</td><td>7</td><td>7</td><td>1.0</td></tr><tr><td>1978-01-01</td><td>&quot;unsequenced&quot;</td><td>6</td><td>6</td><td>1.0</td></tr><tr><td>1977-01-01</td><td>&quot;unsequenced&quot;</td><td>3</td><td>3</td><td>1.0</td></tr><tr><td>1976-01-01</td><td>&quot;unsequenced&quot;</td><td>2</td><td>2</td><td>1.0</td></tr></tbody></table></div>"
      ],
      "text/plain": [
       "shape: (182, 5)\n",
       "┌────────────┬─────────────┬───────┬─────┬──────────┐\n",
       "│ Year       ┆ seq         ┆ Count ┆ Sum ┆ Portion  │\n",
       "│ ---        ┆ ---         ┆ ---   ┆ --- ┆ ---      │\n",
       "│ date       ┆ enum        ┆ u32   ┆ u32 ┆ f64      │\n",
       "╞════════════╪═════════════╪═══════╪═════╪══════════╡\n",
       "│ 2024-01-01 ┆ GBS         ┆ 30    ┆ 176 ┆ 0.170455 │\n",
       "│ 2024-01-01 ┆ WES         ┆ 73    ┆ 176 ┆ 0.414773 │\n",
       "│ 2024-01-01 ┆ WGS         ┆ 58    ┆ 176 ┆ 0.329545 │\n",
       "│ 2024-01-01 ┆ LRS         ┆ 1     ┆ 176 ┆ 0.005682 │\n",
       "│ 2024-01-01 ┆ unsequenced ┆ 14    ┆ 176 ┆ 0.079545 │\n",
       "│ …          ┆ …           ┆ …     ┆ …   ┆ …        │\n",
       "│ 1980-01-01 ┆ unsequenced ┆ 7     ┆ 8   ┆ 0.875    │\n",
       "│ 1979-01-01 ┆ unsequenced ┆ 7     ┆ 7   ┆ 1.0      │\n",
       "│ 1978-01-01 ┆ unsequenced ┆ 6     ┆ 6   ┆ 1.0      │\n",
       "│ 1977-01-01 ┆ unsequenced ┆ 3     ┆ 3   ┆ 1.0      │\n",
       "│ 1976-01-01 ┆ unsequenced ┆ 2     ┆ 2   ┆ 1.0      │\n",
       "└────────────┴─────────────┴───────┴─────┴──────────┘"
      ]
     },
     "execution_count": 21,
     "metadata": {},
     "output_type": "execute_result"
    }
   ],
   "source": [
    "by_fraction = colony_demographics_runs.group_by(\"Year\").agg(\"seq\", \"Count\", pl.sum(\"Count\").alias(\"Sum\")).explode(\"seq\", \"Count\").with_columns(\n",
    "    pl.col(\"Count\").truediv(\"Sum\").alias(\"Portion\")\n",
    ")\n",
    "by_fraction"
   ]
  },
  {
   "cell_type": "code",
   "execution_count": 22,
   "metadata": {},
   "outputs": [
    {
     "data": {
      "text/html": [
       "<div><style>\n",
       ".dataframe > thead > tr,\n",
       ".dataframe > tbody > tr {\n",
       "  text-align: right;\n",
       "  white-space: pre-wrap;\n",
       "}\n",
       "</style>\n",
       "<small>shape: (182, 5)</small><table border=\"1\" class=\"dataframe\"><thead><tr><th>Year</th><th>seq</th><th>Count</th><th>Sum</th><th>Portion</th></tr><tr><td>date</td><td>enum</td><td>u32</td><td>u32</td><td>f64</td></tr></thead><tbody><tr><td>2024-01-01</td><td>&quot;GBS&quot;</td><td>30</td><td>176</td><td>0.170455</td></tr><tr><td>2024-01-01</td><td>&quot;WES&quot;</td><td>73</td><td>176</td><td>0.414773</td></tr><tr><td>2024-01-01</td><td>&quot;WGS&quot;</td><td>58</td><td>176</td><td>0.329545</td></tr><tr><td>2024-01-01</td><td>&quot;LRS&quot;</td><td>1</td><td>176</td><td>0.005682</td></tr><tr><td>2024-01-01</td><td>&quot;unsequenced&quot;</td><td>14</td><td>176</td><td>0.079545</td></tr><tr><td>&hellip;</td><td>&hellip;</td><td>&hellip;</td><td>&hellip;</td><td>&hellip;</td></tr><tr><td>1980-01-01</td><td>&quot;unsequenced&quot;</td><td>7</td><td>8</td><td>0.875</td></tr><tr><td>1979-01-01</td><td>&quot;unsequenced&quot;</td><td>7</td><td>7</td><td>1.0</td></tr><tr><td>1978-01-01</td><td>&quot;unsequenced&quot;</td><td>6</td><td>6</td><td>1.0</td></tr><tr><td>1977-01-01</td><td>&quot;unsequenced&quot;</td><td>3</td><td>3</td><td>1.0</td></tr><tr><td>1976-01-01</td><td>&quot;unsequenced&quot;</td><td>2</td><td>2</td><td>1.0</td></tr></tbody></table></div>"
      ],
      "text/plain": [
       "shape: (182, 5)\n",
       "┌────────────┬─────────────┬───────┬─────┬──────────┐\n",
       "│ Year       ┆ seq         ┆ Count ┆ Sum ┆ Portion  │\n",
       "│ ---        ┆ ---         ┆ ---   ┆ --- ┆ ---      │\n",
       "│ date       ┆ enum        ┆ u32   ┆ u32 ┆ f64      │\n",
       "╞════════════╪═════════════╪═══════╪═════╪══════════╡\n",
       "│ 2024-01-01 ┆ GBS         ┆ 30    ┆ 176 ┆ 0.170455 │\n",
       "│ 2024-01-01 ┆ WES         ┆ 73    ┆ 176 ┆ 0.414773 │\n",
       "│ 2024-01-01 ┆ WGS         ┆ 58    ┆ 176 ┆ 0.329545 │\n",
       "│ 2024-01-01 ┆ LRS         ┆ 1     ┆ 176 ┆ 0.005682 │\n",
       "│ 2024-01-01 ┆ unsequenced ┆ 14    ┆ 176 ┆ 0.079545 │\n",
       "│ …          ┆ …           ┆ …     ┆ …   ┆ …        │\n",
       "│ 1980-01-01 ┆ unsequenced ┆ 7     ┆ 8   ┆ 0.875    │\n",
       "│ 1979-01-01 ┆ unsequenced ┆ 7     ┆ 7   ┆ 1.0      │\n",
       "│ 1978-01-01 ┆ unsequenced ┆ 6     ┆ 6   ┆ 1.0      │\n",
       "│ 1977-01-01 ┆ unsequenced ┆ 3     ┆ 3   ┆ 1.0      │\n",
       "│ 1976-01-01 ┆ unsequenced ┆ 2     ┆ 2   ┆ 1.0      │\n",
       "└────────────┴─────────────┴───────┴─────┴──────────┘"
      ]
     },
     "execution_count": 22,
     "metadata": {},
     "output_type": "execute_result"
    }
   ],
   "source": [
    "by_fraction"
   ]
  },
  {
   "cell_type": "code",
   "execution_count": 23,
   "metadata": {},
   "outputs": [
    {
     "data": {
      "text/html": [
       "\n",
       "<style>\n",
       "  #altair-viz-9d86f571726c4579a103d9f43c5ef4a3.vega-embed {\n",
       "    width: 100%;\n",
       "    display: flex;\n",
       "  }\n",
       "\n",
       "  #altair-viz-9d86f571726c4579a103d9f43c5ef4a3.vega-embed details,\n",
       "  #altair-viz-9d86f571726c4579a103d9f43c5ef4a3.vega-embed details summary {\n",
       "    position: relative;\n",
       "  }\n",
       "</style>\n",
       "<div id=\"altair-viz-9d86f571726c4579a103d9f43c5ef4a3\"></div>\n",
       "<script type=\"text/javascript\">\n",
       "  var VEGA_DEBUG = (typeof VEGA_DEBUG == \"undefined\") ? {} : VEGA_DEBUG;\n",
       "  (function(spec, embedOpt){\n",
       "    let outputDiv = document.currentScript.previousElementSibling;\n",
       "    if (outputDiv.id !== \"altair-viz-9d86f571726c4579a103d9f43c5ef4a3\") {\n",
       "      outputDiv = document.getElementById(\"altair-viz-9d86f571726c4579a103d9f43c5ef4a3\");\n",
       "    }\n",
       "    const paths = {\n",
       "      \"vega\": \"https://cdn.jsdelivr.net/npm/vega@5?noext\",\n",
       "      \"vega-lib\": \"https://cdn.jsdelivr.net/npm/vega-lib?noext\",\n",
       "      \"vega-lite\": \"https://cdn.jsdelivr.net/npm/vega-lite@5.17.0?noext\",\n",
       "      \"vega-embed\": \"https://cdn.jsdelivr.net/npm/vega-embed@6?noext\",\n",
       "    };\n",
       "\n",
       "    function maybeLoadScript(lib, version) {\n",
       "      var key = `${lib.replace(\"-\", \"\")}_version`;\n",
       "      return (VEGA_DEBUG[key] == version) ?\n",
       "        Promise.resolve(paths[lib]) :\n",
       "        new Promise(function(resolve, reject) {\n",
       "          var s = document.createElement('script');\n",
       "          document.getElementsByTagName(\"head\")[0].appendChild(s);\n",
       "          s.async = true;\n",
       "          s.onload = () => {\n",
       "            VEGA_DEBUG[key] = version;\n",
       "            return resolve(paths[lib]);\n",
       "          };\n",
       "          s.onerror = () => reject(`Error loading script: ${paths[lib]}`);\n",
       "          s.src = paths[lib];\n",
       "        });\n",
       "    }\n",
       "\n",
       "    function showError(err) {\n",
       "      outputDiv.innerHTML = `<div class=\"error\" style=\"color:red;\">${err}</div>`;\n",
       "      throw err;\n",
       "    }\n",
       "\n",
       "    function displayChart(vegaEmbed) {\n",
       "      vegaEmbed(outputDiv, spec, embedOpt)\n",
       "        .catch(err => showError(`Javascript Error: ${err.message}<br>This usually means there's a typo in your chart specification. See the javascript console for the full traceback.`));\n",
       "    }\n",
       "\n",
       "    if(typeof define === \"function\" && define.amd) {\n",
       "      requirejs.config({paths});\n",
       "      require([\"vega-embed\"], displayChart, err => showError(`Error loading script: ${err.message}`));\n",
       "    } else {\n",
       "      maybeLoadScript(\"vega\", \"5\")\n",
       "        .then(() => maybeLoadScript(\"vega-lite\", \"5.17.0\"))\n",
       "        .then(() => maybeLoadScript(\"vega-embed\", \"6\"))\n",
       "        .catch(showError)\n",
       "        .then(() => displayChart(vegaEmbed));\n",
       "    }\n",
       "  })({\"config\": {\"view\": {\"continuousWidth\": 300, \"continuousHeight\": 300}}, \"data\": {\"name\": \"data-92a72a5ab37ba551dee75a11b6ad8070\"}, \"mark\": {\"type\": \"area\"}, \"encoding\": {\"color\": {\"field\": \"seq\", \"scale\": {\"scheme\": \"dark2\"}, \"sort\": [\"unsequenced\", \"LRS\", \"WGS\", \"WES\", \"GBS\"], \"title\": \"Sequencing method\", \"type\": \"ordinal\"}, \"order\": {\"field\": \"seq_order\", \"sort\": \"ascending\", \"type\": \"ordinal\"}, \"x\": {\"field\": \"Year\", \"scale\": {\"clamp\": true, \"domainMax\": {\"day\": 1, \"month\": 1, \"year\": 2023}}, \"title\": \"Year\", \"type\": \"temporal\"}, \"y\": {\"field\": \"Portion\", \"title\": \"Population size\", \"type\": \"quantitative\"}}, \"title\": [\"Rhesus Breeder Population over Time\"], \"transform\": [{\"calculate\": \"{'unsequenced': 0, 'LRS': 1, 'WGS': 2, 'WES': 3, 'GBS': 4}[datum.seq_order]\", \"as\": \"order\"}], \"width\": 340, \"$schema\": \"https://vega.github.io/schema/vega-lite/v5.17.0.json\", \"datasets\": {\"data-92a72a5ab37ba551dee75a11b6ad8070\": [{\"Year\": \"2024-01-01T00:00:00\", \"seq\": \"GBS\", \"Count\": 30, \"Sum\": 176, \"Portion\": 0.17045454545454544}, {\"Year\": \"2024-01-01T00:00:00\", \"seq\": \"WES\", \"Count\": 73, \"Sum\": 176, \"Portion\": 0.4147727272727273}, {\"Year\": \"2024-01-01T00:00:00\", \"seq\": \"WGS\", \"Count\": 58, \"Sum\": 176, \"Portion\": 0.32954545454545453}, {\"Year\": \"2024-01-01T00:00:00\", \"seq\": \"LRS\", \"Count\": 1, \"Sum\": 176, \"Portion\": 0.005681818181818182}, {\"Year\": \"2024-01-01T00:00:00\", \"seq\": \"unsequenced\", \"Count\": 14, \"Sum\": 176, \"Portion\": 0.07954545454545454}, {\"Year\": \"2023-01-01T00:00:00\", \"seq\": \"GBS\", \"Count\": 62, \"Sum\": 349, \"Portion\": 0.17765042979942694}, {\"Year\": \"2023-01-01T00:00:00\", \"seq\": \"WES\", \"Count\": 153, \"Sum\": 349, \"Portion\": 0.4383954154727794}, {\"Year\": \"2023-01-01T00:00:00\", \"seq\": \"WGS\", \"Count\": 107, \"Sum\": 349, \"Portion\": 0.30659025787965616}, {\"Year\": \"2023-01-01T00:00:00\", \"seq\": \"LRS\", \"Count\": 2, \"Sum\": 349, \"Portion\": 0.0057306590257879654}, {\"Year\": \"2023-01-01T00:00:00\", \"seq\": \"unsequenced\", \"Count\": 25, \"Sum\": 349, \"Portion\": 0.07163323782234957}, {\"Year\": \"2022-01-01T00:00:00\", \"seq\": \"GBS\", \"Count\": 71, \"Sum\": 382, \"Portion\": 0.18586387434554974}, {\"Year\": \"2022-01-01T00:00:00\", \"seq\": \"WES\", \"Count\": 167, \"Sum\": 382, \"Portion\": 0.43717277486910994}, {\"Year\": \"2022-01-01T00:00:00\", \"seq\": \"WGS\", \"Count\": 116, \"Sum\": 382, \"Portion\": 0.3036649214659686}, {\"Year\": \"2022-01-01T00:00:00\", \"seq\": \"LRS\", \"Count\": 3, \"Sum\": 382, \"Portion\": 0.007853403141361256}, {\"Year\": \"2022-01-01T00:00:00\", \"seq\": \"unsequenced\", \"Count\": 25, \"Sum\": 382, \"Portion\": 0.06544502617801047}, {\"Year\": \"2021-01-01T00:00:00\", \"seq\": \"GBS\", \"Count\": 74, \"Sum\": 408, \"Portion\": 0.18137254901960784}, {\"Year\": \"2021-01-01T00:00:00\", \"seq\": \"WES\", \"Count\": 181, \"Sum\": 408, \"Portion\": 0.44362745098039214}, {\"Year\": \"2021-01-01T00:00:00\", \"seq\": \"WGS\", \"Count\": 121, \"Sum\": 408, \"Portion\": 0.2965686274509804}, {\"Year\": \"2021-01-01T00:00:00\", \"seq\": \"LRS\", \"Count\": 3, \"Sum\": 408, \"Portion\": 0.007352941176470588}, {\"Year\": \"2021-01-01T00:00:00\", \"seq\": \"unsequenced\", \"Count\": 29, \"Sum\": 408, \"Portion\": 0.07107843137254902}, {\"Year\": \"2020-01-01T00:00:00\", \"seq\": \"GBS\", \"Count\": 78, \"Sum\": 440, \"Portion\": 0.17727272727272728}, {\"Year\": \"2020-01-01T00:00:00\", \"seq\": \"WES\", \"Count\": 195, \"Sum\": 440, \"Portion\": 0.4431818181818182}, {\"Year\": \"2020-01-01T00:00:00\", \"seq\": \"WGS\", \"Count\": 132, \"Sum\": 440, \"Portion\": 0.3}, {\"Year\": \"2020-01-01T00:00:00\", \"seq\": \"LRS\", \"Count\": 3, \"Sum\": 440, \"Portion\": 0.006818181818181818}, {\"Year\": \"2020-01-01T00:00:00\", \"seq\": \"unsequenced\", \"Count\": 32, \"Sum\": 440, \"Portion\": 0.07272727272727272}, {\"Year\": \"2019-01-01T00:00:00\", \"seq\": \"GBS\", \"Count\": 80, \"Sum\": 469, \"Portion\": 0.17057569296375266}, {\"Year\": \"2019-01-01T00:00:00\", \"seq\": \"WES\", \"Count\": 210, \"Sum\": 469, \"Portion\": 0.44776119402985076}, {\"Year\": \"2019-01-01T00:00:00\", \"seq\": \"WGS\", \"Count\": 140, \"Sum\": 469, \"Portion\": 0.29850746268656714}, {\"Year\": \"2019-01-01T00:00:00\", \"seq\": \"LRS\", \"Count\": 3, \"Sum\": 469, \"Portion\": 0.006396588486140725}, {\"Year\": \"2019-01-01T00:00:00\", \"seq\": \"unsequenced\", \"Count\": 36, \"Sum\": 469, \"Portion\": 0.0767590618336887}, {\"Year\": \"2018-01-01T00:00:00\", \"seq\": \"GBS\", \"Count\": 90, \"Sum\": 509, \"Portion\": 0.17681728880157171}, {\"Year\": \"2018-01-01T00:00:00\", \"seq\": \"WES\", \"Count\": 223, \"Sum\": 509, \"Portion\": 0.4381139489194499}, {\"Year\": \"2018-01-01T00:00:00\", \"seq\": \"WGS\", \"Count\": 156, \"Sum\": 509, \"Portion\": 0.30648330058939094}, {\"Year\": \"2018-01-01T00:00:00\", \"seq\": \"LRS\", \"Count\": 3, \"Sum\": 509, \"Portion\": 0.005893909626719057}, {\"Year\": \"2018-01-01T00:00:00\", \"seq\": \"unsequenced\", \"Count\": 37, \"Sum\": 509, \"Portion\": 0.07269155206286837}, {\"Year\": \"2017-01-01T00:00:00\", \"seq\": \"GBS\", \"Count\": 95, \"Sum\": 531, \"Portion\": 0.17890772128060264}, {\"Year\": \"2017-01-01T00:00:00\", \"seq\": \"WES\", \"Count\": 226, \"Sum\": 531, \"Portion\": 0.4256120527306968}, {\"Year\": \"2017-01-01T00:00:00\", \"seq\": \"WGS\", \"Count\": 165, \"Sum\": 531, \"Portion\": 0.3107344632768362}, {\"Year\": \"2017-01-01T00:00:00\", \"seq\": \"LRS\", \"Count\": 3, \"Sum\": 531, \"Portion\": 0.005649717514124294}, {\"Year\": \"2017-01-01T00:00:00\", \"seq\": \"unsequenced\", \"Count\": 42, \"Sum\": 531, \"Portion\": 0.07909604519774012}, {\"Year\": \"2016-01-01T00:00:00\", \"seq\": \"GBS\", \"Count\": 80, \"Sum\": 554, \"Portion\": 0.1444043321299639}, {\"Year\": \"2016-01-01T00:00:00\", \"seq\": \"WES\", \"Count\": 240, \"Sum\": 554, \"Portion\": 0.4332129963898917}, {\"Year\": \"2016-01-01T00:00:00\", \"seq\": \"WGS\", \"Count\": 174, \"Sum\": 554, \"Portion\": 0.3140794223826715}, {\"Year\": \"2016-01-01T00:00:00\", \"seq\": \"LRS\", \"Count\": 3, \"Sum\": 554, \"Portion\": 0.005415162454873646}, {\"Year\": \"2016-01-01T00:00:00\", \"seq\": \"unsequenced\", \"Count\": 57, \"Sum\": 554, \"Portion\": 0.10288808664259928}, {\"Year\": \"2015-01-01T00:00:00\", \"seq\": \"GBS\", \"Count\": 62, \"Sum\": 535, \"Portion\": 0.11588785046728972}, {\"Year\": \"2015-01-01T00:00:00\", \"seq\": \"WES\", \"Count\": 241, \"Sum\": 535, \"Portion\": 0.4504672897196262}, {\"Year\": \"2015-01-01T00:00:00\", \"seq\": \"WGS\", \"Count\": 166, \"Sum\": 535, \"Portion\": 0.3102803738317757}, {\"Year\": \"2015-01-01T00:00:00\", \"seq\": \"LRS\", \"Count\": 3, \"Sum\": 535, \"Portion\": 0.005607476635514018}, {\"Year\": \"2015-01-01T00:00:00\", \"seq\": \"unsequenced\", \"Count\": 63, \"Sum\": 535, \"Portion\": 0.11775700934579439}, {\"Year\": \"2014-01-01T00:00:00\", \"seq\": \"GBS\", \"Count\": 53, \"Sum\": 520, \"Portion\": 0.10192307692307692}, {\"Year\": \"2014-01-01T00:00:00\", \"seq\": \"WES\", \"Count\": 240, \"Sum\": 520, \"Portion\": 0.46153846153846156}, {\"Year\": \"2014-01-01T00:00:00\", \"seq\": \"WGS\", \"Count\": 156, \"Sum\": 520, \"Portion\": 0.3}, {\"Year\": \"2014-01-01T00:00:00\", \"seq\": \"LRS\", \"Count\": 3, \"Sum\": 520, \"Portion\": 0.0057692307692307696}, {\"Year\": \"2014-01-01T00:00:00\", \"seq\": \"unsequenced\", \"Count\": 68, \"Sum\": 520, \"Portion\": 0.13076923076923078}, {\"Year\": \"2013-01-01T00:00:00\", \"seq\": \"GBS\", \"Count\": 46, \"Sum\": 493, \"Portion\": 0.09330628803245436}, {\"Year\": \"2013-01-01T00:00:00\", \"seq\": \"WES\", \"Count\": 222, \"Sum\": 493, \"Portion\": 0.45030425963488846}, {\"Year\": \"2013-01-01T00:00:00\", \"seq\": \"WGS\", \"Count\": 147, \"Sum\": 493, \"Portion\": 0.29817444219066935}, {\"Year\": \"2013-01-01T00:00:00\", \"seq\": \"LRS\", \"Count\": 3, \"Sum\": 493, \"Portion\": 0.006085192697768763}, {\"Year\": \"2013-01-01T00:00:00\", \"seq\": \"unsequenced\", \"Count\": 75, \"Sum\": 493, \"Portion\": 0.15212981744421908}, {\"Year\": \"2012-01-01T00:00:00\", \"seq\": \"GBS\", \"Count\": 46, \"Sum\": 463, \"Portion\": 0.09935205183585313}, {\"Year\": \"2012-01-01T00:00:00\", \"seq\": \"WES\", \"Count\": 205, \"Sum\": 463, \"Portion\": 0.4427645788336933}, {\"Year\": \"2012-01-01T00:00:00\", \"seq\": \"WGS\", \"Count\": 132, \"Sum\": 463, \"Portion\": 0.28509719222462204}, {\"Year\": \"2012-01-01T00:00:00\", \"seq\": \"LRS\", \"Count\": 1, \"Sum\": 463, \"Portion\": 0.0021598272138228943}, {\"Year\": \"2012-01-01T00:00:00\", \"seq\": \"unsequenced\", \"Count\": 79, \"Sum\": 463, \"Portion\": 0.17062634989200864}, {\"Year\": \"2011-01-01T00:00:00\", \"seq\": \"GBS\", \"Count\": 43, \"Sum\": 447, \"Portion\": 0.09619686800894854}, {\"Year\": \"2011-01-01T00:00:00\", \"seq\": \"WES\", \"Count\": 194, \"Sum\": 447, \"Portion\": 0.43400447427293065}, {\"Year\": \"2011-01-01T00:00:00\", \"seq\": \"WGS\", \"Count\": 123, \"Sum\": 447, \"Portion\": 0.2751677852348993}, {\"Year\": \"2011-01-01T00:00:00\", \"seq\": \"LRS\", \"Count\": 1, \"Sum\": 447, \"Portion\": 0.0022371364653243847}, {\"Year\": \"2011-01-01T00:00:00\", \"seq\": \"unsequenced\", \"Count\": 86, \"Sum\": 447, \"Portion\": 0.19239373601789708}, {\"Year\": \"2010-01-01T00:00:00\", \"seq\": \"GBS\", \"Count\": 44, \"Sum\": 429, \"Portion\": 0.10256410256410256}, {\"Year\": \"2010-01-01T00:00:00\", \"seq\": \"WES\", \"Count\": 179, \"Sum\": 429, \"Portion\": 0.4172494172494173}, {\"Year\": \"2010-01-01T00:00:00\", \"seq\": \"WGS\", \"Count\": 118, \"Sum\": 429, \"Portion\": 0.27505827505827507}, {\"Year\": \"2010-01-01T00:00:00\", \"seq\": \"unsequenced\", \"Count\": 88, \"Sum\": 429, \"Portion\": 0.20512820512820512}, {\"Year\": \"2009-01-01T00:00:00\", \"seq\": \"GBS\", \"Count\": 37, \"Sum\": 402, \"Portion\": 0.09203980099502487}, {\"Year\": \"2009-01-01T00:00:00\", \"seq\": \"WES\", \"Count\": 164, \"Sum\": 402, \"Portion\": 0.4079601990049751}, {\"Year\": \"2009-01-01T00:00:00\", \"seq\": \"WGS\", \"Count\": 111, \"Sum\": 402, \"Portion\": 0.27611940298507465}, {\"Year\": \"2009-01-01T00:00:00\", \"seq\": \"unsequenced\", \"Count\": 90, \"Sum\": 402, \"Portion\": 0.22388059701492538}, {\"Year\": \"2008-01-01T00:00:00\", \"seq\": \"GBS\", \"Count\": 36, \"Sum\": 387, \"Portion\": 0.09302325581395349}, {\"Year\": \"2008-01-01T00:00:00\", \"seq\": \"WES\", \"Count\": 153, \"Sum\": 387, \"Portion\": 0.3953488372093023}, {\"Year\": \"2008-01-01T00:00:00\", \"seq\": \"WGS\", \"Count\": 107, \"Sum\": 387, \"Portion\": 0.27648578811369506}, {\"Year\": \"2008-01-01T00:00:00\", \"seq\": \"unsequenced\", \"Count\": 91, \"Sum\": 387, \"Portion\": 0.2351421188630491}, {\"Year\": \"2007-01-01T00:00:00\", \"seq\": \"GBS\", \"Count\": 35, \"Sum\": 369, \"Portion\": 0.0948509485094851}, {\"Year\": \"2007-01-01T00:00:00\", \"seq\": \"WES\", \"Count\": 143, \"Sum\": 369, \"Portion\": 0.3875338753387534}, {\"Year\": \"2007-01-01T00:00:00\", \"seq\": \"WGS\", \"Count\": 101, \"Sum\": 369, \"Portion\": 0.27371273712737126}, {\"Year\": \"2007-01-01T00:00:00\", \"seq\": \"unsequenced\", \"Count\": 90, \"Sum\": 369, \"Portion\": 0.24390243902439024}, {\"Year\": \"2006-01-01T00:00:00\", \"seq\": \"GBS\", \"Count\": 29, \"Sum\": 346, \"Portion\": 0.0838150289017341}, {\"Year\": \"2006-01-01T00:00:00\", \"seq\": \"WES\", \"Count\": 135, \"Sum\": 346, \"Portion\": 0.3901734104046243}, {\"Year\": \"2006-01-01T00:00:00\", \"seq\": \"WGS\", \"Count\": 95, \"Sum\": 346, \"Portion\": 0.2745664739884393}, {\"Year\": \"2006-01-01T00:00:00\", \"seq\": \"unsequenced\", \"Count\": 87, \"Sum\": 346, \"Portion\": 0.2514450867052023}, {\"Year\": \"2005-01-01T00:00:00\", \"seq\": \"GBS\", \"Count\": 21, \"Sum\": 305, \"Portion\": 0.06885245901639345}, {\"Year\": \"2005-01-01T00:00:00\", \"seq\": \"WES\", \"Count\": 116, \"Sum\": 305, \"Portion\": 0.380327868852459}, {\"Year\": \"2005-01-01T00:00:00\", \"seq\": \"WGS\", \"Count\": 85, \"Sum\": 305, \"Portion\": 0.2786885245901639}, {\"Year\": \"2005-01-01T00:00:00\", \"seq\": \"unsequenced\", \"Count\": 83, \"Sum\": 305, \"Portion\": 0.2721311475409836}, {\"Year\": \"2004-01-01T00:00:00\", \"seq\": \"GBS\", \"Count\": 16, \"Sum\": 281, \"Portion\": 0.05693950177935943}, {\"Year\": \"2004-01-01T00:00:00\", \"seq\": \"WES\", \"Count\": 102, \"Sum\": 281, \"Portion\": 0.36298932384341637}, {\"Year\": \"2004-01-01T00:00:00\", \"seq\": \"WGS\", \"Count\": 79, \"Sum\": 281, \"Portion\": 0.28113879003558717}, {\"Year\": \"2004-01-01T00:00:00\", \"seq\": \"unsequenced\", \"Count\": 84, \"Sum\": 281, \"Portion\": 0.298932384341637}, {\"Year\": \"2003-01-01T00:00:00\", \"seq\": \"GBS\", \"Count\": 10, \"Sum\": 263, \"Portion\": 0.03802281368821293}, {\"Year\": \"2003-01-01T00:00:00\", \"seq\": \"WES\", \"Count\": 96, \"Sum\": 263, \"Portion\": 0.3650190114068441}, {\"Year\": \"2003-01-01T00:00:00\", \"seq\": \"WGS\", \"Count\": 72, \"Sum\": 263, \"Portion\": 0.2737642585551331}, {\"Year\": \"2003-01-01T00:00:00\", \"seq\": \"unsequenced\", \"Count\": 85, \"Sum\": 263, \"Portion\": 0.3231939163498099}, {\"Year\": \"2002-01-01T00:00:00\", \"seq\": \"GBS\", \"Count\": 5, \"Sum\": 242, \"Portion\": 0.02066115702479339}, {\"Year\": \"2002-01-01T00:00:00\", \"seq\": \"WES\", \"Count\": 90, \"Sum\": 242, \"Portion\": 0.371900826446281}, {\"Year\": \"2002-01-01T00:00:00\", \"seq\": \"WGS\", \"Count\": 68, \"Sum\": 242, \"Portion\": 0.2809917355371901}, {\"Year\": \"2002-01-01T00:00:00\", \"seq\": \"unsequenced\", \"Count\": 79, \"Sum\": 242, \"Portion\": 0.32644628099173556}, {\"Year\": \"2001-01-01T00:00:00\", \"seq\": \"GBS\", \"Count\": 5, \"Sum\": 229, \"Portion\": 0.021834061135371178}, {\"Year\": \"2001-01-01T00:00:00\", \"seq\": \"WES\", \"Count\": 87, \"Sum\": 229, \"Portion\": 0.3799126637554585}, {\"Year\": \"2001-01-01T00:00:00\", \"seq\": \"WGS\", \"Count\": 62, \"Sum\": 229, \"Portion\": 0.27074235807860264}, {\"Year\": \"2001-01-01T00:00:00\", \"seq\": \"unsequenced\", \"Count\": 75, \"Sum\": 229, \"Portion\": 0.32751091703056767}, {\"Year\": \"2000-01-01T00:00:00\", \"seq\": \"GBS\", \"Count\": 5, \"Sum\": 220, \"Portion\": 0.022727272727272728}, {\"Year\": \"2000-01-01T00:00:00\", \"seq\": \"WES\", \"Count\": 83, \"Sum\": 220, \"Portion\": 0.37727272727272726}, {\"Year\": \"2000-01-01T00:00:00\", \"seq\": \"WGS\", \"Count\": 56, \"Sum\": 220, \"Portion\": 0.2545454545454545}, {\"Year\": \"2000-01-01T00:00:00\", \"seq\": \"unsequenced\", \"Count\": 76, \"Sum\": 220, \"Portion\": 0.34545454545454546}, {\"Year\": \"1999-01-01T00:00:00\", \"seq\": \"GBS\", \"Count\": 5, \"Sum\": 206, \"Portion\": 0.024271844660194174}, {\"Year\": \"1999-01-01T00:00:00\", \"seq\": \"WES\", \"Count\": 79, \"Sum\": 206, \"Portion\": 0.38349514563106796}, {\"Year\": \"1999-01-01T00:00:00\", \"seq\": \"WGS\", \"Count\": 51, \"Sum\": 206, \"Portion\": 0.24757281553398058}, {\"Year\": \"1999-01-01T00:00:00\", \"seq\": \"unsequenced\", \"Count\": 71, \"Sum\": 206, \"Portion\": 0.3446601941747573}, {\"Year\": \"1998-01-01T00:00:00\", \"seq\": \"GBS\", \"Count\": 4, \"Sum\": 189, \"Portion\": 0.021164021164021163}, {\"Year\": \"1998-01-01T00:00:00\", \"seq\": \"WES\", \"Count\": 74, \"Sum\": 189, \"Portion\": 0.3915343915343915}, {\"Year\": \"1998-01-01T00:00:00\", \"seq\": \"WGS\", \"Count\": 49, \"Sum\": 189, \"Portion\": 0.25925925925925924}, {\"Year\": \"1998-01-01T00:00:00\", \"seq\": \"unsequenced\", \"Count\": 62, \"Sum\": 189, \"Portion\": 0.328042328042328}, {\"Year\": \"1997-01-01T00:00:00\", \"seq\": \"GBS\", \"Count\": 3, \"Sum\": 134, \"Portion\": 0.022388059701492536}, {\"Year\": \"1997-01-01T00:00:00\", \"seq\": \"WES\", \"Count\": 54, \"Sum\": 134, \"Portion\": 0.40298507462686567}, {\"Year\": \"1997-01-01T00:00:00\", \"seq\": \"WGS\", \"Count\": 19, \"Sum\": 134, \"Portion\": 0.1417910447761194}, {\"Year\": \"1997-01-01T00:00:00\", \"seq\": \"unsequenced\", \"Count\": 58, \"Sum\": 134, \"Portion\": 0.43283582089552236}, {\"Year\": \"1996-01-01T00:00:00\", \"seq\": \"GBS\", \"Count\": 2, \"Sum\": 138, \"Portion\": 0.014492753623188406}, {\"Year\": \"1996-01-01T00:00:00\", \"seq\": \"WES\", \"Count\": 50, \"Sum\": 138, \"Portion\": 0.36231884057971014}, {\"Year\": \"1996-01-01T00:00:00\", \"seq\": \"WGS\", \"Count\": 17, \"Sum\": 138, \"Portion\": 0.12318840579710146}, {\"Year\": \"1996-01-01T00:00:00\", \"seq\": \"unsequenced\", \"Count\": 69, \"Sum\": 138, \"Portion\": 0.5}, {\"Year\": \"1995-01-01T00:00:00\", \"seq\": \"GBS\", \"Count\": 2, \"Sum\": 133, \"Portion\": 0.015037593984962405}, {\"Year\": \"1995-01-01T00:00:00\", \"seq\": \"WES\", \"Count\": 48, \"Sum\": 133, \"Portion\": 0.3609022556390977}, {\"Year\": \"1995-01-01T00:00:00\", \"seq\": \"WGS\", \"Count\": 16, \"Sum\": 133, \"Portion\": 0.12030075187969924}, {\"Year\": \"1995-01-01T00:00:00\", \"seq\": \"unsequenced\", \"Count\": 67, \"Sum\": 133, \"Portion\": 0.5037593984962406}, {\"Year\": \"1994-01-01T00:00:00\", \"seq\": \"GBS\", \"Count\": 2, \"Sum\": 129, \"Portion\": 0.015503875968992248}, {\"Year\": \"1994-01-01T00:00:00\", \"seq\": \"WES\", \"Count\": 47, \"Sum\": 129, \"Portion\": 0.3643410852713178}, {\"Year\": \"1994-01-01T00:00:00\", \"seq\": \"WGS\", \"Count\": 16, \"Sum\": 129, \"Portion\": 0.12403100775193798}, {\"Year\": \"1994-01-01T00:00:00\", \"seq\": \"unsequenced\", \"Count\": 64, \"Sum\": 129, \"Portion\": 0.49612403100775193}, {\"Year\": \"1993-01-01T00:00:00\", \"seq\": \"GBS\", \"Count\": 2, \"Sum\": 116, \"Portion\": 0.017241379310344827}, {\"Year\": \"1993-01-01T00:00:00\", \"seq\": \"WES\", \"Count\": 42, \"Sum\": 116, \"Portion\": 0.3620689655172414}, {\"Year\": \"1993-01-01T00:00:00\", \"seq\": \"WGS\", \"Count\": 15, \"Sum\": 116, \"Portion\": 0.12931034482758622}, {\"Year\": \"1993-01-01T00:00:00\", \"seq\": \"unsequenced\", \"Count\": 57, \"Sum\": 116, \"Portion\": 0.49137931034482757}, {\"Year\": \"1992-01-01T00:00:00\", \"seq\": \"GBS\", \"Count\": 1, \"Sum\": 102, \"Portion\": 0.00980392156862745}, {\"Year\": \"1992-01-01T00:00:00\", \"seq\": \"WES\", \"Count\": 40, \"Sum\": 102, \"Portion\": 0.39215686274509803}, {\"Year\": \"1992-01-01T00:00:00\", \"seq\": \"WGS\", \"Count\": 13, \"Sum\": 102, \"Portion\": 0.12745098039215685}, {\"Year\": \"1992-01-01T00:00:00\", \"seq\": \"unsequenced\", \"Count\": 48, \"Sum\": 102, \"Portion\": 0.47058823529411764}, {\"Year\": \"1991-01-01T00:00:00\", \"seq\": \"GBS\", \"Count\": 1, \"Sum\": 87, \"Portion\": 0.011494252873563218}, {\"Year\": \"1991-01-01T00:00:00\", \"seq\": \"WES\", \"Count\": 36, \"Sum\": 87, \"Portion\": 0.41379310344827586}, {\"Year\": \"1991-01-01T00:00:00\", \"seq\": \"WGS\", \"Count\": 8, \"Sum\": 87, \"Portion\": 0.09195402298850575}, {\"Year\": \"1991-01-01T00:00:00\", \"seq\": \"unsequenced\", \"Count\": 42, \"Sum\": 87, \"Portion\": 0.4827586206896552}, {\"Year\": \"1990-01-01T00:00:00\", \"seq\": \"WES\", \"Count\": 26, \"Sum\": 70, \"Portion\": 0.37142857142857144}, {\"Year\": \"1990-01-01T00:00:00\", \"seq\": \"WGS\", \"Count\": 7, \"Sum\": 70, \"Portion\": 0.1}, {\"Year\": \"1990-01-01T00:00:00\", \"seq\": \"unsequenced\", \"Count\": 37, \"Sum\": 70, \"Portion\": 0.5285714285714286}, {\"Year\": \"1989-01-01T00:00:00\", \"seq\": \"WES\", \"Count\": 25, \"Sum\": 65, \"Portion\": 0.38461538461538464}, {\"Year\": \"1989-01-01T00:00:00\", \"seq\": \"WGS\", \"Count\": 4, \"Sum\": 65, \"Portion\": 0.06153846153846154}, {\"Year\": \"1989-01-01T00:00:00\", \"seq\": \"unsequenced\", \"Count\": 36, \"Sum\": 65, \"Portion\": 0.5538461538461539}, {\"Year\": \"1988-01-01T00:00:00\", \"seq\": \"WES\", \"Count\": 19, \"Sum\": 56, \"Portion\": 0.3392857142857143}, {\"Year\": \"1988-01-01T00:00:00\", \"seq\": \"WGS\", \"Count\": 3, \"Sum\": 56, \"Portion\": 0.05357142857142857}, {\"Year\": \"1988-01-01T00:00:00\", \"seq\": \"unsequenced\", \"Count\": 34, \"Sum\": 56, \"Portion\": 0.6071428571428571}, {\"Year\": \"1987-01-01T00:00:00\", \"seq\": \"WES\", \"Count\": 17, \"Sum\": 51, \"Portion\": 0.3333333333333333}, {\"Year\": \"1987-01-01T00:00:00\", \"seq\": \"WGS\", \"Count\": 3, \"Sum\": 51, \"Portion\": 0.058823529411764705}, {\"Year\": \"1987-01-01T00:00:00\", \"seq\": \"unsequenced\", \"Count\": 31, \"Sum\": 51, \"Portion\": 0.6078431372549019}, {\"Year\": \"1986-01-01T00:00:00\", \"seq\": \"WES\", \"Count\": 12, \"Sum\": 36, \"Portion\": 0.3333333333333333}, {\"Year\": \"1986-01-01T00:00:00\", \"seq\": \"WGS\", \"Count\": 1, \"Sum\": 36, \"Portion\": 0.027777777777777776}, {\"Year\": \"1986-01-01T00:00:00\", \"seq\": \"unsequenced\", \"Count\": 23, \"Sum\": 36, \"Portion\": 0.6388888888888888}, {\"Year\": \"1985-01-01T00:00:00\", \"seq\": \"WES\", \"Count\": 7, \"Sum\": 29, \"Portion\": 0.2413793103448276}, {\"Year\": \"1985-01-01T00:00:00\", \"seq\": \"WGS\", \"Count\": 1, \"Sum\": 29, \"Portion\": 0.034482758620689655}, {\"Year\": \"1985-01-01T00:00:00\", \"seq\": \"unsequenced\", \"Count\": 21, \"Sum\": 29, \"Portion\": 0.7241379310344828}, {\"Year\": \"1984-01-01T00:00:00\", \"seq\": \"WES\", \"Count\": 5, \"Sum\": 22, \"Portion\": 0.22727272727272727}, {\"Year\": \"1984-01-01T00:00:00\", \"seq\": \"unsequenced\", \"Count\": 17, \"Sum\": 22, \"Portion\": 0.7727272727272727}, {\"Year\": \"1983-01-01T00:00:00\", \"seq\": \"WES\", \"Count\": 3, \"Sum\": 19, \"Portion\": 0.15789473684210525}, {\"Year\": \"1983-01-01T00:00:00\", \"seq\": \"unsequenced\", \"Count\": 16, \"Sum\": 19, \"Portion\": 0.8421052631578947}, {\"Year\": \"1982-01-01T00:00:00\", \"seq\": \"WES\", \"Count\": 3, \"Sum\": 13, \"Portion\": 0.23076923076923078}, {\"Year\": \"1982-01-01T00:00:00\", \"seq\": \"unsequenced\", \"Count\": 10, \"Sum\": 13, \"Portion\": 0.7692307692307693}, {\"Year\": \"1981-01-01T00:00:00\", \"seq\": \"WES\", \"Count\": 1, \"Sum\": 10, \"Portion\": 0.1}, {\"Year\": \"1981-01-01T00:00:00\", \"seq\": \"unsequenced\", \"Count\": 9, \"Sum\": 10, \"Portion\": 0.9}, {\"Year\": \"1980-01-01T00:00:00\", \"seq\": \"WES\", \"Count\": 1, \"Sum\": 8, \"Portion\": 0.125}, {\"Year\": \"1980-01-01T00:00:00\", \"seq\": \"unsequenced\", \"Count\": 7, \"Sum\": 8, \"Portion\": 0.875}, {\"Year\": \"1979-01-01T00:00:00\", \"seq\": \"unsequenced\", \"Count\": 7, \"Sum\": 7, \"Portion\": 1.0}, {\"Year\": \"1978-01-01T00:00:00\", \"seq\": \"unsequenced\", \"Count\": 6, \"Sum\": 6, \"Portion\": 1.0}, {\"Year\": \"1977-01-01T00:00:00\", \"seq\": \"unsequenced\", \"Count\": 3, \"Sum\": 3, \"Portion\": 1.0}, {\"Year\": \"1976-01-01T00:00:00\", \"seq\": \"unsequenced\", \"Count\": 2, \"Sum\": 2, \"Portion\": 1.0}]}}, {\"mode\": \"vega-lite\"});\n",
       "</script>"
      ],
      "text/plain": [
       "alt.Chart(...)"
      ]
     },
     "execution_count": 23,
     "metadata": {},
     "output_type": "execute_result"
    }
   ],
   "source": [
    "alt.data_transformers.disable_max_rows()\n",
    "alt.Chart(by_fraction).mark_area().encode(\n",
    "    alt.X(\"Year\", title=\"Year\", scale=alt.Scale(domainMax=alt.DateTime(year=2023, month=1, day=1), clamp=True)),#.scale(domainMax=2023, clamp=True),\n",
    "    alt.Y(\"Portion:Q\", title=\"Population size\"),\n",
    "    color=alt.Color(\"seq:O\", title=\"Sequencing method\", sort=[\"unsequenced\", \"LRS\", \"WGS\", \"WES\", \"GBS\"]).scale(scheme='dark2'), #, sort=[\"unsequenced\", \"LRS\", \"WGS\", \"WES\"]\n",
    "    order=alt.Order('seq_order:O', sort='ascending')\n",
    ").properties(\n",
    "    title=[\"Rhesus Breeder Population over Time\"], #\\nas of {date_of_pedigree} #, \"With at Least One Offspring ≥ 3 Years Old\"\n",
    "    #height=2000,\n",
    "    width=340,\n",
    ").transform_calculate(\n",
    "    order=\"{'unsequenced': 0, 'LRS': 1, 'WGS': 2, 'WES': 3, 'GBS': 4}[datum.seq_order]\"  \n",
    ")\n"
   ]
  },
  {
   "cell_type": "code",
   "execution_count": null,
   "metadata": {},
   "outputs": [],
   "source": []
  },
  {
   "cell_type": "code",
   "execution_count": null,
   "metadata": {},
   "outputs": [],
   "source": []
  },
  {
   "cell_type": "code",
   "execution_count": null,
   "metadata": {},
   "outputs": [],
   "source": []
  }
 ],
 "metadata": {
  "kernelspec": {
   "display_name": "Python 3",
   "language": "python",
   "name": "python3"
  },
  "language_info": {
   "codemirror_mode": {
    "name": "ipython",
    "version": 3
   },
   "file_extension": ".py",
   "mimetype": "text/x-python",
   "name": "python",
   "nbconvert_exporter": "python",
   "pygments_lexer": "ipython3",
   "version": "3.12.3"
  }
 },
 "nbformat": 4,
 "nbformat_minor": 2
}
