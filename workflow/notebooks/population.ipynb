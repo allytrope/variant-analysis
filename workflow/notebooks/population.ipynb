{
 "cells": [
  {
   "cell_type": "code",
   "execution_count": null,
   "metadata": {},
   "outputs": [],
   "source": [
    "from datetime import date\n",
    "\n",
    "import altair as alt\n",
    "import polars as pl\n",
    "\n",
    "seq_order = [\"unsequenced\", \"LRS\", \"WGS\", \"WES\", \"GBS\"]\n",
    "#seq_order = [\"unsequenced\", \"WGS\", \"WES\"]\n",
    "\n",
    "# # Rhesus\n",
    "pedigree_file = \"/master/abagwell/variant-analysis/resources/rhesus/pedigree/Demographics_2024-04-17_10-28-20.tsv\"\n",
    "date_of_pedigree = date(2024, 4, 17)\n",
    "Q_file = \"/master/abagwell/variant-analysis/results/rhesus_prev/admixture/RFMix.chr10.rfmix.Q\"\n",
    "colonies_file = \"/master/abagwell/variant-analysis/resources/rhesus/pop/colonies.tsv\"\n",
    "#runs_file = \"/master/abagwell/workspace/batch_seq/seq_data.tsv\"\n",
    "runs_file = \"/master/abagwell/variant-analysis/resources/rhesus/samples/runs.all.list\"\n",
    "\n",
    "# Marmoset\n",
    "# pedigree_file = \"/master/abagwell/variant-analysis/resources/marmoset/pedigree/Demographics_2024-05-02_12-34-33.tsv\"\n",
    "# date_of_pedigree = date(2024, 4, 17)\n",
    "# Q_file = \"\"\n",
    "# colonies_file = \"\"\n",
    "# runs_file = \"\"\n",
    "\n",
    "data = pl.read_csv(pedigree_file, separator=\"\\t\", infer_schema_length=None).with_columns(\n",
    "    pl.col(\"Account Description\").str.contains(\"eserved for breeding\").alias(\"is_reserved_for_breeding\"),\n",
    "    pl.col(\"Account Description\").str.contains(\"reeder\").alias(\"is_breeder\"),\n",
    ").drop_nulls(\"Date of Birth\").with_columns( # Change str to date type\n",
    "    pl.col(\"Date of Birth\").str.to_date(\"%m-%d-%Y\"),\n",
    "    pl.col(\"Date of Death\").str.to_date(\"%m-%d-%Y\"),\n",
    ").with_columns(  # Set death date of living animals to date of pedigree\n",
    "    pl.col(\"Date of Death\").fill_null(date_of_pedigree),\n",
    ")\n",
    "\n",
    "\n",
    "#.group_by(\"Account Description\").agg().sort(\"Account Description\")#.filter(pl.col(\"Account Description\") == True)\n",
    "\n",
    "# Find individuals who lived at least one year\n",
    "older_offspring = data.filter(pl.col(\"Earliest Acq Category\") == \"Birth\"\n",
    "    ).filter((pl.col(\"Date of Death\") - pl.col(\"Date of Birth\")) >= pl.duration(days=0)\n",
    ")\n",
    "# .with_columns(\n",
    "#     (pl.col(\"Date of Death\") - pl.col(\"Date of Birth\")).alias(\"age\") #>= pl.duration(days=0)\n",
    "# )\n",
    "\n",
    "\n",
    "reserved_for_breeding = data.filter((pl.col(\"is_reserved_for_breeding\") == True)).filter(pl.col(\"Date of Death\").is_null()).select(\"Id\").with_columns(pl.lit(0).cast(pl.UInt32).alias(\"Num of offspring\"))\n",
    "\n",
    "# Only count offspring if at least 1 year old\n",
    "#year_old_offspring = data.filter()\n",
    "\n",
    "sires = data.join(older_offspring, left_on=\"Id\", right_on=\"Sire\").group_by(\"Id\").agg(\n",
    "    pl.len().alias(\"Num of offspring\"), pl.col(\"Date of Birth\").first(), pl.col(\"Date of Death\").first(), pl.col(\"is_breeder\").first()\n",
    ")\n",
    "dam = data.join(older_offspring, left_on=\"Id\", right_on=\"Dam\").group_by(\"Id\").agg(\n",
    "    pl.len().alias(\"Num of offspring\"), pl.col(\"Date of Birth\").first(), pl.col(\"Date of Death\").first(), pl.col(\"is_breeder\").first()\n",
    ")\n",
    "\n",
    "breeders = pl.concat([sires, dam]).sort(\"Id\")\n",
    "\n",
    "#pl.concat([breeders, reserved_for_breeding]).sort(\"Id\")"
   ]
  },
  {
   "cell_type": "code",
   "execution_count": null,
   "metadata": {},
   "outputs": [],
   "source": [
    "breeders#.filter(pl.col(\"is_breeder\") == True)"
   ]
  },
  {
   "cell_type": "code",
   "execution_count": null,
   "metadata": {},
   "outputs": [],
   "source": [
    "#data[\"Earliest Acq Category\"].unique()"
   ]
  },
  {
   "cell_type": "code",
   "execution_count": null,
   "metadata": {},
   "outputs": [],
   "source": [
    "#data.join(older_offspring, on=\"Id\", how=\"anti\").filter(pl.col(\"Earliest Acq Category\") != \"Acquisition\")\n",
    "#older_offspring\n",
    "\n",
    "# Count non-\"breeders\" or \"breeders\" number of offspring and grand offspring\n",
    "def descendants(is_breeder):\n",
    "    \"\"\"Find offspring and grand offspring\"\"\"\n",
    "    sire_offspring = data.join(data.filter(pl.col(\"is_breeder\") == is_breeder), left_on=\"Sire\", right_on=\"Id\").select(\"Id\", \"Sire\", \"Dam\", \"Earliest Acq Category\")\n",
    "    dam_offspring = data.join(data.filter(pl.col(\"is_breeder\") == is_breeder), left_on=\"Dam\", right_on=\"Id\").select(\"Id\", \"Sire\", \"Dam\", \"Earliest Acq Category\")\n",
    "\n",
    "    offspring = pl.concat([sire_offspring, dam_offspring]).unique().filter(pl.col(\"Earliest Acq Category\") == \"Birth\")\n",
    "\n",
    "    sire_offspring = offspring.join(offspring, left_on=\"Sire\", right_on=\"Id\").select(\"Id\", \"Sire\", \"Dam\", \"Earliest Acq Category\")\n",
    "    dam_offspring = offspring.join(offspring, left_on=\"Dam\", right_on=\"Id\").select(\"Id\", \"Sire\", \"Dam\", \"Earliest Acq Category\")\n",
    "\n",
    "    grand_offspring = pl.concat([sire_offspring, dam_offspring]).unique().unique().filter(pl.col(\"Earliest Acq Category\") == \"Birth\")\n",
    "    return offspring, grand_offspring\n",
    "\n",
    "breeder_offspring, breeder_grand_offspring = descendants(is_breeder=True)\n",
    "nonbreeder_offspring, nonbreeder_grand_offspring = descendants(is_breeder=False)\n"
   ]
  },
  {
   "cell_type": "code",
   "execution_count": null,
   "metadata": {},
   "outputs": [],
   "source": [
    "#nonbreeder_grand_offspring"
   ]
  },
  {
   "cell_type": "code",
   "execution_count": null,
   "metadata": {},
   "outputs": [],
   "source": [
    "#breeder_grand_offspring.join(nonbreeder_grand_offspring, on=\"Id\", how=\"anti\")"
   ]
  },
  {
   "cell_type": "code",
   "execution_count": null,
   "metadata": {},
   "outputs": [],
   "source": [
    "#breeders#.with_columns(pl.col(\"Id\").sort())\n",
    "#data"
   ]
  },
  {
   "cell_type": "code",
   "execution_count": null,
   "metadata": {},
   "outputs": [],
   "source": [
    "demographics = breeders.with_columns(  # Crate column with list of years alive\n",
    "    pl.date_ranges(pl.col(\"Date of Birth\"), pl.col(\"Date of Death\"), interval=\"1y\").alias(\"Year\"),\n",
    ").explode(\"Year\"  # Create row for every year alive for every animal\n",
    ").with_columns(  # Convert date to year\n",
    "    pl.col(\"Year\").dt.round(\"1y\")#.dt.year()  # .cast(pl.Date),\n",
    ")\n",
    "# .filter(\n",
    "#     pl.col(\"is_breeder\") == True\n",
    "# )\n",
    "\n",
    "## Notes:\n",
    "# - Animals without a birth date are removed.\n",
    "# - Depending on date of birth, not all animals show up in last year due to the year interval"
   ]
  },
  {
   "cell_type": "code",
   "execution_count": null,
   "metadata": {},
   "outputs": [],
   "source": [
    "demographics"
   ]
  },
  {
   "cell_type": "code",
   "execution_count": null,
   "metadata": {},
   "outputs": [],
   "source": [
    "# Using output from RFMix\n",
    "Q = pl.read_csv(Q_file, separator=\"\\t\", skip_rows=1).filter( # Remove reference samples\n",
    "    pl.col(\"#sample\").str.starts_with(\"W\")\n",
    ").with_columns( # Remove seq prefixes\n",
    "    pl.col(\"#sample\").str.strip_prefix(\"WES\").str.strip_prefix(\"WGS\")\n",
    ")\n",
    "\n",
    "# # Colony assignments\n",
    "colonies = pl.read_csv(colonies_file, separator=\"\\t\", infer_schema_length=None)\n",
    "\n",
    "colony_demographics = demographics.join(colonies, how=\"left\", on=\"Id\")\n",
    "\n",
    "merged = colony_demographics.join(Q, how=\"left\", left_on=\"Id\", right_on=\"#sample\"\n",
    ").group_by(\"Year\", \"Colony\").agg(pl.count(\"Id\").alias(\"Count\"), pl.mean(\"Indian\"), pl.mean(\"Chinese\")).drop_nulls()\n",
    "\n",
    "# Plot of u42 colony sizes over time. Counts are small because this colony designations file only includes animals that are sequenced.\n",
    "\n",
    "# alt.Chart(colony_demographics).mark_line(line=True).encode(\n",
    "#     alt.X(\"Year\", title=\"Year\"),\n",
    "#     alt.Y(\"Count\", title=\"Population Size\"),\n",
    "#     #color=alt.Color(\"Colony:O\").scale(scheme='dark2'),\n",
    "# ).properties(\n",
    "#     title=f\"Rhesus Population over Time\\nas of {date_of_pedigree}\",\n",
    "#     width=340\n",
    "# )"
   ]
  },
  {
   "cell_type": "code",
   "execution_count": null,
   "metadata": {},
   "outputs": [],
   "source": [
    "# Read runs file\n",
    "runs = pl.read_csv(runs_file, separator=\"\\t\", has_header=False, new_columns=[\"batch/run\"]).with_columns(\n",
    "    pl.col(\"batch/run\").str.split(\"/\").list.get(0).alias(\"batch\"),\n",
    "    pl.col(\"batch/run\").str.split(\"/\").list.get(1).str.split(\"_\").list.get(0).alias(\"sample\"),\n",
    "    pl.col(\"batch/run\").str.split(\"/\").list.get(1).str.split(\"_\").list.get(1).alias(\"library\"),\n",
    "# Keep only certain seq types\n",
    ").filter(\n",
    "    pl.col(\"sample\").str.slice(0, 3).is_in(seq_order)\n",
    "# Pull out seq type and indiv. Also made seq types an Enum, which can be sorted later\n",
    ").with_columns(\n",
    "    pl.col(\"sample\").str.slice(0, 3).cast(pl.Enum(seq_order)).alias(\"seq\"),\n",
    "    pl.col(\"sample\").str.slice(3).alias(\"indiv\"),\n",
    "# Group by batch + indiv (to not double count multiple runs from same batch) and then by indiv\n",
    ").group_by(\"batch\", \"indiv\").agg(pl.first(\"seq\")).group_by(\"indiv\").agg(\"seq\"\n",
    "# One of two ways to filter seq. Change this depending on which method is preferred. The first doesn't current work though.\n",
    ").with_columns(\n",
    "    # Keep only one of each sequencing type for each animal\n",
    "    #pl.col(\"seq\").list.unique()\n",
    "    # Keep only largest sequencing type for each animal\n",
    "    pl.col(\"seq\").list.sort().list.first()\n",
    ")"
   ]
  },
  {
   "cell_type": "code",
   "execution_count": null,
   "metadata": {},
   "outputs": [],
   "source": [
    "runs"
   ]
  },
  {
   "cell_type": "code",
   "execution_count": null,
   "metadata": {},
   "outputs": [],
   "source": [
    "colony_demographics_runs = demographics.join(runs, how=\"left\", left_on=\"Id\", right_on=\"indiv\").with_columns(\n",
    "    pl.col(\"seq\").fill_null(\"unsequenced\")\n",
    "\n",
    ").group_by(\"Year\", \"seq\").agg(pl.count(\"Id\").alias(\"Count\")).sort(\"Year\", \"seq\", descending=True)"
   ]
  },
  {
   "cell_type": "code",
   "execution_count": null,
   "metadata": {},
   "outputs": [],
   "source": [
    "# For testing\n",
    "\n",
    "colony_demographics_runs\n",
    "#colony_demographics_runs.sort(\"Year\", \"seq\").filter(pl.col(\"Year\") == 2021)"
   ]
  },
  {
   "cell_type": "code",
   "execution_count": null,
   "metadata": {},
   "outputs": [],
   "source": [
    "# The total area shows the number of animals overall, subdivided by type of sequencing (or if unsequenced).\n",
    "# In order to keep the sum of sequencing types equal to the true total, sequencing types are given priority as follows: unsequenced > LRS > WGS > WES > GBS\n",
    "\n",
    "alt.data_transformers.disable_max_rows()\n",
    "alt.Chart(colony_demographics_runs).mark_area().encode(\n",
    "    alt.X(\"Year\", title=\"Year\", scale=alt.Scale(domainMax=alt.DateTime(year=2023, month=1, day=1), clamp=True)),#.scale(domainMax=2023, clamp=True),\n",
    "    alt.Y(\"Count:Q\", title=\"Population size\"),\n",
    "    color=alt.Color(\"seq:O\", title=\"Sequencing method\", sort=seq_order).scale(scheme='dark2'), #, sort=[\"unsequenced\", \"LRS\", \"WGS\", \"WES\"]\n",
    "    order=alt.Order('seq_order:O', sort='ascending')\n",
    ").properties(\n",
    "    title=[\"Rhesus Breeder Population over Time\"], #\\nas of {date_of_pedigree} #, \"With at Least One Offspring ≥ 3 Years Old\"\n",
    "    #height=2000,\n",
    "    width=340,\n",
    ").transform_calculate(\n",
    "    order=\"{'unsequenced': 0, 'LRS': 1, 'WGS': 2, 'WES': 3, 'GBS': 4}[datum.seq_order]\"  \n",
    ")\n"
   ]
  },
  {
   "cell_type": "code",
   "execution_count": null,
   "metadata": {},
   "outputs": [],
   "source": [
    "# Plot by portion sequenced per year (instead of counts)\n"
   ]
  },
  {
   "cell_type": "code",
   "execution_count": null,
   "metadata": {},
   "outputs": [],
   "source": [
    "by_fraction = colony_demographics_runs.group_by(\"Year\").agg(\"seq\", \"Count\", pl.sum(\"Count\").alias(\"Sum\")).with_columns(\n",
    "    pl.col(\"seq\").list.set_union(seq_order).alias(\"all_seq\")\n",
    "    #pl.List(\"unsequenced\", \"LRS\", \"WGS\", \"WES\", \"GBS\").alias(\"list\")\n",
    ").with_columns(\n",
    "    pl.col(\"all_seq\").list.set_difference(pl.col(\"seq\")).alias(\"missing_seq\")\n",
    ").with_columns(\n",
    "    # Add empty rows\n",
    "    pl.col(\"seq\").list.concat(\"missing_seq\"),\n",
    "    pl.col(\"missing_seq\").list.len().map_elements(lambda x: [0]*x).alias(\"len\"),\n",
    ").with_columns(\n",
    "    pl.col(\"Count\").list.concat(pl.col(\"len\"))\n",
    ").explode(\"seq\", \"Count\").drop(\"all_seq\", \"missing_seq\", \"len\").with_columns(\n",
    "    pl.col(\"Count\").truediv(\"Sum\").alias(\"Portion\")\n",
    ")"
   ]
  },
  {
   "cell_type": "code",
   "execution_count": null,
   "metadata": {},
   "outputs": [],
   "source": [
    "# by_fraction = colony_demographics_runs.group_by(\"Year\").agg(\"seq\", \"Count\", pl.sum(\"Count\").alias(\"Sum\")).explode(\"seq\", \"Count\").with_columns(\n",
    "#     pl.col(\"Count\").truediv(\"Sum\").alias(\"Portion\")\n",
    "# )\n",
    "by_fraction.filter(\n",
    "    pl.col(\"seq\") == \"WES\"\n",
    ").filter(\n",
    "    pl.col(\"Portion\") == 0\n",
    ")"
   ]
  },
  {
   "cell_type": "code",
   "execution_count": null,
   "metadata": {},
   "outputs": [],
   "source": [
    "by_fraction"
   ]
  },
  {
   "cell_type": "code",
   "execution_count": null,
   "metadata": {},
   "outputs": [],
   "source": [
    "alt.data_transformers.disable_max_rows()\n",
    "alt.Chart(by_fraction).mark_area().encode(\n",
    "    alt.X(\"Year\", title=\"Year\", scale=alt.Scale(domainMax=alt.DateTime(year=2023, month=1, day=1), clamp=True)),#.scale(domainMax=2023, clamp=True),\n",
    "    alt.Y(\"Portion:Q\", title=\"Fraction of Population\", scale=alt.Scale(domainMax=1)),\n",
    "    color=alt.Color(\"seq:O\", title=\"Sequencing method\", sort=seq_order).scale(scheme='dark2'), #, sort=[\"unsequenced\", \"LRS\", \"WGS\", \"WES\"]\n",
    "    #order=alt.Order('seq_order:O', sort='ascending')\n",
    ").properties(\n",
    "    title=[\"Rhesus Breeder Population over Time\"], #\\nas of {date_of_pedigree} #, \"With at Least One Offspring ≥ 3 Years Old\"\n",
    "    #height=2000,\n",
    "    width=340,\n",
    ").transform_calculate(\n",
    "    order=\"{'unsequenced': 0, 'LRS': 1, 'WGS': 2, 'WES': 3, 'GBS': 4}[datum.seq_order]\"  \n",
    ")\n"
   ]
  },
  {
   "cell_type": "code",
   "execution_count": null,
   "metadata": {},
   "outputs": [],
   "source": []
  },
  {
   "cell_type": "code",
   "execution_count": null,
   "metadata": {},
   "outputs": [],
   "source": []
  },
  {
   "cell_type": "code",
   "execution_count": null,
   "metadata": {},
   "outputs": [],
   "source": []
  }
 ],
 "metadata": {
  "kernelspec": {
   "display_name": "Python 3",
   "language": "python",
   "name": "python3"
  },
  "language_info": {
   "codemirror_mode": {
    "name": "ipython",
    "version": 3
   },
   "file_extension": ".py",
   "mimetype": "text/x-python",
   "name": "python",
   "nbconvert_exporter": "python",
   "pygments_lexer": "ipython3",
   "version": "3.12.3"
  }
 },
 "nbformat": 4,
 "nbformat_minor": 2
}
