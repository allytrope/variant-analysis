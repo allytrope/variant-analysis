{
 "cells": [
  {
   "cell_type": "code",
   "execution_count": null,
   "metadata": {},
   "outputs": [],
   "source": [
    "from datetime import date\n",
    "\n",
    "import altair as alt\n",
    "import polars as pl\n",
    "\n",
    "pedigree_file = \"/master/abagwell/variant-analysis/resources/rhesus/pedigree/Demographics_2024-04-15_13-26-54.tsv\"\n",
    "date_of_pedigree = date(2024, 4, 15)  # TODO: Change\n",
    "\n",
    "data = pl.read_csv(pedigree_file, separator=\"\\t\", infer_schema_length=None)"
   ]
  },
  {
   "cell_type": "code",
   "execution_count": null,
   "metadata": {},
   "outputs": [],
   "source": [
    "demographics = data.drop_nulls(\"Date of Birth\").with_columns( # Pull year from string dates\n",
    "    pl.col(\"Date of Birth\").str.to_date(\"%m-%d-%Y\"),#.dt.year(),\n",
    "    pl.col(\"Date of Death\").str.to_date(\"%m-%d-%Y\"),#.dt.year(),\n",
    ").with_columns(  # Set death date of living animals to date of pedigree\n",
    "    pl.col(\"Date of Death\").fill_null(date_of_pedigree),\n",
    ").with_columns(  # Crate column with list of years alive\n",
    "    pl.date_ranges(pl.col(\"Date of Birth\"), pl.col(\"Date of Death\"), interval=\"1y\").alias(\"Year\"),\n",
    ").explode(\"Year\"  # Create row for every year alive for every animal\n",
    ").with_columns(  # Convert date to year\n",
    "    pl.col(\"Year\").dt.year(),\n",
    ")\n",
    "\n",
    "## Notes:\n",
    "# - Animals without a birth date are removed.\n",
    "# - Depending on date of birth, not all animals show up in last year due to the year interval"
   ]
  },
  {
   "cell_type": "code",
   "execution_count": null,
   "metadata": {},
   "outputs": [],
   "source": [
    "# Using output from RFMix\n",
    "Q_file = \"/master/abagwell/variant-analysis/results/rhesus_prev/admixture/RFMix.chr10.rfmix.Q\"\n",
    "Q = pl.read_csv(Q_file, separator=\"\\t\", skip_rows=1).filter( # Remove reference samples\n",
    "    pl.col(\"#sample\").str.starts_with(\"W\")\n",
    ").with_columns( # Remove seq prefixes\n",
    "    pl.col(\"#sample\").str.strip_prefix(\"WES\").str.strip_prefix(\"WGS\")\n",
    ")"
   ]
  },
  {
   "cell_type": "code",
   "execution_count": null,
   "metadata": {},
   "outputs": [],
   "source": [
    "# Colony assignments\n",
    "colonies_file = \"/master/abagwell/variant-analysis/resources/rhesus/pop/colonies.tsv\"\n",
    "colonies = pl.read_csv(colonies_file, separator=\"\\t\", infer_schema_length=None)"
   ]
  },
  {
   "cell_type": "code",
   "execution_count": null,
   "metadata": {},
   "outputs": [],
   "source": [
    "colony_demographics = demographics.join(colonies, how=\"left\", on=\"Id\")\n",
    "\n",
    "merged = colony_demographics.join(Q, how=\"left\", left_on=\"Id\", right_on=\"#sample\"\n",
    ").group_by(\"Year\", \"Colony\").agg(pl.count(\"Id\").alias(\"Count\"), pl.mean(\"Indian\"), pl.mean(\"Chinese\")).drop_nulls()"
   ]
  },
  {
   "cell_type": "code",
   "execution_count": null,
   "metadata": {},
   "outputs": [],
   "source": [
    "# Plot of u42 colony sizes over time. Counts are small because this colony designations file only includes animals that are sequenced.\n",
    "\n",
    "alt.Chart(merged).mark_line(line=True).encode(\n",
    "    alt.X(\"Year\", title=\"Year\"),\n",
    "    alt.Y(\"Count\", title=\"Population Size\"),\n",
    "    color=alt.Color(\"Colony:O\").scale(scheme='dark2'),\n",
    ").properties(\n",
    "    title=f\"Rhesus Population over Time\\nas of {date_of_pedigree}\",\n",
    "    width=340\n",
    ")"
   ]
  },
  {
   "cell_type": "code",
   "execution_count": null,
   "metadata": {},
   "outputs": [],
   "source": [
    "# Read runs file\n",
    "runs_file = \"/master/abagwell/variant-analysis/resources/rhesus/samples/runs.all.list\"\n",
    "runs = pl.read_csv(runs_file, separator=\"\\t\", has_header=False, new_columns=[\"batch/run\"]).with_columns(\n",
    "    pl.col(\"batch/run\").str.split(\"/\").list.get(0).alias(\"batch\"),\n",
    "    pl.col(\"batch/run\").str.split(\"/\").list.get(1).str.split(\"_\").list.get(0).alias(\"sample\"),\n",
    "    pl.col(\"batch/run\").str.split(\"/\").list.get(1).str.split(\"_\").list.get(1).alias(\"library\"),\n",
    "# Pull out seq type and indiv. Also made seq types an Enum, which can be sorted later\n",
    ").with_columns(\n",
    "    pl.col(\"sample\").str.slice(0, 3).cast(pl.Enum([\"unsequenced\", \"LRS\", \"WGS\", \"WES\", \"GBS\"])).alias(\"seq\"),\n",
    "    pl.col(\"sample\").str.slice(3).alias(\"indiv\"),\n",
    "# Group by batch + indiv (to not double count multiple runs from same batch) and then by indiv\n",
    ").group_by(\"batch\", \"indiv\").agg(pl.first(\"seq\")).group_by(\"indiv\").agg(\"seq\"\n",
    "# One of two ways to filter seq. Change this depending on which method is preferred. The first doesn't current work though.\n",
    ").with_columns(\n",
    "    # Keep only one of each sequencing type for each animal\n",
    "    #pl.col(\"seq\").list.unique()\n",
    "    # Keep only largest sequencing type for each animal\n",
    "    pl.col(\"seq\").list.sort().list.first()\n",
    ")\n"
   ]
  },
  {
   "cell_type": "code",
   "execution_count": null,
   "metadata": {},
   "outputs": [],
   "source": [
    "colony_demographics_runs = colony_demographics.join(runs, how=\"left\", left_on=\"Id\", right_on=\"indiv\").with_columns(\n",
    "    pl.col(\"seq\").fill_null(\"unsequenced\")\n",
    "\n",
    ").group_by(\"Year\", \"seq\").agg(pl.count(\"Id\").alias(\"Count\")).sort(\"Year\", \"seq\", descending=True)"
   ]
  },
  {
   "cell_type": "code",
   "execution_count": null,
   "metadata": {},
   "outputs": [],
   "source": [
    "# For testing\n",
    "\n",
    "colony_demographics_runs\n",
    "#colony_demographics_runs.sort(\"Year\", \"seq\").filter(pl.col(\"Year\") == 2021)"
   ]
  },
  {
   "cell_type": "code",
   "execution_count": null,
   "metadata": {},
   "outputs": [],
   "source": [
    "# The total area shows the number of animals overall, subdivided by type of sequencing (or if unsequenced).\n",
    "# In order to keep the sum of sequencing types equal to the true total, sequencing types are given priority as follows: unsequenced > LRS > WGS > WES > GBS\n",
    "\n",
    "alt.data_transformers.disable_max_rows()\n",
    "alt.Chart(colony_demographics_runs).mark_area().encode(\n",
    "    alt.X(\"Year\", title=\"Year\"),\n",
    "    alt.Y(\"Count:Q\", title=\"Population Size\"),\n",
    "    color=alt.Color(\"seq:O\", sort=[\"unsequenced\", \"LRS\", \"WGS\", \"WES\", \"GBS\"]).scale(scheme='dark2'), #, sort=[\"unsequenced\", \"LRS\", \"WGS\", \"WES\"]\n",
    "    order=alt.Order('seq_order:O', sort='ascending')\n",
    ").properties(\n",
    "    title=f\"Rhesus Population over Time\\nas of {date_of_pedigree}\",\n",
    "    #height=2000,\n",
    "    width=340,\n",
    ").transform_calculate(\n",
    "    order=\"{'unsequenced': 0, 'LRS': 1, 'WGS': 2, 'WES': 3, 'GBS': 4}[datum.seq_order]\"  \n",
    ")\n"
   ]
  },
  {
   "cell_type": "code",
   "execution_count": null,
   "metadata": {},
   "outputs": [],
   "source": []
  }
 ],
 "metadata": {
  "kernelspec": {
   "display_name": "Python 3",
   "language": "python",
   "name": "python3"
  },
  "language_info": {
   "codemirror_mode": {
    "name": "ipython",
    "version": 3
   },
   "file_extension": ".py",
   "mimetype": "text/x-python",
   "name": "python",
   "nbconvert_exporter": "python",
   "pygments_lexer": "ipython3",
   "version": "3.12.0"
  }
 },
 "nbformat": 4,
 "nbformat_minor": 2
}
