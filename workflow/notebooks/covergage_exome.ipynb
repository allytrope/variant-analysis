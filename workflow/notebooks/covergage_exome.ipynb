{
 "cells": [
  {
   "cell_type": "code",
   "execution_count": null,
   "metadata": {},
   "outputs": [],
   "source": [
    "import altair as alt\n",
    "import polars as pl\n",
    "\n",
    "\n",
    "table = pl.read_csv(\"/master/abagwell/variant-analysis/results/marmoset/coverage/intersections/exons/exon_info.tsv\", separator=\"\\t\", has_header=False, new_columns=[\"path\", \"length\"]).with_columns(\n",
    "    pl.col(\"path\").str.split(\"/\").list.get(0).alias(\"batch\"),\n",
    "    pl.col(\"path\").str.split(\"/\").list.get(1).alias(\"run\"),\n",
    "    (pl.col(\"length\") / pl.lit(408227261)).alias(\"x_times_coverage\"),\n",
    ").with_columns(\n",
    "    pl.col(\"run\").str.split(\"_\").list.get(0).alias(\"sample\")\n",
    ").drop(\"path\")"
   ]
  },
  {
   "cell_type": "code",
   "execution_count": null,
   "metadata": {},
   "outputs": [],
   "source": [
    "grouped_table = table.group_by(\"batch\", \"sample\").agg(pl.sum(\"x_times_coverage\"))"
   ]
  },
  {
   "cell_type": "code",
   "execution_count": null,
   "metadata": {},
   "outputs": [],
   "source": [
    "#table.write_csv(\"/master/abagwell/figures/exome_coverage.tsv\", separator=\"\\t\")"
   ]
  },
  {
   "cell_type": "code",
   "execution_count": null,
   "metadata": {},
   "outputs": [],
   "source": [
    "grouped = grouped_table.group_by(\"batch\").agg(pl.mean(\"x_times_coverage\"), pl.count(\"sample\"))\n"
   ]
  },
  {
   "cell_type": "code",
   "execution_count": null,
   "metadata": {},
   "outputs": [],
   "source": [
    "alt.Chart(grouped_table).mark_boxplot().encode(\n",
    "    alt.X(\"x_times_coverage:Q\", title=\"X Times Coverage\").scale(zero=False),\n",
    "    alt.Y(\"batch:N\", title=\"Batch\"),\n",
    "    tooltip = [\n",
    "        alt.Tooltip(\"batch:N\"),\n",
    "        alt.Tooltip(\"sample:N\"),\n",
    "    ],\n",
    ").properties(\n",
    "    title = \"Marmoset hWES Exome Coverage\"\n",
    ")#.save(\"/master/abagwell/figures/exome_coverage.group_by_batch.html\")"
   ]
  },
  {
   "cell_type": "code",
   "execution_count": null,
   "metadata": {},
   "outputs": [],
   "source": []
  }
 ],
 "metadata": {
  "kernelspec": {
   "display_name": "Python 3",
   "language": "python",
   "name": "python3"
  },
  "language_info": {
   "codemirror_mode": {
    "name": "ipython",
    "version": 3
   },
   "file_extension": ".py",
   "mimetype": "text/x-python",
   "name": "python",
   "nbconvert_exporter": "python",
   "pygments_lexer": "ipython3",
   "version": "3.1.0"
  }
 },
 "nbformat": 4,
 "nbformat_minor": 2
}
