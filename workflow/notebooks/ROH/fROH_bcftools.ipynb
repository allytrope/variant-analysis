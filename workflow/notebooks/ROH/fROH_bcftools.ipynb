{
 "cells": [
  {
   "cell_type": "code",
   "execution_count": 2,
   "metadata": {},
   "outputs": [],
   "source": [
    "import altair as alt\n",
    "import polars as pl\n",
    "import yaml\n",
    "\n",
    "# Read config file\n",
    "configfile = \"/master/abagwell/workspace/github_project/variant-analysis/config/rhesus_old.yaml\"\n",
    "with open(configfile, 'r') as file:\n",
    "    config = yaml.safe_load(file)\n",
    "\n",
    "# Load colors\n",
    "colors = pl.read_csv(config[\"colors\"], separator=\"\\t\")\n",
    "\n",
    "# Read autosomes\n",
    "with open(config[\"resources\"] + \"ref_fna/autosomes.list\") as f:\n",
    "    chromosomes = f.read().splitlines()"
   ]
  },
  {
   "cell_type": "code",
   "execution_count": 5,
   "metadata": {},
   "outputs": [],
   "source": [
    "# Merge ROH files and filter\n",
    "\n",
    "# Read colony info\n",
    "#colonies_file = \"/master/abagwell/variant-analysis/resources/rhesus/pop/colonies.tsv\"\n",
    "colonies_file = \"/master/abagwell/variant-analysis/resources/rhesus/pop/MML_groups_from_Martha.fixed7.tsv\"\n",
    "colonies = pl.read_csv(colonies_file, separator=\"\\t\", infer_schema_length=None,schema_overrides={\n",
    "    \"Dam\": pl.String,\n",
    "    \"Sire\": pl.String,\n",
    "    \"Id\": pl.String\n",
    "})\n",
    "\n",
    "# TODO: Generalize this (currently values for rhesus)\n",
    "chromosome_lengths = [223_616_942, 196_197_964, 185_288_947, 169_963_040, 187_317_192, 179_085_566, 169_868_564, 145_679_320, 134_124_166, 99_517_758, 133_066_086, 130_043_856, 108_737_130, 128_056_306, 113_283_604, 79_627_064, 95_433_459, 74_474_043, 58_315_233, 77_137_495]  # For Mmul_10\n",
    "genome_length = sum(chromosome_lengths)"
   ]
  },
  {
   "cell_type": "code",
   "execution_count": 6,
   "metadata": {},
   "outputs": [],
   "source": [
    "## For when using `bcftools roh`\n",
    "# Changes column names to match scikit-allel\n",
    "\n",
    "# Variables to adjust\n",
    "min_ROH_length = 1_000_000\n",
    "#min_ROH_length = 0\n",
    "\n",
    "\n",
    "roh_dfs = []\n",
    "for chrom in chromosomes:\n",
    "    roh_file = f\"{config[\"results\"]}roh/bcftools/U42_WES.common_between_founding_cohorts2.chr{chrom}.RG.roh\"\n",
    "    roh_df = pl.read_csv(roh_file, comment_prefix=\"#\", has_header=False, separator=\"\\t\",\n",
    "        schema_overrides=[pl.String, pl.String, pl.String, pl.Int32, pl.Int32, pl.Int64, pl.Int32, pl.Float32],\n",
    "        new_columns=[\"RG\", \"sample\", \"chrom\", \"start\", \"stop\", \"length\", \"Number of markers\", \"Quality (average fwd-bwd phred score)\"]\n",
    "    ).filter(\n",
    "        # Keep only large ROHs\n",
    "        pl.col(\"length\") > min_ROH_length\n",
    "    ).with_columns(\n",
    "    ).join(colonies, how=\"left\", left_on=\"sample\", right_on=\"Id\")#.drop(\"tag\")\n",
    "    \n",
    "    roh_dfs.append(roh_df)\n",
    "\n",
    "roh_df = pl.concat(roh_dfs)\n"
   ]
  },
  {
   "cell_type": "code",
   "execution_count": 7,
   "metadata": {},
   "outputs": [
    {
     "data": {
      "text/html": [
       "\n",
       "<style>\n",
       "  #altair-viz-984d058eeba046f4b1d30ae819263fe8.vega-embed {\n",
       "    width: 100%;\n",
       "    display: flex;\n",
       "  }\n",
       "\n",
       "  #altair-viz-984d058eeba046f4b1d30ae819263fe8.vega-embed details,\n",
       "  #altair-viz-984d058eeba046f4b1d30ae819263fe8.vega-embed details summary {\n",
       "    position: relative;\n",
       "  }\n",
       "</style>\n",
       "<div id=\"altair-viz-984d058eeba046f4b1d30ae819263fe8\"></div>\n",
       "<script type=\"text/javascript\">\n",
       "  var VEGA_DEBUG = (typeof VEGA_DEBUG == \"undefined\") ? {} : VEGA_DEBUG;\n",
       "  (function(spec, embedOpt){\n",
       "    let outputDiv = document.currentScript.previousElementSibling;\n",
       "    if (outputDiv.id !== \"altair-viz-984d058eeba046f4b1d30ae819263fe8\") {\n",
       "      outputDiv = document.getElementById(\"altair-viz-984d058eeba046f4b1d30ae819263fe8\");\n",
       "    }\n",
       "\n",
       "    const paths = {\n",
       "      \"vega\": \"https://cdn.jsdelivr.net/npm/vega@5?noext\",\n",
       "      \"vega-lib\": \"https://cdn.jsdelivr.net/npm/vega-lib?noext\",\n",
       "      \"vega-lite\": \"https://cdn.jsdelivr.net/npm/vega-lite@5.20.1?noext\",\n",
       "      \"vega-embed\": \"https://cdn.jsdelivr.net/npm/vega-embed@6?noext\",\n",
       "    };\n",
       "\n",
       "    function maybeLoadScript(lib, version) {\n",
       "      var key = `${lib.replace(\"-\", \"\")}_version`;\n",
       "      return (VEGA_DEBUG[key] == version) ?\n",
       "        Promise.resolve(paths[lib]) :\n",
       "        new Promise(function(resolve, reject) {\n",
       "          var s = document.createElement('script');\n",
       "          document.getElementsByTagName(\"head\")[0].appendChild(s);\n",
       "          s.async = true;\n",
       "          s.onload = () => {\n",
       "            VEGA_DEBUG[key] = version;\n",
       "            return resolve(paths[lib]);\n",
       "          };\n",
       "          s.onerror = () => reject(`Error loading script: ${paths[lib]}`);\n",
       "          s.src = paths[lib];\n",
       "        });\n",
       "    }\n",
       "\n",
       "    function showError(err) {\n",
       "      outputDiv.innerHTML = `<div class=\"error\" style=\"color:red;\">${err}</div>`;\n",
       "      throw err;\n",
       "    }\n",
       "\n",
       "    function displayChart(vegaEmbed) {\n",
       "      vegaEmbed(outputDiv, spec, embedOpt)\n",
       "        .catch(err => showError(`Javascript Error: ${err.message}<br>This usually means there's a typo in your chart specification. See the javascript console for the full traceback.`));\n",
       "    }\n",
       "\n",
       "    if(typeof define === \"function\" && define.amd) {\n",
       "      requirejs.config({paths});\n",
       "      let deps = [\"vega-embed\"];\n",
       "      require(deps, displayChart, err => showError(`Error loading script: ${err.message}`));\n",
       "    } else {\n",
       "      maybeLoadScript(\"vega\", \"5\")\n",
       "        .then(() => maybeLoadScript(\"vega-lite\", \"5.20.1\"))\n",
       "        .then(() => maybeLoadScript(\"vega-embed\", \"6\"))\n",
       "        .catch(showError)\n",
       "        .then(() => displayChart(vegaEmbed));\n",
       "    }\n",
       "  })({\"config\": {\"view\": {\"continuousWidth\": 300, \"continuousHeight\": 300}}, \"data\": {\"name\": \"data-490107566be3f84edbc1eff7de6db919\"}, \"mark\": {\"type\": \"circle\", \"opacity\": 0.9}, \"encoding\": {\"color\": {\"field\": \"Interval\", \"scale\": {\"domain\": [\"Conventional source\", \"Brooks source\", \"2003-2005\", \"2006-2008\", \"2009-2011\", \"2012-2014\", \"2015-2017\", \"2018-2020\", \"NEPRC source\", \"Offspring of merger\"], \"range\": [\"#4269d0\", \"#efb118\", \"#ff725c\", \"#ff725c\", \"#ff725c\", \"#ff725c\", \"#ff725c\", \"#ff725c\", \"#6cc5b0\", \"#3ca951\"]}, \"sort\": [\"Conventional source\", \"Brooks source\", \"2003-2005\", \"2006-2008\", \"2009-2011\", \"2012-2014\", \"2015-2017\", \"2018-2020\", \"NEPRC source\", \"Offspring of merger\"], \"title\": \"Cohorts\", \"type\": \"ordinal\"}, \"x\": {\"field\": \"number_of_ROHs\", \"title\": \"Number of ROHs\", \"type\": \"quantitative\"}, \"y\": {\"field\": \"froh\", \"title\": \"fROH\", \"type\": \"quantitative\"}}, \"title\": \"Individuals by ROH\", \"$schema\": \"https://vega.github.io/schema/vega-lite/v5.20.1.json\", \"datasets\": {\"data-490107566be3f84edbc1eff7de6db919\": [{\"sample\": \"17639\", \"Interval\": \"Brooks source\", \"froh\": 0.015356243661529337, \"number_of_ROHs\": 26}, {\"sample\": \"17733\", \"Interval\": \"Brooks source\", \"froh\": 0.011251424216454947, \"number_of_ROHs\": 15}, {\"sample\": \"34302\", \"Interval\": \"NEPRC source\", \"froh\": 0.019227206698223014, \"number_of_ROHs\": 29}, {\"sample\": \"34008\", \"Interval\": \"NEPRC source\", \"froh\": 0.014319234580713115, \"number_of_ROHs\": 24}, {\"sample\": \"17710\", \"Interval\": \"Brooks source\", \"froh\": 0.0205499790785688, \"number_of_ROHs\": 34}, {\"sample\": \"17584\", \"Interval\": \"Brooks source\", \"froh\": 0.002770742907240414, \"number_of_ROHs\": 5}, {\"sample\": \"33964\", \"Interval\": \"NEPRC source\", \"froh\": 0.017661969716398253, \"number_of_ROHs\": 25}, {\"sample\": \"16349\", \"Interval\": \"Brooks source\", \"froh\": 0.02388189874447555, \"number_of_ROHs\": 32}, {\"sample\": \"33977\", \"Interval\": \"NEPRC source\", \"froh\": 0.016084559055117627, \"number_of_ROHs\": 28}, {\"sample\": \"17507\", \"Interval\": \"Brooks source\", \"froh\": 0.023795690736526705, \"number_of_ROHs\": 38}, {\"sample\": \"17563\", \"Interval\": \"Brooks source\", \"froh\": 0.007804031066279374, \"number_of_ROHs\": 14}, {\"sample\": \"18408\", \"Interval\": \"Brooks source\", \"froh\": 0.01110636764604562, \"number_of_ROHs\": 15}, {\"sample\": \"16655\", \"Interval\": \"Brooks source\", \"froh\": 0.04114298164293152, \"number_of_ROHs\": 33}, {\"sample\": \"17717\", \"Interval\": \"Brooks source\", \"froh\": 0.011523735587168986, \"number_of_ROHs\": 17}, {\"sample\": \"34285\", \"Interval\": \"NEPRC source\", \"froh\": 0.020993308833206825, \"number_of_ROHs\": 30}, {\"sample\": \"34260\", \"Interval\": \"NEPRC source\", \"froh\": 0.02281042899813216, \"number_of_ROHs\": 29}, {\"sample\": \"17551\", \"Interval\": \"Brooks source\", \"froh\": 0.017052051007534687, \"number_of_ROHs\": 29}, {\"sample\": \"17535\", \"Interval\": \"Brooks source\", \"froh\": 0.015557866020302666, \"number_of_ROHs\": 23}, {\"sample\": \"17511\", \"Interval\": \"Brooks source\", \"froh\": 0.02024053934298024, \"number_of_ROHs\": 30}, {\"sample\": \"34252\", \"Interval\": \"NEPRC source\", \"froh\": 0.021394644916562684, \"number_of_ROHs\": 34}, {\"sample\": \"34001\", \"Interval\": \"NEPRC source\", \"froh\": 0.02573079997451014, \"number_of_ROHs\": 38}, {\"sample\": \"34281\", \"Interval\": \"NEPRC source\", \"froh\": 0.02205899131208275, \"number_of_ROHs\": 38}, {\"sample\": \"33960\", \"Interval\": \"NEPRC source\", \"froh\": 0.01588970468640747, \"number_of_ROHs\": 25}, {\"sample\": \"34307\", \"Interval\": \"NEPRC source\", \"froh\": 0.024562805479677607, \"number_of_ROHs\": 34}, {\"sample\": \"17663\", \"Interval\": \"Brooks source\", \"froh\": 0.016470621230137164, \"number_of_ROHs\": 25}, {\"sample\": \"17514\", \"Interval\": \"Brooks source\", \"froh\": 0.0263359430069037, \"number_of_ROHs\": 40}, {\"sample\": \"17641\", \"Interval\": \"Brooks source\", \"froh\": 0.007030177713833244, \"number_of_ROHs\": 13}, {\"sample\": \"16342\", \"Interval\": \"Brooks source\", \"froh\": 0.018566672364366182, \"number_of_ROHs\": 27}, {\"sample\": \"17553\", \"Interval\": \"Brooks source\", \"froh\": 0.01780433255386838, \"number_of_ROHs\": 25}, {\"sample\": \"17674\", \"Interval\": \"Brooks source\", \"froh\": 0.008356677732622988, \"number_of_ROHs\": 13}, {\"sample\": \"34018\", \"Interval\": \"NEPRC source\", \"froh\": 0.019647475525294986, \"number_of_ROHs\": 28}, {\"sample\": \"17552\", \"Interval\": \"Brooks source\", \"froh\": 0.017875652322548684, \"number_of_ROHs\": 27}, {\"sample\": \"18416\", \"Interval\": \"Brooks source\", \"froh\": 0.016403022777457085, \"number_of_ROHs\": 24}, {\"sample\": \"33943\", \"Interval\": \"NEPRC source\", \"froh\": 0.02370194377228758, \"number_of_ROHs\": 30}, {\"sample\": \"17624\", \"Interval\": \"Brooks source\", \"froh\": 0.007518275576827364, \"number_of_ROHs\": 11}, {\"sample\": \"17515\", \"Interval\": \"Brooks source\", \"froh\": 0.012864189239279981, \"number_of_ROHs\": 20}, {\"sample\": \"17133\", \"Interval\": \"Conventional source\", \"froh\": 0.011407787175803194, \"number_of_ROHs\": 22}, {\"sample\": \"16340\", \"Interval\": \"Brooks source\", \"froh\": 0.023262102518956978, \"number_of_ROHs\": 32}, {\"sample\": \"10235\", \"Interval\": \"Conventional source\", \"froh\": 0.012443626232620145, \"number_of_ROHs\": 19}, {\"sample\": \"8X0036\", \"Interval\": \"Conventional source\", \"froh\": 0.014519864687728638, \"number_of_ROHs\": 23}, {\"sample\": \"33993\", \"Interval\": \"NEPRC source\", \"froh\": 0.015554183010873301, \"number_of_ROHs\": 24}, {\"sample\": \"33933\", \"Interval\": \"NEPRC source\", \"froh\": 0.0222681332879067, \"number_of_ROHs\": 28}, {\"sample\": \"33920\", \"Interval\": \"NEPRC source\", \"froh\": 0.019759334431290153, \"number_of_ROHs\": 31}, {\"sample\": \"34245\", \"Interval\": \"NEPRC source\", \"froh\": 0.014257816502737386, \"number_of_ROHs\": 20}, {\"sample\": \"33986\", \"Interval\": \"NEPRC source\", \"froh\": 0.05744308582174197, \"number_of_ROHs\": 30}, {\"sample\": \"34005\", \"Interval\": \"NEPRC source\", \"froh\": 0.01989704915689032, \"number_of_ROHs\": 33}, {\"sample\": \"16642\", \"Interval\": \"Brooks source\", \"froh\": 0.014726756245491692, \"number_of_ROHs\": 22}, {\"sample\": \"17724\", \"Interval\": \"Brooks source\", \"froh\": 0.01955211670981211, \"number_of_ROHs\": 27}, {\"sample\": \"17522\", \"Interval\": \"Brooks source\", \"froh\": 0.003060067602134574, \"number_of_ROHs\": 6}, {\"sample\": \"34246\", \"Interval\": \"NEPRC source\", \"froh\": 0.022018094770742676, \"number_of_ROHs\": 34}, {\"sample\": \"33917\", \"Interval\": \"NEPRC source\", \"froh\": 0.0158032616323151, \"number_of_ROHs\": 27}, {\"sample\": \"17581\", \"Interval\": \"Brooks source\", \"froh\": 0.014367857520204759, \"number_of_ROHs\": 25}, {\"sample\": \"34253\", \"Interval\": \"NEPRC source\", \"froh\": 0.0198943803418176, \"number_of_ROHs\": 30}, {\"sample\": \"16656\", \"Interval\": \"Brooks source\", \"froh\": 0.025690279432618025, \"number_of_ROHs\": 33}, {\"sample\": \"17657\", \"Interval\": \"Brooks source\", \"froh\": 0.04680385193099342, \"number_of_ROHs\": 47}, {\"sample\": \"33930\", \"Interval\": \"NEPRC source\", \"froh\": 0.01180473808656674, \"number_of_ROHs\": 19}, {\"sample\": \"12932\", \"Interval\": \"Conventional source\", \"froh\": 0.12228817004187134, \"number_of_ROHs\": 46}, {\"sample\": \"34293\", \"Interval\": \"NEPRC source\", \"froh\": 0.031215807771022334, \"number_of_ROHs\": 44}, {\"sample\": \"17656\", \"Interval\": \"Brooks source\", \"froh\": 0.012825576587761758, \"number_of_ROHs\": 20}, {\"sample\": \"17516\", \"Interval\": \"Brooks source\", \"froh\": 0.0176034015729128, \"number_of_ROHs\": 28}, {\"sample\": \"16345\", \"Interval\": \"Brooks source\", \"froh\": 0.021858990474172998, \"number_of_ROHs\": 36}, {\"sample\": \"16356\", \"Interval\": \"Brooks source\", \"froh\": 0.02270783247220751, \"number_of_ROHs\": 36}, {\"sample\": \"34247\", \"Interval\": \"NEPRC source\", \"froh\": 0.03512469654431794, \"number_of_ROHs\": 37}, {\"sample\": \"12543\", \"Interval\": \"Conventional source\", \"froh\": 0.019236081549683474, \"number_of_ROHs\": 31}, {\"sample\": \"34265\", \"Interval\": \"NEPRC source\", \"froh\": 0.013963582244329437, \"number_of_ROHs\": 26}, {\"sample\": \"34289\", \"Interval\": \"NEPRC source\", \"froh\": 0.016256372207409844, \"number_of_ROHs\": 26}, {\"sample\": \"7139\", \"Interval\": \"Conventional source\", \"froh\": 0.00943376813144603, \"number_of_ROHs\": 13}, {\"sample\": \"34259\", \"Interval\": \"NEPRC source\", \"froh\": 0.023521172461040997, \"number_of_ROHs\": 37}, {\"sample\": \"34270\", \"Interval\": \"NEPRC source\", \"froh\": 0.020455905950614684, \"number_of_ROHs\": 33}, {\"sample\": \"17546\", \"Interval\": \"Brooks source\", \"froh\": 0.022912573283375592, \"number_of_ROHs\": 37}, {\"sample\": \"10250\", \"Interval\": \"Conventional source\", \"froh\": 0.23114942694662377, \"number_of_ROHs\": 67}, {\"sample\": \"33937\", \"Interval\": \"NEPRC source\", \"froh\": 0.02077344548044359, \"number_of_ROHs\": 32}, {\"sample\": \"16643\", \"Interval\": \"Brooks source\", \"froh\": 0.011550716057941753, \"number_of_ROHs\": 19}, {\"sample\": \"17572\", \"Interval\": \"Brooks source\", \"froh\": 0.02222879578680978, \"number_of_ROHs\": 38}, {\"sample\": \"17536\", \"Interval\": \"Brooks source\", \"froh\": 0.0810423159169416, \"number_of_ROHs\": 48}, {\"sample\": \"34228\", \"Interval\": \"NEPRC source\", \"froh\": 0.023996774199948813, \"number_of_ROHs\": 30}, {\"sample\": \"16641\", \"Interval\": \"Brooks source\", \"froh\": 0.03653967023736408, \"number_of_ROHs\": 44}, {\"sample\": \"33914\", \"Interval\": \"NEPRC source\", \"froh\": 0.015705454915381743, \"number_of_ROHs\": 20}, {\"sample\": \"17575\", \"Interval\": \"Brooks source\", \"froh\": 0.015902552635892155, \"number_of_ROHs\": 22}, {\"sample\": \"34023\", \"Interval\": \"NEPRC source\", \"froh\": 0.01954364909810982, \"number_of_ROHs\": 32}, {\"sample\": \"34244\", \"Interval\": \"NEPRC source\", \"froh\": 0.018306834431322694, \"number_of_ROHs\": 29}, {\"sample\": \"16354\", \"Interval\": \"Brooks source\", \"froh\": 0.02564108635746494, \"number_of_ROHs\": 37}, {\"sample\": \"17585\", \"Interval\": \"Brooks source\", \"froh\": 0.028359032396623813, \"number_of_ROHs\": 42}, {\"sample\": \"33949\", \"Interval\": \"NEPRC source\", \"froh\": 0.019735942505199194, \"number_of_ROHs\": 32}, {\"sample\": \"16651\", \"Interval\": \"Brooks source\", \"froh\": 0.02005877280470821, \"number_of_ROHs\": 34}, {\"sample\": \"19323\", \"Interval\": \"Brooks source\", \"froh\": 0.018433029292530802, \"number_of_ROHs\": 31}, {\"sample\": \"10244\", \"Interval\": \"Conventional source\", \"froh\": 0.13529683158337794, \"number_of_ROHs\": 44}, {\"sample\": \"17680\", \"Interval\": \"Brooks source\", \"froh\": 0.022605030280907275, \"number_of_ROHs\": 28}, {\"sample\": \"17569\", \"Interval\": \"Brooks source\", \"froh\": 0.0034301250687038113, \"number_of_ROHs\": 6}, {\"sample\": \"34009\", \"Interval\": \"NEPRC source\", \"froh\": 0.029713158891172573, \"number_of_ROHs\": 43}, {\"sample\": \"34312\", \"Interval\": \"NEPRC source\", \"froh\": 0.017911964720273045, \"number_of_ROHs\": 30}, {\"sample\": \"17521\", \"Interval\": \"Brooks source\", \"froh\": 0.020873255668223758, \"number_of_ROHs\": 32}, {\"sample\": \"9710\", \"Interval\": \"Conventional source\", \"froh\": 0.005137354095269115, \"number_of_ROHs\": 8}, {\"sample\": \"34243\", \"Interval\": \"NEPRC source\", \"froh\": 0.017138131822791936, \"number_of_ROHs\": 28}, {\"sample\": \"34287\", \"Interval\": \"NEPRC source\", \"froh\": 0.03138767670958279, \"number_of_ROHs\": 37}, {\"sample\": \"33995\", \"Interval\": \"NEPRC source\", \"froh\": 0.01785835262885825, \"number_of_ROHs\": 29}, {\"sample\": \"17658\", \"Interval\": \"Brooks source\", \"froh\": 0.06141951688954096, \"number_of_ROHs\": 40}, {\"sample\": \"17684\", \"Interval\": \"Brooks source\", \"froh\": 0.013636433343841545, \"number_of_ROHs\": 23}, {\"sample\": \"17622\", \"Interval\": \"Brooks source\", \"froh\": 0.0792057259724912, \"number_of_ROHs\": 40}, {\"sample\": \"17537\", \"Interval\": \"Brooks source\", \"froh\": 0.024282244435615875, \"number_of_ROHs\": 39}, {\"sample\": \"33945\", \"Interval\": \"NEPRC source\", \"froh\": 0.014916820805210554, \"number_of_ROHs\": 25}, {\"sample\": \"14393\", \"Interval\": \"Conventional source\", \"froh\": 0.009479943169487198, \"number_of_ROHs\": 15}, {\"sample\": \"7893\", \"Interval\": \"Conventional source\", \"froh\": 0.05376204899482192, \"number_of_ROHs\": 27}, {\"sample\": \"33918\", \"Interval\": \"NEPRC source\", \"froh\": 0.030419931487507913, \"number_of_ROHs\": 29}, {\"sample\": \"34280\", \"Interval\": \"NEPRC source\", \"froh\": 0.019611448381355572, \"number_of_ROHs\": 30}, {\"sample\": \"34004\", \"Interval\": \"NEPRC source\", \"froh\": 0.019114503931943565, \"number_of_ROHs\": 32}, {\"sample\": \"34321\", \"Interval\": \"NEPRC source\", \"froh\": 0.019627477635763894, \"number_of_ROHs\": 30}, {\"sample\": \"8X0039\", \"Interval\": \"Conventional source\", \"froh\": 0.011173945271852222, \"number_of_ROHs\": 17}, {\"sample\": \"16347\", \"Interval\": \"Brooks source\", \"froh\": 0.018873789903562036, \"number_of_ROHs\": 29}, {\"sample\": \"17508\", \"Interval\": \"Brooks source\", \"froh\": 0.016074220371978486, \"number_of_ROHs\": 23}, {\"sample\": \"34303\", \"Interval\": \"NEPRC source\", \"froh\": 0.014161046294667976, \"number_of_ROHs\": 26}, {\"sample\": \"19325\", \"Interval\": \"Brooks source\", \"froh\": 0.006652841998800644, \"number_of_ROHs\": 9}, {\"sample\": \"17662\", \"Interval\": \"Brooks source\", \"froh\": 0.19543556158186925, \"number_of_ROHs\": 48}, {\"sample\": \"17509\", \"Interval\": \"Brooks source\", \"froh\": 0.022836704702382797, \"number_of_ROHs\": 32}, {\"sample\": \"12147\", \"Interval\": \"Conventional source\", \"froh\": 0.10974167764969671, \"number_of_ROHs\": 46}, {\"sample\": \"33929\", \"Interval\": \"NEPRC source\", \"froh\": 0.01865986592882434, \"number_of_ROHs\": 30}, {\"sample\": \"16644\", \"Interval\": \"Brooks source\", \"froh\": 0.026892028710730233, \"number_of_ROHs\": 37}, {\"sample\": \"17606\", \"Interval\": \"Brooks source\", \"froh\": 0.02295135552514927, \"number_of_ROHs\": 29}, {\"sample\": \"17525\", \"Interval\": \"Brooks source\", \"froh\": 0.0038079714140450563, \"number_of_ROHs\": 7}, {\"sample\": \"34235\", \"Interval\": \"NEPRC source\", \"froh\": 0.01981199778423637, \"number_of_ROHs\": 30}, {\"sample\": \"17730\", \"Interval\": \"Brooks source\", \"froh\": 0.010811378413474123, \"number_of_ROHs\": 20}, {\"sample\": \"10814\", \"Interval\": \"Conventional source\", \"froh\": 0.0031837643542507845, \"number_of_ROHs\": 4}, {\"sample\": \"33916\", \"Interval\": \"NEPRC source\", \"froh\": 0.012561038847573073, \"number_of_ROHs\": 19}, {\"sample\": \"17619\", \"Interval\": \"Brooks source\", \"froh\": 0.01737671146855051, \"number_of_ROHs\": 23}, {\"sample\": \"34249\", \"Interval\": \"NEPRC source\", \"froh\": 0.018200316130740603, \"number_of_ROHs\": 26}, {\"sample\": \"34294\", \"Interval\": \"NEPRC source\", \"froh\": 0.02043782227390122, \"number_of_ROHs\": 30}, {\"sample\": \"33965\", \"Interval\": \"NEPRC source\", \"froh\": 0.015330351022987297, \"number_of_ROHs\": 24}, {\"sample\": \"17527\", \"Interval\": \"Brooks source\", \"froh\": 0.003215397399794971, \"number_of_ROHs\": 5}, {\"sample\": \"34326\", \"Interval\": \"NEPRC source\", \"froh\": 0.020196640384683363, \"number_of_ROHs\": 31}, {\"sample\": \"33966\", \"Interval\": \"NEPRC source\", \"froh\": 0.03258603269495204, \"number_of_ROHs\": 48}, {\"sample\": \"16645\", \"Interval\": \"Brooks source\", \"froh\": 0.01735234514230758, \"number_of_ROHs\": 30}, {\"sample\": \"34003\", \"Interval\": \"NEPRC source\", \"froh\": 0.022963624785078057, \"number_of_ROHs\": 35}, {\"sample\": \"16348\", \"Interval\": \"Brooks source\", \"froh\": 0.02238562251600135, \"number_of_ROHs\": 32}, {\"sample\": \"17740\", \"Interval\": \"Brooks source\", \"froh\": 0.030484684468599175, \"number_of_ROHs\": 46}, {\"sample\": \"14396\", \"Interval\": \"Conventional source\", \"froh\": 0.11241857317741516, \"number_of_ROHs\": 46}, {\"sample\": \"17659\", \"Interval\": \"Brooks source\", \"froh\": 0.017343856331823358, \"number_of_ROHs\": 31}, {\"sample\": \"17645\", \"Interval\": \"Brooks source\", \"froh\": 0.011646920593251186, \"number_of_ROHs\": 18}, {\"sample\": \"17666\", \"Interval\": \"Brooks source\", \"froh\": 0.017280499866980433, \"number_of_ROHs\": 30}, {\"sample\": \"17544\", \"Interval\": \"Brooks source\", \"froh\": 0.01620702367452259, \"number_of_ROHs\": 26}, {\"sample\": \"17654\", \"Interval\": \"Brooks source\", \"froh\": 0.018749431898212928, \"number_of_ROHs\": 33}, {\"sample\": \"33963\", \"Interval\": \"NEPRC source\", \"froh\": 0.01972196469782837, \"number_of_ROHs\": 30}, {\"sample\": \"17732\", \"Interval\": \"Brooks source\", \"froh\": 0.018923375714043546, \"number_of_ROHs\": 28}, {\"sample\": \"9590\", \"Interval\": \"Conventional source\", \"froh\": 0.00039729678562665016, \"number_of_ROHs\": 1}, {\"sample\": \"33985\", \"Interval\": \"NEPRC source\", \"froh\": 0.01876779339054224, \"number_of_ROHs\": 28}, {\"sample\": \"18400\", \"Interval\": \"Brooks source\", \"froh\": 0.003923340763946493, \"number_of_ROHs\": 7}, {\"sample\": \"34322\", \"Interval\": \"NEPRC source\", \"froh\": 0.017147362218735328, \"number_of_ROHs\": 26}, {\"sample\": \"34248\", \"Interval\": \"NEPRC source\", \"froh\": 0.015104750982306462, \"number_of_ROHs\": 27}, {\"sample\": \"17568\", \"Interval\": \"Brooks source\", \"froh\": 0.0021999921092183115, \"number_of_ROHs\": 3}, {\"sample\": \"34298\", \"Interval\": \"NEPRC source\", \"froh\": 0.02312227907241725, \"number_of_ROHs\": 35}, {\"sample\": \"34297\", \"Interval\": \"NEPRC source\", \"froh\": 0.025399885500915886, \"number_of_ROHs\": 36}, {\"sample\": \"16353\", \"Interval\": \"Brooks source\", \"froh\": 0.01618849928629001, \"number_of_ROHs\": 26}, {\"sample\": \"17578\", \"Interval\": \"Brooks source\", \"froh\": 0.011037213872206941, \"number_of_ROHs\": 19}, {\"sample\": \"34274\", \"Interval\": \"NEPRC source\", \"froh\": 0.016515978441485897, \"number_of_ROHs\": 25}, {\"sample\": \"8896\", \"Interval\": \"Conventional source\", \"froh\": 0.008566074093830128, \"number_of_ROHs\": 15}, {\"sample\": \"17539\", \"Interval\": \"Brooks source\", \"froh\": 0.02040397637305008, \"number_of_ROHs\": 32}, {\"sample\": \"18401\", \"Interval\": \"Brooks source\", \"froh\": 0.009155767305188174, \"number_of_ROHs\": 14}, {\"sample\": \"33983\", \"Interval\": \"NEPRC source\", \"froh\": 0.01986953202221706, \"number_of_ROHs\": 31}, {\"sample\": \"17745\", \"Interval\": \"Brooks source\", \"froh\": 0.020820190654146194, \"number_of_ROHs\": 35}, {\"sample\": \"34319\", \"Interval\": \"NEPRC source\", \"froh\": 0.018892605124206388, \"number_of_ROHs\": 30}, {\"sample\": \"12001\", \"Interval\": \"Conventional source\", \"froh\": 0.28038195526433324, \"number_of_ROHs\": 43}, {\"sample\": \"16346\", \"Interval\": \"Brooks source\", \"froh\": 0.013994034852437614, \"number_of_ROHs\": 21}, {\"sample\": \"34277\", \"Interval\": \"NEPRC source\", \"froh\": 0.03280380034357164, \"number_of_ROHs\": 33}, {\"sample\": \"17642\", \"Interval\": \"Brooks source\", \"froh\": 0.030264824834920486, \"number_of_ROHs\": 31}, {\"sample\": \"34299\", \"Interval\": \"NEPRC source\", \"froh\": 0.02899791087305739, \"number_of_ROHs\": 41}, {\"sample\": \"33924\", \"Interval\": \"NEPRC source\", \"froh\": 0.02003075061835313, \"number_of_ROHs\": 32}, {\"sample\": \"17534\", \"Interval\": \"Brooks source\", \"froh\": 0.013944322964989877, \"number_of_ROHs\": 22}, {\"sample\": \"34229\", \"Interval\": \"NEPRC source\", \"froh\": 0.01613137972623659, \"number_of_ROHs\": 24}, {\"sample\": \"12540\", \"Interval\": \"Conventional source\", \"froh\": 0.020145531609078834, \"number_of_ROHs\": 27}, {\"sample\": \"17557\", \"Interval\": \"Brooks source\", \"froh\": 0.018071202531978053, \"number_of_ROHs\": 26}, {\"sample\": \"18314\", \"Interval\": \"Brooks source\", \"froh\": 0.021504576964852758, \"number_of_ROHs\": 30}, {\"sample\": \"17505\", \"Interval\": \"Brooks source\", \"froh\": 0.018952599164708116, \"number_of_ROHs\": 31}, {\"sample\": \"33959\", \"Interval\": \"NEPRC source\", \"froh\": 0.018161340124661893, \"number_of_ROHs\": 31}, {\"sample\": \"34295\", \"Interval\": \"NEPRC source\", \"froh\": 0.03180473261951245, \"number_of_ROHs\": 39}, {\"sample\": \"14970\", \"Interval\": \"Conventional source\", \"froh\": 0.0941652150909212, \"number_of_ROHs\": 37}, {\"sample\": \"33935\", \"Interval\": \"NEPRC source\", \"froh\": 0.02626771863229394, \"number_of_ROHs\": 36}, {\"sample\": \"9908\", \"Interval\": \"Conventional source\", \"froh\": 0.019556978669043663, \"number_of_ROHs\": 30}, {\"sample\": \"17701\", \"Interval\": \"Brooks source\", \"froh\": 0.008925796596344772, \"number_of_ROHs\": 15}, {\"sample\": \"11452\", \"Interval\": \"Conventional source\", \"froh\": 0.16054357782743306, \"number_of_ROHs\": 38}, {\"sample\": \"17615\", \"Interval\": \"Brooks source\", \"froh\": 0.017133193994235574, \"number_of_ROHs\": 27}, {\"sample\": \"16640\", \"Interval\": \"Brooks source\", \"froh\": 0.0226281343498541, \"number_of_ROHs\": 36}, {\"sample\": \"34261\", \"Interval\": \"NEPRC source\", \"froh\": 0.022796269699435323, \"number_of_ROHs\": 38}, {\"sample\": \"17582\", \"Interval\": \"Brooks source\", \"froh\": 0.008316368806641739, \"number_of_ROHs\": 10}, {\"sample\": \"33919\", \"Interval\": \"NEPRC source\", \"froh\": 0.01215867890024074, \"number_of_ROHs\": 20}, {\"sample\": \"33962\", \"Interval\": \"NEPRC source\", \"froh\": 0.015288896990873258, \"number_of_ROHs\": 29}, {\"sample\": \"16646\", \"Interval\": \"Brooks source\", \"froh\": 0.01866927855991066, \"number_of_ROHs\": 31}, {\"sample\": \"17723\", \"Interval\": \"Brooks source\", \"froh\": 0.013519353215047342, \"number_of_ROHs\": 20}, {\"sample\": \"16350\", \"Interval\": \"Brooks source\", \"froh\": 0.03318470489213793, \"number_of_ROHs\": 35}, {\"sample\": \"34313\", \"Interval\": \"NEPRC source\", \"froh\": 0.019077758260869188, \"number_of_ROHs\": 28}, {\"sample\": \"34238\", \"Interval\": \"NEPRC source\", \"froh\": 0.010798083801935043, \"number_of_ROHs\": 19}, {\"sample\": \"16653\", \"Interval\": \"Brooks source\", \"froh\": 0.016618940181513307, \"number_of_ROHs\": 23}, {\"sample\": \"17660\", \"Interval\": \"Brooks source\", \"froh\": 0.017182807697851202, \"number_of_ROHs\": 31}, {\"sample\": \"17714\", \"Interval\": \"Brooks source\", \"froh\": 0.004062478411295298, \"number_of_ROHs\": 8}, {\"sample\": \"34231\", \"Interval\": \"NEPRC source\", \"froh\": 0.022754259292272677, \"number_of_ROHs\": 37}, {\"sample\": \"17504\", \"Interval\": \"Brooks source\", \"froh\": 0.01381775322005918, \"number_of_ROHs\": 26}, {\"sample\": \"34257\", \"Interval\": \"NEPRC source\", \"froh\": 0.026654498218723073, \"number_of_ROHs\": 31}, {\"sample\": \"12908\", \"Interval\": \"Conventional source\", \"froh\": 0.12488894074367154, \"number_of_ROHs\": 37}, {\"sample\": \"17583\", \"Interval\": \"Brooks source\", \"froh\": 0.008409358937175043, \"number_of_ROHs\": 14}, {\"sample\": \"33987\", \"Interval\": \"NEPRC source\", \"froh\": 0.024170110689272502, \"number_of_ROHs\": 41}, {\"sample\": \"34273\", \"Interval\": \"NEPRC source\", \"froh\": 0.044408307752803466, \"number_of_ROHs\": 26}, {\"sample\": \"34250\", \"Interval\": \"NEPRC source\", \"froh\": 0.1233537770233309, \"number_of_ROHs\": 52}, {\"sample\": \"33970\", \"Interval\": \"NEPRC source\", \"froh\": 0.019205365630389194, \"number_of_ROHs\": 30}, {\"sample\": \"17661\", \"Interval\": \"Brooks source\", \"froh\": 0.007660781599052647, \"number_of_ROHs\": 13}, {\"sample\": \"17566\", \"Interval\": \"Brooks source\", \"froh\": 0.014448880008566242, \"number_of_ROHs\": 23}, {\"sample\": \"33948\", \"Interval\": \"NEPRC source\", \"froh\": 0.02416234784409234, \"number_of_ROHs\": 33}, {\"sample\": \"34288\", \"Interval\": \"NEPRC source\", \"froh\": 0.017954225793734326, \"number_of_ROHs\": 26}, {\"sample\": \"34241\", \"Interval\": \"NEPRC source\", \"froh\": 0.015595576050000727, \"number_of_ROHs\": 27}, {\"sample\": \"34290\", \"Interval\": \"NEPRC source\", \"froh\": 0.026739048258779752, \"number_of_ROHs\": 40}, {\"sample\": \"34264\", \"Interval\": \"NEPRC source\", \"froh\": 0.02654941734431936, \"number_of_ROHs\": 37}, {\"sample\": \"9038\", \"Interval\": \"Conventional source\", \"froh\": 0.018120462550653027, \"number_of_ROHs\": 29}]}}, {\"mode\": \"vega-lite\"});\n",
       "</script>"
      ],
      "text/plain": [
       "alt.Chart(...)"
      ]
     },
     "execution_count": 7,
     "metadata": {},
     "output_type": "execute_result"
    }
   ],
   "source": [
    "# Data per animal for source groups\n",
    "\n",
    "per_indiv_df = roh_df.select(\"sample\", \"chrom\", \"start\", \"stop\", \"length\", \"Interval\").filter(\n",
    "    pl.col(\"Interval\").is_in([\"Conventional source\", \"Brooks source\", \"NEPRC source\"])\n",
    ").group_by(\"sample\", \"Interval\").agg(\n",
    "    froh = pl.sum(\"length\").truediv(genome_length),\n",
    "    number_of_ROHs = pl.count(\"length\"),\n",
    ").with_columns(\n",
    "# Index populations to be in correct order\n",
    "    pl.col(\"Interval\").cast(pl.Enum(\n",
    "        colors[\"Cohort\"]\n",
    "    )),\n",
    ")\n",
    "\n",
    "alt.Chart(per_indiv_df).mark_circle(opacity=0.9).encode(\n",
    "    alt.X(\"number_of_ROHs\", title=\"Number of ROHs\"),\n",
    "    alt.Y(\"froh\", title=\"fROH\"),\n",
    "    alt.Color(\"Interval\", title=\"Cohorts\").scale(\n",
    "        domain = list(colors[\"Cohort\"]),\n",
    "        range = list(colors[\"Color\"])\n",
    "    )\n",
    ").properties(\n",
    "    title=\"Individuals by ROH\"\n",
    ")#.save(\"/master/abagwell/figures/roh/U42_WES.common_between_founding_cohorts2.by_indiv.min1Mb.html\")"
   ]
  },
  {
   "cell_type": "code",
   "execution_count": 8,
   "metadata": {},
   "outputs": [],
   "source": [
    "\n",
    "roh_df = roh_df.drop_nulls(\"Interval\"\n",
    ").group_by(\"Interval\").agg(\"*\").with_columns(\n",
    "# Index populations so that year ranges have their own color\n",
    "    pl.col(\"Interval\").cast(pl.Enum(\n",
    "        colors[\"Cohort\"]\n",
    "    )),\n",
    ").with_row_index(\"pop_idx\", offset=1).with_columns(\n",
    "    # Find which are year ranges\n",
    "    is_year = pl.col(\"Interval\").cast(pl.String).str.contains(\"-\").not_().cast(pl.Int8)\n",
    ").with_columns(\n",
    "    # Set the index of year ranges to 0\n",
    "    pl.col(\"pop_idx\").mul(\"is_year\")\n",
    ").drop(\"is_year\").sort(\"Interval\"#.explode(pl.exclude(\"pop_idx\"))\n",
    ").group_by(\n",
    "    # Create color index\n",
    "    \"pop_idx\", maintain_order=True\n",
    ").agg('*').with_row_index(\"color_idx\").drop(\"pop_idx\").explode(pl.exclude(\"color_idx\")).explode(pl.exclude(\"Interval\", \"color_idx\"))"
   ]
  },
  {
   "cell_type": "code",
   "execution_count": 9,
   "metadata": {},
   "outputs": [
    {
     "data": {
      "text/html": [
       "\n",
       "<style>\n",
       "  #altair-viz-8b4f8f696af340f39b2967e2a0c18e5a.vega-embed {\n",
       "    width: 100%;\n",
       "    display: flex;\n",
       "  }\n",
       "\n",
       "  #altair-viz-8b4f8f696af340f39b2967e2a0c18e5a.vega-embed details,\n",
       "  #altair-viz-8b4f8f696af340f39b2967e2a0c18e5a.vega-embed details summary {\n",
       "    position: relative;\n",
       "  }\n",
       "</style>\n",
       "<div id=\"altair-viz-8b4f8f696af340f39b2967e2a0c18e5a\"></div>\n",
       "<script type=\"text/javascript\">\n",
       "  var VEGA_DEBUG = (typeof VEGA_DEBUG == \"undefined\") ? {} : VEGA_DEBUG;\n",
       "  (function(spec, embedOpt){\n",
       "    let outputDiv = document.currentScript.previousElementSibling;\n",
       "    if (outputDiv.id !== \"altair-viz-8b4f8f696af340f39b2967e2a0c18e5a\") {\n",
       "      outputDiv = document.getElementById(\"altair-viz-8b4f8f696af340f39b2967e2a0c18e5a\");\n",
       "    }\n",
       "\n",
       "    const paths = {\n",
       "      \"vega\": \"https://cdn.jsdelivr.net/npm/vega@5?noext\",\n",
       "      \"vega-lib\": \"https://cdn.jsdelivr.net/npm/vega-lib?noext\",\n",
       "      \"vega-lite\": \"https://cdn.jsdelivr.net/npm/vega-lite@5.20.1?noext\",\n",
       "      \"vega-embed\": \"https://cdn.jsdelivr.net/npm/vega-embed@6?noext\",\n",
       "    };\n",
       "\n",
       "    function maybeLoadScript(lib, version) {\n",
       "      var key = `${lib.replace(\"-\", \"\")}_version`;\n",
       "      return (VEGA_DEBUG[key] == version) ?\n",
       "        Promise.resolve(paths[lib]) :\n",
       "        new Promise(function(resolve, reject) {\n",
       "          var s = document.createElement('script');\n",
       "          document.getElementsByTagName(\"head\")[0].appendChild(s);\n",
       "          s.async = true;\n",
       "          s.onload = () => {\n",
       "            VEGA_DEBUG[key] = version;\n",
       "            return resolve(paths[lib]);\n",
       "          };\n",
       "          s.onerror = () => reject(`Error loading script: ${paths[lib]}`);\n",
       "          s.src = paths[lib];\n",
       "        });\n",
       "    }\n",
       "\n",
       "    function showError(err) {\n",
       "      outputDiv.innerHTML = `<div class=\"error\" style=\"color:red;\">${err}</div>`;\n",
       "      throw err;\n",
       "    }\n",
       "\n",
       "    function displayChart(vegaEmbed) {\n",
       "      vegaEmbed(outputDiv, spec, embedOpt)\n",
       "        .catch(err => showError(`Javascript Error: ${err.message}<br>This usually means there's a typo in your chart specification. See the javascript console for the full traceback.`));\n",
       "    }\n",
       "\n",
       "    if(typeof define === \"function\" && define.amd) {\n",
       "      requirejs.config({paths});\n",
       "      let deps = [\"vega-embed\"];\n",
       "      require(deps, displayChart, err => showError(`Error loading script: ${err.message}`));\n",
       "    } else {\n",
       "      maybeLoadScript(\"vega\", \"5\")\n",
       "        .then(() => maybeLoadScript(\"vega-lite\", \"5.20.1\"))\n",
       "        .then(() => maybeLoadScript(\"vega-embed\", \"6\"))\n",
       "        .catch(showError)\n",
       "        .then(() => displayChart(vegaEmbed));\n",
       "    }\n",
       "  })({\"config\": {\"view\": {\"continuousWidth\": 300, \"continuousHeight\": 300}}, \"data\": {\"name\": \"data-5df551197bac186c42a2acdb4a2ae0af\"}, \"mark\": {\"type\": \"bar\"}, \"encoding\": {\"color\": {\"field\": \"Interval\", \"legend\": null, \"scale\": {\"domain\": [\"Conventional source\", \"Brooks source\", \"2003-2005\", \"2006-2008\", \"2009-2011\", \"2012-2014\", \"2015-2017\", \"2018-2020\", \"NEPRC source\", \"Offspring of merger\"], \"range\": [\"#4269d0\", \"#efb118\", \"#ff725c\", \"#ff725c\", \"#ff725c\", \"#ff725c\", \"#ff725c\", \"#ff725c\", \"#6cc5b0\", \"#3ca951\"]}, \"title\": null, \"type\": \"nominal\"}, \"x\": {\"field\": \"Interval\", \"sort\": [\"Conventional source\", \"Brooks source\", \"2003-2005\", \"2006-2008\", \"2009-2011\", \"2012-2014\", \"2015-2017\", \"2018-2020\", \"NEPRC source\", \"Offspring of merger\"], \"title\": \"Cohort\", \"type\": \"ordinal\"}, \"y\": {\"field\": \"length\", \"title\": \"Mean Length\", \"type\": \"quantitative\"}}, \"title\": \"ROH Across Cohorts\", \"$schema\": \"https://vega.github.io/schema/vega-lite/v5.20.1.json\", \"datasets\": {\"data-5df551197bac186c42a2acdb4a2ae0af\": [{\"Interval\": \"2012-2014\", \"color_idx\": 2, \"length\": 2460477.969312875}, {\"Interval\": \"NEPRC source\", \"color_idx\": 3, \"length\": 1963770.423766816}, {\"Interval\": \"Brooks source\", \"color_idx\": 1, \"length\": 2129770.034077556}, {\"Interval\": \"Conventional source\", \"color_idx\": 0, \"length\": 6231181.394160584}, {\"Interval\": \"2015-2017\", \"color_idx\": 2, \"length\": 3106966.0431266846}, {\"Interval\": \"2003-2005\", \"color_idx\": 2, \"length\": 2399310.9832713753}, {\"Interval\": \"Offspring of merger\", \"color_idx\": 4, \"length\": 1817551.0249077491}, {\"Interval\": \"2006-2008\", \"color_idx\": 2, \"length\": 2278775.838502674}, {\"Interval\": \"2018-2020\", \"color_idx\": 2, \"length\": 2523633.6348214285}, {\"Interval\": \"2009-2011\", \"color_idx\": 2, \"length\": 2295473.051636364}]}}, {\"mode\": \"vega-lite\"});\n",
       "</script>"
      ],
      "text/plain": [
       "alt.Chart(...)"
      ]
     },
     "execution_count": 9,
     "metadata": {},
     "output_type": "execute_result"
    }
   ],
   "source": [
    "# Plot ROH lengths by group\n",
    "\n",
    "mean_roh_df = roh_df.group_by(\"Interval\", \"color_idx\").agg(pl.mean(\"length\"))\n",
    "# # Index populations so that year ranges have their own color\n",
    "# ).with_columns(\n",
    "#     pl.col(\"Interval\").cast(pl.Enum(\n",
    "#         colors[\"Cohort\"]\n",
    "#     )),\n",
    "# ).with_row_index(\"pop_idx\", offset=1).with_columns(\n",
    "#     # Find which are year ranges\n",
    "#     is_year = pl.col(\"Interval\").cast(pl.String).str.contains(\"-\").not_().cast(pl.Int8)\n",
    "# ).with_columns(\n",
    "#     # Set the index of year ranges to 0\n",
    "#     pl.col(\"pop_idx\").mul(\"is_year\")\n",
    "# ).drop(\"is_year\").sort(\"Interval\").group_by(\n",
    "#     # Create color index\n",
    "#     \"pop_idx\", maintain_order=True\n",
    "# ).agg('*').with_row_index(\"color_idx\").drop(\"pop_idx\"\n",
    "# ).explode(\"Interval\", \"length\")\n",
    "\n",
    "mean_roh_df\n",
    "\n",
    "\n",
    "\n",
    "\n",
    "alt.Chart(mean_roh_df).mark_bar().encode(\n",
    "    alt.X(\"Interval\", title=\"Cohort\"),\n",
    "    alt.Y(\"length\", title=\"Mean Length\"),\n",
    "    alt.Color(\"Interval:N\", title=None, legend=None).scale(\n",
    "        domain = list(colors[\"Cohort\"]),\n",
    "        range = list(colors[\"Color\"])\n",
    "    ),\n",
    ").properties(\n",
    "    title=\"ROH Across Cohorts\"\n",
    ")#.save(\"/master/abagwell/figures/roh/U42_WES.common_between_founding_cohorts2.mean_roh.min1Mb.html\")"
   ]
  },
  {
   "cell_type": "code",
   "execution_count": 10,
   "metadata": {},
   "outputs": [
    {
     "data": {
      "text/html": [
       "<div><style>\n",
       ".dataframe > thead > tr,\n",
       ".dataframe > tbody > tr {\n",
       "  text-align: right;\n",
       "  white-space: pre-wrap;\n",
       "}\n",
       "</style>\n",
       "<small>shape: (10, 3)</small><table border=\"1\" class=\"dataframe\"><thead><tr><th>Interval</th><th>color_idx</th><th>length</th></tr><tr><td>enum</td><td>u32</td><td>f64</td></tr></thead><tbody><tr><td>&quot;2012-2014&quot;</td><td>2</td><td>2.4605e6</td></tr><tr><td>&quot;NEPRC source&quot;</td><td>3</td><td>1.9638e6</td></tr><tr><td>&quot;Brooks source&quot;</td><td>1</td><td>2.1298e6</td></tr><tr><td>&quot;Conventional source&quot;</td><td>0</td><td>6.2312e6</td></tr><tr><td>&quot;2015-2017&quot;</td><td>2</td><td>3.1070e6</td></tr><tr><td>&quot;2003-2005&quot;</td><td>2</td><td>2.3993e6</td></tr><tr><td>&quot;Offspring of merger&quot;</td><td>4</td><td>1.8176e6</td></tr><tr><td>&quot;2006-2008&quot;</td><td>2</td><td>2.2788e6</td></tr><tr><td>&quot;2018-2020&quot;</td><td>2</td><td>2.5236e6</td></tr><tr><td>&quot;2009-2011&quot;</td><td>2</td><td>2.2955e6</td></tr></tbody></table></div>"
      ],
      "text/plain": [
       "shape: (10, 3)\n",
       "┌─────────────────────┬───────────┬──────────┐\n",
       "│ Interval            ┆ color_idx ┆ length   │\n",
       "│ ---                 ┆ ---       ┆ ---      │\n",
       "│ enum                ┆ u32       ┆ f64      │\n",
       "╞═════════════════════╪═══════════╪══════════╡\n",
       "│ 2012-2014           ┆ 2         ┆ 2.4605e6 │\n",
       "│ NEPRC source        ┆ 3         ┆ 1.9638e6 │\n",
       "│ Brooks source       ┆ 1         ┆ 2.1298e6 │\n",
       "│ Conventional source ┆ 0         ┆ 6.2312e6 │\n",
       "│ 2015-2017           ┆ 2         ┆ 3.1070e6 │\n",
       "│ 2003-2005           ┆ 2         ┆ 2.3993e6 │\n",
       "│ Offspring of merger ┆ 4         ┆ 1.8176e6 │\n",
       "│ 2006-2008           ┆ 2         ┆ 2.2788e6 │\n",
       "│ 2018-2020           ┆ 2         ┆ 2.5236e6 │\n",
       "│ 2009-2011           ┆ 2         ┆ 2.2955e6 │\n",
       "└─────────────────────┴───────────┴──────────┘"
      ]
     },
     "execution_count": 10,
     "metadata": {},
     "output_type": "execute_result"
    }
   ],
   "source": [
    "mean_roh_df"
   ]
  },
  {
   "cell_type": "code",
   "execution_count": 11,
   "metadata": {},
   "outputs": [
    {
     "data": {
      "text/html": [
       "<div><style>\n",
       ".dataframe > thead > tr,\n",
       ".dataframe > tbody > tr {\n",
       "  text-align: right;\n",
       "  white-space: pre-wrap;\n",
       "}\n",
       "</style>\n",
       "<small>shape: (10, 3)</small><table border=\"1\" class=\"dataframe\"><thead><tr><th>Interval</th><th>color_idx</th><th>length</th></tr><tr><td>enum</td><td>u32</td><td>f64</td></tr></thead><tbody><tr><td>&quot;2012-2014&quot;</td><td>2</td><td>2.4605e6</td></tr><tr><td>&quot;NEPRC source&quot;</td><td>3</td><td>1.9638e6</td></tr><tr><td>&quot;Brooks source&quot;</td><td>1</td><td>2.1298e6</td></tr><tr><td>&quot;Conventional source&quot;</td><td>0</td><td>6.2312e6</td></tr><tr><td>&quot;2015-2017&quot;</td><td>2</td><td>3.1070e6</td></tr><tr><td>&quot;2003-2005&quot;</td><td>2</td><td>2.3993e6</td></tr><tr><td>&quot;Offspring of merger&quot;</td><td>4</td><td>1.8176e6</td></tr><tr><td>&quot;2006-2008&quot;</td><td>2</td><td>2.2788e6</td></tr><tr><td>&quot;2018-2020&quot;</td><td>2</td><td>2.5236e6</td></tr><tr><td>&quot;2009-2011&quot;</td><td>2</td><td>2.2955e6</td></tr></tbody></table></div>"
      ],
      "text/plain": [
       "shape: (10, 3)\n",
       "┌─────────────────────┬───────────┬──────────┐\n",
       "│ Interval            ┆ color_idx ┆ length   │\n",
       "│ ---                 ┆ ---       ┆ ---      │\n",
       "│ enum                ┆ u32       ┆ f64      │\n",
       "╞═════════════════════╪═══════════╪══════════╡\n",
       "│ 2012-2014           ┆ 2         ┆ 2.4605e6 │\n",
       "│ NEPRC source        ┆ 3         ┆ 1.9638e6 │\n",
       "│ Brooks source       ┆ 1         ┆ 2.1298e6 │\n",
       "│ Conventional source ┆ 0         ┆ 6.2312e6 │\n",
       "│ 2015-2017           ┆ 2         ┆ 3.1070e6 │\n",
       "│ 2003-2005           ┆ 2         ┆ 2.3993e6 │\n",
       "│ Offspring of merger ┆ 4         ┆ 1.8176e6 │\n",
       "│ 2006-2008           ┆ 2         ┆ 2.2788e6 │\n",
       "│ 2018-2020           ┆ 2         ┆ 2.5236e6 │\n",
       "│ 2009-2011           ┆ 2         ┆ 2.2955e6 │\n",
       "└─────────────────────┴───────────┴──────────┘"
      ]
     },
     "execution_count": 11,
     "metadata": {},
     "output_type": "execute_result"
    }
   ],
   "source": [
    "mean_roh_df"
   ]
  },
  {
   "cell_type": "code",
   "execution_count": 12,
   "metadata": {},
   "outputs": [
    {
     "data": {
      "text/html": [
       "<div><style>\n",
       ".dataframe > thead > tr,\n",
       ".dataframe > tbody > tr {\n",
       "  text-align: right;\n",
       "  white-space: pre-wrap;\n",
       "}\n",
       "</style>\n",
       "<small>shape: (13_374, 20)</small><table border=\"1\" class=\"dataframe\"><thead><tr><th>color_idx</th><th>Interval</th><th>RG</th><th>sample</th><th>chrom</th><th>start</th><th>stop</th><th>length</th><th>Number of markers</th><th>Quality (average fwd-bwd phred score)</th><th>Species code (3 char)</th><th>WES</th><th>WGS</th><th>Colony</th><th>Gender</th><th>Status</th><th>Dam</th><th>Sire</th><th>Date of Birth</th><th>Date of Death</th></tr><tr><td>u32</td><td>enum</td><td>str</td><td>str</td><td>str</td><td>i32</td><td>i32</td><td>i64</td><td>i32</td><td>f32</td><td>str</td><td>str</td><td>str</td><td>str</td><td>str</td><td>str</td><td>str</td><td>str</td><td>str</td><td>str</td></tr></thead><tbody><tr><td>0</td><td>&quot;Conventional source&quot;</td><td>&quot;RG&quot;</td><td>&quot;10235&quot;</td><td>&quot;1&quot;</td><td>65574431</td><td>66923894</td><td>1349464</td><td>32</td><td>2.5</td><td>&quot;MML&quot;</td><td>&quot;Y&quot;</td><td>null</td><td>&quot;1&quot;</td><td>&quot;Female&quot;</td><td>&quot;Dead&quot;</td><td>&quot;6228&quot;</td><td>&quot;8X0036&quot;</td><td>&quot;03/22/1991&quot;</td><td>&quot;04/22/2002&quot;</td></tr><tr><td>0</td><td>&quot;Conventional source&quot;</td><td>&quot;RG&quot;</td><td>&quot;10235&quot;</td><td>&quot;1&quot;</td><td>142431093</td><td>145655479</td><td>3224387</td><td>52</td><td>39.700001</td><td>&quot;MML&quot;</td><td>&quot;Y&quot;</td><td>null</td><td>&quot;1&quot;</td><td>&quot;Female&quot;</td><td>&quot;Dead&quot;</td><td>&quot;6228&quot;</td><td>&quot;8X0036&quot;</td><td>&quot;03/22/1991&quot;</td><td>&quot;04/22/2002&quot;</td></tr><tr><td>0</td><td>&quot;Conventional source&quot;</td><td>&quot;RG&quot;</td><td>&quot;10244&quot;</td><td>&quot;1&quot;</td><td>169810317</td><td>201692994</td><td>31882678</td><td>5679</td><td>97.099998</td><td>&quot;MML&quot;</td><td>&quot;Y&quot;</td><td>null</td><td>&quot;1&quot;</td><td>&quot;Female&quot;</td><td>&quot;Dead&quot;</td><td>&quot;7099&quot;</td><td>&quot;8X0036&quot;</td><td>&quot;03/29/1991&quot;</td><td>&quot;01/26/2007&quot;</td></tr><tr><td>0</td><td>&quot;Conventional source&quot;</td><td>&quot;RG&quot;</td><td>&quot;10250&quot;</td><td>&quot;1&quot;</td><td>1146146</td><td>16497705</td><td>15351560</td><td>1663</td><td>94.099998</td><td>&quot;MML&quot;</td><td>&quot;Y&quot;</td><td>null</td><td>&quot;1&quot;</td><td>&quot;Male&quot;</td><td>&quot;Dead&quot;</td><td>&quot;7069&quot;</td><td>&quot;8X0036&quot;</td><td>&quot;04/08/1991&quot;</td><td>&quot;06/24/2003&quot;</td></tr><tr><td>0</td><td>&quot;Conventional source&quot;</td><td>&quot;RG&quot;</td><td>&quot;10250&quot;</td><td>&quot;1&quot;</td><td>126215202</td><td>141616034</td><td>15400833</td><td>876</td><td>91.5</td><td>&quot;MML&quot;</td><td>&quot;Y&quot;</td><td>null</td><td>&quot;1&quot;</td><td>&quot;Male&quot;</td><td>&quot;Dead&quot;</td><td>&quot;7069&quot;</td><td>&quot;8X0036&quot;</td><td>&quot;04/08/1991&quot;</td><td>&quot;06/24/2003&quot;</td></tr><tr><td>&hellip;</td><td>&hellip;</td><td>&hellip;</td><td>&hellip;</td><td>&hellip;</td><td>&hellip;</td><td>&hellip;</td><td>&hellip;</td><td>&hellip;</td><td>&hellip;</td><td>&hellip;</td><td>&hellip;</td><td>&hellip;</td><td>&hellip;</td><td>&hellip;</td><td>&hellip;</td><td>&hellip;</td><td>&hellip;</td><td>&hellip;</td><td>&hellip;</td></tr><tr><td>4</td><td>&quot;Offspring of merger&quot;</td><td>&quot;RG&quot;</td><td>&quot;38610&quot;</td><td>&quot;20&quot;</td><td>29826915</td><td>32733910</td><td>2906996</td><td>89</td><td>11.7</td><td>&quot;MML&quot;</td><td>&quot;Y&quot;</td><td>null</td><td>&quot;Merged&quot;</td><td>&quot;Male&quot;</td><td>&quot;Alive&quot;</td><td>&quot;34275&quot;</td><td>&quot;28310&quot;</td><td>&quot;09/16/2019&quot;</td><td>null</td></tr><tr><td>4</td><td>&quot;Offspring of merger&quot;</td><td>&quot;RG&quot;</td><td>&quot;38995&quot;</td><td>&quot;20&quot;</td><td>15757560</td><td>16882661</td><td>1125102</td><td>105</td><td>53.400002</td><td>&quot;MML&quot;</td><td>&quot;Y&quot;</td><td>null</td><td>&quot;Merged&quot;</td><td>&quot;Female&quot;</td><td>&quot;Alive&quot;</td><td>&quot;33987&quot;</td><td>&quot;31143&quot;</td><td>&quot;04/11/2020&quot;</td><td>null</td></tr><tr><td>4</td><td>&quot;Offspring of merger&quot;</td><td>&quot;RG&quot;</td><td>&quot;39290&quot;</td><td>&quot;20&quot;</td><td>29821291</td><td>32733910</td><td>2912620</td><td>109</td><td>80.0</td><td>&quot;MML&quot;</td><td>&quot;Y&quot;</td><td>null</td><td>&quot;Merged&quot;</td><td>&quot;Female&quot;</td><td>&quot;Dead&quot;</td><td>&quot;34321&quot;</td><td>&quot;31204&quot;</td><td>&quot;06/11/2020&quot;</td><td>&quot;08/11/2023&quot;</td></tr><tr><td>4</td><td>&quot;Offspring of merger&quot;</td><td>&quot;RG&quot;</td><td>&quot;39442&quot;</td><td>&quot;20&quot;</td><td>24474692</td><td>25633428</td><td>1158737</td><td>65</td><td>42.099998</td><td>&quot;MML&quot;</td><td>&quot;Y&quot;</td><td>null</td><td>&quot;Merged&quot;</td><td>&quot;Female&quot;</td><td>&quot;Alive&quot;</td><td>&quot;34312&quot;</td><td>&quot;31204&quot;</td><td>&quot;07/28/2020&quot;</td><td>null</td></tr><tr><td>4</td><td>&quot;Offspring of merger&quot;</td><td>&quot;RG&quot;</td><td>&quot;40201&quot;</td><td>&quot;20&quot;</td><td>46616246</td><td>47875189</td><td>1258944</td><td>20</td><td>15.8</td><td>&quot;MML&quot;</td><td>&quot;Y&quot;</td><td>null</td><td>&quot;Merged&quot;</td><td>&quot;Female&quot;</td><td>&quot;Alive&quot;</td><td>&quot;34023&quot;</td><td>&quot;30142&quot;</td><td>&quot;10/27/2020&quot;</td><td>null</td></tr></tbody></table></div>"
      ],
      "text/plain": [
       "shape: (13_374, 20)\n",
       "┌───────────┬──────────────┬─────┬────────┬───┬───────┬────────┬───────────────┬───────────────┐\n",
       "│ color_idx ┆ Interval     ┆ RG  ┆ sample ┆ … ┆ Dam   ┆ Sire   ┆ Date of Birth ┆ Date of Death │\n",
       "│ ---       ┆ ---          ┆ --- ┆ ---    ┆   ┆ ---   ┆ ---    ┆ ---           ┆ ---           │\n",
       "│ u32       ┆ enum         ┆ str ┆ str    ┆   ┆ str   ┆ str    ┆ str           ┆ str           │\n",
       "╞═══════════╪══════════════╪═════╪════════╪═══╪═══════╪════════╪═══════════════╪═══════════════╡\n",
       "│ 0         ┆ Conventional ┆ RG  ┆ 10235  ┆ … ┆ 6228  ┆ 8X0036 ┆ 03/22/1991    ┆ 04/22/2002    │\n",
       "│           ┆ source       ┆     ┆        ┆   ┆       ┆        ┆               ┆               │\n",
       "│ 0         ┆ Conventional ┆ RG  ┆ 10235  ┆ … ┆ 6228  ┆ 8X0036 ┆ 03/22/1991    ┆ 04/22/2002    │\n",
       "│           ┆ source       ┆     ┆        ┆   ┆       ┆        ┆               ┆               │\n",
       "│ 0         ┆ Conventional ┆ RG  ┆ 10244  ┆ … ┆ 7099  ┆ 8X0036 ┆ 03/29/1991    ┆ 01/26/2007    │\n",
       "│           ┆ source       ┆     ┆        ┆   ┆       ┆        ┆               ┆               │\n",
       "│ 0         ┆ Conventional ┆ RG  ┆ 10250  ┆ … ┆ 7069  ┆ 8X0036 ┆ 04/08/1991    ┆ 06/24/2003    │\n",
       "│           ┆ source       ┆     ┆        ┆   ┆       ┆        ┆               ┆               │\n",
       "│ 0         ┆ Conventional ┆ RG  ┆ 10250  ┆ … ┆ 7069  ┆ 8X0036 ┆ 04/08/1991    ┆ 06/24/2003    │\n",
       "│           ┆ source       ┆     ┆        ┆   ┆       ┆        ┆               ┆               │\n",
       "│ …         ┆ …            ┆ …   ┆ …      ┆ … ┆ …     ┆ …      ┆ …             ┆ …             │\n",
       "│ 4         ┆ Offspring of ┆ RG  ┆ 38610  ┆ … ┆ 34275 ┆ 28310  ┆ 09/16/2019    ┆ null          │\n",
       "│           ┆ merger       ┆     ┆        ┆   ┆       ┆        ┆               ┆               │\n",
       "│ 4         ┆ Offspring of ┆ RG  ┆ 38995  ┆ … ┆ 33987 ┆ 31143  ┆ 04/11/2020    ┆ null          │\n",
       "│           ┆ merger       ┆     ┆        ┆   ┆       ┆        ┆               ┆               │\n",
       "│ 4         ┆ Offspring of ┆ RG  ┆ 39290  ┆ … ┆ 34321 ┆ 31204  ┆ 06/11/2020    ┆ 08/11/2023    │\n",
       "│           ┆ merger       ┆     ┆        ┆   ┆       ┆        ┆               ┆               │\n",
       "│ 4         ┆ Offspring of ┆ RG  ┆ 39442  ┆ … ┆ 34312 ┆ 31204  ┆ 07/28/2020    ┆ null          │\n",
       "│           ┆ merger       ┆     ┆        ┆   ┆       ┆        ┆               ┆               │\n",
       "│ 4         ┆ Offspring of ┆ RG  ┆ 40201  ┆ … ┆ 34023 ┆ 30142  ┆ 10/27/2020    ┆ null          │\n",
       "│           ┆ merger       ┆     ┆        ┆   ┆       ┆        ┆               ┆               │\n",
       "└───────────┴──────────────┴─────┴────────┴───┴───────┴────────┴───────────────┴───────────────┘"
      ]
     },
     "execution_count": 12,
     "metadata": {},
     "output_type": "execute_result"
    }
   ],
   "source": [
    "# \n",
    "roh_df"
   ]
  },
  {
   "cell_type": "code",
   "execution_count": 13,
   "metadata": {},
   "outputs": [],
   "source": [
    "def plot_trio_roh(df):\n",
    "    \"\"\"Plot the ROHs across all chromosomes of one trio.\"\"\"\n",
    "\n",
    "    # Create dummy records. That is, an ROH of length 0 for every combination of sample and chromosome so that they all appear on the plot\n",
    "    chromosomes = roh_df.select(\"chrom\").unique()\n",
    "    sequenced_animals = df.select(\"sample\", \"Colony\").unique()\n",
    "    dummy_records = sequenced_animals.join(chromosomes, how=\"cross\").with_columns(\n",
    "        start = pl.lit(0).cast(pl.Int32),\n",
    "        stop = pl.lit(0).cast(pl.Int32),\n",
    "        length = pl.lit(0).cast(pl.Int64),\n",
    "    ).select(  # Reorder\n",
    "        \"sample\", \"chrom\", \"start\", \"stop\", \"length\", \"Colony\"\n",
    "    )\n",
    "\n",
    "    # Concatenate ROHs with dummy records\n",
    "    df = pl.concat([df, dummy_records]).sort(\"sample\")  # TODO: Improve sorting for when needs to be numeric or animal ID has \"X\" in it\n",
    "\n",
    "    columns = []\n",
    "    for idx, chrom in enumerate(chromosomes):\n",
    "        #column_plots = []\n",
    "        # Only keep y-axis labels on leftmost plot\n",
    "        if idx == 0:\n",
    "            axis = alt.Axis()\n",
    "        else:\n",
    "            axis = None\n",
    "        # # Info from `bcftools roh`\n",
    "        chrom_df = df.filter(\n",
    "            # Keep only large ROHs\n",
    "            #pl.col(\"length\") > 2_000_000\n",
    "            pl.col(\"chrom\") == chrom\n",
    "        )\n",
    "\n",
    "        roh_plot = alt.Chart(chrom_df).mark_bar().encode(\n",
    "        alt.X(\"mb_start_pos:Q\", title=[\"Position\", \"(Mb)\"]).scale(domainMin=0, domainMax=chromosome_lengths[int(chrom) -1]/1_000_000, clamp=True),\n",
    "        alt.X2(\"mb_stop_pos:Q\"),\n",
    "        alt.Y(\"sample:O\", axis=axis, title=\"Sample\", sort=alt.EncodingSortField(field='animal', order='ascending')), # sort=alt.EncodingSortField(field='date', order='ascending')\n",
    "        color = alt.Color(\"Colony:N\").scale(\n",
    "            domain = list(colors[\"Cohort\"]),\n",
    "            range = list(colors[\"Color\"])\n",
    "        ),\n",
    "        #order=alt.Order('animal:O', sort='ascending'),\n",
    "        tooltip=[\n",
    "            alt.Tooltip(\"chrom\", title=\"Chr\"),\n",
    "            alt.Tooltip(\"start\", title=\"Start (bp)\"),\n",
    "            alt.Tooltip(\"stop\", title=\"End (bp)\"),\n",
    "            alt.Tooltip(\"length\", title=\"Length\"),\n",
    "        ]\n",
    "        ).properties(\n",
    "            width=chromosome_lengths[int(chrom) - 1]/1500000,\n",
    "            height=alt.Step(10),\n",
    "            #width=300, # For when only displaying one chromosome\n",
    "            #title=[\"RoH\", f\"chr{chrom}\"]\n",
    "        ).transform_calculate(\n",
    "            mb_start_pos = 'datum.start / 1000000',\n",
    "            mb_stop_pos = 'datum.stop / 1000000',\n",
    "        )\n",
    "    \n",
    "        #plot_list.append(roh_plot)\n",
    "        columns.append(roh_plot)\n",
    "    \n",
    "    return alt.hconcat(*columns)"
   ]
  },
  {
   "cell_type": "code",
   "execution_count": 14,
   "metadata": {},
   "outputs": [],
   "source": [
    "def plot_all_trio_roh(df):\n",
    "    # Find sequenced trios\n",
    "    sequenced_animals = df[\"sample\"].unique()\n",
    "    trios = colonies.filter(\n",
    "        pl.col(\"Id\").is_in(sequenced_animals) & pl.col(\"Sire\").is_in(sequenced_animals) & pl.col(\"Dam\").is_in(sequenced_animals)\n",
    "    ).select(\"Id\", \"Sire\", \"Dam\").sort(\"Id\")\n",
    "\n",
    "    # Pull out specific trio\n",
    "    rows = []\n",
    "    for trio in trios.transpose().select([f\"column_{num}\" for num in range(50,75)]):\n",
    "        trio_df = roh_df.filter(\n",
    "            pl.col(\"sample\").is_in(trio)\n",
    "        ).select(\"sample\", \"chrom\", \"start\", \"stop\", \"length\", \"Colony\")\n",
    "        \n",
    "        rows.append(plot_trio_roh(trio_df))\n",
    "    return alt.vconcat(*rows)"
   ]
  },
  {
   "cell_type": "code",
   "execution_count": 15,
   "metadata": {},
   "outputs": [],
   "source": [
    "# Create dataframe for subsequent plots\n",
    "\n",
    "chrom_df = pl.DataFrame({\n",
    "    \"chrom\": chromosomes,\n",
    "    \"chrom_len\": chromosome_lengths\n",
    "})\n",
    "\n",
    "total_len_roh = roh_df.group_by(\"sample\", \"color_idx\", \"Interval\").agg(pl.sum(\"length\")).sort(\"sample\").with_columns(\n",
    "    pl.col(\"length\").truediv(genome_length).alias(\"froh\")\n",
    "# ).with_columns(\n",
    "#     # Add seq info for splitting by seq\n",
    "#     seq = pl.col(\"sample\").str.slice(0, 3)\n",
    "# )\n",
    "# .with_columns(\n",
    "#     pl.col(\"sample\").str.split(\"_\").list.get(0).str.slice(3).alias(\"animal\")\n",
    ").group_by(\"sample\").agg(pl.last(\"froh\"), pl.last(\"color_idx\"), pl.last(\"Interval\"))#.with_columns(\n",
    "    # Pull out the WGS over WES and select first\n",
    "    #pl.col(\"sample\").list.sort(descending=True).list.first(),\n",
    "    #pl.col(\"froh\").list.sort(descending=True).list.first(),\n",
    "# ).with_columns(\n",
    "#     cohort = pl.concat_str([pl.col(\"Colony\"), pl.col(\"Interval\")], separator=\"_\")\n",
    "    #pl.col(\"sample\").str.split(\"_\").list.get(0).str.slice(3),\n",
    "# ).filter(\n",
    "#     ~pl.col(\"Interval\").is_null()\n",
    "# )"
   ]
  },
  {
   "cell_type": "code",
   "execution_count": 16,
   "metadata": {},
   "outputs": [
    {
     "data": {
      "text/html": [
       "<div><style>\n",
       ".dataframe > thead > tr,\n",
       ".dataframe > tbody > tr {\n",
       "  text-align: right;\n",
       "  white-space: pre-wrap;\n",
       "}\n",
       "</style>\n",
       "<small>shape: (485, 4)</small><table border=\"1\" class=\"dataframe\"><thead><tr><th>sample</th><th>froh</th><th>color_idx</th><th>Interval</th></tr><tr><td>str</td><td>f64</td><td>u32</td><td>enum</td></tr></thead><tbody><tr><td>&quot;34265&quot;</td><td>0.013964</td><td>3</td><td>&quot;NEPRC source&quot;</td></tr><tr><td>&quot;27441&quot;</td><td>0.008664</td><td>2</td><td>&quot;2003-2005&quot;</td></tr><tr><td>&quot;34717&quot;</td><td>0.015907</td><td>2</td><td>&quot;2015-2017&quot;</td></tr><tr><td>&quot;38254&quot;</td><td>0.018261</td><td>2</td><td>&quot;2018-2020&quot;</td></tr><tr><td>&quot;17525&quot;</td><td>0.003808</td><td>1</td><td>&quot;Brooks source&quot;</td></tr><tr><td>&hellip;</td><td>&hellip;</td><td>&hellip;</td><td>&hellip;</td></tr><tr><td>&quot;34235&quot;</td><td>0.019812</td><td>3</td><td>&quot;NEPRC source&quot;</td></tr><tr><td>&quot;33937&quot;</td><td>0.020773</td><td>3</td><td>&quot;NEPRC source&quot;</td></tr><tr><td>&quot;32604&quot;</td><td>0.017489</td><td>2</td><td>&quot;2012-2014&quot;</td></tr><tr><td>&quot;18408&quot;</td><td>0.011106</td><td>1</td><td>&quot;Brooks source&quot;</td></tr><tr><td>&quot;31954&quot;</td><td>0.019035</td><td>2</td><td>&quot;2012-2014&quot;</td></tr></tbody></table></div>"
      ],
      "text/plain": [
       "shape: (485, 4)\n",
       "┌────────┬──────────┬───────────┬───────────────┐\n",
       "│ sample ┆ froh     ┆ color_idx ┆ Interval      │\n",
       "│ ---    ┆ ---      ┆ ---       ┆ ---           │\n",
       "│ str    ┆ f64      ┆ u32       ┆ enum          │\n",
       "╞════════╪══════════╪═══════════╪═══════════════╡\n",
       "│ 34265  ┆ 0.013964 ┆ 3         ┆ NEPRC source  │\n",
       "│ 27441  ┆ 0.008664 ┆ 2         ┆ 2003-2005     │\n",
       "│ 34717  ┆ 0.015907 ┆ 2         ┆ 2015-2017     │\n",
       "│ 38254  ┆ 0.018261 ┆ 2         ┆ 2018-2020     │\n",
       "│ 17525  ┆ 0.003808 ┆ 1         ┆ Brooks source │\n",
       "│ …      ┆ …        ┆ …         ┆ …             │\n",
       "│ 34235  ┆ 0.019812 ┆ 3         ┆ NEPRC source  │\n",
       "│ 33937  ┆ 0.020773 ┆ 3         ┆ NEPRC source  │\n",
       "│ 32604  ┆ 0.017489 ┆ 2         ┆ 2012-2014     │\n",
       "│ 18408  ┆ 0.011106 ┆ 1         ┆ Brooks source │\n",
       "│ 31954  ┆ 0.019035 ┆ 2         ┆ 2012-2014     │\n",
       "└────────┴──────────┴───────────┴───────────────┘"
      ]
     },
     "execution_count": 16,
     "metadata": {},
     "output_type": "execute_result"
    }
   ],
   "source": [
    "total_len_roh"
   ]
  },
  {
   "cell_type": "code",
   "execution_count": 48,
   "metadata": {},
   "outputs": [
    {
     "data": {
      "text/html": [
       "\n",
       "<style>\n",
       "  #altair-viz-204ee5e371294925bd53996609c7dd24.vega-embed {\n",
       "    width: 100%;\n",
       "    display: flex;\n",
       "  }\n",
       "\n",
       "  #altair-viz-204ee5e371294925bd53996609c7dd24.vega-embed details,\n",
       "  #altair-viz-204ee5e371294925bd53996609c7dd24.vega-embed details summary {\n",
       "    position: relative;\n",
       "  }\n",
       "</style>\n",
       "<div id=\"altair-viz-204ee5e371294925bd53996609c7dd24\"></div>\n",
       "<script type=\"text/javascript\">\n",
       "  var VEGA_DEBUG = (typeof VEGA_DEBUG == \"undefined\") ? {} : VEGA_DEBUG;\n",
       "  (function(spec, embedOpt){\n",
       "    let outputDiv = document.currentScript.previousElementSibling;\n",
       "    if (outputDiv.id !== \"altair-viz-204ee5e371294925bd53996609c7dd24\") {\n",
       "      outputDiv = document.getElementById(\"altair-viz-204ee5e371294925bd53996609c7dd24\");\n",
       "    }\n",
       "\n",
       "    const paths = {\n",
       "      \"vega\": \"https://cdn.jsdelivr.net/npm/vega@5?noext\",\n",
       "      \"vega-lib\": \"https://cdn.jsdelivr.net/npm/vega-lib?noext\",\n",
       "      \"vega-lite\": \"https://cdn.jsdelivr.net/npm/vega-lite@5.20.1?noext\",\n",
       "      \"vega-embed\": \"https://cdn.jsdelivr.net/npm/vega-embed@6?noext\",\n",
       "    };\n",
       "\n",
       "    function maybeLoadScript(lib, version) {\n",
       "      var key = `${lib.replace(\"-\", \"\")}_version`;\n",
       "      return (VEGA_DEBUG[key] == version) ?\n",
       "        Promise.resolve(paths[lib]) :\n",
       "        new Promise(function(resolve, reject) {\n",
       "          var s = document.createElement('script');\n",
       "          document.getElementsByTagName(\"head\")[0].appendChild(s);\n",
       "          s.async = true;\n",
       "          s.onload = () => {\n",
       "            VEGA_DEBUG[key] = version;\n",
       "            return resolve(paths[lib]);\n",
       "          };\n",
       "          s.onerror = () => reject(`Error loading script: ${paths[lib]}`);\n",
       "          s.src = paths[lib];\n",
       "        });\n",
       "    }\n",
       "\n",
       "    function showError(err) {\n",
       "      outputDiv.innerHTML = `<div class=\"error\" style=\"color:red;\">${err}</div>`;\n",
       "      throw err;\n",
       "    }\n",
       "\n",
       "    function displayChart(vegaEmbed) {\n",
       "      vegaEmbed(outputDiv, spec, embedOpt)\n",
       "        .catch(err => showError(`Javascript Error: ${err.message}<br>This usually means there's a typo in your chart specification. See the javascript console for the full traceback.`));\n",
       "    }\n",
       "\n",
       "    if(typeof define === \"function\" && define.amd) {\n",
       "      requirejs.config({paths});\n",
       "      let deps = [\"vega-embed\"];\n",
       "      require(deps, displayChart, err => showError(`Error loading script: ${err.message}`));\n",
       "    } else {\n",
       "      maybeLoadScript(\"vega\", \"5\")\n",
       "        .then(() => maybeLoadScript(\"vega-lite\", \"5.20.1\"))\n",
       "        .then(() => maybeLoadScript(\"vega-embed\", \"6\"))\n",
       "        .catch(showError)\n",
       "        .then(() => displayChart(vegaEmbed));\n",
       "    }\n",
       "  })({\"config\": {\"view\": {\"continuousWidth\": 300, \"continuousHeight\": 300}}, \"data\": {\"name\": \"data-e2d0e047a7f77eb0361a6279687257ea\"}, \"mark\": {\"type\": \"boxplot\"}, \"encoding\": {\"color\": {\"field\": \"Interval\", \"legend\": null, \"scale\": {\"domain\": [\"Conventional source\", \"Brooks source\", \"2003-2005\", \"2006-2008\", \"2009-2011\", \"2012-2014\", \"2015-2017\", \"2018-2020\", \"NEPRC source\", \"Offspring of merger\"], \"range\": [\"#4269d0\", \"#efb118\", \"#ff725c\", \"#ff725c\", \"#ff725c\", \"#ff725c\", \"#ff725c\", \"#ff725c\", \"#6cc5b0\", \"#3ca951\"]}, \"type\": \"nominal\"}, \"x\": {\"field\": \"Interval\", \"sort\": [\"Conventional source\", \"Brooks source\", \"Pre-2003\", \"2003-2005\", \"2006-2008\", \"2009-2011\", \"2012-2014\", \"2015-2017\", \"2018-2020\", \"NEPRC source\", \"Offspring of merger\"], \"title\": \"Cohort\", \"type\": \"nominal\"}, \"y\": {\"field\": \"froh\", \"title\": \"fROH\", \"type\": \"quantitative\"}}, \"title\": \"fROH\", \"$schema\": \"https://vega.github.io/schema/vega-lite/v5.20.1.json\", \"datasets\": {\"data-e2d0e047a7f77eb0361a6279687257ea\": [{\"sample\": \"34265\", \"froh\": 0.013963582244329437, \"color_idx\": 3, \"Interval\": \"NEPRC source\"}, {\"sample\": \"27441\", \"froh\": 0.008663793040368115, \"color_idx\": 2, \"Interval\": \"2003-2005\"}, {\"sample\": \"34717\", \"froh\": 0.015906663711953168, \"color_idx\": 2, \"Interval\": \"2015-2017\"}, {\"sample\": \"38254\", \"froh\": 0.01826106626113124, \"color_idx\": 2, \"Interval\": \"2018-2020\"}, {\"sample\": \"17525\", \"froh\": 0.0038079714140450563, \"color_idx\": 1, \"Interval\": \"Brooks source\"}, {\"sample\": \"26992\", \"froh\": 0.021383174144086674, \"color_idx\": 2, \"Interval\": \"2003-2005\"}, {\"sample\": \"17539\", \"froh\": 0.02040397637305008, \"color_idx\": 1, \"Interval\": \"Brooks source\"}, {\"sample\": \"29555\", \"froh\": 0.02231588187062076, \"color_idx\": 2, \"Interval\": \"2006-2008\"}, {\"sample\": \"31832\", \"froh\": 0.016782128404826787, \"color_idx\": 2, \"Interval\": \"2012-2014\"}, {\"sample\": \"30122\", \"froh\": 0.039925766923628696, \"color_idx\": 2, \"Interval\": \"2009-2011\"}, {\"sample\": \"34299\", \"froh\": 0.02899791087305739, \"color_idx\": 3, \"Interval\": \"NEPRC source\"}, {\"sample\": \"39051\", \"froh\": 0.01724573423652021, \"color_idx\": 2, \"Interval\": \"2018-2020\"}, {\"sample\": \"30204\", \"froh\": 0.025199948259351932, \"color_idx\": 2, \"Interval\": \"2009-2011\"}, {\"sample\": \"31160\", \"froh\": 0.011176149201356253, \"color_idx\": 2, \"Interval\": \"2009-2011\"}, {\"sample\": \"17575\", \"froh\": 0.015902552635892155, \"color_idx\": 1, \"Interval\": \"Brooks source\"}, {\"sample\": \"17745\", \"froh\": 0.020820190654146194, \"color_idx\": 1, \"Interval\": \"Brooks source\"}, {\"sample\": \"37118\", \"froh\": 0.02026908443262298, \"color_idx\": 2, \"Interval\": \"2015-2017\"}, {\"sample\": \"39442\", \"froh\": 0.020547124309268607, \"color_idx\": 4, \"Interval\": \"Offspring of merger\"}, {\"sample\": \"29560\", \"froh\": 0.029067713627149952, \"color_idx\": 2, \"Interval\": \"2006-2008\"}, {\"sample\": \"17642\", \"froh\": 0.030264824834920486, \"color_idx\": 1, \"Interval\": \"Brooks source\"}, {\"sample\": \"37466\", \"froh\": 0.018286569883429405, \"color_idx\": 4, \"Interval\": \"Offspring of merger\"}, {\"sample\": \"31715\", \"froh\": 0.02114633279844654, \"color_idx\": 2, \"Interval\": \"2012-2014\"}, {\"sample\": \"28034\", \"froh\": 0.01703702255877863, \"color_idx\": 2, \"Interval\": \"2006-2008\"}, {\"sample\": \"34319\", \"froh\": 0.018892605124206388, \"color_idx\": 3, \"Interval\": \"NEPRC source\"}, {\"sample\": \"28144\", \"froh\": 0.0072465317384155774, \"color_idx\": 2, \"Interval\": \"2006-2008\"}, {\"sample\": \"26353\", \"froh\": 0.02059878945992174, \"color_idx\": 2, \"Interval\": \"2003-2005\"}, {\"sample\": \"16349\", \"froh\": 0.02388189874447555, \"color_idx\": 1, \"Interval\": \"Brooks source\"}, {\"sample\": \"30876\", \"froh\": 0.010901537204939896, \"color_idx\": 2, \"Interval\": \"2009-2011\"}, {\"sample\": \"38994\", \"froh\": 0.019784793796482177, \"color_idx\": 2, \"Interval\": \"2018-2020\"}, {\"sample\": \"34274\", \"froh\": 0.016515978441485897, \"color_idx\": 3, \"Interval\": \"NEPRC source\"}, {\"sample\": \"31357\", \"froh\": 0.017303721087090572, \"color_idx\": 2, \"Interval\": \"2009-2011\"}, {\"sample\": \"34248\", \"froh\": 0.015104750982306462, \"color_idx\": 3, \"Interval\": \"NEPRC source\"}, {\"sample\": \"43259\", \"froh\": 0.011268955609112811, \"color_idx\": 4, \"Interval\": \"Offspring of merger\"}, {\"sample\": \"40201\", \"froh\": 0.018264255376132434, \"color_idx\": 4, \"Interval\": \"Offspring of merger\"}, {\"sample\": \"30633\", \"froh\": 0.02034046259093071, \"color_idx\": 2, \"Interval\": \"2009-2011\"}, {\"sample\": \"35964\", \"froh\": 0.03491615966355019, \"color_idx\": 2, \"Interval\": \"2015-2017\"}, {\"sample\": \"18422\", \"froh\": 0.08317584724144352, \"color_idx\": 2, \"Interval\": \"2003-2005\"}, {\"sample\": \"16342\", \"froh\": 0.018566672364366182, \"color_idx\": 1, \"Interval\": \"Brooks source\"}, {\"sample\": \"34260\", \"froh\": 0.02281042899813216, \"color_idx\": 3, \"Interval\": \"NEPRC source\"}, {\"sample\": \"30034\", \"froh\": 0.021531836738875192, \"color_idx\": 2, \"Interval\": \"2009-2011\"}, {\"sample\": \"31982\", \"froh\": 0.029756293949502983, \"color_idx\": 2, \"Interval\": \"2012-2014\"}, {\"sample\": \"9590\", \"froh\": 0.00039729678562665016, \"color_idx\": 0, \"Interval\": \"Conventional source\"}, {\"sample\": \"30736\", \"froh\": 0.012919579053109434, \"color_idx\": 2, \"Interval\": \"2009-2011\"}, {\"sample\": \"34297\", \"froh\": 0.025399885500915886, \"color_idx\": 3, \"Interval\": \"NEPRC source\"}, {\"sample\": \"19851\", \"froh\": 0.006573085858728264, \"color_idx\": 2, \"Interval\": \"2003-2005\"}, {\"sample\": \"38488\", \"froh\": 0.016455238724531997, \"color_idx\": 4, \"Interval\": \"Offspring of merger\"}, {\"sample\": \"29364\", \"froh\": 0.012774086234082452, \"color_idx\": 2, \"Interval\": \"2006-2008\"}, {\"sample\": \"17582\", \"froh\": 0.008316368806641739, \"color_idx\": 1, \"Interval\": \"Brooks source\"}, {\"sample\": \"32982\", \"froh\": 0.012521664155630658, \"color_idx\": 2, \"Interval\": \"2012-2014\"}, {\"sample\": \"19223\", \"froh\": 0.016514473327968716, \"color_idx\": 2, \"Interval\": \"2003-2005\"}, {\"sample\": \"30735\", \"froh\": 0.013949816424777935, \"color_idx\": 2, \"Interval\": \"2009-2011\"}, {\"sample\": \"31977\", \"froh\": 0.1855709549850616, \"color_idx\": 2, \"Interval\": \"2012-2014\"}, {\"sample\": \"17717\", \"froh\": 0.011523735587168986, \"color_idx\": 1, \"Interval\": \"Brooks source\"}, {\"sample\": \"32789\", \"froh\": 0.016017339577153143, \"color_idx\": 2, \"Interval\": \"2012-2014\"}, {\"sample\": \"28302\", \"froh\": 0.01570367087052335, \"color_idx\": 2, \"Interval\": \"2006-2008\"}, {\"sample\": \"16347\", \"froh\": 0.018873789903562036, \"color_idx\": 1, \"Interval\": \"Brooks source\"}, {\"sample\": \"31776\", \"froh\": 0.024656969725203186, \"color_idx\": 2, \"Interval\": \"2012-2014\"}, {\"sample\": \"38494\", \"froh\": 0.021688688385933245, \"color_idx\": 2, \"Interval\": \"2018-2020\"}, {\"sample\": \"34298\", \"froh\": 0.02312227907241725, \"color_idx\": 3, \"Interval\": \"NEPRC source\"}, {\"sample\": \"34723\", \"froh\": 0.011594817334438123, \"color_idx\": 2, \"Interval\": \"2015-2017\"}, {\"sample\": \"16646\", \"froh\": 0.01866927855991066, \"color_idx\": 1, \"Interval\": \"Brooks source\"}, {\"sample\": \"39306\", \"froh\": 0.019279836579408283, \"color_idx\": 4, \"Interval\": \"Offspring of merger\"}, {\"sample\": \"30086\", \"froh\": 0.018602484545218637, \"color_idx\": 2, \"Interval\": \"2009-2011\"}, {\"sample\": \"10235\", \"froh\": 0.012443626232620145, \"color_idx\": 0, \"Interval\": \"Conventional source\"}, {\"sample\": \"31163\", \"froh\": 0.024623586478470006, \"color_idx\": 2, \"Interval\": \"2009-2011\"}, {\"sample\": \"16350\", \"froh\": 0.03318470489213793, \"color_idx\": 1, \"Interval\": \"Brooks source\"}, {\"sample\": \"31783\", \"froh\": 0.023894089159811886, \"color_idx\": 2, \"Interval\": \"2012-2014\"}, {\"sample\": \"39728\", \"froh\": 0.014708601162354876, \"color_idx\": 4, \"Interval\": \"Offspring of merger\"}, {\"sample\": \"31814\", \"froh\": 0.022065630621820508, \"color_idx\": 2, \"Interval\": \"2012-2014\"}, {\"sample\": \"12001\", \"froh\": 0.28038195526433324, \"color_idx\": 0, \"Interval\": \"Conventional source\"}, {\"sample\": \"17680\", \"froh\": 0.022605030280907275, \"color_idx\": 1, \"Interval\": \"Brooks source\"}, {\"sample\": \"28195\", \"froh\": 0.009474095280941572, \"color_idx\": 2, \"Interval\": \"2006-2008\"}, {\"sample\": \"31845\", \"froh\": 0.009649373132400097, \"color_idx\": 2, \"Interval\": \"2012-2014\"}, {\"sample\": \"38471\", \"froh\": 0.010120960119536733, \"color_idx\": 4, \"Interval\": \"Offspring of merger\"}, {\"sample\": \"28796\", \"froh\": 0.024528521842574993, \"color_idx\": 2, \"Interval\": \"2006-2008\"}, {\"sample\": \"16644\", \"froh\": 0.026892028710730233, \"color_idx\": 1, \"Interval\": \"Brooks source\"}, {\"sample\": \"17732\", \"froh\": 0.018923375714043546, \"color_idx\": 1, \"Interval\": \"Brooks source\"}, {\"sample\": \"16345\", \"froh\": 0.021858990474172998, \"color_idx\": 1, \"Interval\": \"Brooks source\"}, {\"sample\": \"17654\", \"froh\": 0.018749431898212928, \"color_idx\": 1, \"Interval\": \"Brooks source\"}, {\"sample\": \"28927\", \"froh\": 0.022692136447774822, \"color_idx\": 2, \"Interval\": \"2006-2008\"}, {\"sample\": \"38582\", \"froh\": 0.009895193835776537, \"color_idx\": 4, \"Interval\": \"Offspring of merger\"}, {\"sample\": \"30742\", \"froh\": 0.01360884219938575, \"color_idx\": 2, \"Interval\": \"2009-2011\"}, {\"sample\": \"31834\", \"froh\": 0.01890601242400732, \"color_idx\": 2, \"Interval\": \"2012-2014\"}, {\"sample\": \"17733\", \"froh\": 0.011251424216454947, \"color_idx\": 1, \"Interval\": \"Brooks source\"}, {\"sample\": \"38563\", \"froh\": 0.02422471131336055, \"color_idx\": 4, \"Interval\": \"Offspring of merger\"}, {\"sample\": \"10814\", \"froh\": 0.0031837643542507845, \"color_idx\": 0, \"Interval\": \"Conventional source\"}, {\"sample\": \"38292\", \"froh\": 0.02043859398394524, \"color_idx\": 4, \"Interval\": \"Offspring of merger\"}, {\"sample\": \"38698\", \"froh\": 0.021516943292888283, \"color_idx\": 2, \"Interval\": \"2018-2020\"}, {\"sample\": \"17624\", \"froh\": 0.007518275576827364, \"color_idx\": 1, \"Interval\": \"Brooks source\"}, {\"sample\": \"38240\", \"froh\": 0.029380328345218417, \"color_idx\": 2, \"Interval\": \"2018-2020\"}, {\"sample\": \"31961\", \"froh\": 0.017571951134419995, \"color_idx\": 2, \"Interval\": \"2012-2014\"}, {\"sample\": \"19224\", \"froh\": 0.021792708949331895, \"color_idx\": 2, \"Interval\": \"2003-2005\"}, {\"sample\": \"17641\", \"froh\": 0.007030177713833244, \"color_idx\": 1, \"Interval\": \"Brooks source\"}, {\"sample\": \"28168\", \"froh\": 0.04744417489986602, \"color_idx\": 2, \"Interval\": \"2006-2008\"}, {\"sample\": \"27783\", \"froh\": 0.02895155545941557, \"color_idx\": 2, \"Interval\": \"2006-2008\"}, {\"sample\": \"34004\", \"froh\": 0.019114503931943565, \"color_idx\": 3, \"Interval\": \"NEPRC source\"}, {\"sample\": \"33960\", \"froh\": 0.01588970468640747, \"color_idx\": 3, \"Interval\": \"NEPRC source\"}, {\"sample\": \"11452\", \"froh\": 0.16054357782743306, \"color_idx\": 0, \"Interval\": \"Conventional source\"}, {\"sample\": \"17723\", \"froh\": 0.013519353215047342, \"color_idx\": 1, \"Interval\": \"Brooks source\"}, {\"sample\": \"20078\", \"froh\": 0.02114713686452614, \"color_idx\": 2, \"Interval\": \"2003-2005\"}, {\"sample\": \"33326\", \"froh\": 0.09205693002806661, \"color_idx\": 2, \"Interval\": \"2012-2014\"}, {\"sample\": \"39876\", \"froh\": 0.02119936694412234, \"color_idx\": 4, \"Interval\": \"Offspring of merger\"}, {\"sample\": \"37762\", \"froh\": 0.020444881468284614, \"color_idx\": 4, \"Interval\": \"Offspring of merger\"}, {\"sample\": \"37449\", \"froh\": 0.01749729571880725, \"color_idx\": 4, \"Interval\": \"Offspring of merger\"}, {\"sample\": \"19695\", \"froh\": 0.031476150383839184, \"color_idx\": 2, \"Interval\": \"2003-2005\"}, {\"sample\": \"33929\", \"froh\": 0.01865986592882434, \"color_idx\": 3, \"Interval\": \"NEPRC source\"}, {\"sample\": \"26935\", \"froh\": 0.030535108932646594, \"color_idx\": 2, \"Interval\": \"2003-2005\"}, {\"sample\": \"38598\", \"froh\": 0.027330483489340782, \"color_idx\": 4, \"Interval\": \"Offspring of merger\"}, {\"sample\": \"14396\", \"froh\": 0.11241857317741516, \"color_idx\": 0, \"Interval\": \"Conventional source\"}, {\"sample\": \"14970\", \"froh\": 0.0941652150909212, \"color_idx\": 0, \"Interval\": \"Conventional source\"}, {\"sample\": \"14393\", \"froh\": 0.009479943169487198, \"color_idx\": 0, \"Interval\": \"Conventional source\"}, {\"sample\": \"37526\", \"froh\": 0.025094374978153866, \"color_idx\": 4, \"Interval\": \"Offspring of merger\"}, {\"sample\": \"16656\", \"froh\": 0.025690279432618025, \"color_idx\": 1, \"Interval\": \"Brooks source\"}, {\"sample\": \"30505\", \"froh\": 0.01986634141958205, \"color_idx\": 2, \"Interval\": \"2009-2011\"}, {\"sample\": \"16356\", \"froh\": 0.02270783247220751, \"color_idx\": 1, \"Interval\": \"Brooks source\"}, {\"sample\": \"32847\", \"froh\": 0.01945901723819305, \"color_idx\": 2, \"Interval\": \"2012-2014\"}, {\"sample\": \"20064\", \"froh\": 0.014012379980794909, \"color_idx\": 2, \"Interval\": \"2003-2005\"}, {\"sample\": \"33920\", \"froh\": 0.019759334431290153, \"color_idx\": 3, \"Interval\": \"NEPRC source\"}, {\"sample\": \"19177\", \"froh\": 0.03421099259601487, \"color_idx\": 2, \"Interval\": \"2003-2005\"}, {\"sample\": \"18314\", \"froh\": 0.021504576964852758, \"color_idx\": 1, \"Interval\": \"Brooks source\"}, {\"sample\": \"37573\", \"froh\": 0.017512587478749408, \"color_idx\": 2, \"Interval\": \"2018-2020\"}, {\"sample\": \"30755\", \"froh\": 0.02376617831299264, \"color_idx\": 2, \"Interval\": \"2009-2011\"}, {\"sample\": \"17578\", \"froh\": 0.011037213872206941, \"color_idx\": 1, \"Interval\": \"Brooks source\"}, {\"sample\": \"17657\", \"froh\": 0.04680385193099342, \"color_idx\": 1, \"Interval\": \"Brooks source\"}, {\"sample\": \"16640\", \"froh\": 0.0226281343498541, \"color_idx\": 1, \"Interval\": \"Brooks source\"}, {\"sample\": \"17730\", \"froh\": 0.010811378413474123, \"color_idx\": 1, \"Interval\": \"Brooks source\"}, {\"sample\": \"19323\", \"froh\": 0.018433029292530802, \"color_idx\": 1, \"Interval\": \"Brooks source\"}, {\"sample\": \"34005\", \"froh\": 0.01989704915689032, \"color_idx\": 3, \"Interval\": \"NEPRC source\"}, {\"sample\": \"34294\", \"froh\": 0.02043782227390122, \"color_idx\": 3, \"Interval\": \"NEPRC source\"}, {\"sample\": \"33914\", \"froh\": 0.015705454915381743, \"color_idx\": 3, \"Interval\": \"NEPRC source\"}, {\"sample\": \"38990\", \"froh\": 0.018166044766617005, \"color_idx\": 4, \"Interval\": \"Offspring of merger\"}, {\"sample\": \"34228\", \"froh\": 0.023996774199948813, \"color_idx\": 3, \"Interval\": \"NEPRC source\"}, {\"sample\": \"34302\", \"froh\": 0.019227206698223014, \"color_idx\": 3, \"Interval\": \"NEPRC source\"}, {\"sample\": \"38702\", \"froh\": 0.013186496263592886, \"color_idx\": 2, \"Interval\": \"2018-2020\"}, {\"sample\": \"34244\", \"froh\": 0.018306834431322694, \"color_idx\": 3, \"Interval\": \"NEPRC source\"}, {\"sample\": \"28403\", \"froh\": 0.04916353743977406, \"color_idx\": 2, \"Interval\": \"2006-2008\"}, {\"sample\": \"17557\", \"froh\": 0.018071202531978053, \"color_idx\": 1, \"Interval\": \"Brooks source\"}, {\"sample\": \"37461\", \"froh\": 0.017957756692605614, \"color_idx\": 4, \"Interval\": \"Offspring of merger\"}, {\"sample\": \"17515\", \"froh\": 0.012864189239279981, \"color_idx\": 1, \"Interval\": \"Brooks source\"}, {\"sample\": \"17504\", \"froh\": 0.01381775322005918, \"color_idx\": 1, \"Interval\": \"Brooks source\"}, {\"sample\": \"8X0039\", \"froh\": 0.011173945271852222, \"color_idx\": 0, \"Interval\": \"Conventional source\"}, {\"sample\": \"34277\", \"froh\": 0.03280380034357164, \"color_idx\": 3, \"Interval\": \"NEPRC source\"}, {\"sample\": \"38454\", \"froh\": 0.021440414574387955, \"color_idx\": 2, \"Interval\": \"2018-2020\"}, {\"sample\": \"32033\", \"froh\": 0.023544786044571105, \"color_idx\": 2, \"Interval\": \"2012-2014\"}, {\"sample\": \"17740\", \"froh\": 0.030484684468599175, \"color_idx\": 1, \"Interval\": \"Brooks source\"}, {\"sample\": \"34290\", \"froh\": 0.026739048258779752, \"color_idx\": 3, \"Interval\": \"NEPRC source\"}, {\"sample\": \"34001\", \"froh\": 0.02573079997451014, \"color_idx\": 3, \"Interval\": \"NEPRC source\"}, {\"sample\": \"34259\", \"froh\": 0.023521172461040997, \"color_idx\": 3, \"Interval\": \"NEPRC source\"}, {\"sample\": \"17581\", \"froh\": 0.014367857520204759, \"color_idx\": 1, \"Interval\": \"Brooks source\"}, {\"sample\": \"32639\", \"froh\": 0.030781025216495957, \"color_idx\": 2, \"Interval\": \"2012-2014\"}, {\"sample\": \"28138\", \"froh\": 0.014806079112214056, \"color_idx\": 2, \"Interval\": \"2006-2008\"}, {\"sample\": \"17505\", \"froh\": 0.018952599164708116, \"color_idx\": 1, \"Interval\": \"Brooks source\"}, {\"sample\": \"38247\", \"froh\": 0.02802534237023027, \"color_idx\": 4, \"Interval\": \"Offspring of merger\"}, {\"sample\": \"37435\", \"froh\": 0.014450458388049049, \"color_idx\": 2, \"Interval\": \"2018-2020\"}, {\"sample\": \"33963\", \"froh\": 0.01972196469782837, \"color_idx\": 3, \"Interval\": \"NEPRC source\"}, {\"sample\": \"39918\", \"froh\": 0.02234670750290925, \"color_idx\": 2, \"Interval\": \"2018-2020\"}, {\"sample\": \"18416\", \"froh\": 0.016403022777457085, \"color_idx\": 1, \"Interval\": \"Brooks source\"}, {\"sample\": \"38245\", \"froh\": 0.016209400913366628, \"color_idx\": 2, \"Interval\": \"2018-2020\"}, {\"sample\": \"17724\", \"froh\": 0.01955211670981211, \"color_idx\": 1, \"Interval\": \"Brooks source\"}, {\"sample\": \"30732\", \"froh\": 0.020930970653713552, \"color_idx\": 2, \"Interval\": \"2009-2011\"}, {\"sample\": \"17511\", \"froh\": 0.02024053934298024, \"color_idx\": 1, \"Interval\": \"Brooks source\"}, {\"sample\": \"28092\", \"froh\": 0.01420981576609087, \"color_idx\": 2, \"Interval\": \"2006-2008\"}, {\"sample\": \"26875\", \"froh\": 0.011716639296032933, \"color_idx\": 2, \"Interval\": \"2003-2005\"}, {\"sample\": \"31225\", \"froh\": 0.015609059219126467, \"color_idx\": 2, \"Interval\": \"2009-2011\"}, {\"sample\": \"31165\", \"froh\": 0.011475394926194647, \"color_idx\": 2, \"Interval\": \"2009-2011\"}, {\"sample\": \"30848\", \"froh\": 0.008702859792109831, \"color_idx\": 2, \"Interval\": \"2009-2011\"}, {\"sample\": \"31221\", \"froh\": 0.008507617150972707, \"color_idx\": 2, \"Interval\": \"2009-2011\"}, {\"sample\": \"33202\", \"froh\": 0.014295999971898598, \"color_idx\": 2, \"Interval\": \"2012-2014\"}, {\"sample\": \"17536\", \"froh\": 0.0810423159169416, \"color_idx\": 1, \"Interval\": \"Brooks source\"}, {\"sample\": \"17661\", \"froh\": 0.007660781599052647, \"color_idx\": 1, \"Interval\": \"Brooks source\"}, {\"sample\": \"17662\", \"froh\": 0.19543556158186925, \"color_idx\": 1, \"Interval\": \"Brooks source\"}, {\"sample\": \"38175\", \"froh\": 0.019781707328214552, \"color_idx\": 4, \"Interval\": \"Offspring of merger\"}, {\"sample\": \"29141\", \"froh\": 0.008439575383414328, \"color_idx\": 2, \"Interval\": \"2006-2008\"}, {\"sample\": \"17572\", \"froh\": 0.02222879578680978, \"color_idx\": 1, \"Interval\": \"Brooks source\"}, {\"sample\": \"31969\", \"froh\": 0.009854418164684325, \"color_idx\": 2, \"Interval\": \"2012-2014\"}, {\"sample\": \"37512\", \"froh\": 0.013979019420477481, \"color_idx\": 2, \"Interval\": \"2018-2020\"}, {\"sample\": \"28060\", \"froh\": 0.021928573058460233, \"color_idx\": 2, \"Interval\": \"2006-2008\"}, {\"sample\": \"34326\", \"froh\": 0.020196640384683363, \"color_idx\": 3, \"Interval\": \"NEPRC source\"}, {\"sample\": \"38347\", \"froh\": 0.016913592093116162, \"color_idx\": 4, \"Interval\": \"Offspring of merger\"}, {\"sample\": \"31811\", \"froh\": 0.014337473715160748, \"color_idx\": 2, \"Interval\": \"2012-2014\"}, {\"sample\": \"16354\", \"froh\": 0.02564108635746494, \"color_idx\": 1, \"Interval\": \"Brooks source\"}, {\"sample\": \"31397\", \"froh\": 0.01994913344837218, \"color_idx\": 2, \"Interval\": \"2009-2011\"}, {\"sample\": \"30285\", \"froh\": 0.012399402598242097, \"color_idx\": 2, \"Interval\": \"2009-2011\"}, {\"sample\": \"33933\", \"froh\": 0.0222681332879067, \"color_idx\": 3, \"Interval\": \"NEPRC source\"}, {\"sample\": \"17568\", \"froh\": 0.0021999921092183115, \"color_idx\": 1, \"Interval\": \"Brooks source\"}, {\"sample\": \"33916\", \"froh\": 0.012561038847573073, \"color_idx\": 3, \"Interval\": \"NEPRC source\"}, {\"sample\": \"35043\", \"froh\": 0.020126780356688734, \"color_idx\": 2, \"Interval\": \"2015-2017\"}, {\"sample\": \"30128\", \"froh\": 0.015565503904241964, \"color_idx\": 2, \"Interval\": \"2009-2011\"}, {\"sample\": \"31132\", \"froh\": 0.01462579314150118, \"color_idx\": 2, \"Interval\": \"2009-2011\"}, {\"sample\": \"17710\", \"froh\": 0.0205499790785688, \"color_idx\": 1, \"Interval\": \"Brooks source\"}, {\"sample\": \"16653\", \"froh\": 0.016618940181513307, \"color_idx\": 1, \"Interval\": \"Brooks source\"}, {\"sample\": \"17584\", \"froh\": 0.002770742907240414, \"color_idx\": 1, \"Interval\": \"Brooks source\"}, {\"sample\": \"19688\", \"froh\": 0.017914572170450695, \"color_idx\": 2, \"Interval\": \"2003-2005\"}, {\"sample\": \"28937\", \"froh\": 0.019441345264139213, \"color_idx\": 2, \"Interval\": \"2006-2008\"}, {\"sample\": \"31798\", \"froh\": 0.025398238690277367, \"color_idx\": 2, \"Interval\": \"2012-2014\"}, {\"sample\": \"17656\", \"froh\": 0.012825576587761758, \"color_idx\": 1, \"Interval\": \"Brooks source\"}, {\"sample\": \"12147\", \"froh\": 0.10974167764969671, \"color_idx\": 0, \"Interval\": \"Conventional source\"}, {\"sample\": \"29437\", \"froh\": 0.015099810550390912, \"color_idx\": 2, \"Interval\": \"2006-2008\"}, {\"sample\": \"32739\", \"froh\": 0.023808217357106316, \"color_idx\": 2, \"Interval\": \"2012-2014\"}, {\"sample\": \"28071\", \"froh\": 0.007522339792423053, \"color_idx\": 2, \"Interval\": \"2006-2008\"}, {\"sample\": \"17615\", \"froh\": 0.017133193994235574, \"color_idx\": 1, \"Interval\": \"Brooks source\"}, {\"sample\": \"10250\", \"froh\": 0.23114942694662377, \"color_idx\": 0, \"Interval\": \"Conventional source\"}, {\"sample\": \"30654\", \"froh\": 0.015020825004637188, \"color_idx\": 2, \"Interval\": \"2009-2011\"}, {\"sample\": \"37253\", \"froh\": 0.038655363716641265, \"color_idx\": 2, \"Interval\": \"2015-2017\"}, {\"sample\": \"34293\", \"froh\": 0.031215807771022334, \"color_idx\": 3, \"Interval\": \"NEPRC source\"}, {\"sample\": \"39453\", \"froh\": 0.0157679797929194, \"color_idx\": 2, \"Interval\": \"2018-2020\"}, {\"sample\": \"34257\", \"froh\": 0.026654498218723073, \"color_idx\": 3, \"Interval\": \"NEPRC source\"}, {\"sample\": \"29436\", \"froh\": 0.017645588636591547, \"color_idx\": 2, \"Interval\": \"2006-2008\"}, {\"sample\": \"37759\", \"froh\": 0.010998512334567985, \"color_idx\": 2, \"Interval\": \"2018-2020\"}, {\"sample\": \"17522\", \"froh\": 0.003060067602134574, \"color_idx\": 1, \"Interval\": \"Brooks source\"}, {\"sample\": \"17563\", \"froh\": 0.007804031066279374, \"color_idx\": 1, \"Interval\": \"Brooks source\"}, {\"sample\": \"16651\", \"froh\": 0.02005877280470821, \"color_idx\": 1, \"Interval\": \"Brooks source\"}, {\"sample\": \"17546\", \"froh\": 0.022912573283375592, \"color_idx\": 1, \"Interval\": \"Brooks source\"}, {\"sample\": \"31204\", \"froh\": 0.027796005021485645, \"color_idx\": 2, \"Interval\": \"2009-2011\"}, {\"sample\": \"39295\", \"froh\": 0.010095801256376309, \"color_idx\": 4, \"Interval\": \"Offspring of merger\"}, {\"sample\": \"32767\", \"froh\": 0.02521424032936719, \"color_idx\": 2, \"Interval\": \"2012-2014\"}, {\"sample\": \"17619\", \"froh\": 0.01737671146855051, \"color_idx\": 1, \"Interval\": \"Brooks source\"}, {\"sample\": \"32592\", \"froh\": 0.013531624334518402, \"color_idx\": 2, \"Interval\": \"2012-2014\"}, {\"sample\": \"34250\", \"froh\": 0.1233537770233309, \"color_idx\": 3, \"Interval\": \"NEPRC source\"}, {\"sample\": \"31808\", \"froh\": 0.03486467340086389, \"color_idx\": 2, \"Interval\": \"2012-2014\"}, {\"sample\": \"33959\", \"froh\": 0.018161340124661893, \"color_idx\": 3, \"Interval\": \"NEPRC source\"}, {\"sample\": \"34303\", \"froh\": 0.014161046294667976, \"color_idx\": 3, \"Interval\": \"NEPRC source\"}, {\"sample\": \"26732\", \"froh\": 0.013991500296317133, \"color_idx\": 2, \"Interval\": \"2003-2005\"}, {\"sample\": \"33995\", \"froh\": 0.01785835262885825, \"color_idx\": 3, \"Interval\": \"NEPRC source\"}, {\"sample\": \"31404\", \"froh\": 0.04734849512738652, \"color_idx\": 2, \"Interval\": \"2009-2011\"}, {\"sample\": \"31209\", \"froh\": 0.01543159008305138, \"color_idx\": 2, \"Interval\": \"2009-2011\"}, {\"sample\": \"30125\", \"froh\": 0.054192098642350604, \"color_idx\": 2, \"Interval\": \"2009-2011\"}, {\"sample\": \"31137\", \"froh\": 0.13218141470543548, \"color_idx\": 2, \"Interval\": \"2009-2011\"}, {\"sample\": \"16655\", \"froh\": 0.04114298164293152, \"color_idx\": 1, \"Interval\": \"Brooks source\"}, {\"sample\": \"39303\", \"froh\": 0.010312430493215305, \"color_idx\": 2, \"Interval\": \"2018-2020\"}, {\"sample\": \"39836\", \"froh\": 0.014497391747429858, \"color_idx\": 2, \"Interval\": \"2018-2020\"}, {\"sample\": \"26515\", \"froh\": 0.022719569903045717, \"color_idx\": 2, \"Interval\": \"2003-2005\"}, {\"sample\": \"33221\", \"froh\": 0.02160469546474208, \"color_idx\": 2, \"Interval\": \"2012-2014\"}, {\"sample\": \"32473\", \"froh\": 0.02959886510052285, \"color_idx\": 2, \"Interval\": \"2012-2014\"}, {\"sample\": \"34289\", \"froh\": 0.016256372207409844, \"color_idx\": 3, \"Interval\": \"NEPRC source\"}, {\"sample\": \"17622\", \"froh\": 0.0792057259724912, \"color_idx\": 1, \"Interval\": \"Brooks source\"}, {\"sample\": \"18990\", \"froh\": 0.02150722755641118, \"color_idx\": 2, \"Interval\": \"2003-2005\"}, {\"sample\": \"12908\", \"froh\": 0.12488894074367154, \"color_idx\": 0, \"Interval\": \"Conventional source\"}, {\"sample\": \"30644\", \"froh\": 0.017375822607343182, \"color_idx\": 2, \"Interval\": \"2009-2011\"}, {\"sample\": \"34288\", \"froh\": 0.017954225793734326, \"color_idx\": 3, \"Interval\": \"NEPRC source\"}, {\"sample\": \"35958\", \"froh\": 0.016197863569277184, \"color_idx\": 2, \"Interval\": \"2015-2017\"}, {\"sample\": \"16641\", \"froh\": 0.03653967023736408, \"color_idx\": 1, \"Interval\": \"Brooks source\"}, {\"sample\": \"30513\", \"froh\": 0.04210626768263156, \"color_idx\": 2, \"Interval\": \"2009-2011\"}, {\"sample\": \"17544\", \"froh\": 0.01620702367452259, \"color_idx\": 1, \"Interval\": \"Brooks source\"}, {\"sample\": \"33935\", \"froh\": 0.02626771863229394, \"color_idx\": 3, \"Interval\": \"NEPRC source\"}, {\"sample\": \"17507\", \"froh\": 0.023795690736526705, \"color_idx\": 1, \"Interval\": \"Brooks source\"}, {\"sample\": \"12543\", \"froh\": 0.019236081549683474, \"color_idx\": 0, \"Interval\": \"Conventional source\"}, {\"sample\": \"30019\", \"froh\": 0.023366582389297494, \"color_idx\": 2, \"Interval\": \"2009-2011\"}, {\"sample\": \"38580\", \"froh\": 0.015713967528007085, \"color_idx\": 4, \"Interval\": \"Offspring of merger\"}, {\"sample\": \"26813\", \"froh\": 0.008759724594871614, \"color_idx\": 2, \"Interval\": \"2003-2005\"}, {\"sample\": \"29507\", \"froh\": 0.01866221899361881, \"color_idx\": 2, \"Interval\": \"2006-2008\"}, {\"sample\": \"29576\", \"froh\": 0.009894705891883643, \"color_idx\": 2, \"Interval\": \"2006-2008\"}, {\"sample\": \"17663\", \"froh\": 0.016470621230137164, \"color_idx\": 1, \"Interval\": \"Brooks source\"}, {\"sample\": \"31840\", \"froh\": 0.0190119248857163, \"color_idx\": 2, \"Interval\": \"2012-2014\"}, {\"sample\": \"18421\", \"froh\": 0.09976097127478208, \"color_idx\": 2, \"Interval\": \"2003-2005\"}, {\"sample\": \"16348\", \"froh\": 0.02238562251600135, \"color_idx\": 1, \"Interval\": \"Brooks source\"}, {\"sample\": \"33943\", \"froh\": 0.02370194377228758, \"color_idx\": 3, \"Interval\": \"NEPRC source\"}, {\"sample\": \"33229\", \"froh\": 0.01565439448787636, \"color_idx\": 2, \"Interval\": \"2012-2014\"}, {\"sample\": \"33964\", \"froh\": 0.017661969716398253, \"color_idx\": 3, \"Interval\": \"NEPRC source\"}, {\"sample\": \"17516\", \"froh\": 0.0176034015729128, \"color_idx\": 1, \"Interval\": \"Brooks source\"}, {\"sample\": \"20082\", \"froh\": 0.013902730211022141, \"color_idx\": 2, \"Interval\": \"2003-2005\"}, {\"sample\": \"26786\", \"froh\": 0.012865398685575478, \"color_idx\": 2, \"Interval\": \"2003-2005\"}, {\"sample\": \"29429\", \"froh\": 0.01634267802728234, \"color_idx\": 2, \"Interval\": \"2006-2008\"}, {\"sample\": \"30663\", \"froh\": 0.018430984911753944, \"color_idx\": 2, \"Interval\": \"2009-2011\"}, {\"sample\": \"17583\", \"froh\": 0.008409358937175043, \"color_idx\": 1, \"Interval\": \"Brooks source\"}, {\"sample\": \"31802\", \"froh\": 0.017288328539957123, \"color_idx\": 2, \"Interval\": \"2012-2014\"}, {\"sample\": \"26955\", \"froh\": 0.02087225746593067, \"color_idx\": 2, \"Interval\": \"2003-2005\"}, {\"sample\": \"34313\", \"froh\": 0.019077758260869188, \"color_idx\": 3, \"Interval\": \"NEPRC source\"}, {\"sample\": \"19315\", \"froh\": 0.021775825793111006, \"color_idx\": 2, \"Interval\": \"2003-2005\"}, {\"sample\": \"33949\", \"froh\": 0.019735942505199194, \"color_idx\": 3, \"Interval\": \"NEPRC source\"}, {\"sample\": \"33325\", \"froh\": 0.02157827099710946, \"color_idx\": 2, \"Interval\": \"2012-2014\"}, {\"sample\": \"26858\", \"froh\": 0.01490779161174129, \"color_idx\": 2, \"Interval\": \"2003-2005\"}, {\"sample\": \"17639\", \"froh\": 0.015356243661529337, \"color_idx\": 1, \"Interval\": \"Brooks source\"}, {\"sample\": \"34700\", \"froh\": 0.017585484139278698, \"color_idx\": 2, \"Interval\": \"2015-2017\"}, {\"sample\": \"17551\", \"froh\": 0.017052051007534687, \"color_idx\": 1, \"Interval\": \"Brooks source\"}, {\"sample\": \"18419\", \"froh\": 0.06644885203361227, \"color_idx\": 2, \"Interval\": \"2003-2005\"}, {\"sample\": \"39290\", \"froh\": 0.01483367174430367, \"color_idx\": 4, \"Interval\": \"Offspring of merger\"}, {\"sample\": \"7139\", \"froh\": 0.00943376813144603, \"color_idx\": 0, \"Interval\": \"Conventional source\"}, {\"sample\": \"34270\", \"froh\": 0.020455905950614684, \"color_idx\": 3, \"Interval\": \"NEPRC source\"}, {\"sample\": \"17714\", \"froh\": 0.004062478411295298, \"color_idx\": 1, \"Interval\": \"Brooks source\"}, {\"sample\": \"17535\", \"froh\": 0.015557866020302666, \"color_idx\": 1, \"Interval\": \"Brooks source\"}, {\"sample\": \"29445\", \"froh\": 0.018665631997509882, \"color_idx\": 2, \"Interval\": \"2006-2008\"}, {\"sample\": \"17666\", \"froh\": 0.017280499866980433, \"color_idx\": 1, \"Interval\": \"Brooks source\"}, {\"sample\": \"38266\", \"froh\": 0.020409328135716803, \"color_idx\": 2, \"Interval\": \"2018-2020\"}, {\"sample\": \"38320\", \"froh\": 0.01674115227507736, \"color_idx\": 4, \"Interval\": \"Offspring of merger\"}, {\"sample\": \"17553\", \"froh\": 0.01780433255386838, \"color_idx\": 1, \"Interval\": \"Brooks source\"}, {\"sample\": \"30618\", \"froh\": 0.02111860925458078, \"color_idx\": 2, \"Interval\": \"2009-2011\"}, {\"sample\": \"37447\", \"froh\": 0.021752294029440986, \"color_idx\": 4, \"Interval\": \"Offspring of merger\"}, {\"sample\": \"17509\", \"froh\": 0.022836704702382797, \"color_idx\": 1, \"Interval\": \"Brooks source\"}, {\"sample\": \"34280\", \"froh\": 0.019611448381355572, \"color_idx\": 3, \"Interval\": \"NEPRC source\"}, {\"sample\": \"33945\", \"froh\": 0.014916820805210554, \"color_idx\": 3, \"Interval\": \"NEPRC source\"}, {\"sample\": \"30855\", \"froh\": 0.016202896606398016, \"color_idx\": 2, \"Interval\": \"2009-2011\"}, {\"sample\": \"28310\", \"froh\": 0.09250121261216622, \"color_idx\": 2, \"Interval\": \"2006-2008\"}, {\"sample\": \"31236\", \"froh\": 0.007913786086144892, \"color_idx\": 2, \"Interval\": \"2009-2011\"}, {\"sample\": \"12932\", \"froh\": 0.12228817004187134, \"color_idx\": 0, \"Interval\": \"Conventional source\"}, {\"sample\": \"18400\", \"froh\": 0.003923340763946493, \"color_idx\": 1, \"Interval\": \"Brooks source\"}, {\"sample\": \"32619\", \"froh\": 0.01382225256854716, \"color_idx\": 2, \"Interval\": \"2012-2014\"}, {\"sample\": \"34281\", \"froh\": 0.02205899131208275, \"color_idx\": 3, \"Interval\": \"NEPRC source\"}, {\"sample\": \"32745\", \"froh\": 0.05862748891760688, \"color_idx\": 2, \"Interval\": \"2012-2014\"}, {\"sample\": \"33977\", \"froh\": 0.016084559055117627, \"color_idx\": 3, \"Interval\": \"NEPRC source\"}, {\"sample\": \"16340\", \"froh\": 0.023262102518956978, \"color_idx\": 1, \"Interval\": \"Brooks source\"}, {\"sample\": \"30009\", \"froh\": 0.035514144202002884, \"color_idx\": 2, \"Interval\": \"2009-2011\"}, {\"sample\": \"34253\", \"froh\": 0.0198943803418176, \"color_idx\": 3, \"Interval\": \"NEPRC source\"}, {\"sample\": \"28210\", \"froh\": 0.01200793994054824, \"color_idx\": 2, \"Interval\": \"2006-2008\"}, {\"sample\": \"33930\", \"froh\": 0.01180473808656674, \"color_idx\": 3, \"Interval\": \"NEPRC source\"}, {\"sample\": \"34287\", \"froh\": 0.03138767670958279, \"color_idx\": 3, \"Interval\": \"NEPRC source\"}, {\"sample\": \"27646\", \"froh\": 0.031410820572734297, \"color_idx\": 2, \"Interval\": \"2006-2008\"}, {\"sample\": \"34295\", \"froh\": 0.03180473261951245, \"color_idx\": 3, \"Interval\": \"NEPRC source\"}, {\"sample\": \"38995\", \"froh\": 0.020356805736075012, \"color_idx\": 4, \"Interval\": \"Offspring of merger\"}, {\"sample\": \"9908\", \"froh\": 0.019556978669043663, \"color_idx\": 0, \"Interval\": \"Conventional source\"}, {\"sample\": \"26177\", \"froh\": 0.026602768727907233, \"color_idx\": 2, \"Interval\": \"2003-2005\"}, {\"sample\": \"31154\", \"froh\": 0.020017301664805243, \"color_idx\": 2, \"Interval\": \"2009-2011\"}, {\"sample\": \"38261\", \"froh\": 0.01987249092588464, \"color_idx\": 4, \"Interval\": \"Offspring of merger\"}, {\"sample\": \"19150\", \"froh\": 0.019723590309684954, \"color_idx\": 2, \"Interval\": \"2003-2005\"}, {\"sample\": \"34273\", \"froh\": 0.044408307752803466, \"color_idx\": 3, \"Interval\": \"NEPRC source\"}, {\"sample\": \"38456\", \"froh\": 0.015355181862890456, \"color_idx\": 2, \"Interval\": \"2018-2020\"}, {\"sample\": \"17684\", \"froh\": 0.013636433343841545, \"color_idx\": 1, \"Interval\": \"Brooks source\"}, {\"sample\": \"33919\", \"froh\": 0.01215867890024074, \"color_idx\": 3, \"Interval\": \"NEPRC source\"}, {\"sample\": \"38388\", \"froh\": 0.020407007426957918, \"color_idx\": 2, \"Interval\": \"2018-2020\"}, {\"sample\": \"38243\", \"froh\": 0.023364716896487468, \"color_idx\": 4, \"Interval\": \"Offspring of merger\"}, {\"sample\": \"33955\", \"froh\": 0.02307630598066712, \"color_idx\": 2, \"Interval\": \"2006-2008\"}, {\"sample\": \"20083\", \"froh\": 0.02725230200966666, \"color_idx\": 2, \"Interval\": \"2003-2005\"}, {\"sample\": \"38226\", \"froh\": 0.025198793483599314, \"color_idx\": 4, \"Interval\": \"Offspring of merger\"}, {\"sample\": \"33965\", \"froh\": 0.015330351022987297, \"color_idx\": 3, \"Interval\": \"NEPRC source\"}, {\"sample\": \"35034\", \"froh\": 0.016396605868975383, \"color_idx\": 2, \"Interval\": \"2015-2017\"}, {\"sample\": \"31143\", \"froh\": 0.019215205956198703, \"color_idx\": 2, \"Interval\": \"2009-2011\"}, {\"sample\": \"39047\", \"froh\": 0.01568699933021333, \"color_idx\": 4, \"Interval\": \"Offspring of merger\"}, {\"sample\": \"38642\", \"froh\": 0.014973488868399668, \"color_idx\": 2, \"Interval\": \"2018-2020\"}, {\"sample\": \"38455\", \"froh\": 0.004395041926978799, \"color_idx\": 4, \"Interval\": \"Offspring of merger\"}, {\"sample\": \"32764\", \"froh\": 0.013212285511584449, \"color_idx\": 2, \"Interval\": \"2012-2014\"}, {\"sample\": \"31957\", \"froh\": 0.022098430716096323, \"color_idx\": 2, \"Interval\": \"2012-2014\"}, {\"sample\": \"31127\", \"froh\": 0.009486758763832603, \"color_idx\": 2, \"Interval\": \"2009-2011\"}, {\"sample\": \"34307\", \"froh\": 0.024562805479677607, \"color_idx\": 3, \"Interval\": \"NEPRC source\"}, {\"sample\": \"28898\", \"froh\": 0.014572349896524934, \"color_idx\": 2, \"Interval\": \"2006-2008\"}, {\"sample\": \"16353\", \"froh\": 0.01618849928629001, \"color_idx\": 1, \"Interval\": \"Brooks source\"}, {\"sample\": \"39064\", \"froh\": 0.028062526893281484, \"color_idx\": 2, \"Interval\": \"2018-2020\"}, {\"sample\": \"38522\", \"froh\": 0.022004297338972505, \"color_idx\": 4, \"Interval\": \"Offspring of merger\"}, {\"sample\": \"17606\", \"froh\": 0.02295135552514927, \"color_idx\": 1, \"Interval\": \"Brooks source\"}, {\"sample\": \"26957\", \"froh\": 0.018728307869880247, \"color_idx\": 2, \"Interval\": \"2003-2005\"}, {\"sample\": \"32872\", \"froh\": 0.013740504114881615, \"color_idx\": 2, \"Interval\": \"2012-2014\"}, {\"sample\": \"32542\", \"froh\": 0.023072316518670873, \"color_idx\": 2, \"Interval\": \"2012-2014\"}, {\"sample\": \"38244\", \"froh\": 0.032145293282702735, \"color_idx\": 2, \"Interval\": \"2018-2020\"}, {\"sample\": \"9038\", \"froh\": 0.018120462550653027, \"color_idx\": 0, \"Interval\": \"Conventional source\"}, {\"sample\": \"16643\", \"froh\": 0.011550716057941753, \"color_idx\": 1, \"Interval\": \"Brooks source\"}, {\"sample\": \"33970\", \"froh\": 0.019205365630389194, \"color_idx\": 3, \"Interval\": \"NEPRC source\"}, {\"sample\": \"34322\", \"froh\": 0.017147362218735328, \"color_idx\": 3, \"Interval\": \"NEPRC source\"}, {\"sample\": \"38523\", \"froh\": 0.01656546532431839, \"color_idx\": 2, \"Interval\": \"2018-2020\"}, {\"sample\": \"33956\", \"froh\": 0.016765503353073634, \"color_idx\": 2, \"Interval\": \"2006-2008\"}, {\"sample\": \"17585\", \"froh\": 0.028359032396623813, \"color_idx\": 1, \"Interval\": \"Brooks source\"}, {\"sample\": \"38305\", \"froh\": 0.016430092134350583, \"color_idx\": 4, \"Interval\": \"Offspring of merger\"}, {\"sample\": \"31691\", \"froh\": 0.02149610489024901, \"color_idx\": 2, \"Interval\": \"2012-2014\"}, {\"sample\": \"30011\", \"froh\": 0.012335437691166873, \"color_idx\": 2, \"Interval\": \"2009-2011\"}, {\"sample\": \"17133\", \"froh\": 0.011407787175803194, \"color_idx\": 0, \"Interval\": \"Conventional source\"}, {\"sample\": \"39181\", \"froh\": 0.01824147709899214, \"color_idx\": 4, \"Interval\": \"Offspring of merger\"}, {\"sample\": \"30003\", \"froh\": 0.015140772175710597, \"color_idx\": 2, \"Interval\": \"2009-2011\"}, {\"sample\": \"38457\", \"froh\": 0.02670148848009749, \"color_idx\": 2, \"Interval\": \"2018-2020\"}, {\"sample\": \"38294\", \"froh\": 0.014989195678177551, \"color_idx\": 4, \"Interval\": \"Offspring of merger\"}, {\"sample\": \"28110\", \"froh\": 0.014620021866097274, \"color_idx\": 2, \"Interval\": \"2006-2008\"}, {\"sample\": \"39139\", \"froh\": 0.04026362009326694, \"color_idx\": 2, \"Interval\": \"2018-2020\"}, {\"sample\": \"31762\", \"froh\": 0.016984258790549576, \"color_idx\": 2, \"Interval\": \"2012-2014\"}, {\"sample\": \"29532\", \"froh\": 0.01648344909656528, \"color_idx\": 2, \"Interval\": \"2006-2008\"}, {\"sample\": \"19314\", \"froh\": 0.01531279248101222, \"color_idx\": 2, \"Interval\": \"2003-2005\"}, {\"sample\": \"27056\", \"froh\": 0.05856545905022276, \"color_idx\": 2, \"Interval\": \"2003-2005\"}, {\"sample\": \"18994\", \"froh\": 0.011294210424654614, \"color_idx\": 2, \"Interval\": \"2003-2005\"}, {\"sample\": \"39414\", \"froh\": 0.02042781830837153, \"color_idx\": 2, \"Interval\": \"2018-2020\"}, {\"sample\": \"30139\", \"froh\": 0.01634708291102276, \"color_idx\": 2, \"Interval\": \"2009-2011\"}, {\"sample\": \"28935\", \"froh\": 0.019431445061068458, \"color_idx\": 2, \"Interval\": \"2006-2008\"}, {\"sample\": \"34009\", \"froh\": 0.029713158891172573, \"color_idx\": 3, \"Interval\": \"NEPRC source\"}, {\"sample\": \"29362\", \"froh\": 0.02088874528346395, \"color_idx\": 2, \"Interval\": \"2006-2008\"}, {\"sample\": \"10244\", \"froh\": 0.13529683158337794, \"color_idx\": 0, \"Interval\": \"Conventional source\"}, {\"sample\": \"33458\", \"froh\": 0.01425347000862439, \"color_idx\": 2, \"Interval\": \"2012-2014\"}, {\"sample\": \"34018\", \"froh\": 0.019647475525294986, \"color_idx\": 3, \"Interval\": \"NEPRC source\"}, {\"sample\": \"17537\", \"froh\": 0.024282244435615875, \"color_idx\": 1, \"Interval\": \"Brooks source\"}, {\"sample\": \"32594\", \"froh\": 0.03319321341377027, \"color_idx\": 2, \"Interval\": \"2012-2014\"}, {\"sample\": \"7893\", \"froh\": 0.05376204899482192, \"color_idx\": 0, \"Interval\": \"Conventional source\"}, {\"sample\": \"38222\", \"froh\": 0.027631955458190503, \"color_idx\": 2, \"Interval\": \"2018-2020\"}, {\"sample\": \"17660\", \"froh\": 0.017182807697851202, \"color_idx\": 1, \"Interval\": \"Brooks source\"}, {\"sample\": \"18401\", \"froh\": 0.009155767305188174, \"color_idx\": 1, \"Interval\": \"Brooks source\"}, {\"sample\": \"19316\", \"froh\": 0.032653879582480026, \"color_idx\": 2, \"Interval\": \"2003-2005\"}, {\"sample\": \"34238\", \"froh\": 0.010798083801935043, \"color_idx\": 3, \"Interval\": \"NEPRC source\"}, {\"sample\": \"33966\", \"froh\": 0.03258603269495204, \"color_idx\": 3, \"Interval\": \"NEPRC source\"}, {\"sample\": \"33983\", \"froh\": 0.01986953202221706, \"color_idx\": 3, \"Interval\": \"NEPRC source\"}, {\"sample\": \"33986\", \"froh\": 0.05744308582174197, \"color_idx\": 3, \"Interval\": \"NEPRC source\"}, {\"sample\": \"38268\", \"froh\": 0.01250480889254389, \"color_idx\": 2, \"Interval\": \"2018-2020\"}, {\"sample\": \"16346\", \"froh\": 0.013994034852437614, \"color_idx\": 1, \"Interval\": \"Brooks source\"}, {\"sample\": \"12540\", \"froh\": 0.020145531609078834, \"color_idx\": 0, \"Interval\": \"Conventional source\"}, {\"sample\": \"34231\", \"froh\": 0.022754259292272677, \"color_idx\": 3, \"Interval\": \"NEPRC source\"}, {\"sample\": \"34844\", \"froh\": 0.16274610188941266, \"color_idx\": 2, \"Interval\": \"2015-2017\"}, {\"sample\": \"34003\", \"froh\": 0.022963624785078057, \"color_idx\": 3, \"Interval\": \"NEPRC source\"}, {\"sample\": \"31809\", \"froh\": 0.01134514477519377, \"color_idx\": 2, \"Interval\": \"2012-2014\"}, {\"sample\": \"38442\", \"froh\": 0.01109484183111828, \"color_idx\": 4, \"Interval\": \"Offspring of merger\"}, {\"sample\": \"28035\", \"froh\": 0.023391390170876446, \"color_idx\": 2, \"Interval\": \"2006-2008\"}, {\"sample\": \"33962\", \"froh\": 0.015288896990873258, \"color_idx\": 3, \"Interval\": \"NEPRC source\"}, {\"sample\": \"34245\", \"froh\": 0.014257816502737386, \"color_idx\": 3, \"Interval\": \"NEPRC source\"}, {\"sample\": \"37641\", \"froh\": 0.0149916000663388, \"color_idx\": 2, \"Interval\": \"2018-2020\"}, {\"sample\": \"20080\", \"froh\": 0.004763516551163771, \"color_idx\": 2, \"Interval\": \"2003-2005\"}, {\"sample\": \"32578\", \"froh\": 0.03741691190883545, \"color_idx\": 2, \"Interval\": \"2012-2014\"}, {\"sample\": \"9710\", \"froh\": 0.005137354095269115, \"color_idx\": 0, \"Interval\": \"Conventional source\"}, {\"sample\": \"16642\", \"froh\": 0.014726756245491692, \"color_idx\": 1, \"Interval\": \"Brooks source\"}, {\"sample\": \"38228\", \"froh\": 0.022818403087314733, \"color_idx\": 4, \"Interval\": \"Offspring of merger\"}, {\"sample\": \"17514\", \"froh\": 0.0263359430069037, \"color_idx\": 1, \"Interval\": \"Brooks source\"}, {\"sample\": \"38610\", \"froh\": 0.017491472748128102, \"color_idx\": 4, \"Interval\": \"Offspring of merger\"}, {\"sample\": \"34264\", \"froh\": 0.02654941734431936, \"color_idx\": 3, \"Interval\": \"NEPRC source\"}, {\"sample\": \"31781\", \"froh\": 0.016495894641101714, \"color_idx\": 2, \"Interval\": \"2012-2014\"}, {\"sample\": \"17659\", \"froh\": 0.017343856331823358, \"color_idx\": 1, \"Interval\": \"Brooks source\"}, {\"sample\": \"30565\", \"froh\": 0.047889378329300084, \"color_idx\": 2, \"Interval\": \"2009-2011\"}, {\"sample\": \"32654\", \"froh\": 0.02057248139963552, \"color_idx\": 2, \"Interval\": \"2012-2014\"}, {\"sample\": \"34023\", \"froh\": 0.01954364909810982, \"color_idx\": 3, \"Interval\": \"NEPRC source\"}, {\"sample\": \"34241\", \"froh\": 0.015595576050000727, \"color_idx\": 3, \"Interval\": \"NEPRC source\"}, {\"sample\": \"17521\", \"froh\": 0.020873255668223758, \"color_idx\": 1, \"Interval\": \"Brooks source\"}, {\"sample\": \"31310\", \"froh\": 0.01932633145872071, \"color_idx\": 2, \"Interval\": \"2009-2011\"}, {\"sample\": \"37738\", \"froh\": 0.021816021287013494, \"color_idx\": 2, \"Interval\": \"2018-2020\"}, {\"sample\": \"17566\", \"froh\": 0.014448880008566242, \"color_idx\": 1, \"Interval\": \"Brooks source\"}, {\"sample\": \"33917\", \"froh\": 0.0158032616323151, \"color_idx\": 3, \"Interval\": \"NEPRC source\"}, {\"sample\": \"32642\", \"froh\": 0.019062145543930407, \"color_idx\": 2, \"Interval\": \"2012-2014\"}, {\"sample\": \"17645\", \"froh\": 0.011646920593251186, \"color_idx\": 1, \"Interval\": \"Brooks source\"}, {\"sample\": \"34249\", \"froh\": 0.018200316130740603, \"color_idx\": 3, \"Interval\": \"NEPRC source\"}, {\"sample\": \"33924\", \"froh\": 0.02003075061835313, \"color_idx\": 3, \"Interval\": \"NEPRC source\"}, {\"sample\": \"32571\", \"froh\": 0.015374122416684125, \"color_idx\": 2, \"Interval\": \"2012-2014\"}, {\"sample\": \"37576\", \"froh\": 0.08491130040065493, \"color_idx\": 2, \"Interval\": \"2018-2020\"}, {\"sample\": \"36677\", \"froh\": 0.017822207218030163, \"color_idx\": 2, \"Interval\": \"2015-2017\"}, {\"sample\": \"34243\", \"froh\": 0.017138131822791936, \"color_idx\": 3, \"Interval\": \"NEPRC source\"}, {\"sample\": \"17534\", \"froh\": 0.013944322964989877, \"color_idx\": 1, \"Interval\": \"Brooks source\"}, {\"sample\": \"38945\", \"froh\": 0.02143626481984763, \"color_idx\": 2, \"Interval\": \"2018-2020\"}, {\"sample\": \"16645\", \"froh\": 0.01735234514230758, \"color_idx\": 1, \"Interval\": \"Brooks source\"}, {\"sample\": \"33987\", \"froh\": 0.024170110689272502, \"color_idx\": 3, \"Interval\": \"NEPRC source\"}, {\"sample\": \"8X0036\", \"froh\": 0.014519864687728638, \"color_idx\": 0, \"Interval\": \"Conventional source\"}, {\"sample\": \"33918\", \"froh\": 0.030419931487507913, \"color_idx\": 3, \"Interval\": \"NEPRC source\"}, {\"sample\": \"32514\", \"froh\": 0.015557586717052999, \"color_idx\": 2, \"Interval\": \"2012-2014\"}, {\"sample\": \"34321\", \"froh\": 0.019627477635763894, \"color_idx\": 3, \"Interval\": \"NEPRC source\"}, {\"sample\": \"30506\", \"froh\": 0.028389614056965856, \"color_idx\": 2, \"Interval\": \"2009-2011\"}, {\"sample\": \"19312\", \"froh\": 0.024225912577670036, \"color_idx\": 2, \"Interval\": \"2003-2005\"}, {\"sample\": \"30881\", \"froh\": 0.014684087932272242, \"color_idx\": 2, \"Interval\": \"2009-2011\"}, {\"sample\": \"34921\", \"froh\": 0.012849517822640677, \"color_idx\": 2, \"Interval\": \"2015-2017\"}, {\"sample\": \"38475\", \"froh\": 0.08861068012448156, \"color_idx\": 2, \"Interval\": \"2018-2020\"}, {\"sample\": \"19318\", \"froh\": 0.015591256705204944, \"color_idx\": 2, \"Interval\": \"2003-2005\"}, {\"sample\": \"34285\", \"froh\": 0.020993308833206825, \"color_idx\": 3, \"Interval\": \"NEPRC source\"}, {\"sample\": \"38999\", \"froh\": 0.014853154168716201, \"color_idx\": 2, \"Interval\": \"2018-2020\"}, {\"sample\": \"34008\", \"froh\": 0.014319234580713115, \"color_idx\": 3, \"Interval\": \"NEPRC source\"}, {\"sample\": \"30142\", \"froh\": 0.01121252668306023, \"color_idx\": 2, \"Interval\": \"2009-2011\"}, {\"sample\": \"38507\", \"froh\": 0.014336725063440935, \"color_idx\": 2, \"Interval\": \"2018-2020\"}, {\"sample\": \"28794\", \"froh\": 0.03820228661330746, \"color_idx\": 2, \"Interval\": \"2006-2008\"}, {\"sample\": \"34261\", \"froh\": 0.022796269699435323, \"color_idx\": 3, \"Interval\": \"NEPRC source\"}, {\"sample\": \"17701\", \"froh\": 0.008925796596344772, \"color_idx\": 1, \"Interval\": \"Brooks source\"}, {\"sample\": \"20077\", \"froh\": 0.020957703433455325, \"color_idx\": 2, \"Interval\": \"2003-2005\"}, {\"sample\": \"33985\", \"froh\": 0.01876779339054224, \"color_idx\": 3, \"Interval\": \"NEPRC source\"}, {\"sample\": \"33177\", \"froh\": 0.04993449288153922, \"color_idx\": 2, \"Interval\": \"2012-2014\"}, {\"sample\": \"38514\", \"froh\": 0.009155215393041028, \"color_idx\": 4, \"Interval\": \"Offspring of merger\"}, {\"sample\": \"32694\", \"froh\": 0.021573195562424763, \"color_idx\": 2, \"Interval\": \"2012-2014\"}, {\"sample\": \"33948\", \"froh\": 0.02416234784409234, \"color_idx\": 3, \"Interval\": \"NEPRC source\"}, {\"sample\": \"37445\", \"froh\": 0.0071499088060943275, \"color_idx\": 2, \"Interval\": \"2018-2020\"}, {\"sample\": \"31810\", \"froh\": 0.034046157190154414, \"color_idx\": 2, \"Interval\": \"2012-2014\"}, {\"sample\": \"38070\", \"froh\": 0.013772535474381052, \"color_idx\": 2, \"Interval\": \"2018-2020\"}, {\"sample\": \"34252\", \"froh\": 0.021394644916562684, \"color_idx\": 3, \"Interval\": \"NEPRC source\"}, {\"sample\": \"38227\", \"froh\": 0.04454059224305292, \"color_idx\": 2, \"Interval\": \"2018-2020\"}, {\"sample\": \"17527\", \"froh\": 0.003215397399794971, \"color_idx\": 1, \"Interval\": \"Brooks source\"}, {\"sample\": \"37448\", \"froh\": 0.019663120970177802, \"color_idx\": 2, \"Interval\": \"2018-2020\"}, {\"sample\": \"34247\", \"froh\": 0.03512469654431794, \"color_idx\": 3, \"Interval\": \"NEPRC source\"}, {\"sample\": \"30643\", \"froh\": 0.013620899843403669, \"color_idx\": 2, \"Interval\": \"2009-2011\"}, {\"sample\": \"17508\", \"froh\": 0.016074220371978486, \"color_idx\": 1, \"Interval\": \"Brooks source\"}, {\"sample\": \"19699\", \"froh\": 0.0272422664319183, \"color_idx\": 2, \"Interval\": \"2003-2005\"}, {\"sample\": \"31343\", \"froh\": 0.016193262317872548, \"color_idx\": 2, \"Interval\": \"2009-2011\"}, {\"sample\": \"34246\", \"froh\": 0.022018094770742676, \"color_idx\": 3, \"Interval\": \"NEPRC source\"}, {\"sample\": \"30610\", \"froh\": 0.030914260676664713, \"color_idx\": 2, \"Interval\": \"2009-2011\"}, {\"sample\": \"34229\", \"froh\": 0.01613137972623659, \"color_idx\": 3, \"Interval\": \"NEPRC source\"}, {\"sample\": \"17552\", \"froh\": 0.017875652322548684, \"color_idx\": 1, \"Interval\": \"Brooks source\"}, {\"sample\": \"38487\", \"froh\": 0.11399853699023901, \"color_idx\": 2, \"Interval\": \"2018-2020\"}, {\"sample\": \"33993\", \"froh\": 0.015554183010873301, \"color_idx\": 3, \"Interval\": \"NEPRC source\"}, {\"sample\": \"35956\", \"froh\": 0.022339711532963196, \"color_idx\": 2, \"Interval\": \"2015-2017\"}, {\"sample\": \"17674\", \"froh\": 0.008356677732622988, \"color_idx\": 1, \"Interval\": \"Brooks source\"}, {\"sample\": \"17658\", \"froh\": 0.06141951688954096, \"color_idx\": 1, \"Interval\": \"Brooks source\"}, {\"sample\": \"19325\", \"froh\": 0.006652841998800644, \"color_idx\": 1, \"Interval\": \"Brooks source\"}, {\"sample\": \"37444\", \"froh\": 0.017080591634275968, \"color_idx\": 2, \"Interval\": \"2018-2020\"}, {\"sample\": \"8896\", \"froh\": 0.008566074093830128, \"color_idx\": 0, \"Interval\": \"Conventional source\"}, {\"sample\": \"32693\", \"froh\": 0.012870002168430842, \"color_idx\": 2, \"Interval\": \"2012-2014\"}, {\"sample\": \"38200\", \"froh\": 0.016605834127560885, \"color_idx\": 4, \"Interval\": \"Offspring of merger\"}, {\"sample\": \"17569\", \"froh\": 0.0034301250687038113, \"color_idx\": 1, \"Interval\": \"Brooks source\"}, {\"sample\": \"34312\", \"froh\": 0.017911964720273045, \"color_idx\": 3, \"Interval\": \"NEPRC source\"}, {\"sample\": \"30649\", \"froh\": 0.023591096457289875, \"color_idx\": 2, \"Interval\": \"2009-2011\"}, {\"sample\": \"35325\", \"froh\": 0.021286713735760236, \"color_idx\": 2, \"Interval\": \"2015-2017\"}, {\"sample\": \"34235\", \"froh\": 0.01981199778423637, \"color_idx\": 3, \"Interval\": \"NEPRC source\"}, {\"sample\": \"33937\", \"froh\": 0.02077344548044359, \"color_idx\": 3, \"Interval\": \"NEPRC source\"}, {\"sample\": \"32604\", \"froh\": 0.017488705377314825, \"color_idx\": 2, \"Interval\": \"2012-2014\"}, {\"sample\": \"18408\", \"froh\": 0.01110636764604562, \"color_idx\": 1, \"Interval\": \"Brooks source\"}, {\"sample\": \"31954\", \"froh\": 0.019034737378434446, \"color_idx\": 2, \"Interval\": \"2012-2014\"}]}}, {\"mode\": \"vega-lite\"});\n",
       "</script>"
      ],
      "text/plain": [
       "alt.Chart(...)"
      ]
     },
     "execution_count": 48,
     "metadata": {},
     "output_type": "execute_result"
    }
   ],
   "source": [
    "# Boxplot of fROH over intervals\n",
    "\n",
    "boxplot = alt.Chart(total_len_roh).mark_boxplot().encode(\n",
    "    alt.X(\"Interval:N\", title=\"Cohort\", #axis=alt.Axis(labelAngle=-45),\n",
    "          # TODO: Generalize this\n",
    "        #sort=['Founders', 'pre-2003', '2003-2005', '2006-2008', '2009-2011', '2012-2014', '2015-2017', '2018-2020', 'Founders2', 'Merged']),\n",
    "        sort=['Conventional source', 'Brooks source', 'Pre-2003', '2003-2005', '2006-2008', '2009-2011', '2012-2014', '2015-2017', '2018-2020', 'NEPRC source', 'Offspring of merger'],   \n",
    "    ),\n",
    "    alt.Y(\"froh:Q\", title=\"fROH\"),\n",
    "    #alt.Column(\"seq\", title=\"Sequence Type\"),\n",
    "    color=alt.Color(\"Interval:N\", legend=None).scale(\n",
    "        domain = list(colors[\"Cohort\"]),\n",
    "        range = list(colors[\"Color\"])\n",
    "    )\n",
    "    # tooltip=[\n",
    "    #     alt.Tooltip()\n",
    "    # ]\n",
    ").properties(\n",
    "    #width=100\n",
    "    title=\"fROH\"\n",
    ")\n",
    "\n",
    "boxplot#.save(\"/master/abagwell/figures/final_plots/U42_WES.common_between_founding_cohorts2.froh_boxplot.min1Mb.html\")\n",
    "\n",
    "#boxplot.save(f\"/master/abagwell/figures/roh/U42_WES.common_between_founding_cohorts2.boxplot.maf_0.05.gt{min_ROH_length / 1_000_000}Mb.html\")"
   ]
  },
  {
   "cell_type": "code",
   "execution_count": 18,
   "metadata": {},
   "outputs": [
    {
     "data": {
      "text/html": [
       "\n",
       "<style>\n",
       "  #altair-viz-a803e49e33c141c7a02fd544f5c572de.vega-embed {\n",
       "    width: 100%;\n",
       "    display: flex;\n",
       "  }\n",
       "\n",
       "  #altair-viz-a803e49e33c141c7a02fd544f5c572de.vega-embed details,\n",
       "  #altair-viz-a803e49e33c141c7a02fd544f5c572de.vega-embed details summary {\n",
       "    position: relative;\n",
       "  }\n",
       "</style>\n",
       "<div id=\"altair-viz-a803e49e33c141c7a02fd544f5c572de\"></div>\n",
       "<script type=\"text/javascript\">\n",
       "  var VEGA_DEBUG = (typeof VEGA_DEBUG == \"undefined\") ? {} : VEGA_DEBUG;\n",
       "  (function(spec, embedOpt){\n",
       "    let outputDiv = document.currentScript.previousElementSibling;\n",
       "    if (outputDiv.id !== \"altair-viz-a803e49e33c141c7a02fd544f5c572de\") {\n",
       "      outputDiv = document.getElementById(\"altair-viz-a803e49e33c141c7a02fd544f5c572de\");\n",
       "    }\n",
       "\n",
       "    const paths = {\n",
       "      \"vega\": \"https://cdn.jsdelivr.net/npm/vega@5?noext\",\n",
       "      \"vega-lib\": \"https://cdn.jsdelivr.net/npm/vega-lib?noext\",\n",
       "      \"vega-lite\": \"https://cdn.jsdelivr.net/npm/vega-lite@5.20.1?noext\",\n",
       "      \"vega-embed\": \"https://cdn.jsdelivr.net/npm/vega-embed@6?noext\",\n",
       "    };\n",
       "\n",
       "    function maybeLoadScript(lib, version) {\n",
       "      var key = `${lib.replace(\"-\", \"\")}_version`;\n",
       "      return (VEGA_DEBUG[key] == version) ?\n",
       "        Promise.resolve(paths[lib]) :\n",
       "        new Promise(function(resolve, reject) {\n",
       "          var s = document.createElement('script');\n",
       "          document.getElementsByTagName(\"head\")[0].appendChild(s);\n",
       "          s.async = true;\n",
       "          s.onload = () => {\n",
       "            VEGA_DEBUG[key] = version;\n",
       "            return resolve(paths[lib]);\n",
       "          };\n",
       "          s.onerror = () => reject(`Error loading script: ${paths[lib]}`);\n",
       "          s.src = paths[lib];\n",
       "        });\n",
       "    }\n",
       "\n",
       "    function showError(err) {\n",
       "      outputDiv.innerHTML = `<div class=\"error\" style=\"color:red;\">${err}</div>`;\n",
       "      throw err;\n",
       "    }\n",
       "\n",
       "    function displayChart(vegaEmbed) {\n",
       "      vegaEmbed(outputDiv, spec, embedOpt)\n",
       "        .catch(err => showError(`Javascript Error: ${err.message}<br>This usually means there's a typo in your chart specification. See the javascript console for the full traceback.`));\n",
       "    }\n",
       "\n",
       "    if(typeof define === \"function\" && define.amd) {\n",
       "      requirejs.config({paths});\n",
       "      let deps = [\"vega-embed\"];\n",
       "      require(deps, displayChart, err => showError(`Error loading script: ${err.message}`));\n",
       "    } else {\n",
       "      maybeLoadScript(\"vega\", \"5\")\n",
       "        .then(() => maybeLoadScript(\"vega-lite\", \"5.20.1\"))\n",
       "        .then(() => maybeLoadScript(\"vega-embed\", \"6\"))\n",
       "        .catch(showError)\n",
       "        .then(() => displayChart(vegaEmbed));\n",
       "    }\n",
       "  })({\"config\": {\"view\": {\"continuousWidth\": 300, \"continuousHeight\": 300}}, \"data\": {\"name\": \"data-e2d0e047a7f77eb0361a6279687257ea\"}, \"mark\": {\"type\": \"area\", \"orient\": \"horizontal\"}, \"encoding\": {\"color\": {\"field\": \"Interval\", \"scale\": {\"domain\": [\"Conventional source\", \"Brooks source\", \"2003-2005\", \"2006-2008\", \"2009-2011\", \"2012-2014\", \"2015-2017\", \"2018-2020\", \"NEPRC source\", \"Offspring of merger\"], \"range\": [\"#4269d0\", \"#efb118\", \"#ff725c\", \"#ff725c\", \"#ff725c\", \"#ff725c\", \"#ff725c\", \"#ff725c\", \"#6cc5b0\", \"#3ca951\"]}, \"type\": \"nominal\"}, \"column\": {\"field\": \"Interval\", \"header\": {\"titleOrient\": \"bottom\", \"labelOrient\": \"bottom\", \"labelPadding\": 0}, \"sort\": [\"Conventional source\", \"Brooks source\", \"2003-2005\", \"2006-2008\", \"2009-2011\", \"2012-2014\", \"2015-2017\", \"2018-2020\", \"NEPRC source\", \"Offspring of merger\"], \"spacing\": 0, \"title\": \"Cohort\", \"type\": \"nominal\"}, \"x\": {\"axis\": {\"labels\": false, \"values\": [0], \"grid\": false, \"ticks\": true}, \"field\": \"density\", \"impute\": null, \"stack\": \"center\", \"title\": null, \"type\": \"quantitative\"}, \"y\": {\"field\": \"froh\", \"title\": \"fROH\", \"type\": \"quantitative\"}}, \"title\": \"fROH Across Cohorts\", \"transform\": [{\"density\": \"froh\", \"groupby\": [\"Interval\", \"color_idx\"], \"as\": [\"froh\", \"density\"]}], \"width\": 65, \"$schema\": \"https://vega.github.io/schema/vega-lite/v5.20.1.json\", \"datasets\": {\"data-e2d0e047a7f77eb0361a6279687257ea\": [{\"sample\": \"34265\", \"froh\": 0.013963582244329437, \"color_idx\": 3, \"Interval\": \"NEPRC source\"}, {\"sample\": \"27441\", \"froh\": 0.008663793040368115, \"color_idx\": 2, \"Interval\": \"2003-2005\"}, {\"sample\": \"34717\", \"froh\": 0.015906663711953168, \"color_idx\": 2, \"Interval\": \"2015-2017\"}, {\"sample\": \"38254\", \"froh\": 0.01826106626113124, \"color_idx\": 2, \"Interval\": \"2018-2020\"}, {\"sample\": \"17525\", \"froh\": 0.0038079714140450563, \"color_idx\": 1, \"Interval\": \"Brooks source\"}, {\"sample\": \"26992\", \"froh\": 0.021383174144086674, \"color_idx\": 2, \"Interval\": \"2003-2005\"}, {\"sample\": \"17539\", \"froh\": 0.02040397637305008, \"color_idx\": 1, \"Interval\": \"Brooks source\"}, {\"sample\": \"29555\", \"froh\": 0.02231588187062076, \"color_idx\": 2, \"Interval\": \"2006-2008\"}, {\"sample\": \"31832\", \"froh\": 0.016782128404826787, \"color_idx\": 2, \"Interval\": \"2012-2014\"}, {\"sample\": \"30122\", \"froh\": 0.039925766923628696, \"color_idx\": 2, \"Interval\": \"2009-2011\"}, {\"sample\": \"34299\", \"froh\": 0.02899791087305739, \"color_idx\": 3, \"Interval\": \"NEPRC source\"}, {\"sample\": \"39051\", \"froh\": 0.01724573423652021, \"color_idx\": 2, \"Interval\": \"2018-2020\"}, {\"sample\": \"30204\", \"froh\": 0.025199948259351932, \"color_idx\": 2, \"Interval\": \"2009-2011\"}, {\"sample\": \"31160\", \"froh\": 0.011176149201356253, \"color_idx\": 2, \"Interval\": \"2009-2011\"}, {\"sample\": \"17575\", \"froh\": 0.015902552635892155, \"color_idx\": 1, \"Interval\": \"Brooks source\"}, {\"sample\": \"17745\", \"froh\": 0.020820190654146194, \"color_idx\": 1, \"Interval\": \"Brooks source\"}, {\"sample\": \"37118\", \"froh\": 0.02026908443262298, \"color_idx\": 2, \"Interval\": \"2015-2017\"}, {\"sample\": \"39442\", \"froh\": 0.020547124309268607, \"color_idx\": 4, \"Interval\": \"Offspring of merger\"}, {\"sample\": \"29560\", \"froh\": 0.029067713627149952, \"color_idx\": 2, \"Interval\": \"2006-2008\"}, {\"sample\": \"17642\", \"froh\": 0.030264824834920486, \"color_idx\": 1, \"Interval\": \"Brooks source\"}, {\"sample\": \"37466\", \"froh\": 0.018286569883429405, \"color_idx\": 4, \"Interval\": \"Offspring of merger\"}, {\"sample\": \"31715\", \"froh\": 0.02114633279844654, \"color_idx\": 2, \"Interval\": \"2012-2014\"}, {\"sample\": \"28034\", \"froh\": 0.01703702255877863, \"color_idx\": 2, \"Interval\": \"2006-2008\"}, {\"sample\": \"34319\", \"froh\": 0.018892605124206388, \"color_idx\": 3, \"Interval\": \"NEPRC source\"}, {\"sample\": \"28144\", \"froh\": 0.0072465317384155774, \"color_idx\": 2, \"Interval\": \"2006-2008\"}, {\"sample\": \"26353\", \"froh\": 0.02059878945992174, \"color_idx\": 2, \"Interval\": \"2003-2005\"}, {\"sample\": \"16349\", \"froh\": 0.02388189874447555, \"color_idx\": 1, \"Interval\": \"Brooks source\"}, {\"sample\": \"30876\", \"froh\": 0.010901537204939896, \"color_idx\": 2, \"Interval\": \"2009-2011\"}, {\"sample\": \"38994\", \"froh\": 0.019784793796482177, \"color_idx\": 2, \"Interval\": \"2018-2020\"}, {\"sample\": \"34274\", \"froh\": 0.016515978441485897, \"color_idx\": 3, \"Interval\": \"NEPRC source\"}, {\"sample\": \"31357\", \"froh\": 0.017303721087090572, \"color_idx\": 2, \"Interval\": \"2009-2011\"}, {\"sample\": \"34248\", \"froh\": 0.015104750982306462, \"color_idx\": 3, \"Interval\": \"NEPRC source\"}, {\"sample\": \"43259\", \"froh\": 0.011268955609112811, \"color_idx\": 4, \"Interval\": \"Offspring of merger\"}, {\"sample\": \"40201\", \"froh\": 0.018264255376132434, \"color_idx\": 4, \"Interval\": \"Offspring of merger\"}, {\"sample\": \"30633\", \"froh\": 0.02034046259093071, \"color_idx\": 2, \"Interval\": \"2009-2011\"}, {\"sample\": \"35964\", \"froh\": 0.03491615966355019, \"color_idx\": 2, \"Interval\": \"2015-2017\"}, {\"sample\": \"18422\", \"froh\": 0.08317584724144352, \"color_idx\": 2, \"Interval\": \"2003-2005\"}, {\"sample\": \"16342\", \"froh\": 0.018566672364366182, \"color_idx\": 1, \"Interval\": \"Brooks source\"}, {\"sample\": \"34260\", \"froh\": 0.02281042899813216, \"color_idx\": 3, \"Interval\": \"NEPRC source\"}, {\"sample\": \"30034\", \"froh\": 0.021531836738875192, \"color_idx\": 2, \"Interval\": \"2009-2011\"}, {\"sample\": \"31982\", \"froh\": 0.029756293949502983, \"color_idx\": 2, \"Interval\": \"2012-2014\"}, {\"sample\": \"9590\", \"froh\": 0.00039729678562665016, \"color_idx\": 0, \"Interval\": \"Conventional source\"}, {\"sample\": \"30736\", \"froh\": 0.012919579053109434, \"color_idx\": 2, \"Interval\": \"2009-2011\"}, {\"sample\": \"34297\", \"froh\": 0.025399885500915886, \"color_idx\": 3, \"Interval\": \"NEPRC source\"}, {\"sample\": \"19851\", \"froh\": 0.006573085858728264, \"color_idx\": 2, \"Interval\": \"2003-2005\"}, {\"sample\": \"38488\", \"froh\": 0.016455238724531997, \"color_idx\": 4, \"Interval\": \"Offspring of merger\"}, {\"sample\": \"29364\", \"froh\": 0.012774086234082452, \"color_idx\": 2, \"Interval\": \"2006-2008\"}, {\"sample\": \"17582\", \"froh\": 0.008316368806641739, \"color_idx\": 1, \"Interval\": \"Brooks source\"}, {\"sample\": \"32982\", \"froh\": 0.012521664155630658, \"color_idx\": 2, \"Interval\": \"2012-2014\"}, {\"sample\": \"19223\", \"froh\": 0.016514473327968716, \"color_idx\": 2, \"Interval\": \"2003-2005\"}, {\"sample\": \"30735\", \"froh\": 0.013949816424777935, \"color_idx\": 2, \"Interval\": \"2009-2011\"}, {\"sample\": \"31977\", \"froh\": 0.1855709549850616, \"color_idx\": 2, \"Interval\": \"2012-2014\"}, {\"sample\": \"17717\", \"froh\": 0.011523735587168986, \"color_idx\": 1, \"Interval\": \"Brooks source\"}, {\"sample\": \"32789\", \"froh\": 0.016017339577153143, \"color_idx\": 2, \"Interval\": \"2012-2014\"}, {\"sample\": \"28302\", \"froh\": 0.01570367087052335, \"color_idx\": 2, \"Interval\": \"2006-2008\"}, {\"sample\": \"16347\", \"froh\": 0.018873789903562036, \"color_idx\": 1, \"Interval\": \"Brooks source\"}, {\"sample\": \"31776\", \"froh\": 0.024656969725203186, \"color_idx\": 2, \"Interval\": \"2012-2014\"}, {\"sample\": \"38494\", \"froh\": 0.021688688385933245, \"color_idx\": 2, \"Interval\": \"2018-2020\"}, {\"sample\": \"34298\", \"froh\": 0.02312227907241725, \"color_idx\": 3, \"Interval\": \"NEPRC source\"}, {\"sample\": \"34723\", \"froh\": 0.011594817334438123, \"color_idx\": 2, \"Interval\": \"2015-2017\"}, {\"sample\": \"16646\", \"froh\": 0.01866927855991066, \"color_idx\": 1, \"Interval\": \"Brooks source\"}, {\"sample\": \"39306\", \"froh\": 0.019279836579408283, \"color_idx\": 4, \"Interval\": \"Offspring of merger\"}, {\"sample\": \"30086\", \"froh\": 0.018602484545218637, \"color_idx\": 2, \"Interval\": \"2009-2011\"}, {\"sample\": \"10235\", \"froh\": 0.012443626232620145, \"color_idx\": 0, \"Interval\": \"Conventional source\"}, {\"sample\": \"31163\", \"froh\": 0.024623586478470006, \"color_idx\": 2, \"Interval\": \"2009-2011\"}, {\"sample\": \"16350\", \"froh\": 0.03318470489213793, \"color_idx\": 1, \"Interval\": \"Brooks source\"}, {\"sample\": \"31783\", \"froh\": 0.023894089159811886, \"color_idx\": 2, \"Interval\": \"2012-2014\"}, {\"sample\": \"39728\", \"froh\": 0.014708601162354876, \"color_idx\": 4, \"Interval\": \"Offspring of merger\"}, {\"sample\": \"31814\", \"froh\": 0.022065630621820508, \"color_idx\": 2, \"Interval\": \"2012-2014\"}, {\"sample\": \"12001\", \"froh\": 0.28038195526433324, \"color_idx\": 0, \"Interval\": \"Conventional source\"}, {\"sample\": \"17680\", \"froh\": 0.022605030280907275, \"color_idx\": 1, \"Interval\": \"Brooks source\"}, {\"sample\": \"28195\", \"froh\": 0.009474095280941572, \"color_idx\": 2, \"Interval\": \"2006-2008\"}, {\"sample\": \"31845\", \"froh\": 0.009649373132400097, \"color_idx\": 2, \"Interval\": \"2012-2014\"}, {\"sample\": \"38471\", \"froh\": 0.010120960119536733, \"color_idx\": 4, \"Interval\": \"Offspring of merger\"}, {\"sample\": \"28796\", \"froh\": 0.024528521842574993, \"color_idx\": 2, \"Interval\": \"2006-2008\"}, {\"sample\": \"16644\", \"froh\": 0.026892028710730233, \"color_idx\": 1, \"Interval\": \"Brooks source\"}, {\"sample\": \"17732\", \"froh\": 0.018923375714043546, \"color_idx\": 1, \"Interval\": \"Brooks source\"}, {\"sample\": \"16345\", \"froh\": 0.021858990474172998, \"color_idx\": 1, \"Interval\": \"Brooks source\"}, {\"sample\": \"17654\", \"froh\": 0.018749431898212928, \"color_idx\": 1, \"Interval\": \"Brooks source\"}, {\"sample\": \"28927\", \"froh\": 0.022692136447774822, \"color_idx\": 2, \"Interval\": \"2006-2008\"}, {\"sample\": \"38582\", \"froh\": 0.009895193835776537, \"color_idx\": 4, \"Interval\": \"Offspring of merger\"}, {\"sample\": \"30742\", \"froh\": 0.01360884219938575, \"color_idx\": 2, \"Interval\": \"2009-2011\"}, {\"sample\": \"31834\", \"froh\": 0.01890601242400732, \"color_idx\": 2, \"Interval\": \"2012-2014\"}, {\"sample\": \"17733\", \"froh\": 0.011251424216454947, \"color_idx\": 1, \"Interval\": \"Brooks source\"}, {\"sample\": \"38563\", \"froh\": 0.02422471131336055, \"color_idx\": 4, \"Interval\": \"Offspring of merger\"}, {\"sample\": \"10814\", \"froh\": 0.0031837643542507845, \"color_idx\": 0, \"Interval\": \"Conventional source\"}, {\"sample\": \"38292\", \"froh\": 0.02043859398394524, \"color_idx\": 4, \"Interval\": \"Offspring of merger\"}, {\"sample\": \"38698\", \"froh\": 0.021516943292888283, \"color_idx\": 2, \"Interval\": \"2018-2020\"}, {\"sample\": \"17624\", \"froh\": 0.007518275576827364, \"color_idx\": 1, \"Interval\": \"Brooks source\"}, {\"sample\": \"38240\", \"froh\": 0.029380328345218417, \"color_idx\": 2, \"Interval\": \"2018-2020\"}, {\"sample\": \"31961\", \"froh\": 0.017571951134419995, \"color_idx\": 2, \"Interval\": \"2012-2014\"}, {\"sample\": \"19224\", \"froh\": 0.021792708949331895, \"color_idx\": 2, \"Interval\": \"2003-2005\"}, {\"sample\": \"17641\", \"froh\": 0.007030177713833244, \"color_idx\": 1, \"Interval\": \"Brooks source\"}, {\"sample\": \"28168\", \"froh\": 0.04744417489986602, \"color_idx\": 2, \"Interval\": \"2006-2008\"}, {\"sample\": \"27783\", \"froh\": 0.02895155545941557, \"color_idx\": 2, \"Interval\": \"2006-2008\"}, {\"sample\": \"34004\", \"froh\": 0.019114503931943565, \"color_idx\": 3, \"Interval\": \"NEPRC source\"}, {\"sample\": \"33960\", \"froh\": 0.01588970468640747, \"color_idx\": 3, \"Interval\": \"NEPRC source\"}, {\"sample\": \"11452\", \"froh\": 0.16054357782743306, \"color_idx\": 0, \"Interval\": \"Conventional source\"}, {\"sample\": \"17723\", \"froh\": 0.013519353215047342, \"color_idx\": 1, \"Interval\": \"Brooks source\"}, {\"sample\": \"20078\", \"froh\": 0.02114713686452614, \"color_idx\": 2, \"Interval\": \"2003-2005\"}, {\"sample\": \"33326\", \"froh\": 0.09205693002806661, \"color_idx\": 2, \"Interval\": \"2012-2014\"}, {\"sample\": \"39876\", \"froh\": 0.02119936694412234, \"color_idx\": 4, \"Interval\": \"Offspring of merger\"}, {\"sample\": \"37762\", \"froh\": 0.020444881468284614, \"color_idx\": 4, \"Interval\": \"Offspring of merger\"}, {\"sample\": \"37449\", \"froh\": 0.01749729571880725, \"color_idx\": 4, \"Interval\": \"Offspring of merger\"}, {\"sample\": \"19695\", \"froh\": 0.031476150383839184, \"color_idx\": 2, \"Interval\": \"2003-2005\"}, {\"sample\": \"33929\", \"froh\": 0.01865986592882434, \"color_idx\": 3, \"Interval\": \"NEPRC source\"}, {\"sample\": \"26935\", \"froh\": 0.030535108932646594, \"color_idx\": 2, \"Interval\": \"2003-2005\"}, {\"sample\": \"38598\", \"froh\": 0.027330483489340782, \"color_idx\": 4, \"Interval\": \"Offspring of merger\"}, {\"sample\": \"14396\", \"froh\": 0.11241857317741516, \"color_idx\": 0, \"Interval\": \"Conventional source\"}, {\"sample\": \"14970\", \"froh\": 0.0941652150909212, \"color_idx\": 0, \"Interval\": \"Conventional source\"}, {\"sample\": \"14393\", \"froh\": 0.009479943169487198, \"color_idx\": 0, \"Interval\": \"Conventional source\"}, {\"sample\": \"37526\", \"froh\": 0.025094374978153866, \"color_idx\": 4, \"Interval\": \"Offspring of merger\"}, {\"sample\": \"16656\", \"froh\": 0.025690279432618025, \"color_idx\": 1, \"Interval\": \"Brooks source\"}, {\"sample\": \"30505\", \"froh\": 0.01986634141958205, \"color_idx\": 2, \"Interval\": \"2009-2011\"}, {\"sample\": \"16356\", \"froh\": 0.02270783247220751, \"color_idx\": 1, \"Interval\": \"Brooks source\"}, {\"sample\": \"32847\", \"froh\": 0.01945901723819305, \"color_idx\": 2, \"Interval\": \"2012-2014\"}, {\"sample\": \"20064\", \"froh\": 0.014012379980794909, \"color_idx\": 2, \"Interval\": \"2003-2005\"}, {\"sample\": \"33920\", \"froh\": 0.019759334431290153, \"color_idx\": 3, \"Interval\": \"NEPRC source\"}, {\"sample\": \"19177\", \"froh\": 0.03421099259601487, \"color_idx\": 2, \"Interval\": \"2003-2005\"}, {\"sample\": \"18314\", \"froh\": 0.021504576964852758, \"color_idx\": 1, \"Interval\": \"Brooks source\"}, {\"sample\": \"37573\", \"froh\": 0.017512587478749408, \"color_idx\": 2, \"Interval\": \"2018-2020\"}, {\"sample\": \"30755\", \"froh\": 0.02376617831299264, \"color_idx\": 2, \"Interval\": \"2009-2011\"}, {\"sample\": \"17578\", \"froh\": 0.011037213872206941, \"color_idx\": 1, \"Interval\": \"Brooks source\"}, {\"sample\": \"17657\", \"froh\": 0.04680385193099342, \"color_idx\": 1, \"Interval\": \"Brooks source\"}, {\"sample\": \"16640\", \"froh\": 0.0226281343498541, \"color_idx\": 1, \"Interval\": \"Brooks source\"}, {\"sample\": \"17730\", \"froh\": 0.010811378413474123, \"color_idx\": 1, \"Interval\": \"Brooks source\"}, {\"sample\": \"19323\", \"froh\": 0.018433029292530802, \"color_idx\": 1, \"Interval\": \"Brooks source\"}, {\"sample\": \"34005\", \"froh\": 0.01989704915689032, \"color_idx\": 3, \"Interval\": \"NEPRC source\"}, {\"sample\": \"34294\", \"froh\": 0.02043782227390122, \"color_idx\": 3, \"Interval\": \"NEPRC source\"}, {\"sample\": \"33914\", \"froh\": 0.015705454915381743, \"color_idx\": 3, \"Interval\": \"NEPRC source\"}, {\"sample\": \"38990\", \"froh\": 0.018166044766617005, \"color_idx\": 4, \"Interval\": \"Offspring of merger\"}, {\"sample\": \"34228\", \"froh\": 0.023996774199948813, \"color_idx\": 3, \"Interval\": \"NEPRC source\"}, {\"sample\": \"34302\", \"froh\": 0.019227206698223014, \"color_idx\": 3, \"Interval\": \"NEPRC source\"}, {\"sample\": \"38702\", \"froh\": 0.013186496263592886, \"color_idx\": 2, \"Interval\": \"2018-2020\"}, {\"sample\": \"34244\", \"froh\": 0.018306834431322694, \"color_idx\": 3, \"Interval\": \"NEPRC source\"}, {\"sample\": \"28403\", \"froh\": 0.04916353743977406, \"color_idx\": 2, \"Interval\": \"2006-2008\"}, {\"sample\": \"17557\", \"froh\": 0.018071202531978053, \"color_idx\": 1, \"Interval\": \"Brooks source\"}, {\"sample\": \"37461\", \"froh\": 0.017957756692605614, \"color_idx\": 4, \"Interval\": \"Offspring of merger\"}, {\"sample\": \"17515\", \"froh\": 0.012864189239279981, \"color_idx\": 1, \"Interval\": \"Brooks source\"}, {\"sample\": \"17504\", \"froh\": 0.01381775322005918, \"color_idx\": 1, \"Interval\": \"Brooks source\"}, {\"sample\": \"8X0039\", \"froh\": 0.011173945271852222, \"color_idx\": 0, \"Interval\": \"Conventional source\"}, {\"sample\": \"34277\", \"froh\": 0.03280380034357164, \"color_idx\": 3, \"Interval\": \"NEPRC source\"}, {\"sample\": \"38454\", \"froh\": 0.021440414574387955, \"color_idx\": 2, \"Interval\": \"2018-2020\"}, {\"sample\": \"32033\", \"froh\": 0.023544786044571105, \"color_idx\": 2, \"Interval\": \"2012-2014\"}, {\"sample\": \"17740\", \"froh\": 0.030484684468599175, \"color_idx\": 1, \"Interval\": \"Brooks source\"}, {\"sample\": \"34290\", \"froh\": 0.026739048258779752, \"color_idx\": 3, \"Interval\": \"NEPRC source\"}, {\"sample\": \"34001\", \"froh\": 0.02573079997451014, \"color_idx\": 3, \"Interval\": \"NEPRC source\"}, {\"sample\": \"34259\", \"froh\": 0.023521172461040997, \"color_idx\": 3, \"Interval\": \"NEPRC source\"}, {\"sample\": \"17581\", \"froh\": 0.014367857520204759, \"color_idx\": 1, \"Interval\": \"Brooks source\"}, {\"sample\": \"32639\", \"froh\": 0.030781025216495957, \"color_idx\": 2, \"Interval\": \"2012-2014\"}, {\"sample\": \"28138\", \"froh\": 0.014806079112214056, \"color_idx\": 2, \"Interval\": \"2006-2008\"}, {\"sample\": \"17505\", \"froh\": 0.018952599164708116, \"color_idx\": 1, \"Interval\": \"Brooks source\"}, {\"sample\": \"38247\", \"froh\": 0.02802534237023027, \"color_idx\": 4, \"Interval\": \"Offspring of merger\"}, {\"sample\": \"37435\", \"froh\": 0.014450458388049049, \"color_idx\": 2, \"Interval\": \"2018-2020\"}, {\"sample\": \"33963\", \"froh\": 0.01972196469782837, \"color_idx\": 3, \"Interval\": \"NEPRC source\"}, {\"sample\": \"39918\", \"froh\": 0.02234670750290925, \"color_idx\": 2, \"Interval\": \"2018-2020\"}, {\"sample\": \"18416\", \"froh\": 0.016403022777457085, \"color_idx\": 1, \"Interval\": \"Brooks source\"}, {\"sample\": \"38245\", \"froh\": 0.016209400913366628, \"color_idx\": 2, \"Interval\": \"2018-2020\"}, {\"sample\": \"17724\", \"froh\": 0.01955211670981211, \"color_idx\": 1, \"Interval\": \"Brooks source\"}, {\"sample\": \"30732\", \"froh\": 0.020930970653713552, \"color_idx\": 2, \"Interval\": \"2009-2011\"}, {\"sample\": \"17511\", \"froh\": 0.02024053934298024, \"color_idx\": 1, \"Interval\": \"Brooks source\"}, {\"sample\": \"28092\", \"froh\": 0.01420981576609087, \"color_idx\": 2, \"Interval\": \"2006-2008\"}, {\"sample\": \"26875\", \"froh\": 0.011716639296032933, \"color_idx\": 2, \"Interval\": \"2003-2005\"}, {\"sample\": \"31225\", \"froh\": 0.015609059219126467, \"color_idx\": 2, \"Interval\": \"2009-2011\"}, {\"sample\": \"31165\", \"froh\": 0.011475394926194647, \"color_idx\": 2, \"Interval\": \"2009-2011\"}, {\"sample\": \"30848\", \"froh\": 0.008702859792109831, \"color_idx\": 2, \"Interval\": \"2009-2011\"}, {\"sample\": \"31221\", \"froh\": 0.008507617150972707, \"color_idx\": 2, \"Interval\": \"2009-2011\"}, {\"sample\": \"33202\", \"froh\": 0.014295999971898598, \"color_idx\": 2, \"Interval\": \"2012-2014\"}, {\"sample\": \"17536\", \"froh\": 0.0810423159169416, \"color_idx\": 1, \"Interval\": \"Brooks source\"}, {\"sample\": \"17661\", \"froh\": 0.007660781599052647, \"color_idx\": 1, \"Interval\": \"Brooks source\"}, {\"sample\": \"17662\", \"froh\": 0.19543556158186925, \"color_idx\": 1, \"Interval\": \"Brooks source\"}, {\"sample\": \"38175\", \"froh\": 0.019781707328214552, \"color_idx\": 4, \"Interval\": \"Offspring of merger\"}, {\"sample\": \"29141\", \"froh\": 0.008439575383414328, \"color_idx\": 2, \"Interval\": \"2006-2008\"}, {\"sample\": \"17572\", \"froh\": 0.02222879578680978, \"color_idx\": 1, \"Interval\": \"Brooks source\"}, {\"sample\": \"31969\", \"froh\": 0.009854418164684325, \"color_idx\": 2, \"Interval\": \"2012-2014\"}, {\"sample\": \"37512\", \"froh\": 0.013979019420477481, \"color_idx\": 2, \"Interval\": \"2018-2020\"}, {\"sample\": \"28060\", \"froh\": 0.021928573058460233, \"color_idx\": 2, \"Interval\": \"2006-2008\"}, {\"sample\": \"34326\", \"froh\": 0.020196640384683363, \"color_idx\": 3, \"Interval\": \"NEPRC source\"}, {\"sample\": \"38347\", \"froh\": 0.016913592093116162, \"color_idx\": 4, \"Interval\": \"Offspring of merger\"}, {\"sample\": \"31811\", \"froh\": 0.014337473715160748, \"color_idx\": 2, \"Interval\": \"2012-2014\"}, {\"sample\": \"16354\", \"froh\": 0.02564108635746494, \"color_idx\": 1, \"Interval\": \"Brooks source\"}, {\"sample\": \"31397\", \"froh\": 0.01994913344837218, \"color_idx\": 2, \"Interval\": \"2009-2011\"}, {\"sample\": \"30285\", \"froh\": 0.012399402598242097, \"color_idx\": 2, \"Interval\": \"2009-2011\"}, {\"sample\": \"33933\", \"froh\": 0.0222681332879067, \"color_idx\": 3, \"Interval\": \"NEPRC source\"}, {\"sample\": \"17568\", \"froh\": 0.0021999921092183115, \"color_idx\": 1, \"Interval\": \"Brooks source\"}, {\"sample\": \"33916\", \"froh\": 0.012561038847573073, \"color_idx\": 3, \"Interval\": \"NEPRC source\"}, {\"sample\": \"35043\", \"froh\": 0.020126780356688734, \"color_idx\": 2, \"Interval\": \"2015-2017\"}, {\"sample\": \"30128\", \"froh\": 0.015565503904241964, \"color_idx\": 2, \"Interval\": \"2009-2011\"}, {\"sample\": \"31132\", \"froh\": 0.01462579314150118, \"color_idx\": 2, \"Interval\": \"2009-2011\"}, {\"sample\": \"17710\", \"froh\": 0.0205499790785688, \"color_idx\": 1, \"Interval\": \"Brooks source\"}, {\"sample\": \"16653\", \"froh\": 0.016618940181513307, \"color_idx\": 1, \"Interval\": \"Brooks source\"}, {\"sample\": \"17584\", \"froh\": 0.002770742907240414, \"color_idx\": 1, \"Interval\": \"Brooks source\"}, {\"sample\": \"19688\", \"froh\": 0.017914572170450695, \"color_idx\": 2, \"Interval\": \"2003-2005\"}, {\"sample\": \"28937\", \"froh\": 0.019441345264139213, \"color_idx\": 2, \"Interval\": \"2006-2008\"}, {\"sample\": \"31798\", \"froh\": 0.025398238690277367, \"color_idx\": 2, \"Interval\": \"2012-2014\"}, {\"sample\": \"17656\", \"froh\": 0.012825576587761758, \"color_idx\": 1, \"Interval\": \"Brooks source\"}, {\"sample\": \"12147\", \"froh\": 0.10974167764969671, \"color_idx\": 0, \"Interval\": \"Conventional source\"}, {\"sample\": \"29437\", \"froh\": 0.015099810550390912, \"color_idx\": 2, \"Interval\": \"2006-2008\"}, {\"sample\": \"32739\", \"froh\": 0.023808217357106316, \"color_idx\": 2, \"Interval\": \"2012-2014\"}, {\"sample\": \"28071\", \"froh\": 0.007522339792423053, \"color_idx\": 2, \"Interval\": \"2006-2008\"}, {\"sample\": \"17615\", \"froh\": 0.017133193994235574, \"color_idx\": 1, \"Interval\": \"Brooks source\"}, {\"sample\": \"10250\", \"froh\": 0.23114942694662377, \"color_idx\": 0, \"Interval\": \"Conventional source\"}, {\"sample\": \"30654\", \"froh\": 0.015020825004637188, \"color_idx\": 2, \"Interval\": \"2009-2011\"}, {\"sample\": \"37253\", \"froh\": 0.038655363716641265, \"color_idx\": 2, \"Interval\": \"2015-2017\"}, {\"sample\": \"34293\", \"froh\": 0.031215807771022334, \"color_idx\": 3, \"Interval\": \"NEPRC source\"}, {\"sample\": \"39453\", \"froh\": 0.0157679797929194, \"color_idx\": 2, \"Interval\": \"2018-2020\"}, {\"sample\": \"34257\", \"froh\": 0.026654498218723073, \"color_idx\": 3, \"Interval\": \"NEPRC source\"}, {\"sample\": \"29436\", \"froh\": 0.017645588636591547, \"color_idx\": 2, \"Interval\": \"2006-2008\"}, {\"sample\": \"37759\", \"froh\": 0.010998512334567985, \"color_idx\": 2, \"Interval\": \"2018-2020\"}, {\"sample\": \"17522\", \"froh\": 0.003060067602134574, \"color_idx\": 1, \"Interval\": \"Brooks source\"}, {\"sample\": \"17563\", \"froh\": 0.007804031066279374, \"color_idx\": 1, \"Interval\": \"Brooks source\"}, {\"sample\": \"16651\", \"froh\": 0.02005877280470821, \"color_idx\": 1, \"Interval\": \"Brooks source\"}, {\"sample\": \"17546\", \"froh\": 0.022912573283375592, \"color_idx\": 1, \"Interval\": \"Brooks source\"}, {\"sample\": \"31204\", \"froh\": 0.027796005021485645, \"color_idx\": 2, \"Interval\": \"2009-2011\"}, {\"sample\": \"39295\", \"froh\": 0.010095801256376309, \"color_idx\": 4, \"Interval\": \"Offspring of merger\"}, {\"sample\": \"32767\", \"froh\": 0.02521424032936719, \"color_idx\": 2, \"Interval\": \"2012-2014\"}, {\"sample\": \"17619\", \"froh\": 0.01737671146855051, \"color_idx\": 1, \"Interval\": \"Brooks source\"}, {\"sample\": \"32592\", \"froh\": 0.013531624334518402, \"color_idx\": 2, \"Interval\": \"2012-2014\"}, {\"sample\": \"34250\", \"froh\": 0.1233537770233309, \"color_idx\": 3, \"Interval\": \"NEPRC source\"}, {\"sample\": \"31808\", \"froh\": 0.03486467340086389, \"color_idx\": 2, \"Interval\": \"2012-2014\"}, {\"sample\": \"33959\", \"froh\": 0.018161340124661893, \"color_idx\": 3, \"Interval\": \"NEPRC source\"}, {\"sample\": \"34303\", \"froh\": 0.014161046294667976, \"color_idx\": 3, \"Interval\": \"NEPRC source\"}, {\"sample\": \"26732\", \"froh\": 0.013991500296317133, \"color_idx\": 2, \"Interval\": \"2003-2005\"}, {\"sample\": \"33995\", \"froh\": 0.01785835262885825, \"color_idx\": 3, \"Interval\": \"NEPRC source\"}, {\"sample\": \"31404\", \"froh\": 0.04734849512738652, \"color_idx\": 2, \"Interval\": \"2009-2011\"}, {\"sample\": \"31209\", \"froh\": 0.01543159008305138, \"color_idx\": 2, \"Interval\": \"2009-2011\"}, {\"sample\": \"30125\", \"froh\": 0.054192098642350604, \"color_idx\": 2, \"Interval\": \"2009-2011\"}, {\"sample\": \"31137\", \"froh\": 0.13218141470543548, \"color_idx\": 2, \"Interval\": \"2009-2011\"}, {\"sample\": \"16655\", \"froh\": 0.04114298164293152, \"color_idx\": 1, \"Interval\": \"Brooks source\"}, {\"sample\": \"39303\", \"froh\": 0.010312430493215305, \"color_idx\": 2, \"Interval\": \"2018-2020\"}, {\"sample\": \"39836\", \"froh\": 0.014497391747429858, \"color_idx\": 2, \"Interval\": \"2018-2020\"}, {\"sample\": \"26515\", \"froh\": 0.022719569903045717, \"color_idx\": 2, \"Interval\": \"2003-2005\"}, {\"sample\": \"33221\", \"froh\": 0.02160469546474208, \"color_idx\": 2, \"Interval\": \"2012-2014\"}, {\"sample\": \"32473\", \"froh\": 0.02959886510052285, \"color_idx\": 2, \"Interval\": \"2012-2014\"}, {\"sample\": \"34289\", \"froh\": 0.016256372207409844, \"color_idx\": 3, \"Interval\": \"NEPRC source\"}, {\"sample\": \"17622\", \"froh\": 0.0792057259724912, \"color_idx\": 1, \"Interval\": \"Brooks source\"}, {\"sample\": \"18990\", \"froh\": 0.02150722755641118, \"color_idx\": 2, \"Interval\": \"2003-2005\"}, {\"sample\": \"12908\", \"froh\": 0.12488894074367154, \"color_idx\": 0, \"Interval\": \"Conventional source\"}, {\"sample\": \"30644\", \"froh\": 0.017375822607343182, \"color_idx\": 2, \"Interval\": \"2009-2011\"}, {\"sample\": \"34288\", \"froh\": 0.017954225793734326, \"color_idx\": 3, \"Interval\": \"NEPRC source\"}, {\"sample\": \"35958\", \"froh\": 0.016197863569277184, \"color_idx\": 2, \"Interval\": \"2015-2017\"}, {\"sample\": \"16641\", \"froh\": 0.03653967023736408, \"color_idx\": 1, \"Interval\": \"Brooks source\"}, {\"sample\": \"30513\", \"froh\": 0.04210626768263156, \"color_idx\": 2, \"Interval\": \"2009-2011\"}, {\"sample\": \"17544\", \"froh\": 0.01620702367452259, \"color_idx\": 1, \"Interval\": \"Brooks source\"}, {\"sample\": \"33935\", \"froh\": 0.02626771863229394, \"color_idx\": 3, \"Interval\": \"NEPRC source\"}, {\"sample\": \"17507\", \"froh\": 0.023795690736526705, \"color_idx\": 1, \"Interval\": \"Brooks source\"}, {\"sample\": \"12543\", \"froh\": 0.019236081549683474, \"color_idx\": 0, \"Interval\": \"Conventional source\"}, {\"sample\": \"30019\", \"froh\": 0.023366582389297494, \"color_idx\": 2, \"Interval\": \"2009-2011\"}, {\"sample\": \"38580\", \"froh\": 0.015713967528007085, \"color_idx\": 4, \"Interval\": \"Offspring of merger\"}, {\"sample\": \"26813\", \"froh\": 0.008759724594871614, \"color_idx\": 2, \"Interval\": \"2003-2005\"}, {\"sample\": \"29507\", \"froh\": 0.01866221899361881, \"color_idx\": 2, \"Interval\": \"2006-2008\"}, {\"sample\": \"29576\", \"froh\": 0.009894705891883643, \"color_idx\": 2, \"Interval\": \"2006-2008\"}, {\"sample\": \"17663\", \"froh\": 0.016470621230137164, \"color_idx\": 1, \"Interval\": \"Brooks source\"}, {\"sample\": \"31840\", \"froh\": 0.0190119248857163, \"color_idx\": 2, \"Interval\": \"2012-2014\"}, {\"sample\": \"18421\", \"froh\": 0.09976097127478208, \"color_idx\": 2, \"Interval\": \"2003-2005\"}, {\"sample\": \"16348\", \"froh\": 0.02238562251600135, \"color_idx\": 1, \"Interval\": \"Brooks source\"}, {\"sample\": \"33943\", \"froh\": 0.02370194377228758, \"color_idx\": 3, \"Interval\": \"NEPRC source\"}, {\"sample\": \"33229\", \"froh\": 0.01565439448787636, \"color_idx\": 2, \"Interval\": \"2012-2014\"}, {\"sample\": \"33964\", \"froh\": 0.017661969716398253, \"color_idx\": 3, \"Interval\": \"NEPRC source\"}, {\"sample\": \"17516\", \"froh\": 0.0176034015729128, \"color_idx\": 1, \"Interval\": \"Brooks source\"}, {\"sample\": \"20082\", \"froh\": 0.013902730211022141, \"color_idx\": 2, \"Interval\": \"2003-2005\"}, {\"sample\": \"26786\", \"froh\": 0.012865398685575478, \"color_idx\": 2, \"Interval\": \"2003-2005\"}, {\"sample\": \"29429\", \"froh\": 0.01634267802728234, \"color_idx\": 2, \"Interval\": \"2006-2008\"}, {\"sample\": \"30663\", \"froh\": 0.018430984911753944, \"color_idx\": 2, \"Interval\": \"2009-2011\"}, {\"sample\": \"17583\", \"froh\": 0.008409358937175043, \"color_idx\": 1, \"Interval\": \"Brooks source\"}, {\"sample\": \"31802\", \"froh\": 0.017288328539957123, \"color_idx\": 2, \"Interval\": \"2012-2014\"}, {\"sample\": \"26955\", \"froh\": 0.02087225746593067, \"color_idx\": 2, \"Interval\": \"2003-2005\"}, {\"sample\": \"34313\", \"froh\": 0.019077758260869188, \"color_idx\": 3, \"Interval\": \"NEPRC source\"}, {\"sample\": \"19315\", \"froh\": 0.021775825793111006, \"color_idx\": 2, \"Interval\": \"2003-2005\"}, {\"sample\": \"33949\", \"froh\": 0.019735942505199194, \"color_idx\": 3, \"Interval\": \"NEPRC source\"}, {\"sample\": \"33325\", \"froh\": 0.02157827099710946, \"color_idx\": 2, \"Interval\": \"2012-2014\"}, {\"sample\": \"26858\", \"froh\": 0.01490779161174129, \"color_idx\": 2, \"Interval\": \"2003-2005\"}, {\"sample\": \"17639\", \"froh\": 0.015356243661529337, \"color_idx\": 1, \"Interval\": \"Brooks source\"}, {\"sample\": \"34700\", \"froh\": 0.017585484139278698, \"color_idx\": 2, \"Interval\": \"2015-2017\"}, {\"sample\": \"17551\", \"froh\": 0.017052051007534687, \"color_idx\": 1, \"Interval\": \"Brooks source\"}, {\"sample\": \"18419\", \"froh\": 0.06644885203361227, \"color_idx\": 2, \"Interval\": \"2003-2005\"}, {\"sample\": \"39290\", \"froh\": 0.01483367174430367, \"color_idx\": 4, \"Interval\": \"Offspring of merger\"}, {\"sample\": \"7139\", \"froh\": 0.00943376813144603, \"color_idx\": 0, \"Interval\": \"Conventional source\"}, {\"sample\": \"34270\", \"froh\": 0.020455905950614684, \"color_idx\": 3, \"Interval\": \"NEPRC source\"}, {\"sample\": \"17714\", \"froh\": 0.004062478411295298, \"color_idx\": 1, \"Interval\": \"Brooks source\"}, {\"sample\": \"17535\", \"froh\": 0.015557866020302666, \"color_idx\": 1, \"Interval\": \"Brooks source\"}, {\"sample\": \"29445\", \"froh\": 0.018665631997509882, \"color_idx\": 2, \"Interval\": \"2006-2008\"}, {\"sample\": \"17666\", \"froh\": 0.017280499866980433, \"color_idx\": 1, \"Interval\": \"Brooks source\"}, {\"sample\": \"38266\", \"froh\": 0.020409328135716803, \"color_idx\": 2, \"Interval\": \"2018-2020\"}, {\"sample\": \"38320\", \"froh\": 0.01674115227507736, \"color_idx\": 4, \"Interval\": \"Offspring of merger\"}, {\"sample\": \"17553\", \"froh\": 0.01780433255386838, \"color_idx\": 1, \"Interval\": \"Brooks source\"}, {\"sample\": \"30618\", \"froh\": 0.02111860925458078, \"color_idx\": 2, \"Interval\": \"2009-2011\"}, {\"sample\": \"37447\", \"froh\": 0.021752294029440986, \"color_idx\": 4, \"Interval\": \"Offspring of merger\"}, {\"sample\": \"17509\", \"froh\": 0.022836704702382797, \"color_idx\": 1, \"Interval\": \"Brooks source\"}, {\"sample\": \"34280\", \"froh\": 0.019611448381355572, \"color_idx\": 3, \"Interval\": \"NEPRC source\"}, {\"sample\": \"33945\", \"froh\": 0.014916820805210554, \"color_idx\": 3, \"Interval\": \"NEPRC source\"}, {\"sample\": \"30855\", \"froh\": 0.016202896606398016, \"color_idx\": 2, \"Interval\": \"2009-2011\"}, {\"sample\": \"28310\", \"froh\": 0.09250121261216622, \"color_idx\": 2, \"Interval\": \"2006-2008\"}, {\"sample\": \"31236\", \"froh\": 0.007913786086144892, \"color_idx\": 2, \"Interval\": \"2009-2011\"}, {\"sample\": \"12932\", \"froh\": 0.12228817004187134, \"color_idx\": 0, \"Interval\": \"Conventional source\"}, {\"sample\": \"18400\", \"froh\": 0.003923340763946493, \"color_idx\": 1, \"Interval\": \"Brooks source\"}, {\"sample\": \"32619\", \"froh\": 0.01382225256854716, \"color_idx\": 2, \"Interval\": \"2012-2014\"}, {\"sample\": \"34281\", \"froh\": 0.02205899131208275, \"color_idx\": 3, \"Interval\": \"NEPRC source\"}, {\"sample\": \"32745\", \"froh\": 0.05862748891760688, \"color_idx\": 2, \"Interval\": \"2012-2014\"}, {\"sample\": \"33977\", \"froh\": 0.016084559055117627, \"color_idx\": 3, \"Interval\": \"NEPRC source\"}, {\"sample\": \"16340\", \"froh\": 0.023262102518956978, \"color_idx\": 1, \"Interval\": \"Brooks source\"}, {\"sample\": \"30009\", \"froh\": 0.035514144202002884, \"color_idx\": 2, \"Interval\": \"2009-2011\"}, {\"sample\": \"34253\", \"froh\": 0.0198943803418176, \"color_idx\": 3, \"Interval\": \"NEPRC source\"}, {\"sample\": \"28210\", \"froh\": 0.01200793994054824, \"color_idx\": 2, \"Interval\": \"2006-2008\"}, {\"sample\": \"33930\", \"froh\": 0.01180473808656674, \"color_idx\": 3, \"Interval\": \"NEPRC source\"}, {\"sample\": \"34287\", \"froh\": 0.03138767670958279, \"color_idx\": 3, \"Interval\": \"NEPRC source\"}, {\"sample\": \"27646\", \"froh\": 0.031410820572734297, \"color_idx\": 2, \"Interval\": \"2006-2008\"}, {\"sample\": \"34295\", \"froh\": 0.03180473261951245, \"color_idx\": 3, \"Interval\": \"NEPRC source\"}, {\"sample\": \"38995\", \"froh\": 0.020356805736075012, \"color_idx\": 4, \"Interval\": \"Offspring of merger\"}, {\"sample\": \"9908\", \"froh\": 0.019556978669043663, \"color_idx\": 0, \"Interval\": \"Conventional source\"}, {\"sample\": \"26177\", \"froh\": 0.026602768727907233, \"color_idx\": 2, \"Interval\": \"2003-2005\"}, {\"sample\": \"31154\", \"froh\": 0.020017301664805243, \"color_idx\": 2, \"Interval\": \"2009-2011\"}, {\"sample\": \"38261\", \"froh\": 0.01987249092588464, \"color_idx\": 4, \"Interval\": \"Offspring of merger\"}, {\"sample\": \"19150\", \"froh\": 0.019723590309684954, \"color_idx\": 2, \"Interval\": \"2003-2005\"}, {\"sample\": \"34273\", \"froh\": 0.044408307752803466, \"color_idx\": 3, \"Interval\": \"NEPRC source\"}, {\"sample\": \"38456\", \"froh\": 0.015355181862890456, \"color_idx\": 2, \"Interval\": \"2018-2020\"}, {\"sample\": \"17684\", \"froh\": 0.013636433343841545, \"color_idx\": 1, \"Interval\": \"Brooks source\"}, {\"sample\": \"33919\", \"froh\": 0.01215867890024074, \"color_idx\": 3, \"Interval\": \"NEPRC source\"}, {\"sample\": \"38388\", \"froh\": 0.020407007426957918, \"color_idx\": 2, \"Interval\": \"2018-2020\"}, {\"sample\": \"38243\", \"froh\": 0.023364716896487468, \"color_idx\": 4, \"Interval\": \"Offspring of merger\"}, {\"sample\": \"33955\", \"froh\": 0.02307630598066712, \"color_idx\": 2, \"Interval\": \"2006-2008\"}, {\"sample\": \"20083\", \"froh\": 0.02725230200966666, \"color_idx\": 2, \"Interval\": \"2003-2005\"}, {\"sample\": \"38226\", \"froh\": 0.025198793483599314, \"color_idx\": 4, \"Interval\": \"Offspring of merger\"}, {\"sample\": \"33965\", \"froh\": 0.015330351022987297, \"color_idx\": 3, \"Interval\": \"NEPRC source\"}, {\"sample\": \"35034\", \"froh\": 0.016396605868975383, \"color_idx\": 2, \"Interval\": \"2015-2017\"}, {\"sample\": \"31143\", \"froh\": 0.019215205956198703, \"color_idx\": 2, \"Interval\": \"2009-2011\"}, {\"sample\": \"39047\", \"froh\": 0.01568699933021333, \"color_idx\": 4, \"Interval\": \"Offspring of merger\"}, {\"sample\": \"38642\", \"froh\": 0.014973488868399668, \"color_idx\": 2, \"Interval\": \"2018-2020\"}, {\"sample\": \"38455\", \"froh\": 0.004395041926978799, \"color_idx\": 4, \"Interval\": \"Offspring of merger\"}, {\"sample\": \"32764\", \"froh\": 0.013212285511584449, \"color_idx\": 2, \"Interval\": \"2012-2014\"}, {\"sample\": \"31957\", \"froh\": 0.022098430716096323, \"color_idx\": 2, \"Interval\": \"2012-2014\"}, {\"sample\": \"31127\", \"froh\": 0.009486758763832603, \"color_idx\": 2, \"Interval\": \"2009-2011\"}, {\"sample\": \"34307\", \"froh\": 0.024562805479677607, \"color_idx\": 3, \"Interval\": \"NEPRC source\"}, {\"sample\": \"28898\", \"froh\": 0.014572349896524934, \"color_idx\": 2, \"Interval\": \"2006-2008\"}, {\"sample\": \"16353\", \"froh\": 0.01618849928629001, \"color_idx\": 1, \"Interval\": \"Brooks source\"}, {\"sample\": \"39064\", \"froh\": 0.028062526893281484, \"color_idx\": 2, \"Interval\": \"2018-2020\"}, {\"sample\": \"38522\", \"froh\": 0.022004297338972505, \"color_idx\": 4, \"Interval\": \"Offspring of merger\"}, {\"sample\": \"17606\", \"froh\": 0.02295135552514927, \"color_idx\": 1, \"Interval\": \"Brooks source\"}, {\"sample\": \"26957\", \"froh\": 0.018728307869880247, \"color_idx\": 2, \"Interval\": \"2003-2005\"}, {\"sample\": \"32872\", \"froh\": 0.013740504114881615, \"color_idx\": 2, \"Interval\": \"2012-2014\"}, {\"sample\": \"32542\", \"froh\": 0.023072316518670873, \"color_idx\": 2, \"Interval\": \"2012-2014\"}, {\"sample\": \"38244\", \"froh\": 0.032145293282702735, \"color_idx\": 2, \"Interval\": \"2018-2020\"}, {\"sample\": \"9038\", \"froh\": 0.018120462550653027, \"color_idx\": 0, \"Interval\": \"Conventional source\"}, {\"sample\": \"16643\", \"froh\": 0.011550716057941753, \"color_idx\": 1, \"Interval\": \"Brooks source\"}, {\"sample\": \"33970\", \"froh\": 0.019205365630389194, \"color_idx\": 3, \"Interval\": \"NEPRC source\"}, {\"sample\": \"34322\", \"froh\": 0.017147362218735328, \"color_idx\": 3, \"Interval\": \"NEPRC source\"}, {\"sample\": \"38523\", \"froh\": 0.01656546532431839, \"color_idx\": 2, \"Interval\": \"2018-2020\"}, {\"sample\": \"33956\", \"froh\": 0.016765503353073634, \"color_idx\": 2, \"Interval\": \"2006-2008\"}, {\"sample\": \"17585\", \"froh\": 0.028359032396623813, \"color_idx\": 1, \"Interval\": \"Brooks source\"}, {\"sample\": \"38305\", \"froh\": 0.016430092134350583, \"color_idx\": 4, \"Interval\": \"Offspring of merger\"}, {\"sample\": \"31691\", \"froh\": 0.02149610489024901, \"color_idx\": 2, \"Interval\": \"2012-2014\"}, {\"sample\": \"30011\", \"froh\": 0.012335437691166873, \"color_idx\": 2, \"Interval\": \"2009-2011\"}, {\"sample\": \"17133\", \"froh\": 0.011407787175803194, \"color_idx\": 0, \"Interval\": \"Conventional source\"}, {\"sample\": \"39181\", \"froh\": 0.01824147709899214, \"color_idx\": 4, \"Interval\": \"Offspring of merger\"}, {\"sample\": \"30003\", \"froh\": 0.015140772175710597, \"color_idx\": 2, \"Interval\": \"2009-2011\"}, {\"sample\": \"38457\", \"froh\": 0.02670148848009749, \"color_idx\": 2, \"Interval\": \"2018-2020\"}, {\"sample\": \"38294\", \"froh\": 0.014989195678177551, \"color_idx\": 4, \"Interval\": \"Offspring of merger\"}, {\"sample\": \"28110\", \"froh\": 0.014620021866097274, \"color_idx\": 2, \"Interval\": \"2006-2008\"}, {\"sample\": \"39139\", \"froh\": 0.04026362009326694, \"color_idx\": 2, \"Interval\": \"2018-2020\"}, {\"sample\": \"31762\", \"froh\": 0.016984258790549576, \"color_idx\": 2, \"Interval\": \"2012-2014\"}, {\"sample\": \"29532\", \"froh\": 0.01648344909656528, \"color_idx\": 2, \"Interval\": \"2006-2008\"}, {\"sample\": \"19314\", \"froh\": 0.01531279248101222, \"color_idx\": 2, \"Interval\": \"2003-2005\"}, {\"sample\": \"27056\", \"froh\": 0.05856545905022276, \"color_idx\": 2, \"Interval\": \"2003-2005\"}, {\"sample\": \"18994\", \"froh\": 0.011294210424654614, \"color_idx\": 2, \"Interval\": \"2003-2005\"}, {\"sample\": \"39414\", \"froh\": 0.02042781830837153, \"color_idx\": 2, \"Interval\": \"2018-2020\"}, {\"sample\": \"30139\", \"froh\": 0.01634708291102276, \"color_idx\": 2, \"Interval\": \"2009-2011\"}, {\"sample\": \"28935\", \"froh\": 0.019431445061068458, \"color_idx\": 2, \"Interval\": \"2006-2008\"}, {\"sample\": \"34009\", \"froh\": 0.029713158891172573, \"color_idx\": 3, \"Interval\": \"NEPRC source\"}, {\"sample\": \"29362\", \"froh\": 0.02088874528346395, \"color_idx\": 2, \"Interval\": \"2006-2008\"}, {\"sample\": \"10244\", \"froh\": 0.13529683158337794, \"color_idx\": 0, \"Interval\": \"Conventional source\"}, {\"sample\": \"33458\", \"froh\": 0.01425347000862439, \"color_idx\": 2, \"Interval\": \"2012-2014\"}, {\"sample\": \"34018\", \"froh\": 0.019647475525294986, \"color_idx\": 3, \"Interval\": \"NEPRC source\"}, {\"sample\": \"17537\", \"froh\": 0.024282244435615875, \"color_idx\": 1, \"Interval\": \"Brooks source\"}, {\"sample\": \"32594\", \"froh\": 0.03319321341377027, \"color_idx\": 2, \"Interval\": \"2012-2014\"}, {\"sample\": \"7893\", \"froh\": 0.05376204899482192, \"color_idx\": 0, \"Interval\": \"Conventional source\"}, {\"sample\": \"38222\", \"froh\": 0.027631955458190503, \"color_idx\": 2, \"Interval\": \"2018-2020\"}, {\"sample\": \"17660\", \"froh\": 0.017182807697851202, \"color_idx\": 1, \"Interval\": \"Brooks source\"}, {\"sample\": \"18401\", \"froh\": 0.009155767305188174, \"color_idx\": 1, \"Interval\": \"Brooks source\"}, {\"sample\": \"19316\", \"froh\": 0.032653879582480026, \"color_idx\": 2, \"Interval\": \"2003-2005\"}, {\"sample\": \"34238\", \"froh\": 0.010798083801935043, \"color_idx\": 3, \"Interval\": \"NEPRC source\"}, {\"sample\": \"33966\", \"froh\": 0.03258603269495204, \"color_idx\": 3, \"Interval\": \"NEPRC source\"}, {\"sample\": \"33983\", \"froh\": 0.01986953202221706, \"color_idx\": 3, \"Interval\": \"NEPRC source\"}, {\"sample\": \"33986\", \"froh\": 0.05744308582174197, \"color_idx\": 3, \"Interval\": \"NEPRC source\"}, {\"sample\": \"38268\", \"froh\": 0.01250480889254389, \"color_idx\": 2, \"Interval\": \"2018-2020\"}, {\"sample\": \"16346\", \"froh\": 0.013994034852437614, \"color_idx\": 1, \"Interval\": \"Brooks source\"}, {\"sample\": \"12540\", \"froh\": 0.020145531609078834, \"color_idx\": 0, \"Interval\": \"Conventional source\"}, {\"sample\": \"34231\", \"froh\": 0.022754259292272677, \"color_idx\": 3, \"Interval\": \"NEPRC source\"}, {\"sample\": \"34844\", \"froh\": 0.16274610188941266, \"color_idx\": 2, \"Interval\": \"2015-2017\"}, {\"sample\": \"34003\", \"froh\": 0.022963624785078057, \"color_idx\": 3, \"Interval\": \"NEPRC source\"}, {\"sample\": \"31809\", \"froh\": 0.01134514477519377, \"color_idx\": 2, \"Interval\": \"2012-2014\"}, {\"sample\": \"38442\", \"froh\": 0.01109484183111828, \"color_idx\": 4, \"Interval\": \"Offspring of merger\"}, {\"sample\": \"28035\", \"froh\": 0.023391390170876446, \"color_idx\": 2, \"Interval\": \"2006-2008\"}, {\"sample\": \"33962\", \"froh\": 0.015288896990873258, \"color_idx\": 3, \"Interval\": \"NEPRC source\"}, {\"sample\": \"34245\", \"froh\": 0.014257816502737386, \"color_idx\": 3, \"Interval\": \"NEPRC source\"}, {\"sample\": \"37641\", \"froh\": 0.0149916000663388, \"color_idx\": 2, \"Interval\": \"2018-2020\"}, {\"sample\": \"20080\", \"froh\": 0.004763516551163771, \"color_idx\": 2, \"Interval\": \"2003-2005\"}, {\"sample\": \"32578\", \"froh\": 0.03741691190883545, \"color_idx\": 2, \"Interval\": \"2012-2014\"}, {\"sample\": \"9710\", \"froh\": 0.005137354095269115, \"color_idx\": 0, \"Interval\": \"Conventional source\"}, {\"sample\": \"16642\", \"froh\": 0.014726756245491692, \"color_idx\": 1, \"Interval\": \"Brooks source\"}, {\"sample\": \"38228\", \"froh\": 0.022818403087314733, \"color_idx\": 4, \"Interval\": \"Offspring of merger\"}, {\"sample\": \"17514\", \"froh\": 0.0263359430069037, \"color_idx\": 1, \"Interval\": \"Brooks source\"}, {\"sample\": \"38610\", \"froh\": 0.017491472748128102, \"color_idx\": 4, \"Interval\": \"Offspring of merger\"}, {\"sample\": \"34264\", \"froh\": 0.02654941734431936, \"color_idx\": 3, \"Interval\": \"NEPRC source\"}, {\"sample\": \"31781\", \"froh\": 0.016495894641101714, \"color_idx\": 2, \"Interval\": \"2012-2014\"}, {\"sample\": \"17659\", \"froh\": 0.017343856331823358, \"color_idx\": 1, \"Interval\": \"Brooks source\"}, {\"sample\": \"30565\", \"froh\": 0.047889378329300084, \"color_idx\": 2, \"Interval\": \"2009-2011\"}, {\"sample\": \"32654\", \"froh\": 0.02057248139963552, \"color_idx\": 2, \"Interval\": \"2012-2014\"}, {\"sample\": \"34023\", \"froh\": 0.01954364909810982, \"color_idx\": 3, \"Interval\": \"NEPRC source\"}, {\"sample\": \"34241\", \"froh\": 0.015595576050000727, \"color_idx\": 3, \"Interval\": \"NEPRC source\"}, {\"sample\": \"17521\", \"froh\": 0.020873255668223758, \"color_idx\": 1, \"Interval\": \"Brooks source\"}, {\"sample\": \"31310\", \"froh\": 0.01932633145872071, \"color_idx\": 2, \"Interval\": \"2009-2011\"}, {\"sample\": \"37738\", \"froh\": 0.021816021287013494, \"color_idx\": 2, \"Interval\": \"2018-2020\"}, {\"sample\": \"17566\", \"froh\": 0.014448880008566242, \"color_idx\": 1, \"Interval\": \"Brooks source\"}, {\"sample\": \"33917\", \"froh\": 0.0158032616323151, \"color_idx\": 3, \"Interval\": \"NEPRC source\"}, {\"sample\": \"32642\", \"froh\": 0.019062145543930407, \"color_idx\": 2, \"Interval\": \"2012-2014\"}, {\"sample\": \"17645\", \"froh\": 0.011646920593251186, \"color_idx\": 1, \"Interval\": \"Brooks source\"}, {\"sample\": \"34249\", \"froh\": 0.018200316130740603, \"color_idx\": 3, \"Interval\": \"NEPRC source\"}, {\"sample\": \"33924\", \"froh\": 0.02003075061835313, \"color_idx\": 3, \"Interval\": \"NEPRC source\"}, {\"sample\": \"32571\", \"froh\": 0.015374122416684125, \"color_idx\": 2, \"Interval\": \"2012-2014\"}, {\"sample\": \"37576\", \"froh\": 0.08491130040065493, \"color_idx\": 2, \"Interval\": \"2018-2020\"}, {\"sample\": \"36677\", \"froh\": 0.017822207218030163, \"color_idx\": 2, \"Interval\": \"2015-2017\"}, {\"sample\": \"34243\", \"froh\": 0.017138131822791936, \"color_idx\": 3, \"Interval\": \"NEPRC source\"}, {\"sample\": \"17534\", \"froh\": 0.013944322964989877, \"color_idx\": 1, \"Interval\": \"Brooks source\"}, {\"sample\": \"38945\", \"froh\": 0.02143626481984763, \"color_idx\": 2, \"Interval\": \"2018-2020\"}, {\"sample\": \"16645\", \"froh\": 0.01735234514230758, \"color_idx\": 1, \"Interval\": \"Brooks source\"}, {\"sample\": \"33987\", \"froh\": 0.024170110689272502, \"color_idx\": 3, \"Interval\": \"NEPRC source\"}, {\"sample\": \"8X0036\", \"froh\": 0.014519864687728638, \"color_idx\": 0, \"Interval\": \"Conventional source\"}, {\"sample\": \"33918\", \"froh\": 0.030419931487507913, \"color_idx\": 3, \"Interval\": \"NEPRC source\"}, {\"sample\": \"32514\", \"froh\": 0.015557586717052999, \"color_idx\": 2, \"Interval\": \"2012-2014\"}, {\"sample\": \"34321\", \"froh\": 0.019627477635763894, \"color_idx\": 3, \"Interval\": \"NEPRC source\"}, {\"sample\": \"30506\", \"froh\": 0.028389614056965856, \"color_idx\": 2, \"Interval\": \"2009-2011\"}, {\"sample\": \"19312\", \"froh\": 0.024225912577670036, \"color_idx\": 2, \"Interval\": \"2003-2005\"}, {\"sample\": \"30881\", \"froh\": 0.014684087932272242, \"color_idx\": 2, \"Interval\": \"2009-2011\"}, {\"sample\": \"34921\", \"froh\": 0.012849517822640677, \"color_idx\": 2, \"Interval\": \"2015-2017\"}, {\"sample\": \"38475\", \"froh\": 0.08861068012448156, \"color_idx\": 2, \"Interval\": \"2018-2020\"}, {\"sample\": \"19318\", \"froh\": 0.015591256705204944, \"color_idx\": 2, \"Interval\": \"2003-2005\"}, {\"sample\": \"34285\", \"froh\": 0.020993308833206825, \"color_idx\": 3, \"Interval\": \"NEPRC source\"}, {\"sample\": \"38999\", \"froh\": 0.014853154168716201, \"color_idx\": 2, \"Interval\": \"2018-2020\"}, {\"sample\": \"34008\", \"froh\": 0.014319234580713115, \"color_idx\": 3, \"Interval\": \"NEPRC source\"}, {\"sample\": \"30142\", \"froh\": 0.01121252668306023, \"color_idx\": 2, \"Interval\": \"2009-2011\"}, {\"sample\": \"38507\", \"froh\": 0.014336725063440935, \"color_idx\": 2, \"Interval\": \"2018-2020\"}, {\"sample\": \"28794\", \"froh\": 0.03820228661330746, \"color_idx\": 2, \"Interval\": \"2006-2008\"}, {\"sample\": \"34261\", \"froh\": 0.022796269699435323, \"color_idx\": 3, \"Interval\": \"NEPRC source\"}, {\"sample\": \"17701\", \"froh\": 0.008925796596344772, \"color_idx\": 1, \"Interval\": \"Brooks source\"}, {\"sample\": \"20077\", \"froh\": 0.020957703433455325, \"color_idx\": 2, \"Interval\": \"2003-2005\"}, {\"sample\": \"33985\", \"froh\": 0.01876779339054224, \"color_idx\": 3, \"Interval\": \"NEPRC source\"}, {\"sample\": \"33177\", \"froh\": 0.04993449288153922, \"color_idx\": 2, \"Interval\": \"2012-2014\"}, {\"sample\": \"38514\", \"froh\": 0.009155215393041028, \"color_idx\": 4, \"Interval\": \"Offspring of merger\"}, {\"sample\": \"32694\", \"froh\": 0.021573195562424763, \"color_idx\": 2, \"Interval\": \"2012-2014\"}, {\"sample\": \"33948\", \"froh\": 0.02416234784409234, \"color_idx\": 3, \"Interval\": \"NEPRC source\"}, {\"sample\": \"37445\", \"froh\": 0.0071499088060943275, \"color_idx\": 2, \"Interval\": \"2018-2020\"}, {\"sample\": \"31810\", \"froh\": 0.034046157190154414, \"color_idx\": 2, \"Interval\": \"2012-2014\"}, {\"sample\": \"38070\", \"froh\": 0.013772535474381052, \"color_idx\": 2, \"Interval\": \"2018-2020\"}, {\"sample\": \"34252\", \"froh\": 0.021394644916562684, \"color_idx\": 3, \"Interval\": \"NEPRC source\"}, {\"sample\": \"38227\", \"froh\": 0.04454059224305292, \"color_idx\": 2, \"Interval\": \"2018-2020\"}, {\"sample\": \"17527\", \"froh\": 0.003215397399794971, \"color_idx\": 1, \"Interval\": \"Brooks source\"}, {\"sample\": \"37448\", \"froh\": 0.019663120970177802, \"color_idx\": 2, \"Interval\": \"2018-2020\"}, {\"sample\": \"34247\", \"froh\": 0.03512469654431794, \"color_idx\": 3, \"Interval\": \"NEPRC source\"}, {\"sample\": \"30643\", \"froh\": 0.013620899843403669, \"color_idx\": 2, \"Interval\": \"2009-2011\"}, {\"sample\": \"17508\", \"froh\": 0.016074220371978486, \"color_idx\": 1, \"Interval\": \"Brooks source\"}, {\"sample\": \"19699\", \"froh\": 0.0272422664319183, \"color_idx\": 2, \"Interval\": \"2003-2005\"}, {\"sample\": \"31343\", \"froh\": 0.016193262317872548, \"color_idx\": 2, \"Interval\": \"2009-2011\"}, {\"sample\": \"34246\", \"froh\": 0.022018094770742676, \"color_idx\": 3, \"Interval\": \"NEPRC source\"}, {\"sample\": \"30610\", \"froh\": 0.030914260676664713, \"color_idx\": 2, \"Interval\": \"2009-2011\"}, {\"sample\": \"34229\", \"froh\": 0.01613137972623659, \"color_idx\": 3, \"Interval\": \"NEPRC source\"}, {\"sample\": \"17552\", \"froh\": 0.017875652322548684, \"color_idx\": 1, \"Interval\": \"Brooks source\"}, {\"sample\": \"38487\", \"froh\": 0.11399853699023901, \"color_idx\": 2, \"Interval\": \"2018-2020\"}, {\"sample\": \"33993\", \"froh\": 0.015554183010873301, \"color_idx\": 3, \"Interval\": \"NEPRC source\"}, {\"sample\": \"35956\", \"froh\": 0.022339711532963196, \"color_idx\": 2, \"Interval\": \"2015-2017\"}, {\"sample\": \"17674\", \"froh\": 0.008356677732622988, \"color_idx\": 1, \"Interval\": \"Brooks source\"}, {\"sample\": \"17658\", \"froh\": 0.06141951688954096, \"color_idx\": 1, \"Interval\": \"Brooks source\"}, {\"sample\": \"19325\", \"froh\": 0.006652841998800644, \"color_idx\": 1, \"Interval\": \"Brooks source\"}, {\"sample\": \"37444\", \"froh\": 0.017080591634275968, \"color_idx\": 2, \"Interval\": \"2018-2020\"}, {\"sample\": \"8896\", \"froh\": 0.008566074093830128, \"color_idx\": 0, \"Interval\": \"Conventional source\"}, {\"sample\": \"32693\", \"froh\": 0.012870002168430842, \"color_idx\": 2, \"Interval\": \"2012-2014\"}, {\"sample\": \"38200\", \"froh\": 0.016605834127560885, \"color_idx\": 4, \"Interval\": \"Offspring of merger\"}, {\"sample\": \"17569\", \"froh\": 0.0034301250687038113, \"color_idx\": 1, \"Interval\": \"Brooks source\"}, {\"sample\": \"34312\", \"froh\": 0.017911964720273045, \"color_idx\": 3, \"Interval\": \"NEPRC source\"}, {\"sample\": \"30649\", \"froh\": 0.023591096457289875, \"color_idx\": 2, \"Interval\": \"2009-2011\"}, {\"sample\": \"35325\", \"froh\": 0.021286713735760236, \"color_idx\": 2, \"Interval\": \"2015-2017\"}, {\"sample\": \"34235\", \"froh\": 0.01981199778423637, \"color_idx\": 3, \"Interval\": \"NEPRC source\"}, {\"sample\": \"33937\", \"froh\": 0.02077344548044359, \"color_idx\": 3, \"Interval\": \"NEPRC source\"}, {\"sample\": \"32604\", \"froh\": 0.017488705377314825, \"color_idx\": 2, \"Interval\": \"2012-2014\"}, {\"sample\": \"18408\", \"froh\": 0.01110636764604562, \"color_idx\": 1, \"Interval\": \"Brooks source\"}, {\"sample\": \"31954\", \"froh\": 0.019034737378434446, \"color_idx\": 2, \"Interval\": \"2012-2014\"}]}}, {\"mode\": \"vega-lite\"});\n",
       "</script>"
      ],
      "text/plain": [
       "alt.Chart(...)"
      ]
     },
     "execution_count": 18,
     "metadata": {},
     "output_type": "execute_result"
    }
   ],
   "source": [
    "# Violin plot (without error bars or means). See next code block for it with extra details\n",
    "\n",
    "violin = alt.Chart(total_len_roh\n",
    "#                    .with_columns(\n",
    "#    pl.col(\"Interval\").str.replace(\"Offspring of merger\", \"Merged\"))\n",
    ").transform_density(\n",
    "    'froh',\n",
    "    as_=['froh', 'density'],\n",
    "    #extent=[0, 0.05],\n",
    "    #extent=[0, 0.1],\n",
    "    groupby=['Interval', 'color_idx']\n",
    ").mark_area(orient='horizontal').encode(\n",
    "    alt.X(\"density:Q\").stack('center')\n",
    "        .impute(None)\n",
    "        .title(None)\n",
    "        .axis(labels=False, values=[0], grid=False, ticks=True),\n",
    "    alt.Y(\"froh:Q\", title=\"fROH\"),\n",
    "    alt.Column(\"Interval:N\", title=\"Cohort\",\n",
    "          # TODO: Generalize this\n",
    "        sort=colors[\"Cohort\"],   \n",
    "        ).spacing(0).header(titleOrient='bottom', labelOrient='bottom', labelPadding=0),\n",
    "    color=alt.Color(\"Interval:N\").scale(\n",
    "        domain = list(colors[\"Cohort\"]),\n",
    "        range = list(colors[\"Color\"])\n",
    "    ),\n",
    ").properties(\n",
    "    width=65,\n",
    "    title=\"fROH Across Cohorts\"\n",
    ")\n",
    "\n",
    "\n",
    "violin\n",
    "\n",
    "#violin.save(f\"/master/abagwell/figures/roh/U42_WES.common_between_founding_cohorts2.violinplot.maf_0.05.gt{min_ROH_length / 1_000_000}Mb.full_height.html\")\n",
    "#violin.save(f\"/master/abagwell/figures/roh/U42_WES.common_between_founding_cohorts2.violinplot.maf_0.05.gt{min_ROH_length}Mb.max_0.1.html\")"
   ]
  },
  {
   "cell_type": "code",
   "execution_count": 19,
   "metadata": {},
   "outputs": [
    {
     "data": {
      "text/html": [
       "<div><style>\n",
       ".dataframe > thead > tr,\n",
       ".dataframe > tbody > tr {\n",
       "  text-align: right;\n",
       "  white-space: pre-wrap;\n",
       "}\n",
       "</style>\n",
       "<small>shape: (485, 4)</small><table border=\"1\" class=\"dataframe\"><thead><tr><th>sample</th><th>froh</th><th>color_idx</th><th>Interval</th></tr><tr><td>str</td><td>f64</td><td>u32</td><td>enum</td></tr></thead><tbody><tr><td>&quot;34265&quot;</td><td>0.013964</td><td>3</td><td>&quot;NEPRC source&quot;</td></tr><tr><td>&quot;27441&quot;</td><td>0.008664</td><td>2</td><td>&quot;2003-2005&quot;</td></tr><tr><td>&quot;34717&quot;</td><td>0.015907</td><td>2</td><td>&quot;2015-2017&quot;</td></tr><tr><td>&quot;38254&quot;</td><td>0.018261</td><td>2</td><td>&quot;2018-2020&quot;</td></tr><tr><td>&quot;17525&quot;</td><td>0.003808</td><td>1</td><td>&quot;Brooks source&quot;</td></tr><tr><td>&hellip;</td><td>&hellip;</td><td>&hellip;</td><td>&hellip;</td></tr><tr><td>&quot;34235&quot;</td><td>0.019812</td><td>3</td><td>&quot;NEPRC source&quot;</td></tr><tr><td>&quot;33937&quot;</td><td>0.020773</td><td>3</td><td>&quot;NEPRC source&quot;</td></tr><tr><td>&quot;32604&quot;</td><td>0.017489</td><td>2</td><td>&quot;2012-2014&quot;</td></tr><tr><td>&quot;18408&quot;</td><td>0.011106</td><td>1</td><td>&quot;Brooks source&quot;</td></tr><tr><td>&quot;31954&quot;</td><td>0.019035</td><td>2</td><td>&quot;2012-2014&quot;</td></tr></tbody></table></div>"
      ],
      "text/plain": [
       "shape: (485, 4)\n",
       "┌────────┬──────────┬───────────┬───────────────┐\n",
       "│ sample ┆ froh     ┆ color_idx ┆ Interval      │\n",
       "│ ---    ┆ ---      ┆ ---       ┆ ---           │\n",
       "│ str    ┆ f64      ┆ u32       ┆ enum          │\n",
       "╞════════╪══════════╪═══════════╪═══════════════╡\n",
       "│ 34265  ┆ 0.013964 ┆ 3         ┆ NEPRC source  │\n",
       "│ 27441  ┆ 0.008664 ┆ 2         ┆ 2003-2005     │\n",
       "│ 34717  ┆ 0.015907 ┆ 2         ┆ 2015-2017     │\n",
       "│ 38254  ┆ 0.018261 ┆ 2         ┆ 2018-2020     │\n",
       "│ 17525  ┆ 0.003808 ┆ 1         ┆ Brooks source │\n",
       "│ …      ┆ …        ┆ …         ┆ …             │\n",
       "│ 34235  ┆ 0.019812 ┆ 3         ┆ NEPRC source  │\n",
       "│ 33937  ┆ 0.020773 ┆ 3         ┆ NEPRC source  │\n",
       "│ 32604  ┆ 0.017489 ┆ 2         ┆ 2012-2014     │\n",
       "│ 18408  ┆ 0.011106 ┆ 1         ┆ Brooks source │\n",
       "│ 31954  ┆ 0.019035 ┆ 2         ┆ 2012-2014     │\n",
       "└────────┴──────────┴───────────┴───────────────┘"
      ]
     },
     "execution_count": 19,
     "metadata": {},
     "output_type": "execute_result"
    }
   ],
   "source": [
    "total_len_roh"
   ]
  },
  {
   "cell_type": "code",
   "execution_count": 32,
   "metadata": {},
   "outputs": [
    {
     "data": {
      "text/html": [
       "\n",
       "<style>\n",
       "  #altair-viz-6939b76cffdf4e22a5f6b0f1f59ca00c.vega-embed {\n",
       "    width: 100%;\n",
       "    display: flex;\n",
       "  }\n",
       "\n",
       "  #altair-viz-6939b76cffdf4e22a5f6b0f1f59ca00c.vega-embed details,\n",
       "  #altair-viz-6939b76cffdf4e22a5f6b0f1f59ca00c.vega-embed details summary {\n",
       "    position: relative;\n",
       "  }\n",
       "</style>\n",
       "<div id=\"altair-viz-6939b76cffdf4e22a5f6b0f1f59ca00c\"></div>\n",
       "<script type=\"text/javascript\">\n",
       "  var VEGA_DEBUG = (typeof VEGA_DEBUG == \"undefined\") ? {} : VEGA_DEBUG;\n",
       "  (function(spec, embedOpt){\n",
       "    let outputDiv = document.currentScript.previousElementSibling;\n",
       "    if (outputDiv.id !== \"altair-viz-6939b76cffdf4e22a5f6b0f1f59ca00c\") {\n",
       "      outputDiv = document.getElementById(\"altair-viz-6939b76cffdf4e22a5f6b0f1f59ca00c\");\n",
       "    }\n",
       "\n",
       "    const paths = {\n",
       "      \"vega\": \"https://cdn.jsdelivr.net/npm/vega@5?noext\",\n",
       "      \"vega-lib\": \"https://cdn.jsdelivr.net/npm/vega-lib?noext\",\n",
       "      \"vega-lite\": \"https://cdn.jsdelivr.net/npm/vega-lite@5.20.1?noext\",\n",
       "      \"vega-embed\": \"https://cdn.jsdelivr.net/npm/vega-embed@6?noext\",\n",
       "    };\n",
       "\n",
       "    function maybeLoadScript(lib, version) {\n",
       "      var key = `${lib.replace(\"-\", \"\")}_version`;\n",
       "      return (VEGA_DEBUG[key] == version) ?\n",
       "        Promise.resolve(paths[lib]) :\n",
       "        new Promise(function(resolve, reject) {\n",
       "          var s = document.createElement('script');\n",
       "          document.getElementsByTagName(\"head\")[0].appendChild(s);\n",
       "          s.async = true;\n",
       "          s.onload = () => {\n",
       "            VEGA_DEBUG[key] = version;\n",
       "            return resolve(paths[lib]);\n",
       "          };\n",
       "          s.onerror = () => reject(`Error loading script: ${paths[lib]}`);\n",
       "          s.src = paths[lib];\n",
       "        });\n",
       "    }\n",
       "\n",
       "    function showError(err) {\n",
       "      outputDiv.innerHTML = `<div class=\"error\" style=\"color:red;\">${err}</div>`;\n",
       "      throw err;\n",
       "    }\n",
       "\n",
       "    function displayChart(vegaEmbed) {\n",
       "      vegaEmbed(outputDiv, spec, embedOpt)\n",
       "        .catch(err => showError(`Javascript Error: ${err.message}<br>This usually means there's a typo in your chart specification. See the javascript console for the full traceback.`));\n",
       "    }\n",
       "\n",
       "    if(typeof define === \"function\" && define.amd) {\n",
       "      requirejs.config({paths});\n",
       "      let deps = [\"vega-embed\"];\n",
       "      require(deps, displayChart, err => showError(`Error loading script: ${err.message}`));\n",
       "    } else {\n",
       "      maybeLoadScript(\"vega\", \"5\")\n",
       "        .then(() => maybeLoadScript(\"vega-lite\", \"5.20.1\"))\n",
       "        .then(() => maybeLoadScript(\"vega-embed\", \"6\"))\n",
       "        .catch(showError)\n",
       "        .then(() => displayChart(vegaEmbed));\n",
       "    }\n",
       "  })({\"config\": {\"view\": {\"continuousWidth\": 300, \"continuousHeight\": 300}, \"facet\": {\"spacing\": 0}, \"title\": {\"anchor\": \"middle\"}}, \"data\": {\"name\": \"data-7685a7409a3fd4d81cf1d8dd29c54d04\"}, \"facet\": {\"field\": \"Interval\", \"header\": {\"labelOrient\": \"bottom\", \"labelPadding\": 0, \"title\": \"Cohort\", \"titleOrient\": \"bottom\"}, \"sort\": [\"Conventional source\", \"Brooks source\", \"2003-2005\", \"2006-2008\", \"2009-2011\", \"2012-2014\", \"2015-2017\", \"2018-2020\", \"NEPRC source\", \"Offspring of merger\"], \"type\": \"ordinal\"}, \"spec\": {\"layer\": [{\"mark\": {\"type\": \"area\", \"orient\": \"horizontal\"}, \"encoding\": {\"color\": {\"field\": \"Interval\", \"legend\": null, \"scale\": {\"domain\": [\"Conventional source\", \"Brooks source\", \"2003-2005\", \"2006-2008\", \"2009-2011\", \"2012-2014\", \"2015-2017\", \"2018-2020\", \"NEPRC source\", \"Offspring of merger\"], \"range\": [\"#4269d0\", \"#efb118\", \"#ff725c\", \"#ff725c\", \"#ff725c\", \"#ff725c\", \"#ff725c\", \"#ff725c\", \"#6cc5b0\", \"#3ca951\"]}, \"type\": \"nominal\"}, \"x\": {\"axis\": {\"labels\": false, \"values\": [0], \"grid\": false, \"ticks\": true}, \"field\": \"density\", \"impute\": null, \"scale\": {\"nice\": false, \"zero\": false}, \"stack\": \"center\", \"title\": null, \"type\": \"quantitative\"}, \"y\": {\"field\": \"froh\", \"scale\": {\"domain\": [0.0, 0.45]}, \"title\": \"fROH\", \"type\": \"quantitative\"}}, \"transform\": [{\"density\": \"froh\", \"extent\": [0.0, 0.45], \"groupby\": [\"Interval\", \"color_idx\"], \"as\": [\"froh\", \"density\"]}]}, {\"mark\": {\"type\": \"errorbar\", \"extent\": \"stderr\"}, \"encoding\": {\"y\": {\"field\": \"froh\", \"title\": \"fROH\", \"type\": \"quantitative\"}}}, {\"mark\": {\"type\": \"circle\", \"color\": \"black\"}, \"encoding\": {\"y\": {\"aggregate\": \"mean\", \"field\": \"froh\", \"title\": \"fROH\", \"type\": \"quantitative\"}}}], \"width\": 92}, \"resolve\": {\"scale\": {\"x\": \"independent\"}}, \"title\": \"fROH of Merger\", \"$schema\": \"https://vega.github.io/schema/vega-lite/v5.20.1.json\", \"datasets\": {\"data-7685a7409a3fd4d81cf1d8dd29c54d04\": [{\"sample\": \"34265\", \"froh\": 0.013963582244329437, \"color_idx\": 3, \"Interval\": \"NEPRC source\"}, {\"sample\": \"38254\", \"froh\": 0.01826106626113124, \"color_idx\": 2, \"Interval\": \"2018-2020\"}, {\"sample\": \"34299\", \"froh\": 0.02899791087305739, \"color_idx\": 3, \"Interval\": \"NEPRC source\"}, {\"sample\": \"39051\", \"froh\": 0.01724573423652021, \"color_idx\": 2, \"Interval\": \"2018-2020\"}, {\"sample\": \"39442\", \"froh\": 0.020547124309268607, \"color_idx\": 4, \"Interval\": \"Offspring of merger\"}, {\"sample\": \"37466\", \"froh\": 0.018286569883429405, \"color_idx\": 4, \"Interval\": \"Offspring of merger\"}, {\"sample\": \"34319\", \"froh\": 0.018892605124206388, \"color_idx\": 3, \"Interval\": \"NEPRC source\"}, {\"sample\": \"38994\", \"froh\": 0.019784793796482177, \"color_idx\": 2, \"Interval\": \"2018-2020\"}, {\"sample\": \"34274\", \"froh\": 0.016515978441485897, \"color_idx\": 3, \"Interval\": \"NEPRC source\"}, {\"sample\": \"34248\", \"froh\": 0.015104750982306462, \"color_idx\": 3, \"Interval\": \"NEPRC source\"}, {\"sample\": \"43259\", \"froh\": 0.011268955609112811, \"color_idx\": 4, \"Interval\": \"Offspring of merger\"}, {\"sample\": \"40201\", \"froh\": 0.018264255376132434, \"color_idx\": 4, \"Interval\": \"Offspring of merger\"}, {\"sample\": \"34260\", \"froh\": 0.02281042899813216, \"color_idx\": 3, \"Interval\": \"NEPRC source\"}, {\"sample\": \"34297\", \"froh\": 0.025399885500915886, \"color_idx\": 3, \"Interval\": \"NEPRC source\"}, {\"sample\": \"38488\", \"froh\": 0.016455238724531997, \"color_idx\": 4, \"Interval\": \"Offspring of merger\"}, {\"sample\": \"38494\", \"froh\": 0.021688688385933245, \"color_idx\": 2, \"Interval\": \"2018-2020\"}, {\"sample\": \"34298\", \"froh\": 0.02312227907241725, \"color_idx\": 3, \"Interval\": \"NEPRC source\"}, {\"sample\": \"39306\", \"froh\": 0.019279836579408283, \"color_idx\": 4, \"Interval\": \"Offspring of merger\"}, {\"sample\": \"39728\", \"froh\": 0.014708601162354876, \"color_idx\": 4, \"Interval\": \"Offspring of merger\"}, {\"sample\": \"38471\", \"froh\": 0.010120960119536733, \"color_idx\": 4, \"Interval\": \"Offspring of merger\"}, {\"sample\": \"38582\", \"froh\": 0.009895193835776537, \"color_idx\": 4, \"Interval\": \"Offspring of merger\"}, {\"sample\": \"38563\", \"froh\": 0.02422471131336055, \"color_idx\": 4, \"Interval\": \"Offspring of merger\"}, {\"sample\": \"38292\", \"froh\": 0.02043859398394524, \"color_idx\": 4, \"Interval\": \"Offspring of merger\"}, {\"sample\": \"38698\", \"froh\": 0.021516943292888283, \"color_idx\": 2, \"Interval\": \"2018-2020\"}, {\"sample\": \"38240\", \"froh\": 0.029380328345218417, \"color_idx\": 2, \"Interval\": \"2018-2020\"}, {\"sample\": \"34004\", \"froh\": 0.019114503931943565, \"color_idx\": 3, \"Interval\": \"NEPRC source\"}, {\"sample\": \"33960\", \"froh\": 0.01588970468640747, \"color_idx\": 3, \"Interval\": \"NEPRC source\"}, {\"sample\": \"39876\", \"froh\": 0.02119936694412234, \"color_idx\": 4, \"Interval\": \"Offspring of merger\"}, {\"sample\": \"37762\", \"froh\": 0.020444881468284614, \"color_idx\": 4, \"Interval\": \"Offspring of merger\"}, {\"sample\": \"37449\", \"froh\": 0.01749729571880725, \"color_idx\": 4, \"Interval\": \"Offspring of merger\"}, {\"sample\": \"33929\", \"froh\": 0.01865986592882434, \"color_idx\": 3, \"Interval\": \"NEPRC source\"}, {\"sample\": \"38598\", \"froh\": 0.027330483489340782, \"color_idx\": 4, \"Interval\": \"Offspring of merger\"}, {\"sample\": \"37526\", \"froh\": 0.025094374978153866, \"color_idx\": 4, \"Interval\": \"Offspring of merger\"}, {\"sample\": \"33920\", \"froh\": 0.019759334431290153, \"color_idx\": 3, \"Interval\": \"NEPRC source\"}, {\"sample\": \"37573\", \"froh\": 0.017512587478749408, \"color_idx\": 2, \"Interval\": \"2018-2020\"}, {\"sample\": \"34005\", \"froh\": 0.01989704915689032, \"color_idx\": 3, \"Interval\": \"NEPRC source\"}, {\"sample\": \"34294\", \"froh\": 0.02043782227390122, \"color_idx\": 3, \"Interval\": \"NEPRC source\"}, {\"sample\": \"33914\", \"froh\": 0.015705454915381743, \"color_idx\": 3, \"Interval\": \"NEPRC source\"}, {\"sample\": \"38990\", \"froh\": 0.018166044766617005, \"color_idx\": 4, \"Interval\": \"Offspring of merger\"}, {\"sample\": \"34228\", \"froh\": 0.023996774199948813, \"color_idx\": 3, \"Interval\": \"NEPRC source\"}, {\"sample\": \"34302\", \"froh\": 0.019227206698223014, \"color_idx\": 3, \"Interval\": \"NEPRC source\"}, {\"sample\": \"38702\", \"froh\": 0.013186496263592886, \"color_idx\": 2, \"Interval\": \"2018-2020\"}, {\"sample\": \"34244\", \"froh\": 0.018306834431322694, \"color_idx\": 3, \"Interval\": \"NEPRC source\"}, {\"sample\": \"37461\", \"froh\": 0.017957756692605614, \"color_idx\": 4, \"Interval\": \"Offspring of merger\"}, {\"sample\": \"34277\", \"froh\": 0.03280380034357164, \"color_idx\": 3, \"Interval\": \"NEPRC source\"}, {\"sample\": \"38454\", \"froh\": 0.021440414574387955, \"color_idx\": 2, \"Interval\": \"2018-2020\"}, {\"sample\": \"34290\", \"froh\": 0.026739048258779752, \"color_idx\": 3, \"Interval\": \"NEPRC source\"}, {\"sample\": \"34001\", \"froh\": 0.02573079997451014, \"color_idx\": 3, \"Interval\": \"NEPRC source\"}, {\"sample\": \"34259\", \"froh\": 0.023521172461040997, \"color_idx\": 3, \"Interval\": \"NEPRC source\"}, {\"sample\": \"38247\", \"froh\": 0.02802534237023027, \"color_idx\": 4, \"Interval\": \"Offspring of merger\"}, {\"sample\": \"37435\", \"froh\": 0.014450458388049049, \"color_idx\": 2, \"Interval\": \"2018-2020\"}, {\"sample\": \"33963\", \"froh\": 0.01972196469782837, \"color_idx\": 3, \"Interval\": \"NEPRC source\"}, {\"sample\": \"39918\", \"froh\": 0.02234670750290925, \"color_idx\": 2, \"Interval\": \"2018-2020\"}, {\"sample\": \"38245\", \"froh\": 0.016209400913366628, \"color_idx\": 2, \"Interval\": \"2018-2020\"}, {\"sample\": \"38175\", \"froh\": 0.019781707328214552, \"color_idx\": 4, \"Interval\": \"Offspring of merger\"}, {\"sample\": \"37512\", \"froh\": 0.013979019420477481, \"color_idx\": 2, \"Interval\": \"2018-2020\"}, {\"sample\": \"34326\", \"froh\": 0.020196640384683363, \"color_idx\": 3, \"Interval\": \"NEPRC source\"}, {\"sample\": \"38347\", \"froh\": 0.016913592093116162, \"color_idx\": 4, \"Interval\": \"Offspring of merger\"}, {\"sample\": \"33933\", \"froh\": 0.0222681332879067, \"color_idx\": 3, \"Interval\": \"NEPRC source\"}, {\"sample\": \"33916\", \"froh\": 0.012561038847573073, \"color_idx\": 3, \"Interval\": \"NEPRC source\"}, {\"sample\": \"34293\", \"froh\": 0.031215807771022334, \"color_idx\": 3, \"Interval\": \"NEPRC source\"}, {\"sample\": \"39453\", \"froh\": 0.0157679797929194, \"color_idx\": 2, \"Interval\": \"2018-2020\"}, {\"sample\": \"34257\", \"froh\": 0.026654498218723073, \"color_idx\": 3, \"Interval\": \"NEPRC source\"}, {\"sample\": \"37759\", \"froh\": 0.010998512334567985, \"color_idx\": 2, \"Interval\": \"2018-2020\"}, {\"sample\": \"39295\", \"froh\": 0.010095801256376309, \"color_idx\": 4, \"Interval\": \"Offspring of merger\"}, {\"sample\": \"34250\", \"froh\": 0.1233537770233309, \"color_idx\": 3, \"Interval\": \"NEPRC source\"}, {\"sample\": \"33959\", \"froh\": 0.018161340124661893, \"color_idx\": 3, \"Interval\": \"NEPRC source\"}, {\"sample\": \"34303\", \"froh\": 0.014161046294667976, \"color_idx\": 3, \"Interval\": \"NEPRC source\"}, {\"sample\": \"33995\", \"froh\": 0.01785835262885825, \"color_idx\": 3, \"Interval\": \"NEPRC source\"}, {\"sample\": \"39303\", \"froh\": 0.010312430493215305, \"color_idx\": 2, \"Interval\": \"2018-2020\"}, {\"sample\": \"39836\", \"froh\": 0.014497391747429858, \"color_idx\": 2, \"Interval\": \"2018-2020\"}, {\"sample\": \"34289\", \"froh\": 0.016256372207409844, \"color_idx\": 3, \"Interval\": \"NEPRC source\"}, {\"sample\": \"34288\", \"froh\": 0.017954225793734326, \"color_idx\": 3, \"Interval\": \"NEPRC source\"}, {\"sample\": \"33935\", \"froh\": 0.02626771863229394, \"color_idx\": 3, \"Interval\": \"NEPRC source\"}, {\"sample\": \"38580\", \"froh\": 0.015713967528007085, \"color_idx\": 4, \"Interval\": \"Offspring of merger\"}, {\"sample\": \"33943\", \"froh\": 0.02370194377228758, \"color_idx\": 3, \"Interval\": \"NEPRC source\"}, {\"sample\": \"33964\", \"froh\": 0.017661969716398253, \"color_idx\": 3, \"Interval\": \"NEPRC source\"}, {\"sample\": \"34313\", \"froh\": 0.019077758260869188, \"color_idx\": 3, \"Interval\": \"NEPRC source\"}, {\"sample\": \"33949\", \"froh\": 0.019735942505199194, \"color_idx\": 3, \"Interval\": \"NEPRC source\"}, {\"sample\": \"39290\", \"froh\": 0.01483367174430367, \"color_idx\": 4, \"Interval\": \"Offspring of merger\"}, {\"sample\": \"34270\", \"froh\": 0.020455905950614684, \"color_idx\": 3, \"Interval\": \"NEPRC source\"}, {\"sample\": \"38266\", \"froh\": 0.020409328135716803, \"color_idx\": 2, \"Interval\": \"2018-2020\"}, {\"sample\": \"38320\", \"froh\": 0.01674115227507736, \"color_idx\": 4, \"Interval\": \"Offspring of merger\"}, {\"sample\": \"37447\", \"froh\": 0.021752294029440986, \"color_idx\": 4, \"Interval\": \"Offspring of merger\"}, {\"sample\": \"34280\", \"froh\": 0.019611448381355572, \"color_idx\": 3, \"Interval\": \"NEPRC source\"}, {\"sample\": \"33945\", \"froh\": 0.014916820805210554, \"color_idx\": 3, \"Interval\": \"NEPRC source\"}, {\"sample\": \"34281\", \"froh\": 0.02205899131208275, \"color_idx\": 3, \"Interval\": \"NEPRC source\"}, {\"sample\": \"33977\", \"froh\": 0.016084559055117627, \"color_idx\": 3, \"Interval\": \"NEPRC source\"}, {\"sample\": \"34253\", \"froh\": 0.0198943803418176, \"color_idx\": 3, \"Interval\": \"NEPRC source\"}, {\"sample\": \"33930\", \"froh\": 0.01180473808656674, \"color_idx\": 3, \"Interval\": \"NEPRC source\"}, {\"sample\": \"34287\", \"froh\": 0.03138767670958279, \"color_idx\": 3, \"Interval\": \"NEPRC source\"}, {\"sample\": \"34295\", \"froh\": 0.03180473261951245, \"color_idx\": 3, \"Interval\": \"NEPRC source\"}, {\"sample\": \"38995\", \"froh\": 0.020356805736075012, \"color_idx\": 4, \"Interval\": \"Offspring of merger\"}, {\"sample\": \"38261\", \"froh\": 0.01987249092588464, \"color_idx\": 4, \"Interval\": \"Offspring of merger\"}, {\"sample\": \"34273\", \"froh\": 0.044408307752803466, \"color_idx\": 3, \"Interval\": \"NEPRC source\"}, {\"sample\": \"38456\", \"froh\": 0.015355181862890456, \"color_idx\": 2, \"Interval\": \"2018-2020\"}, {\"sample\": \"33919\", \"froh\": 0.01215867890024074, \"color_idx\": 3, \"Interval\": \"NEPRC source\"}, {\"sample\": \"38388\", \"froh\": 0.020407007426957918, \"color_idx\": 2, \"Interval\": \"2018-2020\"}, {\"sample\": \"38243\", \"froh\": 0.023364716896487468, \"color_idx\": 4, \"Interval\": \"Offspring of merger\"}, {\"sample\": \"38226\", \"froh\": 0.025198793483599314, \"color_idx\": 4, \"Interval\": \"Offspring of merger\"}, {\"sample\": \"33965\", \"froh\": 0.015330351022987297, \"color_idx\": 3, \"Interval\": \"NEPRC source\"}, {\"sample\": \"39047\", \"froh\": 0.01568699933021333, \"color_idx\": 4, \"Interval\": \"Offspring of merger\"}, {\"sample\": \"38642\", \"froh\": 0.014973488868399668, \"color_idx\": 2, \"Interval\": \"2018-2020\"}, {\"sample\": \"38455\", \"froh\": 0.004395041926978799, \"color_idx\": 4, \"Interval\": \"Offspring of merger\"}, {\"sample\": \"34307\", \"froh\": 0.024562805479677607, \"color_idx\": 3, \"Interval\": \"NEPRC source\"}, {\"sample\": \"39064\", \"froh\": 0.028062526893281484, \"color_idx\": 2, \"Interval\": \"2018-2020\"}, {\"sample\": \"38522\", \"froh\": 0.022004297338972505, \"color_idx\": 4, \"Interval\": \"Offspring of merger\"}, {\"sample\": \"38244\", \"froh\": 0.032145293282702735, \"color_idx\": 2, \"Interval\": \"2018-2020\"}, {\"sample\": \"33970\", \"froh\": 0.019205365630389194, \"color_idx\": 3, \"Interval\": \"NEPRC source\"}, {\"sample\": \"34322\", \"froh\": 0.017147362218735328, \"color_idx\": 3, \"Interval\": \"NEPRC source\"}, {\"sample\": \"38523\", \"froh\": 0.01656546532431839, \"color_idx\": 2, \"Interval\": \"2018-2020\"}, {\"sample\": \"38305\", \"froh\": 0.016430092134350583, \"color_idx\": 4, \"Interval\": \"Offspring of merger\"}, {\"sample\": \"39181\", \"froh\": 0.01824147709899214, \"color_idx\": 4, \"Interval\": \"Offspring of merger\"}, {\"sample\": \"38457\", \"froh\": 0.02670148848009749, \"color_idx\": 2, \"Interval\": \"2018-2020\"}, {\"sample\": \"38294\", \"froh\": 0.014989195678177551, \"color_idx\": 4, \"Interval\": \"Offspring of merger\"}, {\"sample\": \"39139\", \"froh\": 0.04026362009326694, \"color_idx\": 2, \"Interval\": \"2018-2020\"}, {\"sample\": \"39414\", \"froh\": 0.02042781830837153, \"color_idx\": 2, \"Interval\": \"2018-2020\"}, {\"sample\": \"34009\", \"froh\": 0.029713158891172573, \"color_idx\": 3, \"Interval\": \"NEPRC source\"}, {\"sample\": \"34018\", \"froh\": 0.019647475525294986, \"color_idx\": 3, \"Interval\": \"NEPRC source\"}, {\"sample\": \"38222\", \"froh\": 0.027631955458190503, \"color_idx\": 2, \"Interval\": \"2018-2020\"}, {\"sample\": \"34238\", \"froh\": 0.010798083801935043, \"color_idx\": 3, \"Interval\": \"NEPRC source\"}, {\"sample\": \"33966\", \"froh\": 0.03258603269495204, \"color_idx\": 3, \"Interval\": \"NEPRC source\"}, {\"sample\": \"33983\", \"froh\": 0.01986953202221706, \"color_idx\": 3, \"Interval\": \"NEPRC source\"}, {\"sample\": \"33986\", \"froh\": 0.05744308582174197, \"color_idx\": 3, \"Interval\": \"NEPRC source\"}, {\"sample\": \"38268\", \"froh\": 0.01250480889254389, \"color_idx\": 2, \"Interval\": \"2018-2020\"}, {\"sample\": \"34231\", \"froh\": 0.022754259292272677, \"color_idx\": 3, \"Interval\": \"NEPRC source\"}, {\"sample\": \"34003\", \"froh\": 0.022963624785078057, \"color_idx\": 3, \"Interval\": \"NEPRC source\"}, {\"sample\": \"38442\", \"froh\": 0.01109484183111828, \"color_idx\": 4, \"Interval\": \"Offspring of merger\"}, {\"sample\": \"33962\", \"froh\": 0.015288896990873258, \"color_idx\": 3, \"Interval\": \"NEPRC source\"}, {\"sample\": \"34245\", \"froh\": 0.014257816502737386, \"color_idx\": 3, \"Interval\": \"NEPRC source\"}, {\"sample\": \"37641\", \"froh\": 0.0149916000663388, \"color_idx\": 2, \"Interval\": \"2018-2020\"}, {\"sample\": \"38228\", \"froh\": 0.022818403087314733, \"color_idx\": 4, \"Interval\": \"Offspring of merger\"}, {\"sample\": \"38610\", \"froh\": 0.017491472748128102, \"color_idx\": 4, \"Interval\": \"Offspring of merger\"}, {\"sample\": \"34264\", \"froh\": 0.02654941734431936, \"color_idx\": 3, \"Interval\": \"NEPRC source\"}, {\"sample\": \"34023\", \"froh\": 0.01954364909810982, \"color_idx\": 3, \"Interval\": \"NEPRC source\"}, {\"sample\": \"34241\", \"froh\": 0.015595576050000727, \"color_idx\": 3, \"Interval\": \"NEPRC source\"}, {\"sample\": \"37738\", \"froh\": 0.021816021287013494, \"color_idx\": 2, \"Interval\": \"2018-2020\"}, {\"sample\": \"33917\", \"froh\": 0.0158032616323151, \"color_idx\": 3, \"Interval\": \"NEPRC source\"}, {\"sample\": \"34249\", \"froh\": 0.018200316130740603, \"color_idx\": 3, \"Interval\": \"NEPRC source\"}, {\"sample\": \"33924\", \"froh\": 0.02003075061835313, \"color_idx\": 3, \"Interval\": \"NEPRC source\"}, {\"sample\": \"37576\", \"froh\": 0.08491130040065493, \"color_idx\": 2, \"Interval\": \"2018-2020\"}, {\"sample\": \"34243\", \"froh\": 0.017138131822791936, \"color_idx\": 3, \"Interval\": \"NEPRC source\"}, {\"sample\": \"38945\", \"froh\": 0.02143626481984763, \"color_idx\": 2, \"Interval\": \"2018-2020\"}, {\"sample\": \"33987\", \"froh\": 0.024170110689272502, \"color_idx\": 3, \"Interval\": \"NEPRC source\"}, {\"sample\": \"33918\", \"froh\": 0.030419931487507913, \"color_idx\": 3, \"Interval\": \"NEPRC source\"}, {\"sample\": \"34321\", \"froh\": 0.019627477635763894, \"color_idx\": 3, \"Interval\": \"NEPRC source\"}, {\"sample\": \"38475\", \"froh\": 0.08861068012448156, \"color_idx\": 2, \"Interval\": \"2018-2020\"}, {\"sample\": \"34285\", \"froh\": 0.020993308833206825, \"color_idx\": 3, \"Interval\": \"NEPRC source\"}, {\"sample\": \"38999\", \"froh\": 0.014853154168716201, \"color_idx\": 2, \"Interval\": \"2018-2020\"}, {\"sample\": \"34008\", \"froh\": 0.014319234580713115, \"color_idx\": 3, \"Interval\": \"NEPRC source\"}, {\"sample\": \"38507\", \"froh\": 0.014336725063440935, \"color_idx\": 2, \"Interval\": \"2018-2020\"}, {\"sample\": \"34261\", \"froh\": 0.022796269699435323, \"color_idx\": 3, \"Interval\": \"NEPRC source\"}, {\"sample\": \"33985\", \"froh\": 0.01876779339054224, \"color_idx\": 3, \"Interval\": \"NEPRC source\"}, {\"sample\": \"38514\", \"froh\": 0.009155215393041028, \"color_idx\": 4, \"Interval\": \"Offspring of merger\"}, {\"sample\": \"33948\", \"froh\": 0.02416234784409234, \"color_idx\": 3, \"Interval\": \"NEPRC source\"}, {\"sample\": \"37445\", \"froh\": 0.0071499088060943275, \"color_idx\": 2, \"Interval\": \"2018-2020\"}, {\"sample\": \"38070\", \"froh\": 0.013772535474381052, \"color_idx\": 2, \"Interval\": \"2018-2020\"}, {\"sample\": \"34252\", \"froh\": 0.021394644916562684, \"color_idx\": 3, \"Interval\": \"NEPRC source\"}, {\"sample\": \"38227\", \"froh\": 0.04454059224305292, \"color_idx\": 2, \"Interval\": \"2018-2020\"}, {\"sample\": \"37448\", \"froh\": 0.019663120970177802, \"color_idx\": 2, \"Interval\": \"2018-2020\"}, {\"sample\": \"34247\", \"froh\": 0.03512469654431794, \"color_idx\": 3, \"Interval\": \"NEPRC source\"}, {\"sample\": \"34246\", \"froh\": 0.022018094770742676, \"color_idx\": 3, \"Interval\": \"NEPRC source\"}, {\"sample\": \"34229\", \"froh\": 0.01613137972623659, \"color_idx\": 3, \"Interval\": \"NEPRC source\"}, {\"sample\": \"38487\", \"froh\": 0.11399853699023901, \"color_idx\": 2, \"Interval\": \"2018-2020\"}, {\"sample\": \"33993\", \"froh\": 0.015554183010873301, \"color_idx\": 3, \"Interval\": \"NEPRC source\"}, {\"sample\": \"37444\", \"froh\": 0.017080591634275968, \"color_idx\": 2, \"Interval\": \"2018-2020\"}, {\"sample\": \"38200\", \"froh\": 0.016605834127560885, \"color_idx\": 4, \"Interval\": \"Offspring of merger\"}, {\"sample\": \"34312\", \"froh\": 0.017911964720273045, \"color_idx\": 3, \"Interval\": \"NEPRC source\"}, {\"sample\": \"34235\", \"froh\": 0.01981199778423637, \"color_idx\": 3, \"Interval\": \"NEPRC source\"}, {\"sample\": \"33937\", \"froh\": 0.02077344548044359, \"color_idx\": 3, \"Interval\": \"NEPRC source\"}]}}, {\"mode\": \"vega-lite\"});\n",
       "</script>"
      ],
      "text/plain": [
       "alt.FacetChart(...)"
      ]
     },
     "execution_count": 32,
     "metadata": {},
     "output_type": "execute_result"
    }
   ],
   "source": [
    "# Violin plot but with error bars and means\n",
    "# Has to be more complicated in order to construct a layered chart that also is faceted\n",
    "# Variations on the graph can be made my adjusting the scale on the alt.Y of the violin plot\n",
    "\n",
    "# Varibles to adjust\n",
    "error_unit = 'stderr' # Can switch extent to `stdev`, `stderr`, or `ci`\n",
    "# max_y = 0.08\n",
    "# min_y = -0.02\n",
    "#max_y = 0.055\n",
    "#max_y = 0.09\n",
    "max_y = 0.45\n",
    "#max_y=0.14 # For zoomed of Merger\n",
    "min_y = 0.0\n",
    "\n",
    "violin = alt.Chart().transform_density(\n",
    "    'froh',\n",
    "    as_=['froh', 'density'],\n",
    "    extent=[min_y, max_y],\n",
    "    groupby=['Interval', 'color_idx']\n",
    ").mark_area(orient='horizontal').encode(\n",
    "    alt.X(\"density:Q\").stack('center')\n",
    "        .impute(None)\n",
    "        .title(None)\n",
    "        .axis(labels=False, values=[0], grid=False, ticks=True)\n",
    "        .scale(nice=False,zero=False),\n",
    "    #alt.X(\"Interval\"),\n",
    "    #alt.Y(\"froh:Q\", title=x_title).axis(range=[0, 0.05]),\n",
    "    alt.Y(\"froh:Q\", title='fROH').scale(domain=[min_y, max_y]),\n",
    "    # alt.Column(\"Interval:N\", title=\"Cohort\",\n",
    "    #       # TODO: Generalize this\n",
    "    #     ).spacing(0).header(titleOrient='bottom', labelOrient='bottom', labelPadding=0),\n",
    "    color=alt.Color(\"Interval:N\", legend=None).scale(\n",
    "        domain = list(colors[\"Cohort\"]),\n",
    "        range = list(colors[\"Color\"])\n",
    "    )\n",
    ").properties(\n",
    "    width=92\n",
    ")\n",
    "\n",
    "error = alt.Chart().mark_errorbar(extent=error_unit).encode(\n",
    "    #alt.X('Interval', title=None),\n",
    "    alt.Y('froh:Q', title='fROH')\n",
    "    )\n",
    "\n",
    "mean = alt.Chart().mark_circle(color='black').encode(\n",
    "    #alt.X('Interval', title=None),\n",
    "    alt.Y('mean(froh):Q', title='fROH')\n",
    "    )\n",
    "\n",
    "layered = alt.layer(violin, error, mean, data=total_len_roh\n",
    "        .filter(\n",
    "            pl.col(\"Interval\").is_in([\"2018-2020\", \"Offspring of merger\", \"NEPRC source\"]))\n",
    "            #pl.col(\"Interval\").is_in([\"Conventional source\", \"Brooks source\", \"NEPRC source\"]))\n",
    ").facet(\n",
    "    #column='Interval'\n",
    "    alt.Column('Interval',\n",
    "        header=alt.Header(labelOrient='bottom', titleOrient='bottom', labelPadding=0, title='Cohort'), #labelAnchor='end', labelAngle=-90) # labelAngle=-45\n",
    "    )\n",
    ").resolve_scale(x=alt.ResolveMode(\"independent\")\n",
    ").configure_facet(\n",
    "    spacing=0,\n",
    ").configure_title(anchor='middle').properties(\n",
    "    #title=\"fROH in Cohorts\"\n",
    "    title=\"fROH of Merger\"\n",
    "    #title=[\"fROH in\", \"Founding Populations\"]\n",
    ")\n",
    "\n",
    "\n",
    "layered#.save(\"/master/abagwell/figures/roh/U42_WES.common_between_founding_cohorts2.violinplot_froh.min1Mb.merger_zoomed.html\")\n",
    "layered#.save(f\"/master/abagwell/figures/roh/U42_WES.common_between_founding_cohorts2.froh_violinplot.gt{min_ROH_length / 1_000_000}Mb.{error_unit}.full_height.html\")\n",
    "#layered.save(f\"/master/abagwell/figures/roh/U42_WES.common_between_founding_cohorts2.froh_violinplot.{error_unit}.html\")"
   ]
  },
  {
   "cell_type": "code",
   "execution_count": 101,
   "metadata": {},
   "outputs": [
    {
     "data": {
      "text/html": [
       "<div><style>\n",
       ".dataframe > thead > tr,\n",
       ".dataframe > tbody > tr {\n",
       "  text-align: right;\n",
       "  white-space: pre-wrap;\n",
       "}\n",
       "</style>\n",
       "<small>shape: (485, 4)</small><table border=\"1\" class=\"dataframe\"><thead><tr><th>sample</th><th>froh</th><th>color_idx</th><th>Interval</th></tr><tr><td>str</td><td>f64</td><td>u32</td><td>enum</td></tr></thead><tbody><tr><td>&quot;17507&quot;</td><td>0.023796</td><td>1</td><td>&quot;Brooks source&quot;</td></tr><tr><td>&quot;17660&quot;</td><td>0.017183</td><td>1</td><td>&quot;Brooks source&quot;</td></tr><tr><td>&quot;30011&quot;</td><td>0.012335</td><td>2</td><td>&quot;2009-2011&quot;</td></tr><tr><td>&quot;38945&quot;</td><td>0.021436</td><td>2</td><td>&quot;2018-2020&quot;</td></tr><tr><td>&quot;33920&quot;</td><td>0.019759</td><td>3</td><td>&quot;NEPRC source&quot;</td></tr><tr><td>&hellip;</td><td>&hellip;</td><td>&hellip;</td><td>&hellip;</td></tr><tr><td>&quot;34253&quot;</td><td>0.019894</td><td>3</td><td>&quot;NEPRC source&quot;</td></tr><tr><td>&quot;31982&quot;</td><td>0.029756</td><td>2</td><td>&quot;2012-2014&quot;</td></tr><tr><td>&quot;40201&quot;</td><td>0.018264</td><td>4</td><td>&quot;Offspring of merger&quot;</td></tr><tr><td>&quot;31127&quot;</td><td>0.009487</td><td>2</td><td>&quot;2009-2011&quot;</td></tr><tr><td>&quot;30644&quot;</td><td>0.017376</td><td>2</td><td>&quot;2009-2011&quot;</td></tr></tbody></table></div>"
      ],
      "text/plain": [
       "shape: (485, 4)\n",
       "┌────────┬──────────┬───────────┬─────────────────────┐\n",
       "│ sample ┆ froh     ┆ color_idx ┆ Interval            │\n",
       "│ ---    ┆ ---      ┆ ---       ┆ ---                 │\n",
       "│ str    ┆ f64      ┆ u32       ┆ enum                │\n",
       "╞════════╪══════════╪═══════════╪═════════════════════╡\n",
       "│ 17507  ┆ 0.023796 ┆ 1         ┆ Brooks source       │\n",
       "│ 17660  ┆ 0.017183 ┆ 1         ┆ Brooks source       │\n",
       "│ 30011  ┆ 0.012335 ┆ 2         ┆ 2009-2011           │\n",
       "│ 38945  ┆ 0.021436 ┆ 2         ┆ 2018-2020           │\n",
       "│ 33920  ┆ 0.019759 ┆ 3         ┆ NEPRC source        │\n",
       "│ …      ┆ …        ┆ …         ┆ …                   │\n",
       "│ 34253  ┆ 0.019894 ┆ 3         ┆ NEPRC source        │\n",
       "│ 31982  ┆ 0.029756 ┆ 2         ┆ 2012-2014           │\n",
       "│ 40201  ┆ 0.018264 ┆ 4         ┆ Offspring of merger │\n",
       "│ 31127  ┆ 0.009487 ┆ 2         ┆ 2009-2011           │\n",
       "│ 30644  ┆ 0.017376 ┆ 2         ┆ 2009-2011           │\n",
       "└────────┴──────────┴───────────┴─────────────────────┘"
      ]
     },
     "execution_count": 101,
     "metadata": {},
     "output_type": "execute_result"
    }
   ],
   "source": [
    "total_len_roh"
   ]
  },
  {
   "cell_type": "code",
   "execution_count": 37,
   "metadata": {},
   "outputs": [],
   "source": [
    "# Dataframes for t-tests\n",
    "Conventional_source = total_len_roh.filter(\n",
    "    pl.col('Interval') == 'Conventional source'\n",
    ")['froh']\n",
    "\n",
    "Brooks_source = total_len_roh.filter(\n",
    "    pl.col('Interval') == 'Brooks source'\n",
    ")['froh']\n",
    "\n",
    "NEPRC_source = total_len_roh.filter(\n",
    "    pl.col('Interval') == 'NEPRC source'\n",
    ")['froh']"
   ]
  },
  {
   "cell_type": "code",
   "execution_count": 38,
   "metadata": {},
   "outputs": [
    {
     "data": {
      "text/plain": [
       "TtestResult(statistic=np.float64(5.059169848151928), pvalue=np.float64(1.5333542772508571e-06), df=np.float64(120.0))"
      ]
     },
     "execution_count": 38,
     "metadata": {},
     "output_type": "execute_result"
    }
   ],
   "source": [
    "# T-test to compare groups\n",
    "import scipy\n",
    "\n",
    "# Comare Colony1 to Merged\n",
    "scipy.stats.ttest_ind(Conventional_source, Brooks_source)\n"
   ]
  },
  {
   "cell_type": "code",
   "execution_count": 39,
   "metadata": {},
   "outputs": [
    {
     "data": {
      "text/plain": [
       "TtestResult(statistic=np.float64(5.023968441163438), pvalue=np.float64(1.9940327398462695e-06), df=np.float64(109.0))"
      ]
     },
     "execution_count": 39,
     "metadata": {},
     "output_type": "execute_result"
    }
   ],
   "source": [
    "scipy.stats.ttest_ind(Conventional_source, NEPRC_source)"
   ]
  },
  {
   "cell_type": "code",
   "execution_count": 40,
   "metadata": {},
   "outputs": [
    {
     "data": {
      "text/plain": [
       "TtestResult(statistic=np.float64(-0.6795470068454496), pvalue=np.float64(0.4976499814522465), df=np.float64(183.0))"
      ]
     },
     "execution_count": 40,
     "metadata": {},
     "output_type": "execute_result"
    }
   ],
   "source": [
    "scipy.stats.ttest_ind(Brooks_source, NEPRC_source)"
   ]
  },
  {
   "cell_type": "code",
   "execution_count": 41,
   "metadata": {},
   "outputs": [],
   "source": [
    "y2018_2020 = total_len_roh.filter(\n",
    "    pl.col('Interval') == '2018-2020'\n",
    ")['froh']\n",
    "\n",
    "offspring_of_merger = total_len_roh.filter(\n",
    "    pl.col('Interval') == 'Offspring of merger'\n",
    ")['froh']\n",
    "\n",
    "NEPRC_source = total_len_roh.filter(\n",
    "    pl.col('Interval') == 'NEPRC source'\n",
    ")['froh']"
   ]
  },
  {
   "cell_type": "code",
   "execution_count": 42,
   "metadata": {},
   "outputs": [
    {
     "data": {
      "text/plain": [
       "TtestResult(statistic=np.float64(2.076622817411684), pvalue=np.float64(0.04100652825539894), df=np.float64(81.0))"
      ]
     },
     "execution_count": 42,
     "metadata": {},
     "output_type": "execute_result"
    }
   ],
   "source": [
    "scipy.stats.ttest_ind(y2018_2020, offspring_of_merger)"
   ]
  },
  {
   "cell_type": "code",
   "execution_count": 43,
   "metadata": {},
   "outputs": [
    {
     "data": {
      "text/plain": [
       "TtestResult(statistic=np.float64(0.8416986633995069), pvalue=np.float64(0.40153878801706944), df=np.float64(127.0))"
      ]
     },
     "execution_count": 43,
     "metadata": {},
     "output_type": "execute_result"
    }
   ],
   "source": [
    "scipy.stats.ttest_ind(y2018_2020, NEPRC_source)"
   ]
  },
  {
   "cell_type": "code",
   "execution_count": 44,
   "metadata": {},
   "outputs": [
    {
     "data": {
      "text/plain": [
       "TtestResult(statistic=np.float64(-2.1843471326414248), pvalue=np.float64(0.03078773987146404), df=np.float64(126.0))"
      ]
     },
     "execution_count": 44,
     "metadata": {},
     "output_type": "execute_result"
    }
   ],
   "source": [
    "scipy.stats.ttest_ind(offspring_of_merger, NEPRC_source)"
   ]
  },
  {
   "cell_type": "code",
   "execution_count": null,
   "metadata": {},
   "outputs": [],
   "source": []
  },
  {
   "cell_type": "code",
   "execution_count": null,
   "metadata": {},
   "outputs": [],
   "source": []
  },
  {
   "cell_type": "code",
   "execution_count": null,
   "metadata": {},
   "outputs": [],
   "source": []
  },
  {
   "cell_type": "code",
   "execution_count": null,
   "metadata": {},
   "outputs": [],
   "source": []
  },
  {
   "cell_type": "code",
   "execution_count": null,
   "metadata": {},
   "outputs": [],
   "source": []
  },
  {
   "cell_type": "code",
   "execution_count": null,
   "metadata": {},
   "outputs": [],
   "source": []
  }
 ],
 "metadata": {
  "kernelspec": {
   "display_name": "Python 3",
   "language": "python",
   "name": "python3"
  },
  "language_info": {
   "codemirror_mode": {
    "name": "ipython",
    "version": 3
   },
   "file_extension": ".py",
   "mimetype": "text/x-python",
   "name": "python",
   "nbconvert_exporter": "python",
   "pygments_lexer": "ipython3",
   "version": "3.12.4"
  }
 },
 "nbformat": 4,
 "nbformat_minor": 2
}
