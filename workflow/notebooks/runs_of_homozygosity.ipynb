{
 "cells": [
  {
   "cell_type": "code",
   "execution_count": 5,
   "metadata": {},
   "outputs": [],
   "source": [
    "import matplotlib.pyplot as plt\n",
    "import numpy as np\n",
    "import pandas as pd\n",
    "import seaborn as sns\n",
    "\n",
    "# Set chromosome\n",
    "chr = 10\n",
    "\n",
    "# Define path to files below\n",
    "home = '/users/username'\n",
    "roh_file = f\"{home}/variant-analysis/results/rhesus/relatedness/roh/all_samples.SNP.chr{chr}.roh_poisson.pickle\"\n",
    "froh_file = f\"{home}/variant-analysis/results/rhesus/relatedness/roh/all_samples.SNP.chr{chr}.froh_poisson.pickle\"\n",
    "samples_list = f\"{home}/variant-analysis/resources/rhesus/samples/all_samples_without_GBS.list\"\n",
    "contig_length = f\"{home}/variant-analysis/results/rhesus/relatedness/roh/contig_lengths.tsv\"\n",
    "roh_df = pd.read_pickle(roh_file)\n",
    "froh_df = pd.read_pickle(froh_file)\n",
    "sns.set_theme()\n",
    "\n",
    "# Create list of sample names\n",
    "sample_names = []\n",
    "with open(samples_list, \"r\") as f:\n",
    "    for sample in f:\n",
    "        sample_names.append(sample.strip())\n",
    "\n",
    "# Create contig lists\n",
    "contigs = pd.read_table(contig_length, names=[\"chr\", \"length\"])\n",
    "chrom_length = contigs.loc[contigs[\"chr\"] == \"10\", \"length\"].item()"
   ]
  },
  {
   "cell_type": "code",
   "execution_count": null,
   "metadata": {},
   "outputs": [],
   "source": [
    "# Plot ROHs by groups along with a second plot containing counts\n",
    "# Modify groups for samples accordingly\n",
    "sample_groups = {\n",
    "    \"founders\": [\"WGS1\", \"WGS2\"],\n",
    "    \"descendants\": [\"WGS3\", \"WGS4\", \"WGS5\"],\n",
    "}\n",
    "\n",
    "num_of_bins = 60\n",
    "\n",
    "all_samples = []\n",
    "for samples in sample_groups.values():\n",
    "    all_samples += samples\n",
    "\n",
    "samples_with_roh = []\n",
    "for sample in all_samples:\n",
    "    subset = roh_df[roh_df[\"sample\"] == sample]\n",
    "    if not subset.empty:\n",
    "        samples_with_roh.append(sample)\n",
    "\n",
    "# Figure\n",
    "height = len(samples_with_roh) * 0.22\n",
    "fig, ax = plt.subplots(2, sharex=True, figsize=(8, height + 2), height_ratios=[height, 2])\n",
    "fig.suptitle(\"Runs of homozygosity\")\n",
    "fig.tight_layout()\n",
    "#plt.subplots_adjust(hspace=0)\n",
    "\n",
    "# Subplot 1\n",
    "def barh_group(samples, color):\n",
    "    \"\"\"Draw group of same colored samples onto horizontal bar plot.\"\"\"\n",
    "    for sample in samples:\n",
    "        subset = roh_df[roh_df[\"sample\"] == sample]\n",
    "        if not subset.empty:\n",
    "            ax[0].barh(subset[\"sample\"], subset[\"length\"], left=subset[\"start\"], color=color)\n",
    "        else:\n",
    "            print(\"Sample \" + sample + \" has no ROHs.\")\n",
    "\n",
    "# Draw groups on horizontal bar plot by color.\n",
    "barh_group(sample_groups[\"descendants\"], \"orange\")\n",
    "barh_group(sample_groups[\"founders\"], \"teal\")\n",
    "\n",
    "#plt.gca().invert_yaxis()  # Makes samples be inserted from top\n",
    "ax[0].set_xlabel(\"Position along chromosome\")\n",
    "ax[0].set_xlim(1, chrom_length)\n",
    "\n",
    "# Subplot 2\n",
    "subset_df = roh_df[roh_df[\"sample\"].isin(all_samples)]\n",
    "bins = np.linspace(0, chrom_length, num=num_of_bins + 1)\n",
    "bin_width = chrom_length/(num_of_bins)\n",
    "ax[1].hist(subset_df[\"start\"], bins=bins)\n",
    "ax[1].set_xlabel(\"Position along chromosome\")\n",
    "ax[1].set_ylabel(\"Counts\")\n",
    "ax[1].set_xlim(1, chrom_length)\n",
    "\n",
    "#plt.gca().invert_yaxis()  # Makes samples be inserted from top\n",
    "\n",
    "# # Create counts for bins\n",
    "# for bin_start, bin_end in zip(bins[:-1], bins[1:]):\n",
    "#     for sample in descendants:\n",
    "#         sample_roh = roh_df[roh_df[\"sample\"] == sample]\n",
    "#         for row in sample_roh[\"roh\"]:\n",
    "#             pass"
   ]
  },
  {
   "cell_type": "code",
   "execution_count": null,
   "metadata": {},
   "outputs": [],
   "source": [
    "froh_df.froh.mean()"
   ]
  }
 ],
 "metadata": {
  "kernelspec": {
   "display_name": "Python 3",
   "language": "python",
   "name": "python3"
  },
  "language_info": {
   "codemirror_mode": {
    "name": "ipython",
    "version": 3
   },
   "file_extension": ".py",
   "mimetype": "text/x-python",
   "name": "python",
   "nbconvert_exporter": "python",
   "pygments_lexer": "ipython3",
   "version": "3.11.0"
  },
  "orig_nbformat": 4,
  "vscode": {
   "interpreter": {
    "hash": "de4a875ba73fa07c7c0f7a1dd2e6901433a766d080dc9d908c0725e19addd1ed"
   }
  }
 },
 "nbformat": 4,
 "nbformat_minor": 2
}
