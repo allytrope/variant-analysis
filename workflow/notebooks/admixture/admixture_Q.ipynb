{
 "cells": [
  {
   "cell_type": "code",
   "execution_count": 102,
   "metadata": {},
   "outputs": [],
   "source": [
    "import altair as alt\n",
    "from altair import datum\n",
    "import polars as pl\n",
    "\n",
    "# Second attempt at pulling info from .Q file\n",
    "\n",
    "# Specify which tool is being used\n",
    "#tool = \"RFMix\"\n",
    "tool = \"ADMIXTURE\"\n",
    "\n",
    "# For when RFMix is used per chromosome\n",
    "if tool == \"RFMix\":\n",
    "    chromosomes = [\"1\", \"2\", \"3\", \"4\", \"5\", \"6\", \"7\", \"8\", \"9\", \"10\", \"11\", \"12\", \"13\", \"14\", \"15\", \"16\", \"17\", \"18\", \"19\", \"20\"]\n",
    "    chromosome_lengths = [223_616_942, 196_197_964, 185_288_947, 169_963_040, 187_317_192, 179_085_566, 169_868_564, 145_679_320, 134_124_166, 99_517_758, 133_066_086, 130_043_856, 108_737_130, 128_056_306, 113_283_604, 79_627_064, 95_433_459, 74_474_043, 58_315_233, 77_137_495]  # For Mmul_10\n",
    "\n",
    "    Qs = []\n",
    "    for idx, chrom in enumerate(chromosomes):\n",
    "        #Q_file = f\"/master/abagwell/variant-analysis/results/rhesus/admixture/SHAPEIT5_merged/U42_WGS_WES.RFMix.chr{chrom}.rfmix.Q\"\n",
    "        Q_file = f\"/master/abagwell/variant-analysis/results/rhesus/admixture/RFMix/U42_WES.RFMix.chr{chrom}.rfmix.Q\"\n",
    "        Q = pl.read_csv(Q_file, separator=\"\\t\", comment_prefix=\"#\", has_header=False, new_columns=[\"Indiv\", \"Chinese\", \"Indian\"], schema_overrides=[pl.String, pl.Float32, pl.Float32]).with_columns(\n",
    "            pl.col(\"Chinese\").mul(chromosome_lengths[idx]),\n",
    "            pl.col(\"Indian\").mul(chromosome_lengths[idx]),\n",
    "            chrom = pl.lit(chrom),\n",
    "        )\n",
    "        Qs.append(Q)\n",
    "    admixture = pl.concat(Qs\n",
    "        # Change to fraction to length\n",
    "    ).group_by(\n",
    "        # Merge chromosomes\n",
    "        \"Indiv\"\n",
    "    ).agg(pl.sum(\"Chinese\"), pl.sum(\"Indian\")).with_columns(\n",
    "        # Change lengths back to fractions\n",
    "        pl.col(\"Chinese\").truediv(sum(chromosome_lengths)),\n",
    "        pl.col(\"Indian\").truediv(sum(chromosome_lengths)),\n",
    "    ).sort(\"Indiv\")\n",
    "# For when ADMIXTURE is used from one file (not split by chromosome)\n",
    "elif tool == \"ADMIXTURE\":\n",
    "    Q_file = \"/master/abagwell/variant-analysis/results/rhesus/admixture/ADMIXTURE/supervised/U42_WES.all2_Indian-Chinese_merged.SNP.autosomal.2.Q\"\n",
    "    #Q_file = \"/master/abagwell/variant-analysis/results/rhesus/admixture/ADMIXTURE/supervised/U42_WES.all2.SNP.autosomal.3.Q\"\n",
    "    # Make sure to verified whether the \"new_columns\" are in the correct order on subsequent runs\n",
    "    Q = pl.read_csv(Q_file, separator=\" \", has_header=False, new_columns=[\"Indian\", \"Chinese\"])\n",
    "\n",
    "    fam = pl.read_csv(\"/master/abagwell/variant-analysis/results/rhesus/genotypes/pruned/plink/U42_WES.all2_Indian-Chinese_merged.SNP.autosomal.fam\",\n",
    "    #fam = pl.read_csv(\"/master/abagwell/variant-analysis/results/rhesus/genotypes/pruned/plink/U42_WES.all2.SNP.autosomal.fam\",\n",
    "    has_header=False, separator=\" \", schema_overrides={\"Indiv\": pl.String, \"Sire\": pl.String, \"Dam\": pl.String}, new_columns=[\"Fam\", \"Indiv\", \"Sire\", \"Dam\", \"Sex\", \"Phenotype\"])\n",
    "\n",
    "    # Join tables\n",
    "    admixture = pl.concat([fam.select(\"Indiv\"), Q], how=\"horizontal\")\n",
    "\n",
    "    # Name columns"
   ]
  },
  {
   "cell_type": "code",
   "execution_count": 117,
   "metadata": {},
   "outputs": [],
   "source": [
    "# Remove individuals that are descended from 7893\n",
    "admixture.write_csv(\"/master/abagwell/variant-analysis/results/rhesus/admixture/ADMIXTURE/supervised/U42_WES.all2_Indian-Chinese_merged.SNP.autosomal.2.Q.tsv\", separator=\"\\t\")"
   ]
  },
  {
   "cell_type": "code",
   "execution_count": 104,
   "metadata": {},
   "outputs": [],
   "source": [
    "# admixture = admixture.group_by(\n",
    "#     # Average ploidy\n",
    "#     \"Indiv\", maintain_order=True\n",
    "# ).agg(pl.last(\"Chinese\"), pl.last(\"Indian\"))\n",
    "# # .sort(\"indiv\", \"seq\").group_by(\n",
    "# #     # Keep one of each animal\n",
    "# #     \"indiv\", \"contig_id\", \"variant_position\", maintain_order=True).agg(pl.last(\"seq\"), pl.last(\"call_genotype\")\n",
    "# # )"
   ]
  },
  {
   "cell_type": "code",
   "execution_count": 105,
   "metadata": {},
   "outputs": [],
   "source": [
    "# admixture = pl.concat(Qs\n",
    "#     # Change to fraction to length\n",
    "# ).group_by(\n",
    "#     # Merge chromosomes\n",
    "#     \"sample\"\n",
    "# ).agg(pl.sum(\"Chinese\"), pl.sum(\"Indian\")).with_columns(\n",
    "#     # Change lengths back to fractions\n",
    "#     pl.col(\"Chinese\").truediv(sum(chromosome_lengths)),\n",
    "#     pl.col(\"Indian\").truediv(sum(chromosome_lengths)),\n",
    "# ).sort(\"sample\").group_by(\n",
    "#     # Average ploidy\n",
    "#     \"sample\", maintain_order=True\n",
    "# ).agg(pl.last(\"Chinese\"), pl.last(\"Indian\"))\n",
    "# # .sort(\"indiv\", \"seq\").group_by(\n",
    "# #     # Keep one of each animal\n",
    "# #     \"indiv\", \"contig_id\", \"variant_position\", maintain_order=True).agg(pl.last(\"seq\"), pl.last(\"call_genotype\")\n",
    "# # )"
   ]
  },
  {
   "cell_type": "code",
   "execution_count": 106,
   "metadata": {},
   "outputs": [],
   "source": [
    "# For when sample names have seq prefixed\n",
    "\n",
    "# admixture = pl.concat(Qs\n",
    "# ).filter(\n",
    "#     pl.col(\"sample\").str.starts_with(\"W\")\n",
    "# ).with_columns(\n",
    "#     # Pull out animal id\n",
    "#     seq = pl.col(\"sample\").str.slice(0, 3),# .cast(pl.Enum(seq_order)).alias(\"seq\"),\n",
    "#     indiv = pl.col(\"sample\").str.slice(3).str.split(\"_\").list.get(0),\n",
    "#     # Change to fraction to length\n",
    "# ).group_by(\n",
    "#     # Merge chromosomes\n",
    "#     \"sample\", \"seq\", \"indiv\"\n",
    "# ).agg(pl.sum(\"Chinese\"), pl.sum(\"Indian\")).with_columns(\n",
    "#     # Change lengths back to fractions\n",
    "#     pl.col(\"Chinese\").truediv(sum(chromosome_lengths)),\n",
    "#     pl.col(\"Indian\").truediv(sum(chromosome_lengths)),\n",
    "# ).sort(\"indiv\", \"seq\").group_by(\n",
    "#     # Average ploidy\n",
    "#     \"indiv\", maintain_order=True\n",
    "# ).agg(pl.last(\"Chinese\"), pl.last(\"Indian\"))\n",
    "# # .sort(\"indiv\", \"seq\").group_by(\n",
    "# #     # Keep one of each animal\n",
    "# #     \"indiv\", \"contig_id\", \"variant_position\", maintain_order=True).agg(pl.last(\"seq\"), pl.last(\"call_genotype\")\n",
    "# # )"
   ]
  },
  {
   "cell_type": "code",
   "execution_count": 107,
   "metadata": {},
   "outputs": [],
   "source": [
    "# Add birthdates\n",
    "demographics_file = \"/master/abagwell/variant-analysis/resources/rhesus/pedigree/Demographics_2024-04-17_10-28-20.tsv\"\n",
    "\n",
    "demographics = pl.read_csv(demographics_file, separator=\"\\t\", infer_schema_length=None, columns=[\"Id\", \"Date of Birth\"]).with_columns( # Change str to date type\n",
    "    pl.col(\"Date of Birth\").str.to_date(\"%m-%d-%Y\").dt.round(\"1y\"),\n",
    "    #pl.col(\"Date of Death\").str.to_date(\"%m-%d-%Y\"),\n",
    ")\n",
    "\n",
    "#dated_admixture = admixture.join(demographics, left_on=\"indiv\", right_on=\"Id\")\n",
    "dated_admixture = admixture.join(demographics, left_on=\"Indiv\", right_on=\"Id\")"
   ]
  },
  {
   "cell_type": "code",
   "execution_count": null,
   "metadata": {},
   "outputs": [],
   "source": [
    "#dated_admixture.filter(pl.col(\"indiv\").str.contains(\"X\"))\n",
    "dated_admixture.filter(pl.col(\"Indiv\").str.contains(\"X\"))"
   ]
  },
  {
   "cell_type": "code",
   "execution_count": 109,
   "metadata": {},
   "outputs": [],
   "source": [
    "#dated_admixture.write_csv(\"/master/abagwell/figures/admixture/admixture.tsv\", separator='\\t')"
   ]
  },
  {
   "cell_type": "code",
   "execution_count": null,
   "metadata": {},
   "outputs": [],
   "source": [
    "dated_admixture"
   ]
  },
  {
   "cell_type": "code",
   "execution_count": null,
   "metadata": {},
   "outputs": [],
   "source": [
    "# Plot dotplot\n",
    "\n",
    "# Technically, this plot's birth years are rounded to the nearest year\n",
    "base = alt.Chart(dated_admixture)\n",
    "\n",
    "plot = base.mark_point(width=10, shape=\"circle\", strokeWidth=2, size=75).encode(  # mark_boxplot\n",
    "    alt.X(\"Date of Birth\", title=\"Birth Year\"),  #scale=alt.Scale(domain=[1984, 2024])\n",
    "    alt.Y(\"Chinese\"),\n",
    "    tooltip=[\n",
    "        alt.Tooltip(\"Indiv\")\n",
    "    ]\n",
    ").properties(\n",
    "    title=\"Chinese Admixture in Rhesus\",\n",
    "    width=500,\n",
    ")\n",
    "\n",
    "text = plot.mark_text(\n",
    "    align='left',\n",
    "    baseline='middle',\n",
    "    dx=7\n",
    ").encode(\n",
    "    text='Indiv'\n",
    ").transform_filter(\n",
    "    datum.Chinese >= 0.18\n",
    ")\n",
    "\n",
    "plot# + text\n",
    "#plot.save(\"/master/abagwell/figures/WES_ancestry/WES.admixutre.dotplot.html\")\n",
    "#plot.save(\"/master/abagwell/figures/WES_ancestry/WES.admixutre.dotplot.svg\")\n"
   ]
  },
  {
   "cell_type": "code",
   "execution_count": null,
   "metadata": {},
   "outputs": [],
   "source": [
    "# Plot boxplot\n",
    "\n",
    "boxplot = alt.Chart(dated_admixture).mark_boxplot().encode(  # mark_boxplot\n",
    "    alt.X(\"Date of Birth\", title=\"Birth Year\"),\n",
    "    alt.Y(\"Chinese\", title=\"Chinese Fraction\"),\n",
    ").properties(\n",
    "    title=[\"Chinese Admixture in Rhesus\"],\n",
    "    width=600,\n",
    ")\n",
    "\n",
    "boxplot\n",
    "\n",
    "#boxplot.save(\"/master/abagwell/figures/WES_ancestry/WES.admixutre.boxplot.html\")\n",
    "#boxplot.save(\"/master/abagwell/figures/WES_ancestry/WES.admixutre.boxplot.svg\")"
   ]
  },
  {
   "cell_type": "code",
   "execution_count": null,
   "metadata": {},
   "outputs": [],
   "source": [
    "dated_admixture.with_columns(\n",
    "    floor = pl.col(\"Chinese\").mul(10).floor().truediv(10).cast(pl.String).str.slice(0, 3),\n",
    "    ceil = pl.col(\"Chinese\").mul(10).ceil().truediv(10).cast(pl.String).str.slice(0, 3),\n",
    ").with_columns(\n",
    "    range = pl.concat_str([\n",
    "        pl.col('floor'),\n",
    "        pl.lit(' - '),\n",
    "        pl.col('ceil'),\n",
    "    ])\n",
    ").group_by(\n",
    "    'Date of Birth'\n",
    ").agg('Indiv', 'range', pl.count()).explode(\"Indiv\", 'range')"
   ]
  },
  {
   "cell_type": "code",
   "execution_count": null,
   "metadata": {},
   "outputs": [],
   "source": [
    "# Plot stacked bar plot\n",
    "# Toggle on the `alt.Y` lines to switch whether or not the bars are stacked by proportion\n",
    "\n",
    "stacked_barplot = alt.Chart(\n",
    "    dated_admixture.with_columns(\n",
    "        floor = pl.col(\"Chinese\").mul(10).floor().truediv(10).cast(pl.String).str.slice(0, 3),\n",
    "        ceil = pl.col(\"Chinese\").mul(10).ceil().truediv(10).cast(pl.String).str.slice(0, 3),\n",
    "    ).with_columns(\n",
    "        range = pl.concat_str([\n",
    "            pl.col('floor'),\n",
    "            pl.lit(' - '),\n",
    "            pl.col('ceil'),\n",
    "        ])\n",
    "    )\n",
    ").mark_bar(width=10).encode(  # mark_boxplot\n",
    "    alt.X(\"Date of Birth\", title=\"Birth Year\"),\n",
    "    #alt.Y(\"count()\", title=\"Percentage of Animals\").stack(\"normalize\"),\n",
    "    alt.Y(\"count()\", title=\"Number of Animals\"),\n",
    "    color=alt.Color(\"range:N\", title=\"Chinese Ancestry\").scale(scheme=\"lightmulti\") #sort=[0.0, 0.1, 0.2, 0.3, 0.4, 0.5, 0.6, 0.7, 0.8, 0.9, 1.0])\n",
    ").properties(\n",
    "    title=[\"Chinese Ancestry in Rhesus\"],\n",
    "    width=600,\n",
    ")\n",
    "\n",
    "stacked_barplot#.save(\"/master/abagwell/figures/admixture/U42_WES/U42_WES.all2_Indian-Chinese_merged.stacked_barplot.html\")\n",
    "\n",
    "# By proportion"
   ]
  },
  {
   "cell_type": "code",
   "execution_count": null,
   "metadata": {},
   "outputs": [],
   "source": [
    "colonies_file = \"/master/abagwell/variant-analysis/resources/rhesus/pop/MML_groups_from_Martha.fixed4.tsv\"\n",
    "colonies = pl.read_csv(colonies_file, separator=\"\\t\", infer_schema_length=None)#.join(dates, on=\"Id\", how=\"left\")\n",
    "\n",
    "\n",
    "joined = dated_admixture.join(colonies, how=\"left\", left_on=\"Indiv\", right_on=\"Id\").filter(\n",
    "    ~pl.col(\"Interval\").is_null()\n",
    ")#.drop(\"tag\")"
   ]
  },
  {
   "cell_type": "code",
   "execution_count": null,
   "metadata": {},
   "outputs": [],
   "source": [
    "grouped_boxplot = alt.Chart(joined).mark_boxplot().encode(  # mark_boxplot\n",
    "    alt.X(\"Interval:N\", title=\"Cohort\",\n",
    "        sort=['Founders', 'pre-2003', '2003-2005', '2006-2008', '2009-2011', '2012-2014', '2015-2017', '2018-2020', 'Founders2', 'Merged']),\n",
    "    #alt.X(\"Date of Birth\"),\n",
    "    alt.Y(\"Chinese\", title=\"Chinese Admixture\"),\n",
    "    color=alt.Color(\"Colony:N\", title=\"Cohort\"),\n",
    ").properties(\n",
    "    title=[\"Chinese Admixture in Rhesus\"],\n",
    "    #width=500,\n",
    ")\n",
    "\n",
    "\n",
    "grouped_boxplot#.save(\"/master/abagwell/figures/admixture/U42_WES/U42_WES.all2_Indian-Chinese_merged.grouped_barplot.html\")\n",
    "\n",
    "#grouped_boxplot.save(\"/master/abagwell/figures/WES_ancestry/WES.admixutre.grouped_boxplot.html\")\n",
    "#grouped_boxplot.save(\"/master/abagwell/figures/WES_ancestry/WES.admixutre.grouped_boxplot.svg\")"
   ]
  },
  {
   "cell_type": "code",
   "execution_count": null,
   "metadata": {},
   "outputs": [],
   "source": []
  }
 ],
 "metadata": {
  "kernelspec": {
   "display_name": "Python 3",
   "language": "python",
   "name": "python3"
  },
  "language_info": {
   "codemirror_mode": {
    "name": "ipython",
    "version": 3
   },
   "file_extension": ".py",
   "mimetype": "text/x-python",
   "name": "python",
   "nbconvert_exporter": "python",
   "pygments_lexer": "ipython3",
   "version": "3.12.4"
  }
 },
 "nbformat": 4,
 "nbformat_minor": 2
}
