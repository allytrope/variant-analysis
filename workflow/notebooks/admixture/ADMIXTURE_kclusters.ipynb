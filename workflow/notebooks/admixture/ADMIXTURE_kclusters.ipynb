{
 "cells": [
  {
   "cell_type": "code",
   "execution_count": null,
   "metadata": {},
   "outputs": [],
   "source": [
    "## Plotting cv of cluster sizes. Smaller number mean that it better reflects the number of ancestral populations.\n",
    "\n",
    "import altair as alt\n",
    "import polars as pl\n",
    "\n",
    "data = pl.from_dict({\n",
    "    'k': [1, 2, 3, 4, 5],\n",
    "    'CV Error': [0.25675, 0.24914, 0.24741, 0.24749, 0.24837],\n",
    "})\n",
    "\n",
    "\n",
    "lineplot = alt.Chart(data).mark_line(color=\"orange\").encode(\n",
    "    alt.X('k:O'),\n",
    "    alt.Y('CV Error').scale(domain=[0.24, 0.26]),\n",
    ")\n",
    "dotplot = alt.Chart(data).mark_circle(color=\"black\").encode(\n",
    "    alt.X('k:O'),\n",
    "    alt.Y('CV Error').scale(domain=[0.24, 0.26]),\n",
    "    tooltip=[\n",
    "        alt.Tooltip('CV Error')\n",
    "    ]\n",
    ")\n",
    "\n",
    "(lineplot + dotplot).properties(\n",
    "    height= 60,\n",
    "    #width=80,\n",
    "    title= [\"Cross-validation\", \"Error Across k-Clusters\"],\n",
    ")#.save(\"/master/abagwell/figures/admixture/U42_WES.founders2.cv_error.unsupervised.html\")"
   ]
  },
  {
   "cell_type": "code",
   "execution_count": null,
   "metadata": {},
   "outputs": [],
   "source": []
  }
 ],
 "metadata": {
  "kernelspec": {
   "display_name": "Python 3",
   "language": "python",
   "name": "python3"
  },
  "language_info": {
   "codemirror_mode": {
    "name": "ipython",
    "version": 3
   },
   "file_extension": ".py",
   "mimetype": "text/x-python",
   "name": "python",
   "nbconvert_exporter": "python",
   "pygments_lexer": "ipython3",
   "version": "3.12.4"
  }
 },
 "nbformat": 4,
 "nbformat_minor": 2
}
