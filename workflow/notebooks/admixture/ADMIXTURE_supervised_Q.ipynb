{
 "cells": [
  {
   "cell_type": "code",
   "execution_count": 1,
   "metadata": {},
   "outputs": [],
   "source": [
    "import altair as alt\n",
    "import polars as pl\n",
    "\n",
    "# Change the k value to run for different k-clusters\n",
    "# Run first with the ideal value of k before others. That way, the sorting of the others will align with that of the ideal k\n",
    "\n",
    "#partitioned_by = \"Origin\"\n",
    "partitioned_by = \"Interval\"\n",
    "#file_prefix = \"U42_WES.all2_Indian-Chinese_merged.SNP.autosomal\"\n",
    "file_prefix = \"U42_WES.all2.SNP.autosomal\"\n",
    "\n",
    "# For Indian vs. Chinese supervised admixture\n",
    "Q_file = \"/master/abagwell/variant-analysis/results/rhesus/admixture/ADMIXTURE/supervised/U42_WES.all2_Indian-Chinese_merged.SNP.autosomal.Q\"\n",
    "fam_file = \"/master/abagwell/variant-analysis/results/rhesus/genotypes/pruned/plink/U42_WES.all2.SNP.autosomal.fam\"\n",
    "\n",
    "# For projection\n",
    "#Q_file = \"/master/abagwell/variant-analysis/results/rhesus/admixture/ADMIXTURE/projection/U42_WES.all2_founders2_pruned_subset.SNP.autosomal.3.Q\"\n",
    "#fam_file = \"/master/abagwell/variant-analysis/results/rhesus/genotypes/subset/plink/U42_WES.all2_founders2_pruned_subset.SNP.autosomal.fam\"\n",
    "\n",
    "\n",
    "\n",
    "\n",
    "Q = pl.read_csv(\n",
    "    Q_file,\n",
    "    #f\"/master/abagwell/variant-analysis/results/rhesus/admixture/ADMIXTURE/supervised/{file_prefix}.Q\",\n",
    "    #\"/master/abagwell/variant-analysis/results/rhesus/admixture/ADMIXTURE/projection/U42_WES.all2_founders2_pruned_subset.SNP.autosomal.3.Q\",\n",
    "    #f\"{file_prefix}.Q\",\n",
    "    has_header=False, separator=\" \")\n",
    "\n",
    "fam = pl.read_csv(\n",
    "    fam_file,\n",
    "    #f\"/master/abagwell/variant-analysis/results/rhesus/genotypes/pruned/plink/{file_prefix}.fam\",\n",
    "    #\"/master/abagwell/variant-analysis/results/rhesus/genotypes/subset/plink/U42_WES.all2_founders2_pruned_subset.SNP.autosomal.fam\",\n",
    "    has_header=False, separator=\" \", schema_overrides={\"Indiv\": pl.String, \"Sire\": pl.String, \"Dam\": pl.String}, new_columns=[\"Fam\", \"Indiv\", \"Sire\", \"Dam\", \"Sex\", \"Phenotype\"])\n",
    "\n",
    "demographics = pl.read_csv(\"/master/abagwell/variant-analysis/resources/rhesus/pedigree/Demographics_2024-04-17_10-28-20.tsv\",\n",
    "    has_header=True, separator=\"\\t\", schema_overrides={\"Id\": pl.String, \"Sire\": pl.String, \"Dam\": pl.String},\n",
    ").with_columns(\n",
    "    pl.col(\"Date of Birth\").str.to_date(\"%m-%d-%Y\")\n",
    ").select(\"Id\", \"Date of Birth\")\n",
    "\n",
    "colonies = pl.read_csv(\"/master/abagwell/variant-analysis/resources/rhesus/pop/founder_origins.tsv\",\n",
    "    has_header=True, separator=\"\\t\", infer_schema_length=1_000\n",
    ")"
   ]
  },
  {
   "cell_type": "code",
   "execution_count": null,
   "metadata": {},
   "outputs": [],
   "source": [
    "k = Q.width\n",
    "\n",
    "concat_data = pl.concat([fam.select(\"Indiv\"), Q], how=\"horizontal\")\n",
    "\n",
    "data = concat_data.with_columns(\n",
    "    admixture = pl.concat_list(pl.exclude('Indiv'))\n",
    ").with_columns(\n",
    "    pops=[f\"pop{k}\" for k in range(1, k+1)]\n",
    "    #pops=[\"Early founders\", \"Brooks source\", \"NEPRC source\"]\n",
    ").explode(\"admixture\", \"pops\"\n",
    ").join(demographics, left_on=\"Indiv\", right_on=\"Id\").select(\"Indiv\", \"admixture\", \"pops\", \"Date of Birth\"\n",
    ").join(colonies, left_on=\"Indiv\", right_on=\"Indiv\", how=\"left\", \n",
    ").with_columns(\n",
    "    pl.col(\"Origin\").fill_null(\"Other\")\n",
    ")\n",
    "# .filter(\n",
    "#     # Take out reference animals\n",
    "#     pl.col(\"Origin\") == \"Other\"\n",
    "# )\n",
    "\n",
    "\n",
    "#        .with_columns(\n",
    "#     # Remove non-numeric parts of animal names\"\n",
    "#     pl.col(\"Indiv\").str.replace(\"8X\", \"\").str.to_integer()\n",
    "# )"
   ]
  },
  {
   "cell_type": "code",
   "execution_count": null,
   "metadata": {},
   "outputs": [],
   "source": [
    "data"
   ]
  },
  {
   "cell_type": "code",
   "execution_count": null,
   "metadata": {},
   "outputs": [],
   "source": [
    "sample_order = concat_data.sort([f\"column_{k}\" for k in range(1, k+1)]).with_row_index(\"sample_order\")\n",
    "\n",
    "#sample_order = concat_data.sort(\"column_1\", \"column_2\", \"column_3\").with_row_index(\"sample_order\")\n",
    "#sample_order = concat_data.sort(\"column_1\", \"column_2\").with_row_index(\"sample_order\")\n",
    "\n",
    "sample_order"
   ]
  },
  {
   "cell_type": "code",
   "execution_count": 5,
   "metadata": {},
   "outputs": [],
   "source": [
    "# Add predefined year intervals.\n",
    "# TODO: Generalize this so that I don't have to pull from the file and just interpret them from dates of birth\n",
    "year_intervals_file = \"/master/abagwell/variant-analysis/resources/rhesus/pop/MML_groups_from_Martha.fixed6.tsv\"\n",
    "year_intervals = pl.read_csv(year_intervals_file, separator=\"\\t\", columns=[\"Id\", \"Interval\"], infer_schema_length=None, schema_overrides={\n",
    "    \"Id\": pl.String\n",
    "})"
   ]
  },
  {
   "cell_type": "code",
   "execution_count": 6,
   "metadata": {},
   "outputs": [],
   "source": [
    "data = data.join(year_intervals, left_on=\"Indiv\", right_on=\"Id\")"
   ]
  },
  {
   "cell_type": "code",
   "execution_count": null,
   "metadata": {},
   "outputs": [],
   "source": [
    "data"
   ]
  },
  {
   "cell_type": "code",
   "execution_count": 8,
   "metadata": {},
   "outputs": [],
   "source": [
    "data.filter(\n",
    "    pl.col(\"pops\") == \"pop1\"\n",
    ").select(\"Indiv\", \"admixture\", \"Date of Birth\", \"Interval\").sort(\"Indiv\").write_csv(\"/master/abagwell/figures/admixture/Indian_admixture.tsv\", separator='\\t')"
   ]
  },
  {
   "cell_type": "code",
   "execution_count": null,
   "metadata": {},
   "outputs": [],
   "source": [
    "if partitioned_by == \"Origin\":\n",
    "    # This tries to order samples to be the same as the unsupervised run\n",
    "    sample_order = pl.read_csv(\"/master/abagwell/variant-analysis/results/rhesus/admixture/ADMIXTURE/unsupervised/unsupervised_order.tsv\",\n",
    "        schema_overrides={\"Indiv\": pl.String}, separator=\"\\t\")\n",
    "\n",
    "    # Manual reordering to make look like unsupervised plot\n",
    "    data = data.join(sample_order, on=\"Indiv\", how=\"left\").sort(\"index\")\n",
    "    partitions = data.partition_by(partitioned_by)\n",
    "\n",
    "    # This tries to put in the order [\"Early founders\", \"Brooks source\", \"NEPRC source\"] and optionally with \"Other\"\n",
    "    #partitions = [partitions[3], partitions[2], partitions[1], partitions[0]]\n",
    "    \n",
    "\n",
    "    # Optional reordering\n",
    "    #partitions = [partitions[3], partitions[2], partitions[1]]\n",
    "\n",
    "#partitions.sort(key=lambda x: x[0].)\n",
    "elif partitioned_by == \"Interval\":\n",
    "    # Sort samples based on first pop\n",
    "    # sample_order = data.filter(\n",
    "    #     pl.col(\"pops\") == \"Early founders\"\n",
    "    # ).sort(\"admixture\").with_row_index().select(\"index\", \"Indiv\")\n",
    "\n",
    "    # # Remove reference samples\n",
    "    # data.filter(\n",
    "    #     ~(pl.col(\"Interval\") == \"Early founders\")\n",
    "    # )\n",
    "\n",
    "    # Sort subplots\n",
    "    data = data.join(sample_order, on=\"Indiv\", how=\"left\").with_columns(\n",
    "        pl.col(partitioned_by).cast(pl.Enum(['Early founders', 'Brooks source', 'pre-2003', '2003-2005', '2006-2008', '2009-2011', '2012-2014', '2015-2017', '2018-2020', 'NEPRC source', 'Offspring of merger'])),\n",
    "    ).sort(partitioned_by)# Rename pops\n",
    "\n",
    "    partitions = data.partition_by(partitioned_by, maintain_order=True)"
   ]
  },
  {
   "cell_type": "code",
   "execution_count": null,
   "metadata": {},
   "outputs": [],
   "source": []
  },
  {
   "cell_type": "code",
   "execution_count": 10,
   "metadata": {},
   "outputs": [],
   "source": [
    "partition_names = [partition[partitioned_by][0] for partition in partitions if partition[partitioned_by][0] != None]"
   ]
  },
  {
   "cell_type": "code",
   "execution_count": null,
   "metadata": {},
   "outputs": [],
   "source": [
    "data.columns"
   ]
  },
  {
   "cell_type": "code",
   "execution_count": 12,
   "metadata": {},
   "outputs": [],
   "source": [
    "subplots = []\n",
    "\n",
    "for idx, partition in enumerate(partitions):\n",
    "    if idx == 0:\n",
    "        axis = alt.Axis()\n",
    "    else:\n",
    "        axis = alt.Axis(labels=False, title=None, ticks=False)\n",
    "    subplot = alt.Chart(partition).mark_bar(width=19).encode(\n",
    "        alt.X(\"Indiv:N\", title=\"Animals\", axis=alt.Axis(labels=False, ticks=False, title=None),\n",
    "              sort=alt.EncodingSortField(field='sample_order', order='ascending')),\n",
    "        alt.Y(\"admixture:Q\", title=f\"Admixture\", axis=axis).scale(domain=[0,1]), #f\"k={k}\"\n",
    "        #alt.Column(\"Origin:N\"),\n",
    "        color=alt.Color(\"pops:N\", title=\"Population\"), #legend=None),\n",
    "        tooltip=\"Indiv\",\n",
    "        # tooltip=[\n",
    "        #     #alt.Tooltip(\"Indiv\", \"Indiv\"),\n",
    "        #     alt.Tooltip(\"pops\", title=\"Pop\")\n",
    "        # ],\n",
    "    ).properties(\n",
    "        title=partition_names[idx]\n",
    "    )\n",
    "    subplots.append(subplot)"
   ]
  },
  {
   "cell_type": "code",
   "execution_count": null,
   "metadata": {},
   "outputs": [],
   "source": [
    "alt.hconcat(*subplots).configure_range(\n",
    "        category={'scheme': 'category10'}\n",
    ").properties(\n",
    "    #title=f\"Supervised Admixture\"\n",
    ").configure_title(\n",
    "    anchor=\"middle\"\n",
    ")#.save(f\"/master/abagwell/figures/admixture/U42_WES/U42_WES.all2_Indian-Chinese_merged2.admixture.barplot.{k}.html\")\n",
    "#.save(f\"/master/abagwell/figures/admixture/U42_WES/U42_WES.all2.admixture2.barplot.html\")"
   ]
  },
  {
   "cell_type": "code",
   "execution_count": null,
   "metadata": {},
   "outputs": [],
   "source": []
  }
 ],
 "metadata": {
  "kernelspec": {
   "display_name": "Python 3",
   "language": "python",
   "name": "python3"
  },
  "language_info": {
   "codemirror_mode": {
    "name": "ipython",
    "version": 3
   },
   "file_extension": ".py",
   "mimetype": "text/x-python",
   "name": "python",
   "nbconvert_exporter": "python",
   "pygments_lexer": "ipython3",
   "version": "3.12.4"
  }
 },
 "nbformat": 4,
 "nbformat_minor": 2
}
