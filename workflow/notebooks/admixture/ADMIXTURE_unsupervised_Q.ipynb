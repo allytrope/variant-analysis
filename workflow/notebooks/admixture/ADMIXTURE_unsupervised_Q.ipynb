{
 "cells": [
  {
   "cell_type": "code",
   "execution_count": 1,
   "metadata": {},
   "outputs": [],
   "source": [
    "import altair as alt\n",
    "import polars as pl\n",
    "\n",
    "# Change the k value to run for different k-clusters\n",
    "# Run first with the ideal value of k before others. That way, the sorting of the others will align with that of the ideal k\n",
    "k = 3\n",
    "\n",
    "Q = pl.read_csv(\n",
    "    f\"/master/abagwell/variant-analysis/results/rhesus/admixture/ADMIXTURE/unsupervised/U42_WES.founders2.SNP.autosomal.{k}.Q\",\n",
    "    has_header=False, separator=\" \")\n",
    "\n",
    "fam = pl.read_csv(\"/master/abagwell/variant-analysis/results/rhesus/genotypes/pruned/plink/U42_WES.founders2.SNP.autosomal.fam\",\n",
    "    has_header=False, separator=\" \", schema_overrides={\"Indiv\": pl.String, \"Sire\": pl.String, \"Dam\": pl.String}, new_columns=[\"Fam\", \"Indiv\", \"Sire\", \"Dam\", \"Sex\", \"Phenotype\"])\n",
    "\n",
    "demographics = pl.read_csv(\"/master/abagwell/variant-analysis/resources/rhesus/pedigree/Demographics_2024-04-17_10-28-20.tsv\",\n",
    "    has_header=True, separator=\"\\t\", schema_overrides={\"Id\": pl.String, \"Sire\": pl.String, \"Dam\": pl.String},\n",
    ").with_columns(\n",
    "    pl.col(\"Date of Birth\").str.to_date(\"%m-%d-%Y\")\n",
    ").select(\"Id\", \"Date of Birth\")\n",
    "\n",
    "colonies = pl.read_csv(\"/master/abagwell/variant-analysis/resources/rhesus/pop/MML_groups_from_Martha.fixed4.with_Brooks_origin.tsv\",\n",
    "    has_header=True, separator=\"\\t\", infer_schema_length=1_000\n",
    ").filter(\n",
    "    pl.col(\"Interval\").is_in([\"Founders\", \"Founders2\"])\n",
    ").with_columns(\n",
    "    pl.concat_str([\n",
    "        pl.col(\"Origin\"),\n",
    "        pl.lit(\" Colony \"),\n",
    "        pl.col(\"Colony\"),\n",
    "    ])\n",
    ").select(\"Id\", \"Origin\")"
   ]
  },
  {
   "cell_type": "code",
   "execution_count": 2,
   "metadata": {},
   "outputs": [],
   "source": [
    "concat_data = pl.concat([fam.select(\"Indiv\"), Q], how=\"horizontal\")\n",
    "\n",
    "data = concat_data.with_columns(\n",
    "    admixture = pl.concat_list(pl.exclude('Indiv'))\n",
    ").with_columns(\n",
    "    pops=[f\"pop{k}\" for k in range(1, k+1)]\n",
    ").explode(\"admixture\", \"pops\"\n",
    ").join(demographics, left_on=\"Indiv\", right_on=\"Id\").select(\"Indiv\", \"admixture\", \"pops\", \"Date of Birth\"\n",
    ").join(colonies, left_on=\"Indiv\", right_on=\"Id\"\n",
    ")\n",
    "#        .with_columns(\n",
    "#     # Remove non-numeric parts of animal names\"\n",
    "#     pl.col(\"Indiv\").str.replace(\"8X\", \"\").str.to_integer()\n",
    "# )"
   ]
  },
  {
   "cell_type": "code",
   "execution_count": 3,
   "metadata": {},
   "outputs": [],
   "source": [
    "# For this particular dataset, k=3 has the lowest CV error, so all plots will use this ordering.\n",
    "# Note that this requires running for k=3 first before other values of k\n",
    "if k == 3:\n",
    "    sample_order = concat_data.sort([\"column_1\", \"column_3\", \"column_2\"], descending=True).with_row_index().select(\"Indiv\", \"index\")\n",
    "    # .with_columns(\n",
    "    #     # Remove non-numeric parts of animal names\"\n",
    "    #     pl.col(\"Indiv\").str.replace(\"8X\", \"\").str.to_integer()\n",
    "    # )\n",
    "    # # This is order is saved to a file for use with ADMXITURE_supervised_Q.ipynb\n",
    "    sample_order.write_csv(\"/master/abagwell/variant-analysis/results/rhesus/admixture/ADMIXTURE/unsupervised/unsupervised_order.tsv\", separator=\"\\t\")"
   ]
  },
  {
   "cell_type": "code",
   "execution_count": null,
   "metadata": {},
   "outputs": [],
   "source": [
    "sample_order"
   ]
  },
  {
   "cell_type": "code",
   "execution_count": 5,
   "metadata": {},
   "outputs": [],
   "source": [
    "# Join index to table\n",
    "data = data.join(sample_order, on=\"Indiv\")"
   ]
  },
  {
   "cell_type": "code",
   "execution_count": 6,
   "metadata": {},
   "outputs": [],
   "source": [
    "# Renaming origins. Probably should change the actual source file\n",
    "data = data.with_columns(\n",
    "    pl.col(\"Origin\"\n",
    "    ).str.replace(\"non-Brooks Colony 1\", \"Early founders\"\n",
    "    ).str.replace(\"Brooks Colony 1\", \"Brooks source\"\n",
    "    ).str.replace(\"non-Brooks Colony 2\", \"NEPRC source\")\n",
    ")"
   ]
  },
  {
   "cell_type": "code",
   "execution_count": 7,
   "metadata": {},
   "outputs": [],
   "source": [
    "partitions = data.partition_by(\"Origin\")"
   ]
  },
  {
   "cell_type": "code",
   "execution_count": 8,
   "metadata": {},
   "outputs": [],
   "source": [
    "subplots = []\n",
    "colonies = [partition[\"Origin\"][0] for partition in partitions]\n",
    "\n",
    "for idx, partition in enumerate(data.partition_by(\"Origin\")):\n",
    "    if idx == 0:\n",
    "        axis = alt.Axis()\n",
    "    else:\n",
    "        axis = alt.Axis(labels=False, title=None, ticks=False)\n",
    "    subplot = alt.Chart(partition).mark_bar(width=19).encode(\n",
    "        alt.X(\"Indiv:N\", title=\"Animals\", axis=alt.Axis(labels=False, ticks=False, title=None),\n",
    "              sort=alt.EncodingSortField(field='index', order='ascending')),\n",
    "        alt.Y(\"admixture:Q\", title=f\"k={k}\", axis=axis).scale(domain=[0,1]),\n",
    "        #alt.Column(\"Origin:N\"),\n",
    "        color=alt.Color(\"pops:N\", title=\"Population\", legend=None),\n",
    "        tooltip=\"Indiv\",\n",
    "        # tooltip=[\n",
    "        #     #alt.Tooltip(\"Indiv\", \"Indiv\"),\n",
    "        #     alt.Tooltip(\"pops\", title=\"Pop\")\n",
    "        # ],\n",
    "    ).properties(\n",
    "        title=colonies[idx]\n",
    "    )\n",
    "    subplots.append(subplot)"
   ]
  },
  {
   "cell_type": "code",
   "execution_count": null,
   "metadata": {},
   "outputs": [],
   "source": [
    "alt.hconcat(*subplots).configure_range(\n",
    "        category={'scheme': 'category10'}\n",
    ").properties(\n",
    "    #title=f\"Unsupervised Admixture of Rhesus Founders, k={k}\"\n",
    ").configure_title(\n",
    "    anchor=\"middle\"\n",
    ")#.save(f\"/master/abagwell/figures/admixture/U42_WES/U42_WES.founders2.admixture.barplot.{k}.html\")"
   ]
  }
 ],
 "metadata": {
  "kernelspec": {
   "display_name": "Python 3",
   "language": "python",
   "name": "python3"
  },
  "language_info": {
   "codemirror_mode": {
    "name": "ipython",
    "version": 3
   },
   "file_extension": ".py",
   "mimetype": "text/x-python",
   "name": "python",
   "nbconvert_exporter": "python",
   "pygments_lexer": "ipython3",
   "version": "3.12.4"
  }
 },
 "nbformat": 4,
 "nbformat_minor": 2
}
