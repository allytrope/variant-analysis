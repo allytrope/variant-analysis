{
 "cells": [
  {
   "cell_type": "code",
   "execution_count": null,
   "metadata": {},
   "outputs": [],
   "source": [
    "import altair as alt\n",
    "import pandas as pd\n",
    "import polars as pl\n",
    "\n",
    "from math import log10\n",
    "\n",
    "#file = \"/master/abagwell/variant-analysis/results/rhesus/stats/kernel_model/SHAPEIT5_merged/SNPRC_WGS_WES.SNP.kernel_model.skato.SkatO.assoc\"\n",
    "file = \"/master/abagwell/variant-analysis/results/rhesus/stats/burden_test/SHAPEIT5_merged/SNPRC_WGS_WES.SNP.burden_test.CMC.CMC.assoc\"\n",
    "#file = \"/master/abagwell/variant-analysis/results/rhesus/stats/single_variant_test/SHAPEIT5_merged/SNPRC_WGS_WES.SNP.single_variant.famLRT.FamLRT.assoc\"\n",
    "#file = \"/master/abagwell/variant-analysis/results/rhesus/stats/single_variant_test/SHAPEIT5_merged/without_covar/SNPRC_WGS_WES.SNP.single_variant.famLRT.FamLRT.assoc\"\n",
    "\n",
    "\n",
    "\n",
    "table = pl.read_csv(file, separator=\"\\t\", infer_schema_length=10000).with_columns(\n",
    "    pl.col(\"Pvalue\").log10().alias(\"pval_log10\").abs()  #.mul(-1)\n",
    ")\n",
    "# .filter(\n",
    "#     pl.col(\"Pvalue\") < max\n",
    "# )\n",
    "#.to_arrow().to_pandas()\n",
    "\n",
    "line = alt.Chart(pd.DataFrame({'y': [-log10(0.05/table.shape[0])]})).mark_rule().encode(y='y')"
   ]
  },
  {
   "cell_type": "code",
   "execution_count": null,
   "metadata": {},
   "outputs": [],
   "source": [
    "# For single-variant\n",
    "table_modified = table.with_columns(pl.concat_str([\n",
    "    pl.col(\"CHROM\"),\n",
    "    pl.lit(\":\"),\n",
    "    pl.col(\"POS\"),\n",
    "    ]).alias(\"locus\")\n",
    ").filter(\n",
    "    pl.col('pval_log10') > 2\n",
    ")\n",
    "\n",
    "\n",
    "alt.data_transformers.disable_max_rows()\n",
    "plot = alt.Chart(table_modified).mark_circle().encode(\n",
    "    alt.X(\"locus:O\", title=\"Locus\", axis=alt.Axis(labels=False, tickSize=0), sort=['1','2','3','4','5']),\n",
    "    alt.Y(\"pval_log10:Q\", title=\"-log10(p)\", scale=alt.Scale(domain=[2, round(table_modified['pval_log10'].max() + 0.5)])),\n",
    "    color=alt.Color(\"CHROM:N\", title=\"CHROM\", sort=['1','2','3','4','5']),\n",
    "    tooltip=[\n",
    "        alt.Tooltip(\"locus:O\", title=\"Locus\"),\n",
    "        alt.Tooltip(\"pval_log10:Q\", title=\"-log10(p)\"),\n",
    "    ],\n",
    ").properties(\n",
    "    title=\"FamLRT Single-Variant Model in SNPRC Rhesus (WGS and WES)\",\n",
    "    width=500,\n",
    ")\n",
    "\n",
    "plot + line\n",
    "\n",
    "#(plot + line).save(\"/master/abagwell/figures/rare_variants/WGS_WES.famLRT.hr.trimmed.html\")"
   ]
  },
  {
   "cell_type": "code",
   "execution_count": null,
   "metadata": {},
   "outputs": [],
   "source": [
    "# For range methods (kernel model and burden test)\n",
    "table_modified = table.with_columns(\n",
    "    pl.col(\"RANGE\").str.split(\":\").list.get(0).alias(\"CHROM\")\n",
    ")"
   ]
  },
  {
   "cell_type": "code",
   "execution_count": null,
   "metadata": {},
   "outputs": [],
   "source": [
    "# For range - kernel model\n",
    "max = 1\n",
    "\n",
    "alt.data_transformers.disable_max_rows()\n",
    "chart = alt.Chart(table_modified).mark_circle().encode(\n",
    "    alt.X(\"RANGE:O\", title=\"Interval\", axis=alt.Axis(labels=False, tickSize=0), sort=['1','2','3','4','5']),\n",
    "    alt.Y(\"pval_log10:Q\", title=\"-log10(p)\"),  #scale=alt.Scale(domain=[0, max])\n",
    "    color=alt.Color(\"CHROM:N\", title=\"CHROM\", sort=['1','2','3','4','5']),\n",
    "    tooltip=[\n",
    "        alt.Tooltip(\"Range:O\", title=\"Ensembl Gene ID\"),\n",
    "        alt.Tooltip(\"RANGE:O\", title=\"Interval\"),\n",
    "        alt.Tooltip(\"pval_log10:Q\", title=\"-log10(p)\"),\n",
    "    ],\n",
    ").properties(\n",
    "    title=\"SKAT-O Kernel Model in SNPRC Rhesus (WGS and WES)\",\n",
    "    width=500,\n",
    ")\n",
    "\n",
    "chart + line\n",
    "\n",
    "#(chart + line).save(\"/master/abagwell/figures/rare_variants/WGS_WES.SKATO.hr.html\")"
   ]
  },
  {
   "cell_type": "code",
   "execution_count": null,
   "metadata": {},
   "outputs": [],
   "source": [
    "# For range - burden test\n",
    "max = 1\n",
    "\n",
    "alt.data_transformers.disable_max_rows()\n",
    "chart = alt.Chart(table_modified).mark_circle().encode(\n",
    "    alt.X(\"RANGE:O\", title=\"Interval\", axis=alt.Axis(labels=False, tickSize=0), sort=['1','2','3','4','5']),\n",
    "    alt.Y(\"pval_log10:Q\", title=\"-log10(p)\"),  #scale=alt.Scale(domain=[0, max])\n",
    "    color=alt.Color(\"CHROM:N\", title=\"CHROM\", sort=['1','2','3','4','5']),\n",
    "    tooltip=[\n",
    "        alt.Tooltip(\"Range:O\", title=\"Ensembl Gene ID\"),\n",
    "        alt.Tooltip(\"RANGE:O\", title=\"Interval\"),\n",
    "        alt.Tooltip(\"pval_log10:Q\", title=\"-log10(p)\"),\n",
    "    ],\n",
    ").properties(\n",
    "    title=\"CMC Burden Test in SNPRC Rhesus (WGS and WES)\",\n",
    "    width=500,\n",
    ")\n",
    "\n",
    "chart + line\n",
    "#(chart + line).save(\"/master/abagwell/figures/rare_variants/WGS_WES.CMC.hr.html\")"
   ]
  }
 ],
 "metadata": {
  "kernelspec": {
   "display_name": "Python 3",
   "language": "python",
   "name": "python3"
  },
  "language_info": {
   "codemirror_mode": {
    "name": "ipython",
    "version": 3
   },
   "file_extension": ".py",
   "mimetype": "text/x-python",
   "name": "python",
   "nbconvert_exporter": "python",
   "pygments_lexer": "ipython3",
   "version": "3.1.0"
  }
 },
 "nbformat": 4,
 "nbformat_minor": 2
}
