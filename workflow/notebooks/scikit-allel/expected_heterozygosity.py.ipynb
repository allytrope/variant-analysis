{
 "cells": [
  {
   "cell_type": "code",
   "execution_count": null,
   "metadata": {},
   "outputs": [],
   "source": [
    "# This file can be run manually, but errors without explanation when run through Snakemake.\n",
    "\n",
    "import pickle as pk\n",
    "\n",
    "import altair as alt\n",
    "import pandas as pd\n",
    "import polars as pl\n",
    "\n",
    "# # Snakemake variables\n",
    "# html = snakemake.output.html\n",
    "# pickle = snakemake.input.pickle\n",
    "# window_size = snakemake.wildcards.window_size\n",
    "\n",
    "# Snakemake variables\n",
    "html = \"/master/abagwell/variant-analysis/results/rhesus/scikit-allel/expected_heterozygosity/WGS/SNPRC_WGS_WES.SNP.merged.html\"  # snakemake.output.html\n",
    "pickle = \"/master/abagwell/variant-analysis/results/rhesus/scikit-allel/expected_heterozygosity/WGS/SNPRC_WGS_WES.SNP.merged.pickle\"  #snakemake.input.pickle\n",
    "\n",
    "# Load data\n",
    "with open(pickle, \"rb\") as f:\n",
    "    df = pk.load(f)"
   ]
  },
  {
   "cell_type": "code",
   "execution_count": null,
   "metadata": {},
   "outputs": [],
   "source": [
    "pl_df = pl.from_pandas(df).with_columns(\n",
    "    pl.concat_str([\n",
    "        pl.lit(\"chr\"),\n",
    "        pl.col(\"chrom\"),\n",
    "        pl.lit(\":\"),\n",
    "        pl.col(\"position\"),\n",
    "    ]).alias(\"chr_pos\"),\n",
    "    #(pl.col(\"dxy\") / pl.col(\"counts\")).alias(\"avg_dxy\")  # In case the average is more important since dxy is correlated with number of variants\n",
    ")"
   ]
  },
  {
   "cell_type": "code",
   "execution_count": null,
   "metadata": {},
   "outputs": [],
   "source": [
    "pl_df"
   ]
  },
  {
   "cell_type": "code",
   "execution_count": null,
   "metadata": {},
   "outputs": [],
   "source": [
    "grouped = pl_df.groupby(\"pop\", \"chrom\").agg(pl.mean(\"exp_heterozygosity\"))\n",
    "grouped"
   ]
  },
  {
   "cell_type": "code",
   "execution_count": null,
   "metadata": {},
   "outputs": [],
   "source": [
    "# Altair plot\n",
    "alt.data_transformers.disable_max_rows()\n",
    "alt.Chart(grouped.to_arrow().to_pandas()).mark_circle().encode(\n",
    "    alt.X(\"pop\", title=f\"Population\", axis=alt.Axis(labels=False, tickSize=0), sort=['1','2','3','4','5']),\n",
    "    alt.Y(\"exp_heterozygosity\", title=\"Exp. Heterozygosity\"),\n",
    "    color=alt.Color(\"chrom\", title=\"Chrom\", sort=['1','2','3','4','5']),\n",
    "    tooltip=[\n",
    "        alt.Tooltip(\"chrom\", title=\"Chrom\"),\n",
    "        alt.Tooltip(\"exp_heterozygosity\", title=\"Exp. Heterozygosity\")\n",
    "    ]\n",
    ").properties(\n",
    "    title = \"Expected Heterozygosity between RPL and non-RPL Rhesus Macaques\",\n",
    "    width = 300,\n",
    ").save(html)"
   ]
  },
  {
   "cell_type": "code",
   "execution_count": null,
   "metadata": {},
   "outputs": [],
   "source": []
  }
 ],
 "metadata": {
  "kernelspec": {
   "display_name": "graph",
   "language": "python",
   "name": "python3"
  },
  "language_info": {
   "codemirror_mode": {
    "name": "ipython",
    "version": 3
   },
   "file_extension": ".py",
   "mimetype": "text/x-python",
   "name": "python",
   "nbconvert_exporter": "python",
   "pygments_lexer": "ipython3",
   "version": "3.11.0"
  },
  "orig_nbformat": 4
 },
 "nbformat": 4,
 "nbformat_minor": 2
}
