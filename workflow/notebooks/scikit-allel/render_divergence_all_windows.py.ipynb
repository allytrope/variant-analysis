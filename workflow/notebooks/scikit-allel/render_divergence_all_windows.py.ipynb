{
 "cells": [
  {
   "cell_type": "code",
   "execution_count": null,
   "metadata": {},
   "outputs": [],
   "source": [
    "import pickle as pk\n",
    "\n",
    "import altair as alt\n",
    "import pandas as pd\n",
    "import polars as pl\n",
    "\n",
    "# Snakemake variables\n",
    "#html = snakemake.output.html\n",
    "#pickle = snakemake.input.pickle\n",
    "pickle = \"/master/abagwell/variant-analysis/results/rhesus/scikit-allel/divergence/WGS/SNPRC_WGS_WES.SNP.pickle\"\n",
    "\n",
    "# Load data\n",
    "with open(pickle, \"rb\") as f:\n",
    "    df = pk.load(f)"
   ]
  },
  {
   "cell_type": "code",
   "execution_count": null,
   "metadata": {},
   "outputs": [],
   "source": [
    "df"
   ]
  },
  {
   "cell_type": "code",
   "execution_count": null,
   "metadata": {},
   "outputs": [],
   "source": [
    "pl_df = pl.from_pandas(df).with_columns(\n",
    "    pl.concat_str([\n",
    "        pl.lit(\"chr\"),\n",
    "        pl.col(\"chrom\"),\n",
    "        pl.lit(\":\"),\n",
    "        pl.col(\"start\"),\n",
    "        pl.lit(\"-\"),\n",
    "        pl.col(\"stop\"),\n",
    "    ]).alias(\"interval\"),\n",
    "    #(pl.col(\"dxy\") / pl.col(\"counts\")).alias(\"avg_dxy\")  # In case the average is more important since dxy is correlated with number of variants\n",
    ")"
   ]
  },
  {
   "cell_type": "code",
   "execution_count": null,
   "metadata": {},
   "outputs": [],
   "source": [
    "pl_df = pl_df.filter(\n",
    "    pl.col(\"dxy\") > 0.003\n",
    ")"
   ]
  },
  {
   "cell_type": "code",
   "execution_count": null,
   "metadata": {},
   "outputs": [],
   "source": [
    "pl_df"
   ]
  },
  {
   "cell_type": "code",
   "execution_count": null,
   "metadata": {},
   "outputs": [],
   "source": [
    "window_sizes = [250, 100, 50, 25]"
   ]
  },
  {
   "cell_type": "code",
   "execution_count": null,
   "metadata": {},
   "outputs": [],
   "source": [
    "# Altair plot\n",
    "select_window_size = alt.selection_point(\n",
    "    name=\"Window\",\n",
    "    fields=[\"window_size\"],\n",
    "    bind=alt.binding_radio(options=[\"250\", \"100\", \"50\", \"25\"]),\n",
    "    #value={\"window_size\": \"250\"},\n",
    ")\n",
    "\n",
    "\n",
    "alt.data_transformers.disable_max_rows()\n",
    "alt.Chart(pl_df.to_arrow().to_pandas()).mark_circle().encode(\n",
    "    alt.X(\"interval\", title=f\"Intervals\", axis=alt.Axis(labels=False, tickSize=0), sort=['1','2','3','4','5']),\n",
    "    alt.Y(\"dxy\", title=\"Divergence\"),\n",
    "    color=alt.Color(\"chrom\", title=\"Chrom\", sort=['1','2','3','4','5']),\n",
    "    tooltip=[\n",
    "        alt.Tooltip(\"interval\", title=\"Interval\"),\n",
    "        alt.Tooltip(\"counts\", title=\"Variant Count\")\n",
    "    ]\n",
    ").properties(\n",
    "    title = \"Divergence between RPL and non-RPL Rhesus Macaques\",\n",
    "    width = 300,\n",
    ").add_params(\n",
    "    select_window_size\n",
    ").transform_filter(\n",
    "    select_window_size\n",
    ")#.save(\"/master/abagwell/figures/allel/divergence_all_windows.html\")"
   ]
  },
  {
   "cell_type": "code",
   "execution_count": null,
   "metadata": {},
   "outputs": [],
   "source": []
  }
 ],
 "metadata": {
  "kernelspec": {
   "display_name": "Python 3",
   "language": "python",
   "name": "python3"
  },
  "language_info": {
   "codemirror_mode": {
    "name": "ipython",
    "version": 3
   },
   "file_extension": ".py",
   "mimetype": "text/x-python",
   "name": "python",
   "nbconvert_exporter": "python",
   "pygments_lexer": "ipython3",
   "version": "3.11.0"
  },
  "orig_nbformat": 4
 },
 "nbformat": 4,
 "nbformat_minor": 2
}
