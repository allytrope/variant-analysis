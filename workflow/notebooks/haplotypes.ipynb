{
 "cells": [
  {
   "cell_type": "code",
   "execution_count": null,
   "metadata": {},
   "outputs": [],
   "source": [
    "\"\"\"\n",
    "Plot heatmap for haplotype co-occurence and rate of inheritance.\n",
    "This requires a TSV where each row is an individual.\n",
    "There should be at least six columns, two being the haplotypes of the individual, two for the sire, and two for the dam.\n",
    "\"\"\"\n",
    "\n",
    "from matplotlib import pyplot as plt\n",
    "import numpy as np\n",
    "import pandas as pd\n",
    "import seaborn as sns\n",
    "\n",
    "path = \"/path/to/file.tsv\"\n",
    "\n",
    "def haplotype_cooccurence(path, gene: str, indiv_hap1: str, indiv_hap2: str, sire_hap1: str, sire_hap2: str, dam_hap1: str, dam_hap2: str, calc_rate=False):\n",
    "    \"\"\"Plot a heatmap showing haplotype cooccurence.\"\"\"\n",
    "    # Italicize gene name, but not any hyphens\n",
    "    split = gene.split('-')\n",
    "    new = []\n",
    "    for part in split:\n",
    "        new.append('$\\it{part}$'.replace('part', part))\n",
    "    stylized_gene = \"-\".join(new)\n",
    "    haplotypes = pd.read_table(path, usecols=[indiv_hap1, indiv_hap2, sire_hap1, sire_hap2, dam_hap1, dam_hap2])\n",
    "    if calc_rate == False:\n",
    "        haplotypes = pd.read_table(path, usecols=[indiv_hap1, indiv_hap2]).dropna()\n",
    "    else:\n",
    "        haplotypes = pd.read_table(path, usecols=[indiv_hap1, indiv_hap2, sire_hap1, sire_hap2, dam_hap1, dam_hap2]).dropna()\n",
    "    haplotypes = haplotypes.replace({'\\(':'', '\\)':''}, regex=True)  # Remove parentheses, which represent the inferred haplotypes\n",
    "    combined = pd.concat([haplotypes[indiv_hap1], haplotypes[indiv_hap2]]).unique()\n",
    "    def make_matrix(indiv_hap1, indiv_hap2, combined=combined):\n",
    "        \"\"\"Create matrix of counts.\"\"\"\n",
    "        new_index = pd.MultiIndex.from_product([combined, combined], names = [indiv_hap1, indiv_hap2])\n",
    "        haplotype_matrix = haplotypes.groupby([indiv_hap1, indiv_hap2]).size().unstack().stack().reindex(new_index).unstack(fill_value=0).fillna(0)\n",
    "        \n",
    "        # Return matrix added to transpose of itself with diagonal divided by two\n",
    "        matrix_ones = np.ones(haplotype_matrix.shape)\n",
    "        np.fill_diagonal(matrix_ones, 2)\n",
    "        return (haplotype_matrix + haplotype_matrix.transpose()) / matrix_ones\n",
    "    \n",
    "    haplotype_matrix = make_matrix(indiv_hap1, indiv_hap2)\n",
    "\n",
    "    if calc_rate == False:\n",
    "        haplotype_matrix = haplotype_matrix.replace({'0':np.nan, 0.0:np.nan})  # Get rid of pairs\n",
    "        title_text = \"Counts of Co-occurence of\"\n",
    "        fmt=\"g\"\n",
    "        cmap = sns.cubehelix_palette(as_cmap=True)\n",
    "        vmax = None\n",
    "        vmin = None\n",
    "    else:\n",
    "        # Noramlize by using possible combinations from parents.\n",
    "        parent_matrix_all = make_matrix(sire_hap1, dam_hap1) + make_matrix(sire_hap1, dam_hap2) + make_matrix(sire_hap2, dam_hap1) + make_matrix(sire_hap2, dam_hap2)\n",
    "        parent_matrix_all[parent_matrix_all < 20] = np.nan  # Sets parents with below a certain count to empty. This is to prevent making inferences from undersampling.\n",
    "\n",
    "        # Divide indiviual matrix by total possible parental combinations\n",
    "        haplotype_matrix = haplotype_matrix/parent_matrix_all\n",
    "        haplotype_matrix = (2 * np.sqrt(haplotype_matrix) - 1) * 100\n",
    "        title_text = \"Rate of Inheritance of\"\n",
    "        fmt = \".0f\"\n",
    "        cmap = \"twilight_shifted\"\n",
    "        vmax = 100\n",
    "        vmin = -100\n",
    "    fig, ax = plt.subplots(figsize=(3/6*len(combined),2/6*len(combined)))\n",
    "    sns.heatmap(haplotype_matrix, annot=True, fmt=fmt, linewidth=0.02, cmap=cmap, vmax=vmax, vmin=vmin).set_title(f'{title_text} {stylized_gene} Haplotypes')\n",
    "    ax.set(xlabel=f\"{stylized_gene} Haplotypes\", ylabel=f\"{stylized_gene} Haplotypes\")"
   ]
  },
  {
   "cell_type": "code",
   "execution_count": null,
   "metadata": {},
   "outputs": [],
   "source": [
    "## Examples\n",
    "haplotype_cooccurence(path, \"Mamu-B\", \"2022 Mamu-B  1\", \"2022 Mamu-B  2\", \"2022 Mamu-B  1 Sire\", \"2022 Mamu-B  2 Sire\", \"2022 Mamu-B  1 Dam\", \"2022 Mamu-B  2 Dam\", calc_rate=True)\n",
    "haplotype_cooccurence(path, \"Mamu-DQA\", \"Mamu-DQA Haplotype 1\", \"Mamu-DQA Haplotype 2\", \"Mamu-DQA Haplotype 1 Sire\", \"Mamu-DQA Haplotype 2 Sire\", \"Mamu-DQA Haplotype 1 Dam\", \"Mamu-DQA Haplotype 2 Dam\", calc_rate=False)"
   ]
  }
 ],
 "metadata": {
  "kernelspec": {
   "display_name": "Python 3",
   "language": "python",
   "name": "python3"
  },
  "language_info": {
   "codemirror_mode": {
    "name": "ipython",
    "version": 3
   },
   "file_extension": ".py",
   "mimetype": "text/x-python",
   "name": "python",
   "nbconvert_exporter": "python",
   "pygments_lexer": "ipython3",
   "version": "3.11.0"
  },
  "orig_nbformat": 4
 },
 "nbformat": 4,
 "nbformat_minor": 2
}
