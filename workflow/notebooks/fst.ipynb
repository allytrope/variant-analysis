{
 "cells": [
  {
   "cell_type": "code",
   "execution_count": null,
   "metadata": {},
   "outputs": [],
   "source": [
    "import allel\n",
    "import altair as alt\n",
    "import pandas as pd\n",
    "import polars as pl\n",
    "\n",
    "# For when chromosomes are in one file (currently for SVs)\n",
    "\n",
    "file = \"/master/abagwell/variant-analysis/results/rhesus/structural_variants/SVs/merged/U42_WGS_WES.genotyped.pass.weir.fst\"\n",
    "table = pl.read_csv(file, has_header=True, separator=\"\\t\", infer_schema_length=10000).filter(\n",
    "    pl.col(\"WEIR_AND_COCKERHAM_FST\") != \"-nan\"\n",
    ").with_columns(\n",
    "    pl.col(\"WEIR_AND_COCKERHAM_FST\").cast(pl.Float32),\n",
    "    pl.col(\"POS\").cast(pl.Int32),  # To match datatype of `allel` VCF\n",
    "    pl.concat_str([\n",
    "        pl.col(\"CHROM\"),\n",
    "        pl.lit(\":\"),\n",
    "        pl.col(\"POS\"),\n",
    "    ]).alias(\"locus\")\n",
    ")\n",
    "\n",
    "vcf = \"/master/abagwell/variant-analysis/results/rhesus/structural_variants/SVs/merged/U42_WGS_WES.genotyped.pass.vcf.gz\"\n",
    "variants = pl.from_pandas(\n",
    "    pd.DataFrame(\n",
    "        allel.read_vcf(vcf, ['variants/CHROM', 'variants/POS', 'variants/SVTYPE'])\n",
    "    )\n",
    ")\n",
    "\n",
    "data = table.join(variants, how=\"inner\", left_on=[\"CHROM\", \"POS\"], right_on=[\"variants/CHROM\", \"variants/POS\"])"
   ]
  },
  {
   "cell_type": "code",
   "execution_count": null,
   "metadata": {},
   "outputs": [],
   "source": [
    "import allel\n",
    "import altair as alt\n",
    "import pandas as pd\n",
    "import polars as pl\n",
    "\n",
    "# For when chromosomes are in multiple files (currently for SNPs)\n",
    "tables = []\n",
    "#for chr in [\"18\"]:\n",
    "for chr in [\"1\", \"2\", \"3\", \"4\", \"5\", \"6\", \"7\", \"8\", \"9\", \"10\", \"11\", \"12\", \"13\", \"14\", \"15\", \"16\", \"17\", \"18\", \"19\", \"20\", \"X\"]:\n",
    "    file = f\"/master/abagwell/variant-analysis/results/rhesus/relatedness/fst/SNPRC_WGS_WES.SNP.chr{chr}.weir.fst\"\n",
    "    table = pl.read_csv(file, has_header=True, separator=\"\\t\", infer_schema_length=10000).with_columns(\n",
    "        pl.col(\"CHROM\").cast(str),\n",
    "        pl.col(\"WEIR_AND_COCKERHAM_FST\").cast(pl.Float32),\n",
    "        pl.col(\"POS\").cast(pl.Int32),  # To match datatype of `allel` VCF\n",
    "        pl.concat_str([\n",
    "            pl.col(\"CHROM\"),\n",
    "            pl.lit(\":\"),\n",
    "            pl.col(\"POS\"),\n",
    "        ]).alias(\"locus\")\n",
    "    )\n",
    "    tables.append(table)\n",
    "data = pl.concat(tables)"
   ]
  },
  {
   "cell_type": "code",
   "execution_count": null,
   "metadata": {},
   "outputs": [],
   "source": [
    "filtered_data = data.filter(\n",
    "    pl.col(\"WEIR_AND_COCKERHAM_FST\") >= 0.12,\n",
    ")"
   ]
  },
  {
   "cell_type": "code",
   "execution_count": null,
   "metadata": {},
   "outputs": [],
   "source": [
    "alt.data_transformers.disable_max_rows()\n",
    "alt.Chart(filtered_data.to_arrow().to_pandas()).mark_circle().encode(\n",
    "    alt.X(\"locus\", title=\"SNPs by Locus\", axis=alt.Axis(labels=False, tickSize=0), sort=['1','2','3','4','5']),\n",
    "    alt.Y(\"WEIR_AND_COCKERHAM_FST\", title=\"Fst\", scale=alt.Scale(domain=[0.12, 0.41])),\n",
    "    color=alt.Color(\"CHROM\", title=\"Chrom\", sort=['1','2','3','4','5']),\n",
    "    tooltip = [\n",
    "        alt.Tooltip(\"locus\", title=\"Locus\"),\n",
    "        #alt.Tooltip(\"WEIR_AND_COCKERHAM_FST\", title=\"Fst\"),\n",
    "    ]\n",
    ").properties(\n",
    "    title = \"Fst between RPL and non-RPL Rhesus Macaques\",\n",
    "    width = 300,\n",
    ")#.save(\"/master/abagwell/figures/fst/fst_SNPS_RPL.html\")"
   ]
  },
  {
   "cell_type": "code",
   "execution_count": null,
   "metadata": {},
   "outputs": [],
   "source": [
    "import allel\n",
    "import altair as alt\n",
    "import pandas as pd\n",
    "import polars as pl\n",
    "\n",
    "## For windowed Fst with chromosomes in different files\n",
    "\n",
    "tables = []\n",
    "for chr in [\"1\", \"2\", \"3\", \"4\", \"5\", \"6\", \"7\", \"8\", \"9\", \"10\", \"11\", \"12\", \"13\", \"14\", \"15\", \"16\", \"17\", \"18\", \"19\", \"20\", \"X\"]:\n",
    "    file = f\"/master/abagwell/variant-analysis/results/rhesus/relatedness/fst/SNPRC_WGS_WES.SNP.chr{chr}.windowed.weir.fst\"\n",
    "    table = pl.read_csv(file, has_header=True, separator=\"\\t\", infer_schema_length=10000).with_columns(\n",
    "        pl.col(\"CHROM\").cast(str),\n",
    "        pl.col(\"WEIGHTED_FST\").cast(pl.Float32),\n",
    "        #pl.col(\"POS\").cast(pl.Int32),  # To match datatype of `allel` VCF\n",
    "        pl.concat_str([\n",
    "            pl.col(\"CHROM\"),\n",
    "            pl.lit(\":\"),\n",
    "            pl.col(\"BIN_START\"),\n",
    "            pl.lit(\"-\"),\n",
    "            pl.col(\"BIN_END\"),\n",
    "        ]).alias(\"interval\")\n",
    "    )\n",
    "    tables.append(table)\n",
    "data = pl.concat(tables).filter(\n",
    "    pl.col(\"WEIGHTED_FST\") >= 0.03,  # Removes values for when there are too many to render\n",
    ")"
   ]
  },
  {
   "cell_type": "code",
   "execution_count": null,
   "metadata": {},
   "outputs": [],
   "source": [
    "alt.data_transformers.disable_max_rows()\n",
    "alt.Chart(data.to_arrow().to_pandas()).mark_circle().encode(\n",
    "    alt.X(\"interval\", title=\"100kb Intervals\", axis=alt.Axis(labels=False, tickSize=0), sort=['1','2','3','4','5']),\n",
    "    #alt.Y(\"WEIGHTED_FST\", title=\"Fst\", scale=alt.Scale(domain=[0.12, 0.41])),\n",
    "    alt.Y(\"WEIGHTED_FST\", title=\"Weighted Fst\", scale=alt.Scale(domain=[0.03, 0.30])),  # Change domain depending on data\n",
    "    color=alt.Color(\"CHROM\", title=\"Chrom\", sort=['1','2','3','4','5']),\n",
    "    tooltip = [\n",
    "        alt.Tooltip(\"interval\", title=\"Interval\"),\n",
    "        alt.Tooltip(\"WEIGHTED_FST\", title=\"Weighted Fst\"),\n",
    "        alt.Tooltip(\"N_VARIANTS\", title=\"# of SNPs\")\n",
    "    ]\n",
    ").properties(\n",
    "    title = \"Fst between RPL and non-RPL Rhesus Macaques\",\n",
    "    width = 300,\n",
    ")#.save(\"/master/abagwell/figures/fst/fst_windowed_SNPs_RPL_fewer.html\")"
   ]
  }
 ],
 "metadata": {
  "kernelspec": {
   "display_name": "Python 3",
   "language": "python",
   "name": "python3"
  },
  "language_info": {
   "codemirror_mode": {
    "name": "ipython",
    "version": 3
   },
   "file_extension": ".py",
   "mimetype": "text/x-python",
   "name": "python",
   "nbconvert_exporter": "python",
   "pygments_lexer": "ipython3",
   "version": "3.10.11"
  },
  "orig_nbformat": 4
 },
 "nbformat": 4,
 "nbformat_minor": 2
}
