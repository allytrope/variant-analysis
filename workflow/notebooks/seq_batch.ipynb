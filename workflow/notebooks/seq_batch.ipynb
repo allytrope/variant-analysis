{
 "cells": [
  {
   "cell_type": "code",
   "execution_count": 38,
   "metadata": {},
   "outputs": [],
   "source": [
    "# Count the sequence data\n",
    "\n",
    "import polars as pl\n",
    "\n",
    "\n",
    "seq_data = pl.read_csv(\"/master/abagwell/workspace/batch_seq/seq_data.tsv\", comment_prefix=\"#\", separator=\"\\t\"\n",
    ").with_columns(\n",
    "    pl.col(\"run\").str.split(\"_\").alias(\"run_split\")\n",
    ").with_columns(\n",
    "    pl.col(\"run_split\").list.get(0).alias(\"sample\"),\n",
    "    pl.col(\"run_split\").list.get(1).alias(\"library\"),\n",
    "    pl.col(\"run_split\").list.get(2).alias(\"flowcell\"),\n",
    "    pl.col(\"run_split\").list.get(3).alias(\"lane\"),\n",
    ").with_columns(\n",
    "    # Set library as \"1\" if doesn't exist. This is needed for later to prevent null values that would leave out these rows.\n",
    "    pl.col(\"library\").fill_null(\"1\")\n",
    ").with_columns(\n",
    "    pl.concat_str(\"sample\", \"library\", separator=\"_\").alias(\"sample_library\"),\n",
    "    pl.col(\"sample\").str.slice(3).alias(\"animal\"),\n",
    "    pl.col(\"sample\").str.slice(0, length=3).alias(\"seq\"),\n",
    ").drop(\"run\", \"run_split\", \"sample\")\n",
    "\n",
    "batch_data = pl.read_csv(\"/master/abagwell/workspace/batch_seq/batch_data.tsv\", comment_prefix=\"#\", separator=\"\\t\"\n",
    ").with_columns(\n",
    "    pl.col(\"date\").str.strptime(pl.Date, format=\"%Y-%m\") #.str.to_date()\n",
    ")\n",
    "\n",
    "animal_data = pl.read_csv(\"/master/abagwell/workspace/batch_seq/demographics.tsv\", comment_prefix=\"#\", separator=\"\\t\"\n",
    ").with_columns(\n",
    "    # Reokace all species names that start with \"P\" as \"Papio\".\n",
    "    # This is because there are three subspecies plus hybrids in this species group\n",
    "    pl.col(\"species\").map_elements(lambda x: \"Papio spp.\" if \"P\" in x else x)\n",
    ")\n",
    "    "
   ]
  },
  {
   "cell_type": "code",
   "execution_count": 39,
   "metadata": {},
   "outputs": [],
   "source": [
    "# Join first two tables\n",
    "joined = seq_data.join(batch_data, on=\"batch\").filter(\n",
    "    # Remove batches that are from other institutes\n",
    "    #pl.col(\"batch\") != \"marmosets_from_BCM\"\n",
    "    pl.col(\"grant\") != \"other_institute\"\n",
    ").group_by(\n",
    "    # Consider sequences of the same animal from the same batch the same\n",
    "    #\"batch\", \"seq\", \"animal\"\n",
    "    # Consider sequences of the same animal from any batches as the same\n",
    "    \"seq\", \"animal\",\n",
    ").first(\n",
    "    # Unnest aggregate lists\n",
    ")\n",
    "\n",
    "# Join third tables\n",
    "joined2 = joined.join(animal_data, on=\"animal\").sort(\"date\"\n",
    ").group_by_dynamic(\"date\", every=\"1y\", offset=\"4mo\", closed=\"both\", by=[\"species\", \"seq\", \"grant\"]\n",
    ").agg(pl.count(\"sample_library\")\n",
    ").sort(\"date\", \"species\", \"seq\", \"grant\"\n",
    ").rename({\"date\": \"year\",\n",
    "          \"sample_library\": \"sample_library_count\",\n",
    "          }).with_columns(\n",
    "    pl.cum_sum(\"sample_library_count\").over(\"species\", \"seq\", \"grant\").alias(\"sample_library_cumulative_count\")\n",
    ")"
   ]
  },
  {
   "cell_type": "code",
   "execution_count": 45,
   "metadata": {},
   "outputs": [],
   "source": [
    "#joined.write_csv(\"/master/abagwell/workspace/batch_seq/summary_stats.ignore_duplicates.tsv\", separator=\"\\t\", date_format=\"%Y-%m-%d\")\n",
    "#by_batch = joined.group_by(\"batch\").agg(pl.count(\"sample_library\"))\n"
   ]
  },
  {
   "cell_type": "code",
   "execution_count": 49,
   "metadata": {},
   "outputs": [
    {
     "data": {
      "text/html": [
       "<div><style>\n",
       ".dataframe > thead > tr,\n",
       ".dataframe > tbody > tr {\n",
       "  text-align: right;\n",
       "  white-space: pre-wrap;\n",
       "}\n",
       "</style>\n",
       "<small>shape: (16, 6)</small><table border=\"1\" class=\"dataframe\"><thead><tr><th>species</th><th>seq</th><th>grant</th><th>year</th><th>sample_library_count</th><th>sample_library_cumulative_count</th></tr><tr><td>str</td><td>str</td><td>str</td><td>date</td><td>u32</td><td>u32</td></tr></thead><tbody><tr><td>&quot;Macaca mulatta…</td><td>&quot;GBS&quot;</td><td>&quot;U42&quot;</td><td>2017-05-01</td><td>382</td><td>382</td></tr><tr><td>&quot;Macaca mulatta…</td><td>&quot;GBS&quot;</td><td>&quot;U42&quot;</td><td>2018-05-01</td><td>14</td><td>396</td></tr><tr><td>&quot;Macaca mulatta…</td><td>&quot;GBS&quot;</td><td>&quot;U42&quot;</td><td>2019-05-01</td><td>278</td><td>674</td></tr><tr><td>&quot;Callithrix spp…</td><td>&quot;WGS&quot;</td><td>&quot;P51&quot;</td><td>2020-05-01</td><td>3</td><td>3</td></tr><tr><td>&quot;Callithrix spp…</td><td>&quot;WES&quot;</td><td>&quot;P51&quot;</td><td>2021-05-01</td><td>6</td><td>6</td></tr><tr><td>&quot;Macaca mulatta…</td><td>&quot;WES&quot;</td><td>&quot;U42&quot;</td><td>2021-05-01</td><td>142</td><td>142</td></tr><tr><td>&quot;Macaca mulatta…</td><td>&quot;WGS&quot;</td><td>&quot;U42&quot;</td><td>2021-05-01</td><td>24</td><td>24</td></tr><tr><td>&quot;Callithrix spp…</td><td>&quot;WES&quot;</td><td>&quot;P51&quot;</td><td>2022-05-01</td><td>28</td><td>34</td></tr><tr><td>&quot;Macaca mulatta…</td><td>&quot;WES&quot;</td><td>&quot;U42&quot;</td><td>2022-05-01</td><td>306</td><td>448</td></tr><tr><td>&quot;Macaca mulatta…</td><td>&quot;WGS&quot;</td><td>&quot;P51 supplement…</td><td>2022-05-01</td><td>111</td><td>111</td></tr><tr><td>&quot;Macaca mulatta…</td><td>&quot;WGS&quot;</td><td>&quot;U42&quot;</td><td>2022-05-01</td><td>52</td><td>76</td></tr><tr><td>&quot;Papio spp.&quot;</td><td>&quot;WES&quot;</td><td>&quot;P51&quot;</td><td>2022-05-01</td><td>70</td><td>70</td></tr><tr><td>&quot;Callithrix spp…</td><td>&quot;WES&quot;</td><td>&quot;P51&quot;</td><td>2023-05-01</td><td>18</td><td>52</td></tr><tr><td>&quot;Callithrix spp…</td><td>&quot;WES&quot;</td><td>&quot;U24&quot;</td><td>2023-05-01</td><td>17</td><td>17</td></tr><tr><td>&quot;Macaca mulatta…</td><td>&quot;WES&quot;</td><td>&quot;U42&quot;</td><td>2023-05-01</td><td>356</td><td>804</td></tr><tr><td>&quot;Macaca mulatta…</td><td>&quot;WGS&quot;</td><td>&quot;U42&quot;</td><td>2023-05-01</td><td>8</td><td>84</td></tr></tbody></table></div>"
      ],
      "text/plain": [
       "shape: (16, 6)\n",
       "┌─────────────────┬─────┬───────┬────────────┬──────────────────────┬──────────────────────────────┐\n",
       "│ species         ┆ seq ┆ grant ┆ year       ┆ sample_library_count ┆ sample_library_cumulative_co │\n",
       "│ ---             ┆ --- ┆ ---   ┆ ---        ┆ ---                  ┆ unt                          │\n",
       "│ str             ┆ str ┆ str   ┆ date       ┆ u32                  ┆ ---                          │\n",
       "│                 ┆     ┆       ┆            ┆                      ┆ u32                          │\n",
       "╞═════════════════╪═════╪═══════╪════════════╪══════════════════════╪══════════════════════════════╡\n",
       "│ Macaca mulatta  ┆ GBS ┆ U42   ┆ 2017-05-01 ┆ 382                  ┆ 382                          │\n",
       "│ Macaca mulatta  ┆ GBS ┆ U42   ┆ 2018-05-01 ┆ 14                   ┆ 396                          │\n",
       "│ Macaca mulatta  ┆ GBS ┆ U42   ┆ 2019-05-01 ┆ 278                  ┆ 674                          │\n",
       "│ Callithrix spp. ┆ WGS ┆ P51   ┆ 2020-05-01 ┆ 3                    ┆ 3                            │\n",
       "│ Callithrix spp. ┆ WES ┆ P51   ┆ 2021-05-01 ┆ 6                    ┆ 6                            │\n",
       "│ …               ┆ …   ┆ …     ┆ …          ┆ …                    ┆ …                            │\n",
       "│ Papio spp.      ┆ WES ┆ P51   ┆ 2022-05-01 ┆ 70                   ┆ 70                           │\n",
       "│ Callithrix spp. ┆ WES ┆ P51   ┆ 2023-05-01 ┆ 18                   ┆ 52                           │\n",
       "│ Callithrix spp. ┆ WES ┆ U24   ┆ 2023-05-01 ┆ 17                   ┆ 17                           │\n",
       "│ Macaca mulatta  ┆ WES ┆ U42   ┆ 2023-05-01 ┆ 356                  ┆ 804                          │\n",
       "│ Macaca mulatta  ┆ WGS ┆ U42   ┆ 2023-05-01 ┆ 8                    ┆ 84                           │\n",
       "└─────────────────┴─────┴───────┴────────────┴──────────────────────┴──────────────────────────────┘"
      ]
     },
     "execution_count": 49,
     "metadata": {},
     "output_type": "execute_result"
    }
   ],
   "source": [
    "joined2"
   ]
  },
  {
   "cell_type": "code",
   "execution_count": 47,
   "metadata": {},
   "outputs": [
    {
     "name": "stdout",
     "output_type": "stream",
     "text": [
      "Rows: 23\n",
      "Columns: 2\n",
      "$ batch          <str> 'marmoset_GBS', 'Rhesus_MHC_Barcode_List', 'X202SC23020672-Z01-F001', 'X202SC23114612-Z01-F001', 'X202SC21012362-Z01-F001', 'X202SC23102082-Z01-F001', 'X202SC22041999-Z01-F001', 'X202SC22011652-Z01-F001', 'X202SC22042002-Z01-F001', 'X202SC22111092-Z01-F001'\n",
      "$ sample_library <u32> 85, 382, 52, 50, 27, 8, 24, 17, 6, 111\n",
      "\n"
     ]
    }
   ],
   "source": [
    "#by_batch.glimpse()"
   ]
  },
  {
   "cell_type": "code",
   "execution_count": 9,
   "metadata": {},
   "outputs": [],
   "source": [
    "# Combine runs from same animal within same batch\n",
    "\n",
    "# joined.filter(\n",
    "#     # Remove batches that are from other institutes\n",
    "#     pl.col(\"batch\") != \"marmosets_from_BCM\"\n",
    "# ).group_by(\"batch\", \"animal\").agg(pl.col(\"seq\").first\"*\")\n",
    "\n",
    "# joined.group_by(\"animal\", \"seq\").agg(\n",
    "#     pl.all().sort_by('date').first()\n",
    "# )"
   ]
  },
  {
   "cell_type": "code",
   "execution_count": 212,
   "metadata": {},
   "outputs": [],
   "source": [
    "#joined.group_by(\"batch\", \"species\").agg(pl.col(\"animal\").count()).sort(\"batch\")"
   ]
  },
  {
   "cell_type": "code",
   "execution_count": 52,
   "metadata": {},
   "outputs": [],
   "source": [
    "# joined.with_columns(\n",
    "#     pl.col(\"date\").fill_null(strategy=\"min\")\n",
    "# ).sort(\"date\").group_by_dynamic(\"date\", every=\"1y\").agg(\"batch\")"
   ]
  },
  {
   "cell_type": "code",
   "execution_count": 213,
   "metadata": {},
   "outputs": [],
   "source": [
    "# General stats\n",
    "# joined.filter(\n",
    "#     (pl.col(\"species\").str.contains(\"Call\"))\n",
    "#     & (pl.col(\"seq\") == \"WES\")\n",
    "#     & (pl.col(\"date\").is_between(pl.datetime(1990, 5, 1), pl.datetime(2025, 4, 30), closed=\"both\"))\n",
    "# )\n",
    "# joined.group_by(\"seq\", \"species\").agg(\n",
    "#     \"*\"\n",
    "#     #pl.all().sort_by('date').first()\n",
    "# )"
   ]
  },
  {
   "cell_type": "code",
   "execution_count": 50,
   "metadata": {},
   "outputs": [],
   "source": [
    "# Filter by desired\n",
    "\n",
    "# If group_by + agg comes first, we exc\n",
    "\n",
    "# joined.filter(\n",
    "#     (pl.col(\"species\").str.contains(\"Call\"))\n",
    "#     & (pl.col(\"seq\") == \"WES\")\n",
    "#     & (pl.col(\"date\").is_between(pl.datetime(1990, 5, 1), pl.datetime(2025, 4, 30), closed=\"both\"))\n",
    "# ).group_by(\"animal\", \"seq\").agg(\n",
    "#     \"*\"\n",
    "# )\n",
    "\n",
    "\n",
    "# joined.filter(\n",
    "#     (pl.col(\"species\").str.contains(\"Call\"))\n",
    "#     & (pl.col(\"seq\") == \"WES\")\n",
    "#     & (pl.col(\"date\").is_between(pl.datetime(1990, 5, 1), pl.datetime(2025, 4, 30), closed=\"both\"))\n",
    "# ).group_by(\"seq\", \"species\").agg(\n",
    "#     \"*\"\n",
    "#     #pl.all().sort_by('date').first()\n",
    "# )\n"
   ]
  },
  {
   "cell_type": "code",
   "execution_count": 51,
   "metadata": {},
   "outputs": [],
   "source": [
    "# joined.filter(\n",
    "#     (pl.col(\"species\").str.contains(\"Call\"))\n",
    "#     & (pl.col(\"seq\") == \"WES\")\n",
    "#     & (pl.col(\"date\").is_between(pl.datetime(1990, 5, 1), pl.datetime(2025, 4, 30), closed=\"both\"))\n",
    "# ).group_by(\"animal\", \"seq\").agg(\n",
    "#     pl.all().sort_by('date').first()\n",
    "# )"
   ]
  },
  {
   "cell_type": "code",
   "execution_count": 144,
   "metadata": {},
   "outputs": [],
   "source": [
    "# # Filter by desired\n",
    "# #species = \"Macaca mulatta\"\n",
    "# keep_only_first = False\n",
    "\n",
    "# my_agg = pl.DataFrame.group_by\n",
    "\n",
    "\n",
    "# joined.filter(\n",
    "#     (pl.col(\"species\").str.contains(\"Macaca\"))\n",
    "#     & (pl.col(\"seq\") == \"WES\")\n",
    "#     & (pl.col(\"date\").is_between(pl.datetime(2020, 5, 1), pl.datetime(2024, 4, 30), closed=\"both\"))\n",
    "# ).group_by(\"animal\").agg(\n",
    "#     pl.all().sort_by('date').first()\n",
    "# )\n",
    "# #.group_by(\"animal\", \"seq\").agg('*')"
   ]
  },
  {
   "cell_type": "code",
   "execution_count": null,
   "metadata": {},
   "outputs": [],
   "source": []
  }
 ],
 "metadata": {
  "kernelspec": {
   "display_name": "Python 3",
   "language": "python",
   "name": "python3"
  },
  "language_info": {
   "codemirror_mode": {
    "name": "ipython",
    "version": 3
   },
   "file_extension": ".py",
   "mimetype": "text/x-python",
   "name": "python",
   "nbconvert_exporter": "python",
   "pygments_lexer": "ipython3",
   "version": "3.12.0"
  }
 },
 "nbformat": 4,
 "nbformat_minor": 2
}
